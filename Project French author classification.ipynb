{
 "cells": [
  {
   "cell_type": "markdown",
   "metadata": {},
   "source": [
    "# RAMP starting kit : Who Wrote This ?\n",
    "\n",
    "_Authors: Romain AVOUAC, Adrien DANEL, Guillaume DESFORGES, Jaime COSTA, José-Louis HIMBERT, Slimane THABET_"
   ]
  },
  {
   "cell_type": "markdown",
   "execution_count": null,
   "metadata": {},
   "outputs": [],
   "source": [
    "**TODO: table of contents**"
   ]
  },
  {
   "cell_type": "markdown",
   "execution_count": null,
   "metadata": {},
   "outputs": [],
   "source": [
    "## Introduction\n",
    "\n",
    "Authorship identification is the task of recognizing who the author of a document is.\n",
    "It is part of the Natural Language Processing (NLP) kind of tasks.\n",
    "\n",
    "Being able to identify the author of a document presents several applications, such as detecting plagiarism or finding the author of an anonymous document.\n",
    "Archives all around the world are full of documents for which knowing the author would be invaluable knowledge for historical studies.\n",
    "Furthermore, [the multiple plagiarism scandals](https://lithub.com/12-literary-plagiarism-scandals-ranked/) in literature could be solved with an algorithm.\n",
    "For instance the authorship of Moliere or Shakespeare has been debated from the 19th century (more on this [here](https://fr.wikipedia.org/wiki/Paternit%C3%A9_des_%C5%93uvres_de_Moli%C3%A8re) and [here](https://fr.wikipedia.org/wiki/Paternit%C3%A9_des_%C5%93uvres_de_Shakespeare)).\n",
    "\n",
    "This task has also an instructive purpose.\n",
    "It is a way to investigate if NLP algorithms are able to capture bot only the semantics, but also the literary style of a document.\n",
    "\n",
    "### Metric of the competition\n",
    "\n",
    "We want to predict the author of a given piece of litterature from a given set of authors.\n",
    "In machine learning, this type of problem is called \"multiclass classification\" problem, that is for each item we predict the class that it belongs to.\n",
    "Here, the items are the documents (one or more paragraphs) and the classes are the authors.\n",
    "\n",
    "In order to evaluate the performance of an algorithm solving this type of problems, one could propose the *precision* of the algorithm.\n",
    "The precision of an algorithm in the prediction of a given class is defined as the number of right predictions on that class divided by the number of items where the algorithm predicted it.\n",
    "Then we could compute for instance the mean precision of the algorithm on all the classes.\n",
    "\n",
    "On the other hand, one could say that the *recall* of the algorithm is also important, or its *accuracy*.\n",
    "\n",
    "Most of the time, an algorithm can be tweaked to offer a better precision or a better recall, but not both at the same time - there is no free lunch.\n",
    "There is a tradeoff to be made, usually depending on the application domain.\n",
    "For example, in a medical team you would want as little false negatives.\n",
    "\n",
    "In order to evaluate the model, we propose to use the ROC AUC metric.\n",
    "\n",
    "**TODO** continuer en présentant la ROC AUC.\n",
    "\n",
    "### Data\n",
    "\n",
    "We will limit ourselves to a selection of French novelists of the 19th century.\n",
    "\n",
    "**TODO**:\n",
    "* pourquoi le 19eme ?\n",
    "* quels auteurs ? pourquoi ?\n",
    "* quels textes ? pourquoi ?\n",
    "* ajouter l'image (wordcloud)\n",
    "\n",
    "**TODO** lister\n",
    "* les fichiers\n",
    "* ce à quoi ils servent\n",
    "* leurs colonnes et la signification"
   ]
  },
  {
   "cell_type": "markdown",
   "execution_count": null,
   "metadata": {},
   "outputs": [],
   "source": [
    "## Getting started with the RAMP starting kit\n",
    "\n",
    "### Requirements\n",
    "\n",
    "**TODO** lister les librairies nécessaires"
   ]
  },
  {
   "cell_type": "markdown",
   "execution_count": null,
   "metadata": {},
   "outputs": [],
   "source": [
    "### Loading the data"
   ]
  },
  {
   "cell_type": "code",
   "execution_count": null,
   "metadata": {},
   "outputs": [],
   "source": [
    "df = pd.read_csv(\"\")"
   ]
  },
  {
   "cell_type": "markdown",
   "execution_count": null,
   "metadata": {},
   "outputs": [],
   "source": [
    "## Basic NLP Data Processing\n",
    "\n",
    "NLP data is special in the sense that it is unstructured.\n",
    "Structured data are tables where each item is a set of key-value pairs, each pair reflecting a feature of the item.\n",
    "In this challenge, each item is a document of natural text.\n",
    "Most algorithm can't process those raw text as a sequence of characters, and it is part of the job of a data scientist to design the proper data processing pipelines.\n",
    "\n",
    "Usually, it starts with a tokenization step where the document is cut into pieces, such as words.\n",
    "Transforming the data from a sequence of characters to a sequence of words can then help engineering actual features for each document.\n",
    "\n",
    "Below is a simple tokenization :\n",
    "\n",
    "**TODO** ajouter la tokenization\n",
    "\n",
    "**TODO** écrire quelques limites/suggestions d'amélioration"
   ]
  },
  {
   "cell_type": "markdown",
   "execution_count": null,
   "metadata": {},
   "outputs": [],
   "source": [
    "## Exploratory Analysis"
   ]
  },
  {
   "cell_type": "markdown",
   "execution_count": null,
   "metadata": {},
   "outputs": [],
   "source": [
    "### Basic features and statistics"
   ]
  },
  {
   "cell_type": "code",
   "execution_count": null,
   "metadata": {},
   "outputs": [],
   "source": [
    "# TODO adrien"
   ]
  },
  {
   "cell_type": "markdown",
   "execution_count": null,
   "metadata": {},
   "outputs": [],
   "source": [
    "### Extracting meaning from words with the LDA\n",
    "\n",
    "LDA stands for Latent Dirichlet Allocation.\n",
    "It is a simple yet powerful model that has been used in NLP.\n",
    "\n",
    "**TODO** continuer à présenter"
   ]
  },
  {
   "cell_type": "code",
   "execution_count": null,
   "metadata": {},
   "outputs": [],
   "source": [
    "# TODO slimane"
   ]
  },
  {
   "cell_type": "markdown",
   "execution_count": null,
   "metadata": {},
   "outputs": [],
   "source": [
    "## The challenge\n",
    "\n",
    "Using the previous studies, we can build a predictive pipeline that can learn to classify documents by authors."
   ]
  },
  {
   "cell_type": "code",
   "execution_count": null,
   "metadata": {},
   "outputs": [],
   "source": [
    "# TODO load data"
   ]
  },
  {
   "cell_type": "markdown",
   "execution_count": null,
   "metadata": {},
   "outputs": [],
   "source": [
    "### Extracting features"
   ]
  },
  {
   "cell_type": "code",
   "execution_count": 2,
   "metadata": {},
   "outputs": [],
   "source": [
    "# TODO FeatureExtractor"
   ]
  },
  {
   "cell_type": "markdown",
   "execution_count": null,
   "metadata": {},
   "outputs": [],
   "source": [
    "### Predictor"
   ]
  },
  {
   "cell_type": "code",
   "execution_count": 1,
   "metadata": {},
   "outputs": [],
   "source": [
    "# TODO Regressor"
   ]
  },
  {
   "cell_type": "markdown",
   "execution_count": null,
   "metadata": {},
   "outputs": [],
   "source": [
    "### Evaluation"
   ]
  },
  {
   "cell_type": "code",
   "execution_count": null,
   "metadata": {},
   "outputs": [],
   "source": [
    "# TODO ROC AUC"
   ]
  },
  {
   "cell_type": "markdown",
   "execution_count": null,
   "metadata": {},
   "outputs": [],
   "source": [
    "### Cross-validation"
   ]
  },
  {
   "cell_type": "code",
   "execution_count": null,
   "metadata": {},
   "outputs": [],
   "source": [
    "# TODO crossval"
   ]
  },
  {
   "cell_type": "markdown",
   "execution_count": null,
   "metadata": {},
   "outputs": [],
   "source": [
    "## Local testing with RAMP (before submission)"
   ]
  },
  {
   "cell_type": "code",
   "execution_count": null,
   "metadata": {},
   "outputs": [],
   "source": [
    "!ramp_test_submission --submission starting_kit --quick-test"
   ]
  },
  {
   "cell_type": "markdown",
   "execution_count": null,
   "metadata": {},
   "outputs": [],
   "source": [
    "## More information\n",
    "\n",
    "You can find more information in the README of the [ramp-workflow](https://github.com/paris-saclay-cds/ramp-workflow) library."
   ]
  }
 ],
 "metadata": {
  "kernelspec": {
   "display_name": "Python 3.7.5 64-bit",
   "language": "python",
   "name": "python37564bit86f27f09724843ed9d287bcced5c5fb3"
  },
  "language_info": {
   "codemirror_mode": {
    "name": "ipython",
    "version": 3
   },
   "file_extension": ".py",
   "mimetype": "text/x-python",
   "name": "python",
   "nbconvert_exporter": "python",
   "pygments_lexer": "ipython3",
   "version": "3.7.5-final"
  }
 },
 "nbformat": 4,
 "nbformat_minor": 2
}