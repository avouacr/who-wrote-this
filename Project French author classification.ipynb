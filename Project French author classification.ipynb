{
 "cells": [
  {
   "cell_type": "markdown",
   "metadata": {},
   "source": [
    "Authorship identification is an important topic in NLP tasks. Being able to identify the author of a document presents several applications, like detecting plagiarism or finding the author of an anonymous document. Archives all around the world are full of documents for which knowing the author would be invaluable knowledge for historical studies.\n",
    "\n",
    "Developping a model of authorship identification in literary texts has several objective. For a practical use, such a method could attribute an author to an anonymous piece of literature, and give historical knowledge. Furthermore, the multiple plagiarism scandals in literature (https://lithub.com/12-literary-plagiarism-scandals-ranked/) could be solved with an algorithm. For instance the authorship of Moliere or Shakespeare has been debated from the 19th century (https://fr.wikipedia.org/wiki/Paternit%C3%A9_des_%C5%93uvres_de_Moli%C3%A8re), https://fr.wikipedia.org/wiki/Paternit%C3%A9_des_%C5%93uvres_de_Shakespeare. This task has also an instructive purpose. It is a way to investigate if NLP algorithms are able to capture the literary style of a document.\n",
    "\n",
    "There is abundant work of authorship identification in english, but the methods have not been tested in french to our knowledge.\n",
    "\n",
    "We will limit ourselves to french novelists of 19th century.\n"
   ]
  },
  {
   "cell_type": "code",
   "execution_count": null,
   "metadata": {},
   "outputs": [],
   "source": []
  }
 ],
 "metadata": {
  "kernelspec": {
   "display_name": "Python 3",
   "language": "python",
   "name": "python3"
  },
  "language_info": {
   "codemirror_mode": {
    "name": "ipython",
    "version": 3
   },
   "file_extension": ".py",
   "mimetype": "text/x-python",
   "name": "python",
   "nbconvert_exporter": "python",
   "pygments_lexer": "ipython3",
   "version": "3.7.3"
  }
 },
 "nbformat": 4,
 "nbformat_minor": 2
}
