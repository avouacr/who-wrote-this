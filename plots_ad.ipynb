{
 "cells": [
  {
   "cell_type": "markdown",
   "metadata": {},
   "source": [
    "# Le premier jet, il en faut un (work in progress)"
   ]
  },
  {
   "cell_type": "code",
   "execution_count": 90,
   "metadata": {},
   "outputs": [],
   "source": [
    "import pandas as pd\n",
    "import matplotlib.pyplot as plt\n",
    "%matplotlib inline\n",
    "\n",
    "import seaborn as sns"
   ]
  },
  {
   "cell_type": "code",
   "execution_count": 91,
   "metadata": {},
   "outputs": [],
   "source": [
    "df = pd.read_csv('data/complete_db.csv', sep ='|')"
   ]
  },
  {
   "cell_type": "code",
   "execution_count": 92,
   "metadata": {},
   "outputs": [
    {
     "data": {
      "text/plain": [
       "array(['Zola', 'Maupassant', 'Balzac'], dtype=object)"
      ]
     },
     "execution_count": 92,
     "metadata": {},
     "output_type": "execute_result"
    }
   ],
   "source": [
    "df['author'].unique()"
   ]
  },
  {
   "cell_type": "code",
   "execution_count": 93,
   "metadata": {},
   "outputs": [],
   "source": [
    "from nltk import word_tokenize, download\n",
    "from re import split\n",
    "from numpy import mean\n",
    "\n",
    "download('punkt', quiet=True)\n",
    "\n",
    "_punctuation = '.?!:;&()`\"\\'@°_-~'\n",
    "\n",
    "def _getWordFeatures(tokens):\n",
    "\n",
    "    tokensLengths = [len(t) for t in tokens]\n",
    "\n",
    "    return mean(tokensLengths), max(tokensLengths)\n",
    "\n",
    "def _buildSentencesFeatures(text):\n",
    "\n",
    "    sentences = split(pattern='\\\\. |\\\\! |\\\\? ', string=text)\n",
    "    sentencesLengths = [len(word_tokenize(s)) for s in sentences]\n",
    "\n",
    "    return len(sentences), mean(sentencesLengths), max(sentencesLengths)\n",
    "\n",
    "def _getWordsWithNumbersCount(tokens):\n",
    "    return sum([any(c.isdigit() for c in t) for t in tokens])\n",
    "\n",
    "def _getWordsWithPunctuationCount(tokens):\n",
    "    return sum([any(c in _punctuation for c in t) for t in tokens])\n",
    "\n",
    "def _getCommonWordsCount(tokens):\n",
    "    return sum([t in _commonWords for t in tokens])\n",
    "\n",
    "def _getCommonWordsAverageFrequency(tokens):\n",
    "    return mean([_commonWords[t] if t in _commonWords else 0.0 for t in tokens])\n",
    "                \n",
    "                \n",
    "def _analyze_single(text):\n",
    "\n",
    "    features = {}\n",
    "\n",
    "    # Sentences Features\n",
    "    features['numberOfSentences'], features['meanSentenceLength'], features['maxSentenceLength'] = _buildSentencesFeatures(text)\n",
    "\n",
    "    # Tokenize\n",
    "    tokens = word_tokenize(text)\n",
    "    percentage = int(100000 / len(tokens)) / 1000\n",
    "\n",
    "    # Word based features\n",
    "    features['wordCount'] = len(tokens)\n",
    "    features['meanWordLength'], features['maxWordLength'] = _getWordFeatures(tokens)\n",
    "\n",
    "    # Specific tokens based features\n",
    "    features['wordsWithNumbersPercentage'] = _getWordsWithNumbersCount(tokens) * percentage\n",
    "    features['wordsWithPunctuationPercentage'] = _getWordsWithPunctuationCount(tokens) * percentage\n",
    "\n",
    "    # Overall frequency based features, but only if we want to use the common french words (le, la, il etc.)\n",
    "    '''\n",
    "    if commonWords is not None:\n",
    "        features['commonWordsPercentage'] = getCommonWordsCount(tokens) * percentage\n",
    "        features['commonWordsMeanFrequency'] = getCommonWordsAverageFrequency(tokens) * percentage\n",
    "    '''\n",
    "    del tokens\n",
    "\n",
    "    return features\n",
    "\n",
    "tryyy = df['paragraph'].apply(lambda x : _analyze_single(x))"
   ]
  },
  {
   "cell_type": "code",
   "execution_count": 94,
   "metadata": {
    "scrolled": true
   },
   "outputs": [
    {
     "data": {
      "text/html": [
       "<div>\n",
       "<style scoped>\n",
       "    .dataframe tbody tr th:only-of-type {\n",
       "        vertical-align: middle;\n",
       "    }\n",
       "\n",
       "    .dataframe tbody tr th {\n",
       "        vertical-align: top;\n",
       "    }\n",
       "\n",
       "    .dataframe thead th {\n",
       "        text-align: right;\n",
       "    }\n",
       "</style>\n",
       "<table border=\"1\" class=\"dataframe\">\n",
       "  <thead>\n",
       "    <tr style=\"text-align: right;\">\n",
       "      <th></th>\n",
       "      <th>paragraph</th>\n",
       "      <th>author</th>\n",
       "      <th>numberOfSentences</th>\n",
       "      <th>wordCount</th>\n",
       "      <th>meanWordLength</th>\n",
       "      <th>maxWordLength</th>\n",
       "      <th>wordsWithNumbersPercentage</th>\n",
       "      <th>wordsWithPunctuationPercentage</th>\n",
       "    </tr>\n",
       "  </thead>\n",
       "  <tbody>\n",
       "    <tr>\n",
       "      <th>0</th>\n",
       "      <td>Alors, il pâlit, un désespoir lui emplit les y...</td>\n",
       "      <td>Zola</td>\n",
       "      <td>3</td>\n",
       "      <td>48</td>\n",
       "      <td>4.708333</td>\n",
       "      <td>14</td>\n",
       "      <td>0.000</td>\n",
       "      <td>16.664</td>\n",
       "    </tr>\n",
       "    <tr>\n",
       "      <th>1</th>\n",
       "      <td>Le lendemain, heureusement, Jeanlin lui apport...</td>\n",
       "      <td>Zola</td>\n",
       "      <td>3</td>\n",
       "      <td>49</td>\n",
       "      <td>4.346939</td>\n",
       "      <td>12</td>\n",
       "      <td>2.040</td>\n",
       "      <td>8.160</td>\n",
       "    </tr>\n",
       "    <tr>\n",
       "      <th>2</th>\n",
       "      <td>--Monsieur le directeur, c'est justement parce...</td>\n",
       "      <td>Zola</td>\n",
       "      <td>3</td>\n",
       "      <td>88</td>\n",
       "      <td>4.147727</td>\n",
       "      <td>10</td>\n",
       "      <td>0.000</td>\n",
       "      <td>13.632</td>\n",
       "    </tr>\n",
       "    <tr>\n",
       "      <th>3</th>\n",
       "      <td>Cet ordre de son père ralentit un instant sa c...</td>\n",
       "      <td>Zola</td>\n",
       "      <td>4</td>\n",
       "      <td>43</td>\n",
       "      <td>3.930233</td>\n",
       "      <td>10</td>\n",
       "      <td>0.000</td>\n",
       "      <td>9.300</td>\n",
       "    </tr>\n",
       "    <tr>\n",
       "      <th>4</th>\n",
       "      <td>--Nous levions la main comme ça, nous jurions ...</td>\n",
       "      <td>Zola</td>\n",
       "      <td>4</td>\n",
       "      <td>25</td>\n",
       "      <td>3.360000</td>\n",
       "      <td>11</td>\n",
       "      <td>0.000</td>\n",
       "      <td>28.000</td>\n",
       "    </tr>\n",
       "    <tr>\n",
       "      <th>5</th>\n",
       "      <td>Mais ils s'arrêtèrent, pour regarder Zacharie ...</td>\n",
       "      <td>Zola</td>\n",
       "      <td>9</td>\n",
       "      <td>247</td>\n",
       "      <td>4.174089</td>\n",
       "      <td>14</td>\n",
       "      <td>0.000</td>\n",
       "      <td>8.080</td>\n",
       "    </tr>\n",
       "    <tr>\n",
       "      <th>6</th>\n",
       "      <td>--Salaud! cochon! espèce de mufle!...  Attends...</td>\n",
       "      <td>Zola</td>\n",
       "      <td>4</td>\n",
       "      <td>29</td>\n",
       "      <td>3.413793</td>\n",
       "      <td>9</td>\n",
       "      <td>0.000</td>\n",
       "      <td>24.136</td>\n",
       "    </tr>\n",
       "    <tr>\n",
       "      <th>7</th>\n",
       "      <td>--J'étais donc venue, avoua-t-elle enfin, pour...</td>\n",
       "      <td>Zola</td>\n",
       "      <td>2</td>\n",
       "      <td>31</td>\n",
       "      <td>4.258065</td>\n",
       "      <td>12</td>\n",
       "      <td>0.000</td>\n",
       "      <td>22.575</td>\n",
       "    </tr>\n",
       "    <tr>\n",
       "      <th>8</th>\n",
       "      <td>D'abord, la bande des mineurs descendue du cor...</td>\n",
       "      <td>Zola</td>\n",
       "      <td>2</td>\n",
       "      <td>30</td>\n",
       "      <td>4.400000</td>\n",
       "      <td>12</td>\n",
       "      <td>0.000</td>\n",
       "      <td>9.999</td>\n",
       "    </tr>\n",
       "    <tr>\n",
       "      <th>9</th>\n",
       "      <td>Étienne, rudement, se heurta la tête.  Sans la...</td>\n",
       "      <td>Zola</td>\n",
       "      <td>9</td>\n",
       "      <td>200</td>\n",
       "      <td>4.235000</td>\n",
       "      <td>13</td>\n",
       "      <td>0.000</td>\n",
       "      <td>8.000</td>\n",
       "    </tr>\n",
       "    <tr>\n",
       "      <th>10</th>\n",
       "      <td>Ils empoignèrent les anses du baquet, et ils l...</td>\n",
       "      <td>Zola</td>\n",
       "      <td>2</td>\n",
       "      <td>62</td>\n",
       "      <td>4.161290</td>\n",
       "      <td>13</td>\n",
       "      <td>0.000</td>\n",
       "      <td>4.836</td>\n",
       "    </tr>\n",
       "    <tr>\n",
       "      <th>11</th>\n",
       "      <td>Il y eut une hésitation, lorsque Deneulin se m...</td>\n",
       "      <td>Zola</td>\n",
       "      <td>1</td>\n",
       "      <td>20</td>\n",
       "      <td>4.250000</td>\n",
       "      <td>10</td>\n",
       "      <td>0.000</td>\n",
       "      <td>10.000</td>\n",
       "    </tr>\n",
       "    <tr>\n",
       "      <th>12</th>\n",
       "      <td>Elle se lavait à la hâte, elle passa un vieux ...</td>\n",
       "      <td>Zola</td>\n",
       "      <td>1</td>\n",
       "      <td>34</td>\n",
       "      <td>3.558824</td>\n",
       "      <td>6</td>\n",
       "      <td>0.000</td>\n",
       "      <td>2.941</td>\n",
       "    </tr>\n",
       "    <tr>\n",
       "      <th>13</th>\n",
       "      <td>--Mais, nom de Dieu! s'écria Maheu, furieux d'...</td>\n",
       "      <td>Zola</td>\n",
       "      <td>5</td>\n",
       "      <td>58</td>\n",
       "      <td>3.517241</td>\n",
       "      <td>11</td>\n",
       "      <td>0.000</td>\n",
       "      <td>29.308</td>\n",
       "    </tr>\n",
       "    <tr>\n",
       "      <th>14</th>\n",
       "      <td>--Cinq cent cinquante-quatre mètres, répondit ...</td>\n",
       "      <td>Zola</td>\n",
       "      <td>2</td>\n",
       "      <td>24</td>\n",
       "      <td>4.541667</td>\n",
       "      <td>16</td>\n",
       "      <td>0.000</td>\n",
       "      <td>24.996</td>\n",
       "    </tr>\n",
       "    <tr>\n",
       "      <th>15</th>\n",
       "      <td>Mais la cuisinière, qui montait du sous-sol, e...</td>\n",
       "      <td>Zola</td>\n",
       "      <td>6</td>\n",
       "      <td>127</td>\n",
       "      <td>4.622047</td>\n",
       "      <td>14</td>\n",
       "      <td>0.000</td>\n",
       "      <td>11.805</td>\n",
       "    </tr>\n",
       "    <tr>\n",
       "      <th>16</th>\n",
       "      <td>La clameur recommença.  Étienne goûtait l'ivre...</td>\n",
       "      <td>Zola</td>\n",
       "      <td>5</td>\n",
       "      <td>105</td>\n",
       "      <td>4.771429</td>\n",
       "      <td>14</td>\n",
       "      <td>0.000</td>\n",
       "      <td>12.376</td>\n",
       "    </tr>\n",
       "    <tr>\n",
       "      <th>17</th>\n",
       "      <td>Dès ce moment, la lutte continua entre M. Henn...</td>\n",
       "      <td>Zola</td>\n",
       "      <td>2</td>\n",
       "      <td>23</td>\n",
       "      <td>3.956522</td>\n",
       "      <td>9</td>\n",
       "      <td>0.000</td>\n",
       "      <td>13.041</td>\n",
       "    </tr>\n",
       "    <tr>\n",
       "      <th>18</th>\n",
       "      <td>Mais alors le feu de peloton balayait le terra...</td>\n",
       "      <td>Zola</td>\n",
       "      <td>6</td>\n",
       "      <td>166</td>\n",
       "      <td>4.180723</td>\n",
       "      <td>10</td>\n",
       "      <td>0.000</td>\n",
       "      <td>10.836</td>\n",
       "    </tr>\n",
       "    <tr>\n",
       "      <th>19</th>\n",
       "      <td>En bas, il y avait d'abord Zacharie; Levaque e...</td>\n",
       "      <td>Zola</td>\n",
       "      <td>4</td>\n",
       "      <td>112</td>\n",
       "      <td>4.133929</td>\n",
       "      <td>15</td>\n",
       "      <td>0.000</td>\n",
       "      <td>11.596</td>\n",
       "    </tr>\n",
       "    <tr>\n",
       "      <th>20</th>\n",
       "      <td>Bébert et Lydie s'étaient affaissés l'un sur l...</td>\n",
       "      <td>Zola</td>\n",
       "      <td>4</td>\n",
       "      <td>114</td>\n",
       "      <td>4.192982</td>\n",
       "      <td>11</td>\n",
       "      <td>0.000</td>\n",
       "      <td>11.401</td>\n",
       "    </tr>\n",
       "    <tr>\n",
       "      <th>21</th>\n",
       "      <td>Vers neuf heures, bien qu'il eût reçu l'ordre ...</td>\n",
       "      <td>Zola</td>\n",
       "      <td>7</td>\n",
       "      <td>244</td>\n",
       "      <td>4.610656</td>\n",
       "      <td>13</td>\n",
       "      <td>0.000</td>\n",
       "      <td>13.088</td>\n",
       "    </tr>\n",
       "    <tr>\n",
       "      <th>22</th>\n",
       "      <td>Depuis le jeudi, Maheu retournait à la fosse, ...</td>\n",
       "      <td>Zola</td>\n",
       "      <td>6</td>\n",
       "      <td>96</td>\n",
       "      <td>4.000000</td>\n",
       "      <td>12</td>\n",
       "      <td>1.041</td>\n",
       "      <td>10.410</td>\n",
       "    </tr>\n",
       "    <tr>\n",
       "      <th>23</th>\n",
       "      <td>Elle arrivait chez Maigrat, elle était tout ém...</td>\n",
       "      <td>Zola</td>\n",
       "      <td>6</td>\n",
       "      <td>162</td>\n",
       "      <td>4.135802</td>\n",
       "      <td>12</td>\n",
       "      <td>0.000</td>\n",
       "      <td>8.021</td>\n",
       "    </tr>\n",
       "    <tr>\n",
       "      <th>24</th>\n",
       "      <td>Souvent, il arrivait ainsi, à la nuit noire.  ...</td>\n",
       "      <td>Zola</td>\n",
       "      <td>8</td>\n",
       "      <td>201</td>\n",
       "      <td>4.348259</td>\n",
       "      <td>12</td>\n",
       "      <td>0.000</td>\n",
       "      <td>13.916</td>\n",
       "    </tr>\n",
       "    <tr>\n",
       "      <th>25</th>\n",
       "      <td>Cette plaisanterie les secoua d'une gaieté ter...</td>\n",
       "      <td>Zola</td>\n",
       "      <td>3</td>\n",
       "      <td>62</td>\n",
       "      <td>4.725806</td>\n",
       "      <td>12</td>\n",
       "      <td>0.000</td>\n",
       "      <td>11.284</td>\n",
       "    </tr>\n",
       "    <tr>\n",
       "      <th>26</th>\n",
       "      <td>Les rires recommencèrent, mais plus discrets. ...</td>\n",
       "      <td>Zola</td>\n",
       "      <td>5</td>\n",
       "      <td>113</td>\n",
       "      <td>4.592920</td>\n",
       "      <td>14</td>\n",
       "      <td>0.000</td>\n",
       "      <td>11.492</td>\n",
       "    </tr>\n",
       "    <tr>\n",
       "      <th>27</th>\n",
       "      <td>--Oh! la soupe! dit la Maheude d'un air de fat...</td>\n",
       "      <td>Zola</td>\n",
       "      <td>7</td>\n",
       "      <td>61</td>\n",
       "      <td>3.819672</td>\n",
       "      <td>9</td>\n",
       "      <td>0.000</td>\n",
       "      <td>19.668</td>\n",
       "    </tr>\n",
       "    <tr>\n",
       "      <th>28</th>\n",
       "      <td>--Seulement, continua-t-elle très bas, je voud...</td>\n",
       "      <td>Zola</td>\n",
       "      <td>2</td>\n",
       "      <td>29</td>\n",
       "      <td>3.827586</td>\n",
       "      <td>15</td>\n",
       "      <td>0.000</td>\n",
       "      <td>17.240</td>\n",
       "    </tr>\n",
       "    <tr>\n",
       "      <th>29</th>\n",
       "      <td>--Sois donc franc! tu te fiches de l'Internati...</td>\n",
       "      <td>Zola</td>\n",
       "      <td>2</td>\n",
       "      <td>33</td>\n",
       "      <td>4.363636</td>\n",
       "      <td>16</td>\n",
       "      <td>0.000</td>\n",
       "      <td>15.150</td>\n",
       "    </tr>\n",
       "    <tr>\n",
       "      <th>...</th>\n",
       "      <td>...</td>\n",
       "      <td>...</td>\n",
       "      <td>...</td>\n",
       "      <td>...</td>\n",
       "      <td>...</td>\n",
       "      <td>...</td>\n",
       "      <td>...</td>\n",
       "      <td>...</td>\n",
       "    </tr>\n",
       "    <tr>\n",
       "      <th>570</th>\n",
       "      <td>Jules arriva promptement à la place de la Roto...</td>\n",
       "      <td>Balzac</td>\n",
       "      <td>3</td>\n",
       "      <td>107</td>\n",
       "      <td>4.158879</td>\n",
       "      <td>14</td>\n",
       "      <td>0.000</td>\n",
       "      <td>7.472</td>\n",
       "    </tr>\n",
       "    <tr>\n",
       "      <th>571</th>\n",
       "      <td>--De Grenelle, dit le cocher en hochant la têt...</td>\n",
       "      <td>Balzac</td>\n",
       "      <td>2</td>\n",
       "      <td>38</td>\n",
       "      <td>4.394737</td>\n",
       "      <td>15</td>\n",
       "      <td>0.000</td>\n",
       "      <td>21.048</td>\n",
       "    </tr>\n",
       "    <tr>\n",
       "      <th>572</th>\n",
       "      <td>--Ma pauvre Nasie, dit madame de Nucingen en a...</td>\n",
       "      <td>Balzac</td>\n",
       "      <td>4</td>\n",
       "      <td>58</td>\n",
       "      <td>4.051724</td>\n",
       "      <td>10</td>\n",
       "      <td>0.000</td>\n",
       "      <td>12.068</td>\n",
       "    </tr>\n",
       "    <tr>\n",
       "      <th>573</th>\n",
       "      <td>Le père Goriot, vieillard de soixante-neuf ans...</td>\n",
       "      <td>Balzac</td>\n",
       "      <td>42</td>\n",
       "      <td>1351</td>\n",
       "      <td>4.516654</td>\n",
       "      <td>16</td>\n",
       "      <td>0.074</td>\n",
       "      <td>9.472</td>\n",
       "    </tr>\n",
       "    <tr>\n",
       "      <th>574</th>\n",
       "      <td>Les pensionnaires se mirent sur deux files dan...</td>\n",
       "      <td>Balzac</td>\n",
       "      <td>2</td>\n",
       "      <td>55</td>\n",
       "      <td>4.727273</td>\n",
       "      <td>13</td>\n",
       "      <td>0.000</td>\n",
       "      <td>5.454</td>\n",
       "    </tr>\n",
       "    <tr>\n",
       "      <th>575</th>\n",
       "      <td>--Qui est-ce qui a dit cela? répondit le vieil...</td>\n",
       "      <td>Balzac</td>\n",
       "      <td>16</td>\n",
       "      <td>172</td>\n",
       "      <td>3.703488</td>\n",
       "      <td>12</td>\n",
       "      <td>0.000</td>\n",
       "      <td>18.011</td>\n",
       "    </tr>\n",
       "    <tr>\n",
       "      <th>576</th>\n",
       "      <td>--Si, elle t'aime, Nasie, cria le père Goriot,...</td>\n",
       "      <td>Balzac</td>\n",
       "      <td>2</td>\n",
       "      <td>41</td>\n",
       "      <td>3.512195</td>\n",
       "      <td>9</td>\n",
       "      <td>0.000</td>\n",
       "      <td>17.073</td>\n",
       "    </tr>\n",
       "    <tr>\n",
       "      <th>577</th>\n",
       "      <td>Henri lui arrêta le bras, et ils purent ainsi ...</td>\n",
       "      <td>Balzac</td>\n",
       "      <td>4</td>\n",
       "      <td>72</td>\n",
       "      <td>4.097222</td>\n",
       "      <td>11</td>\n",
       "      <td>0.000</td>\n",
       "      <td>8.328</td>\n",
       "    </tr>\n",
       "    <tr>\n",
       "      <th>578</th>\n",
       "      <td>--Oh! toi, se dit de Marsay en jetant un regar...</td>\n",
       "      <td>Balzac</td>\n",
       "      <td>3</td>\n",
       "      <td>44</td>\n",
       "      <td>3.772727</td>\n",
       "      <td>11</td>\n",
       "      <td>0.000</td>\n",
       "      <td>20.448</td>\n",
       "    </tr>\n",
       "    <tr>\n",
       "      <th>579</th>\n",
       "      <td>--Vous avez sept mille deux cents francs à vou...</td>\n",
       "      <td>Balzac</td>\n",
       "      <td>3</td>\n",
       "      <td>63</td>\n",
       "      <td>3.952381</td>\n",
       "      <td>12</td>\n",
       "      <td>0.000</td>\n",
       "      <td>11.109</td>\n",
       "    </tr>\n",
       "    <tr>\n",
       "      <th>580</th>\n",
       "      <td>--Eh! bien, ma chère Antoinette, nous vous che...</td>\n",
       "      <td>Balzac</td>\n",
       "      <td>2</td>\n",
       "      <td>24</td>\n",
       "      <td>3.833333</td>\n",
       "      <td>10</td>\n",
       "      <td>0.000</td>\n",
       "      <td>12.498</td>\n",
       "    </tr>\n",
       "    <tr>\n",
       "      <th>581</th>\n",
       "      <td>--Êtes-vous fou, Maxime? dit-elle. Ces petits ...</td>\n",
       "      <td>Balzac</td>\n",
       "      <td>4</td>\n",
       "      <td>33</td>\n",
       "      <td>4.303030</td>\n",
       "      <td>13</td>\n",
       "      <td>0.000</td>\n",
       "      <td>27.270</td>\n",
       "    </tr>\n",
       "    <tr>\n",
       "      <th>582</th>\n",
       "      <td>Jules se mit aux pieds de sa femme, lui baisa ...</td>\n",
       "      <td>Balzac</td>\n",
       "      <td>27</td>\n",
       "      <td>487</td>\n",
       "      <td>3.905544</td>\n",
       "      <td>19</td>\n",
       "      <td>0.000</td>\n",
       "      <td>15.375</td>\n",
       "    </tr>\n",
       "    <tr>\n",
       "      <th>583</th>\n",
       "      <td>--Assez, Thérèse. Elle viendrait que maintenan...</td>\n",
       "      <td>Balzac</td>\n",
       "      <td>2</td>\n",
       "      <td>22</td>\n",
       "      <td>4.318182</td>\n",
       "      <td>12</td>\n",
       "      <td>0.000</td>\n",
       "      <td>18.180</td>\n",
       "    </tr>\n",
       "    <tr>\n",
       "      <th>584</th>\n",
       "      <td>Monsieur de Montriveau resta jusqu'à deux heur...</td>\n",
       "      <td>Balzac</td>\n",
       "      <td>15</td>\n",
       "      <td>485</td>\n",
       "      <td>4.439175</td>\n",
       "      <td>14</td>\n",
       "      <td>0.000</td>\n",
       "      <td>10.918</td>\n",
       "    </tr>\n",
       "    <tr>\n",
       "      <th>585</th>\n",
       "      <td>Vautrin se mit à sourire. En ce moment la poti...</td>\n",
       "      <td>Balzac</td>\n",
       "      <td>3</td>\n",
       "      <td>48</td>\n",
       "      <td>4.104167</td>\n",
       "      <td>10</td>\n",
       "      <td>0.000</td>\n",
       "      <td>16.664</td>\n",
       "    </tr>\n",
       "    <tr>\n",
       "      <th>586</th>\n",
       "      <td>--Voilà cent francs pour lui, soyez ce soir ch...</td>\n",
       "      <td>Balzac</td>\n",
       "      <td>3</td>\n",
       "      <td>32</td>\n",
       "      <td>4.000000</td>\n",
       "      <td>9</td>\n",
       "      <td>0.000</td>\n",
       "      <td>21.875</td>\n",
       "    </tr>\n",
       "    <tr>\n",
       "      <th>587</th>\n",
       "      <td>Pour se rapprocher du champ de bataille, de Ma...</td>\n",
       "      <td>Balzac</td>\n",
       "      <td>17</td>\n",
       "      <td>389</td>\n",
       "      <td>4.411311</td>\n",
       "      <td>19</td>\n",
       "      <td>0.000</td>\n",
       "      <td>10.537</td>\n",
       "    </tr>\n",
       "    <tr>\n",
       "      <th>588</th>\n",
       "      <td>Eugène fut bientôt réclamé par Delphine, heure...</td>\n",
       "      <td>Balzac</td>\n",
       "      <td>1</td>\n",
       "      <td>35</td>\n",
       "      <td>4.971429</td>\n",
       "      <td>11</td>\n",
       "      <td>0.000</td>\n",
       "      <td>14.285</td>\n",
       "    </tr>\n",
       "    <tr>\n",
       "      <th>589</th>\n",
       "      <td>--Oui, ma sœur se fait tort par la manière don...</td>\n",
       "      <td>Balzac</td>\n",
       "      <td>8</td>\n",
       "      <td>138</td>\n",
       "      <td>3.920290</td>\n",
       "      <td>12</td>\n",
       "      <td>0.000</td>\n",
       "      <td>10.136</td>\n",
       "    </tr>\n",
       "    <tr>\n",
       "      <th>590</th>\n",
       "      <td>--Épargnez-vous donc ces pleurs, madame. Si j'...</td>\n",
       "      <td>Balzac</td>\n",
       "      <td>6</td>\n",
       "      <td>66</td>\n",
       "      <td>3.818182</td>\n",
       "      <td>13</td>\n",
       "      <td>0.000</td>\n",
       "      <td>24.240</td>\n",
       "    </tr>\n",
       "    <tr>\n",
       "      <th>591</th>\n",
       "      <td>--Mais le sais-je? Vous appartenir par un lien...</td>\n",
       "      <td>Balzac</td>\n",
       "      <td>6</td>\n",
       "      <td>79</td>\n",
       "      <td>3.962025</td>\n",
       "      <td>10</td>\n",
       "      <td>0.000</td>\n",
       "      <td>13.915</td>\n",
       "    </tr>\n",
       "    <tr>\n",
       "      <th>592</th>\n",
       "      <td>Là, Montriveau tira froidement sa montre et vé...</td>\n",
       "      <td>Balzac</td>\n",
       "      <td>1</td>\n",
       "      <td>16</td>\n",
       "      <td>5.562500</td>\n",
       "      <td>10</td>\n",
       "      <td>0.000</td>\n",
       "      <td>12.500</td>\n",
       "    </tr>\n",
       "    <tr>\n",
       "      <th>593</th>\n",
       "      <td>--Vous connaissez assez madame de Nucingen pou...</td>\n",
       "      <td>Balzac</td>\n",
       "      <td>2</td>\n",
       "      <td>19</td>\n",
       "      <td>5.210526</td>\n",
       "      <td>10</td>\n",
       "      <td>0.000</td>\n",
       "      <td>26.315</td>\n",
       "    </tr>\n",
       "    <tr>\n",
       "      <th>594</th>\n",
       "      <td>Rastignac se précipita dans l'escalier, et par...</td>\n",
       "      <td>Balzac</td>\n",
       "      <td>3</td>\n",
       "      <td>59</td>\n",
       "      <td>4.813559</td>\n",
       "      <td>13</td>\n",
       "      <td>0.000</td>\n",
       "      <td>15.246</td>\n",
       "    </tr>\n",
       "    <tr>\n",
       "      <th>595</th>\n",
       "      <td>--Ah çà! où me mènerez-vous maintenant, dit-il...</td>\n",
       "      <td>Balzac</td>\n",
       "      <td>2</td>\n",
       "      <td>26</td>\n",
       "      <td>4.307692</td>\n",
       "      <td>12</td>\n",
       "      <td>0.000</td>\n",
       "      <td>19.230</td>\n",
       "    </tr>\n",
       "    <tr>\n",
       "      <th>596</th>\n",
       "      <td>--Mon petit, quand on ne veut pas être dupe de...</td>\n",
       "      <td>Balzac</td>\n",
       "      <td>3</td>\n",
       "      <td>63</td>\n",
       "      <td>4.063492</td>\n",
       "      <td>12</td>\n",
       "      <td>0.000</td>\n",
       "      <td>7.935</td>\n",
       "    </tr>\n",
       "    <tr>\n",
       "      <th>597</th>\n",
       "      <td>--Je croyais, reprit la duchesse avec douceur,...</td>\n",
       "      <td>Balzac</td>\n",
       "      <td>1</td>\n",
       "      <td>21</td>\n",
       "      <td>4.047619</td>\n",
       "      <td>12</td>\n",
       "      <td>0.000</td>\n",
       "      <td>9.522</td>\n",
       "    </tr>\n",
       "    <tr>\n",
       "      <th>598</th>\n",
       "      <td>Un des spectacles où se rencontre le plus d'é...</td>\n",
       "      <td>Balzac</td>\n",
       "      <td>4</td>\n",
       "      <td>137</td>\n",
       "      <td>4.773723</td>\n",
       "      <td>15</td>\n",
       "      <td>0.000</td>\n",
       "      <td>13.122</td>\n",
       "    </tr>\n",
       "    <tr>\n",
       "      <th>599</th>\n",
       "      <td>--Menez-moi donc au bal, dit-elle curieuse enc...</td>\n",
       "      <td>Balzac</td>\n",
       "      <td>10</td>\n",
       "      <td>133</td>\n",
       "      <td>3.503759</td>\n",
       "      <td>11</td>\n",
       "      <td>0.000</td>\n",
       "      <td>14.269</td>\n",
       "    </tr>\n",
       "  </tbody>\n",
       "</table>\n",
       "<p>600 rows × 8 columns</p>\n",
       "</div>"
      ],
      "text/plain": [
       "                                             paragraph  author  \\\n",
       "0    Alors, il pâlit, un désespoir lui emplit les y...    Zola   \n",
       "1    Le lendemain, heureusement, Jeanlin lui apport...    Zola   \n",
       "2    --Monsieur le directeur, c'est justement parce...    Zola   \n",
       "3    Cet ordre de son père ralentit un instant sa c...    Zola   \n",
       "4    --Nous levions la main comme ça, nous jurions ...    Zola   \n",
       "..                                                 ...     ...   \n",
       "595  --Ah çà! où me mènerez-vous maintenant, dit-il...  Balzac   \n",
       "596  --Mon petit, quand on ne veut pas être dupe de...  Balzac   \n",
       "597  --Je croyais, reprit la duchesse avec douceur,...  Balzac   \n",
       "598   Un des spectacles où se rencontre le plus d'é...  Balzac   \n",
       "599  --Menez-moi donc au bal, dit-elle curieuse enc...  Balzac   \n",
       "\n",
       "     numberOfSentences  wordCount  meanWordLength  maxWordLength  \\\n",
       "0                    3         48        4.708333             14   \n",
       "1                    3         49        4.346939             12   \n",
       "2                    3         88        4.147727             10   \n",
       "3                    4         43        3.930233             10   \n",
       "4                    4         25        3.360000             11   \n",
       "..                 ...        ...             ...            ...   \n",
       "595                  2         26        4.307692             12   \n",
       "596                  3         63        4.063492             12   \n",
       "597                  1         21        4.047619             12   \n",
       "598                  4        137        4.773723             15   \n",
       "599                 10        133        3.503759             11   \n",
       "\n",
       "     wordsWithNumbersPercentage  wordsWithPunctuationPercentage  \n",
       "0                          0.00                          16.664  \n",
       "1                          2.04                           8.160  \n",
       "2                          0.00                          13.632  \n",
       "3                          0.00                           9.300  \n",
       "4                          0.00                          28.000  \n",
       "..                          ...                             ...  \n",
       "595                        0.00                          19.230  \n",
       "596                        0.00                           7.935  \n",
       "597                        0.00                           9.522  \n",
       "598                        0.00                          13.122  \n",
       "599                        0.00                          14.269  \n",
       "\n",
       "[600 rows x 8 columns]"
      ]
     },
     "execution_count": 94,
     "metadata": {},
     "output_type": "execute_result"
    }
   ],
   "source": [
    "#dégueu mais pas le time\n",
    "\n",
    "l_nof = []\n",
    "l_wordcount = []\n",
    "l_meanWordLength = []\n",
    "l_maxWordLength = []\n",
    "l_wordsWithNumbersPercentage = []\n",
    "l_wordsWithPunctuationPercentage = []\n",
    "\n",
    "for i in range (len(tryyy)):\n",
    "    \n",
    "    l_nof.append(tryyy[i]['numberOfSentences'])\n",
    "    l_meanWordLength.append(tryyy[i]['meanWordLength'])\n",
    "    l_maxWordLength.append(tryyy[i]['maxWordLength'])\n",
    "    l_wordsWithNumbersPercentage.append(tryyy[i]['wordsWithNumbersPercentage'])\n",
    "    l_wordsWithPunctuationPercentage.append(tryyy[i]['wordsWithPunctuationPercentage'])\n",
    "    l_wordcount.append(tryyy[i]['wordCount'])\n",
    "\n",
    "my_df = pd.read_csv('data/complete_db.csv', sep ='|')\n",
    "\n",
    "my_df['numberOfSentences'] = l_nof\n",
    "my_df['wordCount'] = l_wordcount\n",
    "my_df['meanWordLength'] = l_meanWordLength\n",
    "my_df['maxWordLength'] = l_maxWordLength\n",
    "my_df['wordsWithNumbersPercentage'] = l_wordsWithNumbersPercentage\n",
    "my_df['wordsWithPunctuationPercentage'] = l_wordsWithPunctuationPercentage\n",
    "\n",
    "my_df.head()"
   ]
  },
  {
   "cell_type": "code",
   "execution_count": 95,
   "metadata": {},
   "outputs": [
    {
     "name": "stdout",
     "output_type": "stream",
     "text": [
      "<class 'pandas.core.frame.DataFrame'>\n",
      "RangeIndex: 600 entries, 0 to 599\n",
      "Data columns (total 8 columns):\n",
      "paragraph                         600 non-null object\n",
      "author                            600 non-null object\n",
      "numberOfSentences                 600 non-null int64\n",
      "wordCount                         600 non-null int64\n",
      "meanWordLength                    600 non-null float64\n",
      "maxWordLength                     600 non-null int64\n",
      "wordsWithNumbersPercentage        600 non-null float64\n",
      "wordsWithPunctuationPercentage    600 non-null float64\n",
      "dtypes: float64(3), int64(3), object(2)\n",
      "memory usage: 37.6+ KB\n"
     ]
    }
   ],
   "source": [
    "my_df.info()"
   ]
  },
  {
   "cell_type": "code",
   "execution_count": 96,
   "metadata": {},
   "outputs": [
    {
     "data": {
      "text/html": [
       "<div>\n",
       "<style scoped>\n",
       "    .dataframe tbody tr th:only-of-type {\n",
       "        vertical-align: middle;\n",
       "    }\n",
       "\n",
       "    .dataframe tbody tr th {\n",
       "        vertical-align: top;\n",
       "    }\n",
       "\n",
       "    .dataframe thead th {\n",
       "        text-align: right;\n",
       "    }\n",
       "</style>\n",
       "<table border=\"1\" class=\"dataframe\">\n",
       "  <thead>\n",
       "    <tr style=\"text-align: right;\">\n",
       "      <th></th>\n",
       "      <th>numberOfSentences</th>\n",
       "      <th>wordCount</th>\n",
       "      <th>meanWordLength</th>\n",
       "      <th>maxWordLength</th>\n",
       "      <th>wordsWithNumbersPercentage</th>\n",
       "      <th>wordsWithPunctuationPercentage</th>\n",
       "    </tr>\n",
       "  </thead>\n",
       "  <tbody>\n",
       "    <tr>\n",
       "      <th>count</th>\n",
       "      <td>600.000000</td>\n",
       "      <td>600.000000</td>\n",
       "      <td>600.000000</td>\n",
       "      <td>600.000000</td>\n",
       "      <td>600.000000</td>\n",
       "      <td>600.000000</td>\n",
       "    </tr>\n",
       "    <tr>\n",
       "      <th>mean</th>\n",
       "      <td>4.596667</td>\n",
       "      <td>97.466667</td>\n",
       "      <td>4.096488</td>\n",
       "      <td>11.630000</td>\n",
       "      <td>0.027032</td>\n",
       "      <td>14.037957</td>\n",
       "    </tr>\n",
       "    <tr>\n",
       "      <th>std</th>\n",
       "      <td>6.488772</td>\n",
       "      <td>166.033433</td>\n",
       "      <td>0.433483</td>\n",
       "      <td>2.219905</td>\n",
       "      <td>0.212371</td>\n",
       "      <td>6.334903</td>\n",
       "    </tr>\n",
       "    <tr>\n",
       "      <th>min</th>\n",
       "      <td>1.000000</td>\n",
       "      <td>15.000000</td>\n",
       "      <td>2.534884</td>\n",
       "      <td>6.000000</td>\n",
       "      <td>0.000000</td>\n",
       "      <td>2.738000</td>\n",
       "    </tr>\n",
       "    <tr>\n",
       "      <th>25%</th>\n",
       "      <td>2.000000</td>\n",
       "      <td>31.000000</td>\n",
       "      <td>3.820617</td>\n",
       "      <td>10.000000</td>\n",
       "      <td>0.000000</td>\n",
       "      <td>9.668250</td>\n",
       "    </tr>\n",
       "    <tr>\n",
       "      <th>50%</th>\n",
       "      <td>3.000000</td>\n",
       "      <td>48.000000</td>\n",
       "      <td>4.077935</td>\n",
       "      <td>11.000000</td>\n",
       "      <td>0.000000</td>\n",
       "      <td>12.540000</td>\n",
       "    </tr>\n",
       "    <tr>\n",
       "      <th>75%</th>\n",
       "      <td>5.000000</td>\n",
       "      <td>91.250000</td>\n",
       "      <td>4.365320</td>\n",
       "      <td>13.000000</td>\n",
       "      <td>0.000000</td>\n",
       "      <td>17.156500</td>\n",
       "    </tr>\n",
       "    <tr>\n",
       "      <th>max</th>\n",
       "      <td>84.000000</td>\n",
       "      <td>1727.000000</td>\n",
       "      <td>6.200000</td>\n",
       "      <td>22.000000</td>\n",
       "      <td>2.439000</td>\n",
       "      <td>42.306000</td>\n",
       "    </tr>\n",
       "  </tbody>\n",
       "</table>\n",
       "</div>"
      ],
      "text/plain": [
       "       numberOfSentences    wordCount  meanWordLength  maxWordLength  \\\n",
       "count         600.000000   600.000000      600.000000     600.000000   \n",
       "mean            4.596667    97.466667        4.096488      11.630000   \n",
       "std             6.488772   166.033433        0.433483       2.219905   \n",
       "min             1.000000    15.000000        2.534884       6.000000   \n",
       "25%             2.000000    31.000000        3.820617      10.000000   \n",
       "50%             3.000000    48.000000        4.077935      11.000000   \n",
       "75%             5.000000    91.250000        4.365320      13.000000   \n",
       "max            84.000000  1727.000000        6.200000      22.000000   \n",
       "\n",
       "       wordsWithNumbersPercentage  wordsWithPunctuationPercentage  \n",
       "count                  600.000000                      600.000000  \n",
       "mean                     0.027032                       14.037957  \n",
       "std                      0.212371                        6.334903  \n",
       "min                      0.000000                        2.738000  \n",
       "25%                      0.000000                        9.668250  \n",
       "50%                      0.000000                       12.540000  \n",
       "75%                      0.000000                       17.156500  \n",
       "max                      2.439000                       42.306000  "
      ]
     },
     "execution_count": 96,
     "metadata": {},
     "output_type": "execute_result"
    }
   ],
   "source": [
    "my_df.describe()"
   ]
  },
  {
   "cell_type": "markdown",
   "metadata": {},
   "source": [
    "Wordcount : mean 97 et std 166 oov\n",
    "\n",
    "wordsWithNumbersPercentage is dumb"
   ]
  },
  {
   "cell_type": "markdown",
   "metadata": {},
   "source": [
    "# Starting plots"
   ]
  },
  {
   "cell_type": "markdown",
   "metadata": {},
   "source": [
    "**Plot général pour voir d'éventuelles corrélations entre variables et/ou des tendances parmi les auteurs**"
   ]
  },
  {
   "cell_type": "code",
   "execution_count": 97,
   "metadata": {},
   "outputs": [
    {
     "data": {
      "application/vnd.plotly.v1+json": {
       "config": {
        "plotlyServerURL": "https://plot.ly"
       },
       "data": [
        {
         "diagonal": {
          "visible": false
         },
         "dimensions": [
          {
           "axis": {
            "matches": true
           },
           "label": "numberOfSentences",
           "values": [
            3,
            3,
            3,
            4,
            4,
            9,
            4,
            2,
            2,
            9,
            2,
            1,
            1,
            5,
            2,
            6,
            5,
            2,
            6,
            4,
            4,
            7,
            6,
            6,
            8,
            3,
            5,
            7,
            2,
            2,
            6,
            4,
            2,
            3,
            2,
            4,
            4,
            2,
            7,
            5,
            1,
            4,
            2,
            1,
            1,
            3,
            3,
            1,
            3,
            4,
            3,
            2,
            4,
            3,
            5,
            1,
            2,
            1,
            3,
            9,
            7,
            3,
            5,
            2,
            7,
            3,
            4,
            6,
            1,
            8,
            1,
            3,
            7,
            6,
            3,
            3,
            2,
            2,
            1,
            14,
            6,
            2,
            3,
            1,
            2,
            2,
            1,
            3,
            9,
            3,
            3,
            14,
            6,
            7,
            11,
            1,
            10,
            3,
            7,
            3,
            8,
            1,
            1,
            5,
            2,
            3,
            3,
            5,
            1,
            4,
            2,
            3,
            3,
            3,
            4,
            4,
            2,
            3,
            3,
            4,
            2,
            4,
            9,
            3,
            14,
            5,
            4,
            2,
            2,
            3,
            4,
            4,
            8,
            9,
            3,
            5,
            5,
            2,
            7,
            3,
            3,
            1,
            3,
            4,
            4,
            4,
            3,
            5,
            3,
            3,
            3,
            5,
            3,
            8,
            2,
            4,
            1,
            3,
            1,
            3,
            7,
            10,
            2,
            2,
            2,
            4,
            2,
            6,
            4,
            3,
            6,
            9,
            3,
            2,
            3,
            6,
            9,
            3,
            3,
            12,
            2,
            6,
            3,
            2,
            3,
            1,
            4,
            5,
            2,
            4,
            3,
            6,
            3,
            9,
            2,
            2,
            2,
            7,
            3,
            3
           ]
          },
          {
           "axis": {
            "matches": true
           },
           "label": "wordCount",
           "values": [
            48,
            49,
            88,
            43,
            25,
            247,
            29,
            31,
            30,
            200,
            62,
            20,
            34,
            58,
            24,
            127,
            105,
            23,
            166,
            112,
            114,
            244,
            96,
            162,
            201,
            62,
            113,
            61,
            29,
            33,
            169,
            28,
            28,
            28,
            22,
            91,
            88,
            34,
            176,
            90,
            35,
            69,
            43,
            36,
            27,
            51,
            27,
            29,
            23,
            96,
            23,
            22,
            82,
            65,
            106,
            25,
            36,
            41,
            52,
            210,
            178,
            53,
            108,
            31,
            183,
            31,
            72,
            59,
            28,
            163,
            22,
            46,
            172,
            129,
            87,
            88,
            24,
            33,
            25,
            280,
            61,
            24,
            53,
            25,
            60,
            73,
            55,
            74,
            176,
            31,
            43,
            299,
            107,
            88,
            302,
            40,
            229,
            113,
            180,
            32,
            235,
            49,
            15,
            65,
            56,
            35,
            25,
            135,
            41,
            43,
            35,
            43,
            48,
            41,
            107,
            34,
            40,
            56,
            67,
            50,
            42,
            42,
            289,
            28,
            237,
            85,
            69,
            29,
            28,
            22,
            28,
            21,
            117,
            212,
            22,
            42,
            34,
            68,
            166,
            25,
            68,
            27,
            35,
            181,
            59,
            90,
            33,
            159,
            114,
            69,
            106,
            27,
            37,
            188,
            53,
            79,
            22,
            47,
            24,
            78,
            209,
            239,
            36,
            28,
            29,
            88,
            41,
            79,
            35,
            78,
            152,
            176,
            46,
            24,
            37,
            157,
            275,
            53,
            43,
            300,
            50,
            152,
            61,
            29,
            23,
            54,
            39,
            89,
            60,
            27,
            22,
            61,
            71,
            288,
            58,
            44,
            28,
            130,
            24,
            63
           ]
          },
          {
           "axis": {
            "matches": true
           },
           "label": "meanWordLength",
           "values": [
            4.708333333333333,
            4.346938775510204,
            4.1477272727272725,
            3.9302325581395348,
            3.36,
            4.174089068825911,
            3.413793103448276,
            4.258064516129032,
            4.4,
            4.235,
            4.161290322580645,
            4.25,
            3.5588235294117645,
            3.5172413793103448,
            4.541666666666667,
            4.622047244094488,
            4.771428571428571,
            3.9565217391304346,
            4.180722891566265,
            4.133928571428571,
            4.192982456140351,
            4.610655737704918,
            4,
            4.135802469135802,
            4.348258706467662,
            4.725806451612903,
            4.592920353982301,
            3.819672131147541,
            3.8275862068965516,
            4.363636363636363,
            4.272189349112426,
            3.8214285714285716,
            3.4285714285714284,
            3.4285714285714284,
            4.181818181818182,
            4.2967032967032965,
            4.193181818181818,
            4.764705882352941,
            3.9375,
            3.933333333333333,
            4,
            4.434782608695652,
            4.232558139534884,
            3.75,
            3.740740740740741,
            4.470588235294118,
            3.814814814814815,
            4.310344827586207,
            3.782608695652174,
            4.729166666666667,
            3.782608695652174,
            3.8181818181818183,
            5.036585365853658,
            3.876923076923077,
            4.30188679245283,
            4,
            4.305555555555555,
            3.4634146341463414,
            4,
            4.423809523809524,
            3.730337078651685,
            4.415094339622642,
            4.203703703703703,
            4,
            4.027322404371585,
            3.3225806451612905,
            4.222222222222222,
            4.254237288135593,
            4.535714285714286,
            4.306748466257669,
            4.2272727272727275,
            3.8043478260869565,
            4.5813953488372094,
            4.775193798449612,
            4.275862068965517,
            4.556818181818182,
            3.9583333333333335,
            4.363636363636363,
            3.48,
            4.289285714285715,
            3.4918032786885247,
            3.5833333333333335,
            5.150943396226415,
            4.72,
            4.55,
            4.561643835616438,
            4.036363636363636,
            3.7837837837837838,
            4.176136363636363,
            4.387096774193548,
            4.627906976744186,
            4.488294314381271,
            4.074766355140187,
            4.25,
            4.135761589403973,
            4.15,
            4.454148471615721,
            4.035398230088496,
            4.583333333333333,
            4.125,
            4.459574468085107,
            4.020408163265306,
            6.2,
            3.876923076923077,
            4.714285714285714,
            5.2,
            3.52,
            4.466666666666667,
            4.097560975609756,
            3.9302325581395348,
            4.171428571428572,
            2.5348837209302326,
            4.354166666666667,
            4.024390243902439,
            3.94392523364486,
            3.6470588235294117,
            4.625,
            3.7857142857142856,
            4.2388059701492535,
            4.22,
            4.023809523809524,
            4.095238095238095,
            4.352941176470588,
            3.7857142857142856,
            4.151898734177215,
            4.047058823529412,
            4.6231884057971016,
            3.9655172413793105,
            3.5714285714285716,
            3.9545454545454546,
            4.035714285714286,
            4.761904761904762,
            3.8461538461538463,
            4.485849056603773,
            4.045454545454546,
            3.619047619047619,
            3.7058823529411766,
            4.25,
            4.180722891566265,
            3.76,
            3.823529411764706,
            3.925925925925926,
            3.6857142857142855,
            4.69060773480663,
            4.3559322033898304,
            4.177777777777778,
            3.6666666666666665,
            4.119496855345912,
            4.245614035087719,
            4.130434782608695,
            4.5754716981132075,
            3.6666666666666665,
            3.918918918918919,
            4.537234042553192,
            4.113207547169812,
            3.810126582278481,
            4.090909090909091,
            4,
            4.458333333333333,
            4.358974358974359,
            4.574162679425838,
            4.397489539748954,
            4.861111111111111,
            3.7857142857142856,
            4.068965517241379,
            4.511363636363637,
            4.804878048780488,
            3.632911392405063,
            3.6,
            4.128205128205129,
            4.7105263157894735,
            4.176136363636363,
            4.217391304347826,
            3.9166666666666665,
            4.1891891891891895,
            4.101910828025478,
            4.076363636363636,
            5.150943396226415,
            2.5348837209302326,
            4.723333333333334,
            4.32,
            4.3355263157894735,
            3.6557377049180326,
            4.068965517241379,
            4.6521739130434785,
            3.8333333333333335,
            3.8205128205128207,
            4.382022471910112,
            4.3,
            3.740740740740741,
            4.136363636363637,
            3.8524590163934427,
            4.042253521126761,
            4.489583333333333,
            4.5344827586206895,
            4.181818181818182,
            3.392857142857143,
            4.038461538461538,
            4.125,
            3.9523809523809526
           ]
          },
          {
           "axis": {
            "matches": true
           },
           "label": "maxWordLength",
           "values": [
            14,
            12,
            10,
            10,
            11,
            14,
            9,
            12,
            12,
            13,
            13,
            10,
            6,
            11,
            16,
            14,
            14,
            9,
            10,
            15,
            11,
            13,
            12,
            12,
            12,
            12,
            14,
            9,
            15,
            16,
            16,
            9,
            10,
            7,
            10,
            12,
            12,
            12,
            13,
            11,
            11,
            13,
            14,
            10,
            10,
            11,
            9,
            12,
            10,
            14,
            10,
            13,
            14,
            13,
            13,
            12,
            10,
            10,
            10,
            14,
            11,
            11,
            12,
            10,
            14,
            10,
            11,
            13,
            10,
            14,
            9,
            9,
            14,
            16,
            15,
            13,
            10,
            16,
            8,
            13,
            9,
            9,
            12,
            16,
            11,
            13,
            11,
            12,
            12,
            13,
            13,
            14,
            13,
            15,
            14,
            11,
            13,
            10,
            13,
            12,
            14,
            9,
            13,
            12,
            13,
            16,
            9,
            12,
            11,
            10,
            12,
            7,
            10,
            12,
            12,
            12,
            12,
            11,
            10,
            11,
            10,
            11,
            13,
            9,
            15,
            12,
            12,
            11,
            8,
            10,
            12,
            12,
            15,
            12,
            10,
            10,
            12,
            11,
            12,
            11,
            10,
            10,
            11,
            17,
            13,
            14,
            12,
            14,
            12,
            12,
            15,
            10,
            9,
            14,
            14,
            13,
            10,
            10,
            11,
            11,
            18,
            14,
            12,
            8,
            10,
            16,
            12,
            9,
            9,
            11,
            14,
            12,
            11,
            10,
            11,
            12,
            13,
            12,
            7,
            16,
            12,
            17,
            13,
            10,
            12,
            11,
            12,
            13,
            10,
            11,
            9,
            10,
            12,
            17,
            11,
            12,
            10,
            12,
            11,
            10
           ]
          },
          {
           "axis": {
            "matches": true
           },
           "label": "wordsWithPunctuationPercentage",
           "values": [
            16.664,
            8.16,
            13.631999999999998,
            9.3,
            28,
            8.08,
            24.136,
            22.575,
            9.999,
            8,
            4.836,
            10,
            2.941,
            29.308,
            24.996000000000002,
            11.805,
            12.376,
            13.041,
            10.836,
            11.596,
            11.401,
            13.088,
            10.41,
            8.021,
            13.916,
            11.284,
            11.492,
            19.668,
            17.24,
            15.149999999999999,
            13.001999999999999,
            24.997,
            21.426000000000002,
            21.426000000000002,
            22.725,
            8.784,
            10.223999999999998,
            11.764,
            13.063999999999998,
            14.443,
            17.142000000000003,
            11.592,
            11.625,
            5.554,
            7.406,
            13.719999999999999,
            18.515,
            3.448,
            21.735000000000003,
            13.533,
            21.735000000000003,
            22.725,
            9.752,
            12.304,
            11.315999999999999,
            8,
            16.662,
            9.756,
            13.461,
            11.424,
            8.976,
            9.43,
            9.25,
            22.575,
            8.736,
            25.8,
            12.491999999999999,
            15.245999999999999,
            10.713000000000001,
            8.582,
            9.09,
            13.038,
            13.943999999999999,
            12.4,
            4.596,
            6.815999999999999,
            24.996000000000002,
            15.149999999999999,
            12,
            13.565999999999999,
            19.668,
            24.996000000000002,
            16.974,
            12,
            16.66,
            10.952,
            9.09,
            8.106,
            11.927999999999999,
            22.575,
            16.275000000000002,
            12.024000000000001,
            8.406,
            13.631999999999998,
            10.592,
            10,
            12.208,
            8.84,
            8.88,
            9.375,
            10.625,
            4.08,
            13.332,
            15.38,
            7.14,
            14.285,
            28,
            9.62,
            12.195,
            9.3,
            11.428,
            18.6,
            16.664,
            12.195,
            11.208,
            17.646,
            7.5,
            19.634999999999998,
            10.443999999999999,
            14,
            11.899999999999999,
            16.66,
            9.687999999999999,
            24.997,
            11.788,
            15.287999999999998,
            13.041,
            20.688,
            10.713000000000001,
            31.814999999999998,
            24.997,
            19.044,
            19.642,
            10.362,
            13.635,
            26.18,
            29.409999999999997,
            14.7,
            10.234,
            24,
            16.169999999999998,
            7.406,
            28.57,
            13.8,
            18.634,
            13.332,
            15.149999999999999,
            9.42,
            12.278,
            14.49,
            7.544,
            40.733,
            13.51,
            8.496,
            13.202,
            7.59,
            4.545,
            8.508,
            12.498000000000001,
            12.82,
            13.384,
            12.54,
            11.108,
            17.855,
            20.688,
            12.495999999999999,
            19.512,
            12.649999999999999,
            22.856,
            11.538,
            11.826,
            11.927999999999999,
            15.211,
            20.830000000000002,
            8.106,
            11.448,
            7.26,
            16.974,
            18.6,
            13.653,
            14,
            11.169,
            13.112,
            20.688,
            34.776,
            5.553,
            17.948,
            10.107,
            4.997999999999999,
            29.624,
            31.814999999999998,
            18.029,
            12.671999999999999,
            8.328,
            13.792,
            13.631999999999998,
            21.426000000000002,
            9.228,
            16.664,
            6.348
           ]
          }
         ],
         "hoverlabel": {
          "namelength": 0
         },
         "hovertemplate": "author=Zola<br>%{xaxis.title.text}=%{x}<br>%{yaxis.title.text}=%{y}",
         "legendgroup": "author=Zola",
         "marker": {
          "color": "#636efa",
          "symbol": "circle"
         },
         "name": "author=Zola",
         "showlegend": true,
         "type": "splom"
        },
        {
         "diagonal": {
          "visible": false
         },
         "dimensions": [
          {
           "axis": {
            "matches": true
           },
           "label": "numberOfSentences",
           "values": [
            4,
            3,
            7,
            6,
            4,
            1,
            3,
            2,
            9,
            6,
            13,
            3,
            3,
            2,
            2,
            3,
            1,
            2,
            4,
            1,
            2,
            3,
            2,
            1,
            3,
            2,
            1,
            3,
            2,
            2,
            2,
            2,
            1,
            2,
            1,
            1,
            1,
            1,
            3,
            4,
            4,
            1,
            2,
            5,
            2,
            3,
            2,
            3,
            12,
            1,
            2,
            3,
            3,
            1,
            2,
            2,
            2,
            7,
            1,
            3,
            1,
            1,
            2,
            5,
            9,
            10,
            4,
            2,
            5,
            4,
            1,
            10,
            1,
            1,
            3,
            2,
            4,
            1,
            2,
            2,
            7,
            1,
            1,
            1,
            2,
            1,
            2,
            2,
            3,
            5,
            1,
            5,
            2,
            3,
            5,
            1,
            2,
            1,
            5,
            1,
            2,
            7,
            5,
            1,
            7,
            1,
            5,
            2,
            2,
            1,
            3,
            2,
            1,
            2,
            5,
            1,
            14,
            5,
            4,
            9,
            3,
            1,
            3,
            1,
            2,
            27,
            2,
            2,
            8,
            1,
            1,
            6,
            1,
            5,
            1,
            3,
            1,
            5,
            1,
            8,
            1,
            1,
            1,
            4,
            5,
            6,
            3,
            3,
            5,
            1,
            3,
            2,
            3,
            3,
            3,
            2,
            2,
            5,
            2,
            1,
            4,
            1,
            1,
            14,
            3,
            4,
            7,
            3,
            1,
            1,
            27,
            1,
            5,
            3,
            2,
            1,
            1,
            2,
            5,
            3,
            1,
            5,
            2,
            1,
            4,
            1,
            1,
            5,
            2,
            2,
            2,
            1,
            5,
            1,
            3,
            1,
            2,
            1,
            9,
            2
           ]
          },
          {
           "axis": {
            "matches": true
           },
           "label": "wordCount",
           "values": [
            85,
            43,
            80,
            83,
            136,
            29,
            41,
            47,
            185,
            39,
            91,
            32,
            43,
            71,
            59,
            82,
            47,
            56,
            121,
            28,
            48,
            41,
            46,
            47,
            42,
            36,
            26,
            46,
            22,
            34,
            72,
            30,
            24,
            43,
            27,
            33,
            25,
            23,
            40,
            83,
            37,
            49,
            26,
            114,
            56,
            35,
            62,
            41,
            174,
            35,
            65,
            35,
            75,
            26,
            60,
            38,
            38,
            86,
            30,
            35,
            48,
            46,
            63,
            90,
            47,
            127,
            53,
            65,
            89,
            84,
            27,
            101,
            32,
            37,
            43,
            24,
            50,
            30,
            51,
            24,
            80,
            31,
            48,
            33,
            78,
            28,
            27,
            73,
            49,
            56,
            22,
            48,
            30,
            201,
            102,
            21,
            43,
            38,
            52,
            46,
            48,
            32,
            122,
            33,
            76,
            32,
            73,
            56,
            73,
            35,
            32,
            25,
            29,
            53,
            30,
            21,
            221,
            206,
            26,
            71,
            82,
            67,
            29,
            19,
            49,
            237,
            64,
            35,
            88,
            21,
            48,
            214,
            71,
            100,
            67,
            49,
            73,
            24,
            38,
            97,
            24,
            55,
            41,
            197,
            49,
            135,
            35,
            29,
            30,
            31,
            68,
            36,
            72,
            67,
            40,
            52,
            85,
            69,
            38,
            33,
            96,
            19,
            32,
            221,
            92,
            50,
            86,
            32,
            55,
            37,
            134,
            27,
            30,
            40,
            28,
            31,
            26,
            20,
            154,
            35,
            30,
            77,
            40,
            31,
            97,
            23,
            54,
            112,
            28,
            53,
            64,
            47,
            57,
            24,
            82,
            33,
            85,
            22,
            122,
            44
           ]
          },
          {
           "axis": {
            "matches": true
           },
           "label": "meanWordLength",
           "values": [
            4.176470588235294,
            3.6511627906976742,
            4.1,
            3.9156626506024095,
            4.0661764705882355,
            4.137931034482759,
            3.902439024390244,
            4.1063829787234045,
            3.918918918918919,
            3.1025641025641026,
            3.5824175824175826,
            3.90625,
            4.093023255813954,
            3.3098591549295775,
            4.627118644067797,
            3.4634146341463414,
            3.9574468085106385,
            3.9642857142857144,
            4.008264462809917,
            3.8214285714285716,
            3.6041666666666665,
            3.731707317073171,
            3.847826086956522,
            4.48936170212766,
            3.119047619047619,
            4.361111111111111,
            5.153846153846154,
            3.8043478260869565,
            4.2727272727272725,
            3.5588235294117645,
            3.9166666666666665,
            3.533333333333333,
            3.9583333333333335,
            4.534883720930233,
            4.074074074074074,
            3.272727272727273,
            4.56,
            4.260869565217392,
            3.45,
            3.855421686746988,
            3.891891891891892,
            3.979591836734694,
            4.076923076923077,
            4.157894736842105,
            3.9642857142857144,
            3.342857142857143,
            4.193548387096774,
            3.902439024390244,
            3.660919540229885,
            4.771428571428571,
            4.2,
            4.714285714285714,
            4.573333333333333,
            3.3846153846153846,
            4.2,
            3.6842105263157894,
            4.526315789473684,
            3.4186046511627906,
            3.8,
            3.942857142857143,
            4.395833333333333,
            3.6739130434782608,
            4.015873015873016,
            4.266666666666667,
            3.6808510638297873,
            3.7401574803149606,
            3.641509433962264,
            4.2,
            4.191011235955056,
            4.166666666666667,
            3.2222222222222223,
            4.316831683168317,
            3.96875,
            3.918918918918919,
            3.7674418604651163,
            3.7083333333333335,
            4,
            4.2,
            3.4901960784313726,
            3.75,
            4.1,
            3.774193548387097,
            4,
            3.9696969696969697,
            4.576923076923077,
            4.571428571428571,
            4.037037037037037,
            4.041095890410959,
            3.9591836734693877,
            2.8035714285714284,
            4.636363636363637,
            4.125,
            3.3,
            4.199004975124378,
            3.9019607843137254,
            5,
            4.558139534883721,
            3.6578947368421053,
            4.019230769230769,
            3.9565217391304346,
            3.6041666666666665,
            3.40625,
            4.081967213114754,
            4.909090909090909,
            4.381578947368421,
            3.78125,
            3.712328767123288,
            3.7142857142857144,
            4.027397260273973,
            3.914285714285714,
            3.375,
            3.84,
            3.7586206896551726,
            4.188679245283019,
            3.2333333333333334,
            5,
            3.8009049773755654,
            4.359223300970874,
            3.730769230769231,
            4.084507042253521,
            4.7317073170731705,
            4.029850746268656,
            3.6206896551724137,
            5.052631578947368,
            4.061224489795919,
            4.421940928270042,
            3.953125,
            3.6857142857142855,
            3.977272727272727,
            4.523809523809524,
            4,
            3.94392523364486,
            3.380281690140845,
            4.11,
            4.029850746268656,
            4.73469387755102,
            3.7260273972602738,
            3.625,
            3.6578947368421053,
            3.9381443298969074,
            4.5,
            4.127272727272727,
            4.390243902439025,
            4.451776649746193,
            3.7142857142857144,
            4.474074074074074,
            3.342857142857143,
            3.6206896551724137,
            3.2333333333333334,
            4.548387096774194,
            3.3823529411764706,
            4.111111111111111,
            4.041666666666667,
            3.9402985074626864,
            3.975,
            4.1923076923076925,
            3.764705882352941,
            3.927536231884058,
            4.894736842105263,
            3.272727272727273,
            3.7083333333333335,
            5.052631578947368,
            3.84375,
            3.8009049773755654,
            4.184782608695652,
            4,
            3.4186046511627906,
            3.90625,
            3.6545454545454548,
            4.027027027027027,
            3.582089552238806,
            3.925925925925926,
            3.2333333333333334,
            3.45,
            3.25,
            4.741935483870968,
            3.269230769230769,
            4.3,
            4.116883116883117,
            4.685714285714286,
            4.266666666666667,
            4.142857142857143,
            3.9,
            3.774193548387097,
            3.577319587628866,
            5.3478260869565215,
            4.351851851851852,
            3.6160714285714284,
            3.25,
            4.830188679245283,
            3.953125,
            3.9574468085106385,
            4.43859649122807,
            3.9166666666666665,
            4.2560975609756095,
            4.909090909090909,
            3.8705882352941177,
            5,
            3.778688524590164,
            3.4545454545454546
           ]
          },
          {
           "axis": {
            "matches": true
           },
           "label": "maxWordLength",
           "values": [
            12,
            10,
            12,
            14,
            13,
            11,
            10,
            10,
            12,
            10,
            10,
            9,
            11,
            10,
            12,
            10,
            11,
            13,
            12,
            8,
            19,
            9,
            12,
            9,
            10,
            9,
            12,
            10,
            11,
            8,
            10,
            10,
            11,
            12,
            12,
            9,
            11,
            11,
            11,
            10,
            12,
            11,
            9,
            11,
            13,
            8,
            11,
            10,
            11,
            13,
            12,
            11,
            13,
            14,
            10,
            14,
            10,
            9,
            9,
            10,
            10,
            13,
            11,
            16,
            8,
            11,
            12,
            12,
            16,
            12,
            8,
            13,
            11,
            11,
            9,
            10,
            12,
            10,
            10,
            9,
            12,
            9,
            11,
            9,
            11,
            10,
            8,
            12,
            13,
            7,
            8,
            12,
            9,
            15,
            12,
            10,
            11,
            9,
            11,
            11,
            19,
            7,
            10,
            11,
            14,
            9,
            10,
            12,
            11,
            11,
            10,
            9,
            10,
            11,
            8,
            10,
            14,
            15,
            11,
            12,
            17,
            11,
            10,
            10,
            12,
            15,
            9,
            10,
            11,
            10,
            11,
            12,
            11,
            12,
            11,
            11,
            12,
            12,
            9,
            12,
            10,
            12,
            13,
            12,
            12,
            13,
            8,
            10,
            8,
            12,
            10,
            11,
            16,
            10,
            10,
            12,
            12,
            11,
            12,
            9,
            11,
            10,
            10,
            14,
            11,
            12,
            9,
            9,
            11,
            11,
            11,
            11,
            8,
            11,
            11,
            12,
            8,
            9,
            11,
            12,
            10,
            13,
            13,
            9,
            12,
            12,
            10,
            10,
            11,
            11,
            9,
            11,
            10,
            9,
            10,
            11,
            10,
            10,
            13,
            10
           ]
          },
          {
           "axis": {
            "matches": true
           },
           "label": "wordsWithPunctuationPercentage",
           "values": [
            15.287999999999998,
            11.625,
            16.25,
            14.448,
            9.555,
            6.896,
            21.951,
            6.380999999999999,
            12.96,
            23.076,
            25.254,
            25,
            18.6,
            19.712,
            8.469999999999999,
            10.971,
            4.254,
            8.924999999999999,
            10.738,
            7.142,
            16.664,
            12.195,
            19.557000000000002,
            10.634999999999998,
            19.04,
            11.108,
            19.23,
            23.903,
            22.725,
            11.764,
            8.328,
            9.999,
            4.166,
            9.3,
            11.109,
            9.09,
            8,
            8.694,
            15,
            8.427999999999999,
            27.02,
            8.16,
            15.384,
            9.647,
            8.924999999999999,
            11.428,
            12.896,
            21.951,
            17.22,
            5.714,
            9.228,
            17.142000000000003,
            3.9989999999999997,
            11.538,
            8.33,
            7.892999999999999,
            10.524,
            16.268,
            6.666,
            25.713,
            10.415000000000001,
            6.519,
            15.87,
            13.332,
            25.523999999999997,
            15.74,
            24.517999999999997,
            9.228,
            16.845,
            14.28,
            11.109,
            19.8,
            9.375,
            5.404,
            18.6,
            12.498000000000001,
            14,
            3.333,
            11.76,
            12.498000000000001,
            16.25,
            6.45,
            4.166,
            12.12,
            16.666,
            21.426000000000002,
            22.218,
            10.952,
            8.16,
            14.28,
            4.545,
            18.747,
            6.666,
            6.461,
            10.78,
            9.522,
            13.950000000000001,
            13.155,
            17.307000000000002,
            10.865,
            16.664,
            28.125,
            10.646999999999998,
            24.24,
            21.04,
            12.5,
            12.321,
            7.14,
            13.69,
            11.428,
            21.875,
            16,
            3.448,
            11.315999999999999,
            19.998,
            9.522,
            14.464,
            8.245,
            42.306,
            25.343999999999998,
            12.190000000000001,
            7.46,
            17.24,
            10.526,
            6.12,
            19.787,
            10.934000000000001,
            11.428,
            18.176,
            9.522,
            4.166,
            7.939,
            16.896,
            11,
            7.46,
            12.24,
            2.738,
            41.660000000000004,
            13.155,
            17.51,
            16.664,
            3.636,
            9.756,
            10.647,
            22.44,
            11.1,
            11.428,
            17.24,
            19.998,
            9.675,
            19.11,
            22.216,
            15.267999999999999,
            14.92,
            20,
            11.538,
            9.408,
            26.082,
            13.155,
            9.09,
            10.41,
            10.526,
            9.375,
            14.464,
            6.516,
            14,
            16.268,
            25,
            14.544,
            16.212,
            27.602,
            14.812,
            19.998,
            15,
            21.426000000000002,
            16.125,
            7.692,
            25,
            9.086,
            17.142000000000003,
            13.332,
            19.47,
            7.5,
            6.45,
            10.3,
            4.347,
            5.553,
            12.488,
            21.426000000000002,
            7.544,
            10.934000000000001,
            4.254,
            21.048000000000002,
            4.166,
            14.628,
            24.24,
            7.055999999999999,
            9.09,
            15.561,
            11.36
           ]
          }
         ],
         "hoverlabel": {
          "namelength": 0
         },
         "hovertemplate": "author=Maupassant<br>%{xaxis.title.text}=%{x}<br>%{yaxis.title.text}=%{y}",
         "legendgroup": "author=Maupassant",
         "marker": {
          "color": "#EF553B",
          "symbol": "circle"
         },
         "name": "author=Maupassant",
         "showlegend": true,
         "type": "splom"
        },
        {
         "diagonal": {
          "visible": false
         },
         "dimensions": [
          {
           "axis": {
            "matches": true
           },
           "label": "numberOfSentences",
           "values": [
            12,
            2,
            6,
            3,
            3,
            8,
            1,
            1,
            2,
            5,
            3,
            1,
            5,
            2,
            35,
            2,
            10,
            1,
            9,
            1,
            1,
            6,
            8,
            2,
            7,
            4,
            2,
            1,
            8,
            2,
            1,
            1,
            2,
            6,
            4,
            4,
            1,
            1,
            6,
            5,
            1,
            7,
            1,
            2,
            1,
            7,
            3,
            5,
            32,
            5,
            7,
            15,
            58,
            6,
            1,
            2,
            2,
            9,
            13,
            2,
            1,
            2,
            4,
            1,
            2,
            37,
            7,
            1,
            4,
            1,
            45,
            5,
            34,
            8,
            2,
            2,
            3,
            4,
            3,
            9,
            1,
            3,
            9,
            13,
            1,
            2,
            4,
            2,
            3,
            5,
            15,
            6,
            2,
            17,
            1,
            6,
            3,
            2,
            6,
            3,
            5,
            2,
            6,
            2,
            5,
            1,
            7,
            1,
            2,
            1,
            11,
            13,
            1,
            1,
            5,
            6,
            5,
            18,
            1,
            1,
            6,
            14,
            1,
            3,
            1,
            33,
            12,
            1,
            5,
            2,
            2,
            1,
            18,
            2,
            2,
            84,
            30,
            13,
            3,
            1,
            4,
            1,
            1,
            3,
            2,
            1,
            2,
            1,
            2,
            3,
            2,
            8,
            7,
            21,
            13,
            2,
            10,
            1,
            2,
            2,
            2,
            4,
            1,
            1,
            2,
            1,
            13,
            1,
            11,
            1,
            3,
            2,
            4,
            42,
            2,
            16,
            2,
            4,
            3,
            3,
            2,
            4,
            27,
            2,
            15,
            3,
            3,
            17,
            1,
            8,
            6,
            6,
            1,
            2,
            3,
            2,
            3,
            1,
            4,
            10
           ]
          },
          {
           "axis": {
            "matches": true
           },
           "label": "wordCount",
           "values": [
            110,
            34,
            93,
            50,
            40,
            114,
            36,
            34,
            26,
            85,
            32,
            42,
            189,
            57,
            718,
            26,
            179,
            22,
            119,
            26,
            38,
            97,
            256,
            23,
            103,
            31,
            88,
            20,
            178,
            34,
            22,
            25,
            26,
            51,
            62,
            42,
            26,
            39,
            99,
            116,
            27,
            238,
            24,
            39,
            35,
            301,
            47,
            25,
            980,
            25,
            226,
            168,
            961,
            101,
            29,
            30,
            46,
            203,
            283,
            21,
            27,
            37,
            190,
            25,
            94,
            1377,
            76,
            32,
            82,
            22,
            1187,
            42,
            1296,
            116,
            34,
            38,
            30,
            84,
            27,
            252,
            23,
            49,
            120,
            403,
            74,
            45,
            85,
            27,
            53,
            177,
            504,
            200,
            24,
            195,
            23,
            91,
            24,
            27,
            210,
            50,
            40,
            63,
            47,
            28,
            139,
            42,
            106,
            20,
            36,
            26,
            275,
            409,
            30,
            40,
            153,
            206,
            169,
            541,
            39,
            24,
            74,
            549,
            31,
            39,
            22,
            631,
            224,
            72,
            61,
            27,
            38,
            29,
            527,
            19,
            39,
            1727,
            1317,
            193,
            32,
            38,
            142,
            28,
            21,
            32,
            92,
            34,
            32,
            40,
            40,
            81,
            25,
            155,
            218,
            717,
            368,
            25,
            126,
            28,
            36,
            39,
            63,
            173,
            27,
            39,
            40,
            39,
            341,
            22,
            230,
            56,
            107,
            38,
            58,
            1351,
            55,
            172,
            41,
            72,
            44,
            63,
            24,
            33,
            487,
            22,
            485,
            48,
            32,
            389,
            35,
            138,
            66,
            79,
            16,
            19,
            59,
            26,
            63,
            21,
            137,
            133
           ]
          },
          {
           "axis": {
            "matches": true
           },
           "label": "meanWordLength",
           "values": [
            4.009090909090909,
            3.6470588235294117,
            3.6881720430107525,
            4.46,
            4.1,
            3.780701754385965,
            4.055555555555555,
            4.088235294117647,
            3.3846153846153846,
            3.8,
            3.75,
            4.714285714285714,
            4.8994708994708995,
            4.298245614035087,
            4.438718662952646,
            3.6153846153846154,
            4.346368715083799,
            4.136363636363637,
            4.142857142857143,
            4.269230769230769,
            4.078947368421052,
            4.041237113402062,
            4.5,
            4.086956521739131,
            3.563106796116505,
            3.870967741935484,
            4.431818181818182,
            4.65,
            4.308988764044944,
            4.882352941176471,
            4.045454545454546,
            3.76,
            3.8076923076923075,
            3.7254901960784315,
            3.8225806451612905,
            3.5,
            4.153846153846154,
            3.9743589743589745,
            4.0606060606060606,
            3.8879310344827585,
            4.481481481481482,
            4.802521008403361,
            4.791666666666667,
            4.128205128205129,
            4.085714285714285,
            3.9003322259136213,
            4.1063829787234045,
            3.4,
            4.003061224489796,
            3.4,
            4.265486725663717,
            3.3452380952380953,
            4.074921956295525,
            3.8118811881188117,
            4.620689655172414,
            3.933333333333333,
            4.869565217391305,
            3.748768472906404,
            4.512367491166078,
            4.190476190476191,
            4.407407407407407,
            4.1891891891891895,
            4.678947368421053,
            4.04,
            4.542553191489362,
            4.3994190268700075,
            3.8421052631578947,
            4.21875,
            4.414634146341464,
            3.8636363636363638,
            4.500421229991575,
            3.9523809523809526,
            4.417438271604938,
            3.6551724137931036,
            4.882352941176471,
            4.131578947368421,
            4.266666666666667,
            4.583333333333333,
            3.1481481481481484,
            4.134920634920635,
            4,
            4.326530612244898,
            3.1166666666666667,
            4.516129032258065,
            4.648648648648648,
            3.8666666666666667,
            4.588235294117647,
            4.2592592592592595,
            3.849056603773585,
            4.107344632768362,
            4.109126984126984,
            4.255,
            4.166666666666667,
            3.682051282051282,
            3.8260869565217392,
            3.4285714285714284,
            3.9166666666666665,
            3.5925925925925926,
            4.4,
            4.46,
            3.375,
            4.26984126984127,
            3.574468085106383,
            4.642857142857143,
            4.258992805755396,
            3.880952380952381,
            3.8679245283018866,
            4.7,
            5.027777777777778,
            4,
            4.556363636363637,
            4.515892420537897,
            4.233333333333333,
            5.275,
            4.071895424836601,
            4.635922330097087,
            3.8757396449704142,
            4.539741219963031,
            3.6666666666666665,
            4.541666666666667,
            4.081081081081081,
            4.240437158469946,
            3.5806451612903225,
            3.6666666666666665,
            3.8636363636363638,
            3.98256735340729,
            3.861607142857143,
            4.416666666666667,
            3.6721311475409837,
            3.925925925925926,
            3.6052631578947367,
            3.9310344827586206,
            4.373814041745731,
            4.578947368421052,
            4.0256410256410255,
            3.81644470179502,
            4.577069096431283,
            4.082901554404145,
            4,
            4.684210526315789,
            4.429577464788732,
            4.321428571428571,
            4.142857142857143,
            4.25,
            3.782608695652174,
            4.352941176470588,
            4.34375,
            4.3,
            3.85,
            4.1234567901234565,
            3.48,
            4.787096774193548,
            4.463302752293578,
            4.298465829846583,
            3.8206521739130435,
            4,
            3.9444444444444446,
            4.642857142857143,
            4.111111111111111,
            4.384615384615385,
            4.26984126984127,
            4.473988439306359,
            4.37037037037037,
            4.051282051282051,
            3.85,
            4.230769230769231,
            4.492668621700879,
            3.909090909090909,
            3.9260869565217393,
            4.232142857142857,
            4.158878504672897,
            4.394736842105263,
            4.051724137931035,
            4.516654330125832,
            4.7272727272727275,
            3.703488372093023,
            3.5121951219512195,
            4.097222222222222,
            3.772727272727273,
            3.9523809523809526,
            3.8333333333333335,
            4.303030303030303,
            3.9055441478439423,
            4.318181818181818,
            4.439175257731959,
            4.104166666666667,
            4,
            4.4113110539845755,
            4.9714285714285715,
            3.920289855072464,
            3.8181818181818183,
            3.962025316455696,
            5.5625,
            5.2105263157894735,
            4.813559322033898,
            4.3076923076923075,
            4.063492063492063,
            4.0476190476190474,
            4.773722627737226,
            3.5037593984962405
           ]
          },
          {
           "axis": {
            "matches": true
           },
           "label": "maxWordLength",
           "values": [
            10,
            9,
            13,
            11,
            10,
            10,
            13,
            12,
            9,
            13,
            9,
            13,
            15,
            15,
            18,
            8,
            13,
            12,
            13,
            12,
            9,
            12,
            15,
            11,
            14,
            13,
            13,
            11,
            12,
            14,
            12,
            10,
            8,
            15,
            14,
            9,
            9,
            11,
            14,
            11,
            13,
            14,
            10,
            11,
            10,
            13,
            9,
            10,
            15,
            10,
            14,
            11,
            17,
            11,
            12,
            9,
            13,
            10,
            15,
            10,
            11,
            8,
            14,
            9,
            13,
            16,
            14,
            11,
            13,
            12,
            15,
            16,
            17,
            12,
            14,
            13,
            11,
            12,
            10,
            12,
            9,
            9,
            9,
            14,
            13,
            8,
            12,
            10,
            10,
            13,
            13,
            16,
            10,
            14,
            10,
            10,
            12,
            8,
            14,
            11,
            10,
            16,
            9,
            11,
            18,
            10,
            11,
            10,
            11,
            10,
            15,
            22,
            13,
            13,
            16,
            16,
            13,
            15,
            10,
            10,
            16,
            15,
            10,
            8,
            10,
            16,
            12,
            14,
            13,
            9,
            12,
            10,
            14,
            12,
            10,
            15,
            16,
            15,
            9,
            12,
            13,
            13,
            8,
            10,
            11,
            10,
            13,
            10,
            10,
            13,
            11,
            15,
            12,
            14,
            13,
            11,
            12,
            11,
            10,
            12,
            16,
            15,
            11,
            13,
            10,
            11,
            14,
            10,
            12,
            14,
            14,
            15,
            10,
            16,
            13,
            12,
            9,
            11,
            11,
            12,
            10,
            13,
            19,
            12,
            14,
            10,
            9,
            19,
            11,
            12,
            13,
            10,
            10,
            10,
            13,
            12,
            12,
            12,
            15,
            11
           ]
          },
          {
           "axis": {
            "matches": true
           },
           "label": "wordsWithPunctuationPercentage",
           "values": [
            17.271,
            20.587,
            17.2,
            16,
            12.5,
            12.278,
            11.108,
            14.704999999999998,
            15.384,
            14.111999999999998,
            15.625,
            4.76,
            12.167,
            26.31,
            12.788,
            15.384,
            10.602,
            13.635,
            19.32,
            15.384,
            5.262,
            12.36,
            9.36,
            21.735000000000003,
            9.7,
            29.025000000000002,
            7.951999999999999,
            10,
            10.098,
            11.764,
            9.09,
            12,
            19.23,
            23.52,
            8.06,
            19.04,
            11.538,
            10.256,
            11.11,
            10.344,
            11.109,
            12.6,
            4.166,
            12.82,
            11.428,
            11.620000000000001,
            10.634999999999998,
            28,
            8.772,
            28,
            8.398,
            13.684999999999999,
            14.872,
            17.82,
            6.896,
            13.332,
            15.211,
            12.792,
            9.530999999999999,
            14.283000000000001,
            7.406,
            8.106,
            6.838,
            20,
            6.378,
            9.648,
            17.095,
            6.25,
            8.533000000000001,
            22.725,
            9.24,
            26.18,
            8.778,
            14.654,
            11.764,
            10.524,
            23.331000000000003,
            11.899999999999999,
            25.921,
            10.692,
            17.388,
            22.44,
            24.99,
            7.4399999999999995,
            20.265,
            4.444,
            12.936,
            22.218,
            11.315999999999999,
            10.716,
            9.306000000000001,
            13,
            24.996000000000002,
            17.408,
            8.694,
            10.98,
            20.830000000000002,
            14.812,
            10.472,
            16,
            20,
            19.044,
            17.016,
            17.855,
            12.222999999999999,
            9.52,
            15.088,
            15,
            16.662,
            15.384,
            11.979,
            7.076,
            9.999,
            15,
            9.795,
            9.7,
            7.092,
            9.936,
            10.256,
            16.664,
            14.861,
            8.554,
            9.675,
            17.948,
            22.725,
            14.852,
            12.934000000000001,
            4.164,
            18.029,
            11.109,
            10.524,
            6.896,
            12.663,
            42.104,
            15.384,
            12.540000000000001,
            8.1,
            14.504000000000001,
            21.875,
            5.262,
            7.744,
            24.997,
            9.522,
            15.625,
            15.204,
            8.823,
            31.25,
            10,
            10,
            8.638,
            24,
            13.545,
            11.908000000000001,
            11.537,
            10.569,
            24,
            14.274000000000001,
            14.284,
            16.662,
            12.82,
            19.044,
            7.513999999999999,
            37.03,
            15.384,
            10,
            10.256,
            11.719999999999999,
            13.635,
            14.322,
            10.709999999999999,
            7.472,
            21.048,
            12.068,
            9.472,
            5.454000000000001,
            18.011,
            17.073,
            8.328,
            20.447999999999997,
            11.109,
            12.498000000000001,
            27.27,
            15.374999999999998,
            18.18,
            10.918,
            16.664,
            21.875,
            10.537,
            14.285,
            10.136,
            24.24,
            13.915,
            12.5,
            26.314999999999998,
            15.245999999999999,
            19.23,
            7.935,
            9.522,
            13.122,
            14.269
           ]
          }
         ],
         "hoverlabel": {
          "namelength": 0
         },
         "hovertemplate": "author=Balzac<br>%{xaxis.title.text}=%{x}<br>%{yaxis.title.text}=%{y}",
         "legendgroup": "author=Balzac",
         "marker": {
          "color": "#00cc96",
          "symbol": "circle"
         },
         "name": "author=Balzac",
         "showlegend": true,
         "type": "splom"
        }
       ],
       "layout": {
        "dragmode": "select",
        "legend": {
         "tracegroupgap": 0
        },
        "margin": {
         "t": 60
        },
        "template": {
         "data": {
          "bar": [
           {
            "error_x": {
             "color": "#2a3f5f"
            },
            "error_y": {
             "color": "#2a3f5f"
            },
            "marker": {
             "line": {
              "color": "#E5ECF6",
              "width": 0.5
             }
            },
            "type": "bar"
           }
          ],
          "barpolar": [
           {
            "marker": {
             "line": {
              "color": "#E5ECF6",
              "width": 0.5
             }
            },
            "type": "barpolar"
           }
          ],
          "carpet": [
           {
            "aaxis": {
             "endlinecolor": "#2a3f5f",
             "gridcolor": "white",
             "linecolor": "white",
             "minorgridcolor": "white",
             "startlinecolor": "#2a3f5f"
            },
            "baxis": {
             "endlinecolor": "#2a3f5f",
             "gridcolor": "white",
             "linecolor": "white",
             "minorgridcolor": "white",
             "startlinecolor": "#2a3f5f"
            },
            "type": "carpet"
           }
          ],
          "choropleth": [
           {
            "colorbar": {
             "outlinewidth": 0,
             "ticks": ""
            },
            "type": "choropleth"
           }
          ],
          "contour": [
           {
            "colorbar": {
             "outlinewidth": 0,
             "ticks": ""
            },
            "colorscale": [
             [
              0,
              "#0d0887"
             ],
             [
              0.1111111111111111,
              "#46039f"
             ],
             [
              0.2222222222222222,
              "#7201a8"
             ],
             [
              0.3333333333333333,
              "#9c179e"
             ],
             [
              0.4444444444444444,
              "#bd3786"
             ],
             [
              0.5555555555555556,
              "#d8576b"
             ],
             [
              0.6666666666666666,
              "#ed7953"
             ],
             [
              0.7777777777777778,
              "#fb9f3a"
             ],
             [
              0.8888888888888888,
              "#fdca26"
             ],
             [
              1,
              "#f0f921"
             ]
            ],
            "type": "contour"
           }
          ],
          "contourcarpet": [
           {
            "colorbar": {
             "outlinewidth": 0,
             "ticks": ""
            },
            "type": "contourcarpet"
           }
          ],
          "heatmap": [
           {
            "colorbar": {
             "outlinewidth": 0,
             "ticks": ""
            },
            "colorscale": [
             [
              0,
              "#0d0887"
             ],
             [
              0.1111111111111111,
              "#46039f"
             ],
             [
              0.2222222222222222,
              "#7201a8"
             ],
             [
              0.3333333333333333,
              "#9c179e"
             ],
             [
              0.4444444444444444,
              "#bd3786"
             ],
             [
              0.5555555555555556,
              "#d8576b"
             ],
             [
              0.6666666666666666,
              "#ed7953"
             ],
             [
              0.7777777777777778,
              "#fb9f3a"
             ],
             [
              0.8888888888888888,
              "#fdca26"
             ],
             [
              1,
              "#f0f921"
             ]
            ],
            "type": "heatmap"
           }
          ],
          "heatmapgl": [
           {
            "colorbar": {
             "outlinewidth": 0,
             "ticks": ""
            },
            "colorscale": [
             [
              0,
              "#0d0887"
             ],
             [
              0.1111111111111111,
              "#46039f"
             ],
             [
              0.2222222222222222,
              "#7201a8"
             ],
             [
              0.3333333333333333,
              "#9c179e"
             ],
             [
              0.4444444444444444,
              "#bd3786"
             ],
             [
              0.5555555555555556,
              "#d8576b"
             ],
             [
              0.6666666666666666,
              "#ed7953"
             ],
             [
              0.7777777777777778,
              "#fb9f3a"
             ],
             [
              0.8888888888888888,
              "#fdca26"
             ],
             [
              1,
              "#f0f921"
             ]
            ],
            "type": "heatmapgl"
           }
          ],
          "histogram": [
           {
            "marker": {
             "colorbar": {
              "outlinewidth": 0,
              "ticks": ""
             }
            },
            "type": "histogram"
           }
          ],
          "histogram2d": [
           {
            "colorbar": {
             "outlinewidth": 0,
             "ticks": ""
            },
            "colorscale": [
             [
              0,
              "#0d0887"
             ],
             [
              0.1111111111111111,
              "#46039f"
             ],
             [
              0.2222222222222222,
              "#7201a8"
             ],
             [
              0.3333333333333333,
              "#9c179e"
             ],
             [
              0.4444444444444444,
              "#bd3786"
             ],
             [
              0.5555555555555556,
              "#d8576b"
             ],
             [
              0.6666666666666666,
              "#ed7953"
             ],
             [
              0.7777777777777778,
              "#fb9f3a"
             ],
             [
              0.8888888888888888,
              "#fdca26"
             ],
             [
              1,
              "#f0f921"
             ]
            ],
            "type": "histogram2d"
           }
          ],
          "histogram2dcontour": [
           {
            "colorbar": {
             "outlinewidth": 0,
             "ticks": ""
            },
            "colorscale": [
             [
              0,
              "#0d0887"
             ],
             [
              0.1111111111111111,
              "#46039f"
             ],
             [
              0.2222222222222222,
              "#7201a8"
             ],
             [
              0.3333333333333333,
              "#9c179e"
             ],
             [
              0.4444444444444444,
              "#bd3786"
             ],
             [
              0.5555555555555556,
              "#d8576b"
             ],
             [
              0.6666666666666666,
              "#ed7953"
             ],
             [
              0.7777777777777778,
              "#fb9f3a"
             ],
             [
              0.8888888888888888,
              "#fdca26"
             ],
             [
              1,
              "#f0f921"
             ]
            ],
            "type": "histogram2dcontour"
           }
          ],
          "mesh3d": [
           {
            "colorbar": {
             "outlinewidth": 0,
             "ticks": ""
            },
            "type": "mesh3d"
           }
          ],
          "parcoords": [
           {
            "line": {
             "colorbar": {
              "outlinewidth": 0,
              "ticks": ""
             }
            },
            "type": "parcoords"
           }
          ],
          "pie": [
           {
            "automargin": true,
            "type": "pie"
           }
          ],
          "scatter": [
           {
            "marker": {
             "colorbar": {
              "outlinewidth": 0,
              "ticks": ""
             }
            },
            "type": "scatter"
           }
          ],
          "scatter3d": [
           {
            "line": {
             "colorbar": {
              "outlinewidth": 0,
              "ticks": ""
             }
            },
            "marker": {
             "colorbar": {
              "outlinewidth": 0,
              "ticks": ""
             }
            },
            "type": "scatter3d"
           }
          ],
          "scattercarpet": [
           {
            "marker": {
             "colorbar": {
              "outlinewidth": 0,
              "ticks": ""
             }
            },
            "type": "scattercarpet"
           }
          ],
          "scattergeo": [
           {
            "marker": {
             "colorbar": {
              "outlinewidth": 0,
              "ticks": ""
             }
            },
            "type": "scattergeo"
           }
          ],
          "scattergl": [
           {
            "marker": {
             "colorbar": {
              "outlinewidth": 0,
              "ticks": ""
             }
            },
            "type": "scattergl"
           }
          ],
          "scattermapbox": [
           {
            "marker": {
             "colorbar": {
              "outlinewidth": 0,
              "ticks": ""
             }
            },
            "type": "scattermapbox"
           }
          ],
          "scatterpolar": [
           {
            "marker": {
             "colorbar": {
              "outlinewidth": 0,
              "ticks": ""
             }
            },
            "type": "scatterpolar"
           }
          ],
          "scatterpolargl": [
           {
            "marker": {
             "colorbar": {
              "outlinewidth": 0,
              "ticks": ""
             }
            },
            "type": "scatterpolargl"
           }
          ],
          "scatterternary": [
           {
            "marker": {
             "colorbar": {
              "outlinewidth": 0,
              "ticks": ""
             }
            },
            "type": "scatterternary"
           }
          ],
          "surface": [
           {
            "colorbar": {
             "outlinewidth": 0,
             "ticks": ""
            },
            "colorscale": [
             [
              0,
              "#0d0887"
             ],
             [
              0.1111111111111111,
              "#46039f"
             ],
             [
              0.2222222222222222,
              "#7201a8"
             ],
             [
              0.3333333333333333,
              "#9c179e"
             ],
             [
              0.4444444444444444,
              "#bd3786"
             ],
             [
              0.5555555555555556,
              "#d8576b"
             ],
             [
              0.6666666666666666,
              "#ed7953"
             ],
             [
              0.7777777777777778,
              "#fb9f3a"
             ],
             [
              0.8888888888888888,
              "#fdca26"
             ],
             [
              1,
              "#f0f921"
             ]
            ],
            "type": "surface"
           }
          ],
          "table": [
           {
            "cells": {
             "fill": {
              "color": "#EBF0F8"
             },
             "line": {
              "color": "white"
             }
            },
            "header": {
             "fill": {
              "color": "#C8D4E3"
             },
             "line": {
              "color": "white"
             }
            },
            "type": "table"
           }
          ]
         },
         "layout": {
          "annotationdefaults": {
           "arrowcolor": "#2a3f5f",
           "arrowhead": 0,
           "arrowwidth": 1
          },
          "coloraxis": {
           "colorbar": {
            "outlinewidth": 0,
            "ticks": ""
           }
          },
          "colorscale": {
           "diverging": [
            [
             0,
             "#8e0152"
            ],
            [
             0.1,
             "#c51b7d"
            ],
            [
             0.2,
             "#de77ae"
            ],
            [
             0.3,
             "#f1b6da"
            ],
            [
             0.4,
             "#fde0ef"
            ],
            [
             0.5,
             "#f7f7f7"
            ],
            [
             0.6,
             "#e6f5d0"
            ],
            [
             0.7,
             "#b8e186"
            ],
            [
             0.8,
             "#7fbc41"
            ],
            [
             0.9,
             "#4d9221"
            ],
            [
             1,
             "#276419"
            ]
           ],
           "sequential": [
            [
             0,
             "#0d0887"
            ],
            [
             0.1111111111111111,
             "#46039f"
            ],
            [
             0.2222222222222222,
             "#7201a8"
            ],
            [
             0.3333333333333333,
             "#9c179e"
            ],
            [
             0.4444444444444444,
             "#bd3786"
            ],
            [
             0.5555555555555556,
             "#d8576b"
            ],
            [
             0.6666666666666666,
             "#ed7953"
            ],
            [
             0.7777777777777778,
             "#fb9f3a"
            ],
            [
             0.8888888888888888,
             "#fdca26"
            ],
            [
             1,
             "#f0f921"
            ]
           ],
           "sequentialminus": [
            [
             0,
             "#0d0887"
            ],
            [
             0.1111111111111111,
             "#46039f"
            ],
            [
             0.2222222222222222,
             "#7201a8"
            ],
            [
             0.3333333333333333,
             "#9c179e"
            ],
            [
             0.4444444444444444,
             "#bd3786"
            ],
            [
             0.5555555555555556,
             "#d8576b"
            ],
            [
             0.6666666666666666,
             "#ed7953"
            ],
            [
             0.7777777777777778,
             "#fb9f3a"
            ],
            [
             0.8888888888888888,
             "#fdca26"
            ],
            [
             1,
             "#f0f921"
            ]
           ]
          },
          "colorway": [
           "#636efa",
           "#EF553B",
           "#00cc96",
           "#ab63fa",
           "#FFA15A",
           "#19d3f3",
           "#FF6692",
           "#B6E880",
           "#FF97FF",
           "#FECB52"
          ],
          "font": {
           "color": "#2a3f5f"
          },
          "geo": {
           "bgcolor": "white",
           "lakecolor": "white",
           "landcolor": "#E5ECF6",
           "showlakes": true,
           "showland": true,
           "subunitcolor": "white"
          },
          "hoverlabel": {
           "align": "left"
          },
          "hovermode": "closest",
          "mapbox": {
           "style": "light"
          },
          "paper_bgcolor": "white",
          "plot_bgcolor": "#E5ECF6",
          "polar": {
           "angularaxis": {
            "gridcolor": "white",
            "linecolor": "white",
            "ticks": ""
           },
           "bgcolor": "#E5ECF6",
           "radialaxis": {
            "gridcolor": "white",
            "linecolor": "white",
            "ticks": ""
           }
          },
          "scene": {
           "xaxis": {
            "backgroundcolor": "#E5ECF6",
            "gridcolor": "white",
            "gridwidth": 2,
            "linecolor": "white",
            "showbackground": true,
            "ticks": "",
            "zerolinecolor": "white"
           },
           "yaxis": {
            "backgroundcolor": "#E5ECF6",
            "gridcolor": "white",
            "gridwidth": 2,
            "linecolor": "white",
            "showbackground": true,
            "ticks": "",
            "zerolinecolor": "white"
           },
           "zaxis": {
            "backgroundcolor": "#E5ECF6",
            "gridcolor": "white",
            "gridwidth": 2,
            "linecolor": "white",
            "showbackground": true,
            "ticks": "",
            "zerolinecolor": "white"
           }
          },
          "shapedefaults": {
           "line": {
            "color": "#2a3f5f"
           }
          },
          "ternary": {
           "aaxis": {
            "gridcolor": "white",
            "linecolor": "white",
            "ticks": ""
           },
           "baxis": {
            "gridcolor": "white",
            "linecolor": "white",
            "ticks": ""
           },
           "bgcolor": "#E5ECF6",
           "caxis": {
            "gridcolor": "white",
            "linecolor": "white",
            "ticks": ""
           }
          },
          "title": {
           "x": 0.05
          },
          "xaxis": {
           "automargin": true,
           "gridcolor": "white",
           "linecolor": "white",
           "ticks": "",
           "title": {
            "standoff": 15
           },
           "zerolinecolor": "white",
           "zerolinewidth": 2
          },
          "yaxis": {
           "automargin": true,
           "gridcolor": "white",
           "linecolor": "white",
           "ticks": "",
           "title": {
            "standoff": 15
           },
           "zerolinecolor": "white",
           "zerolinewidth": 2
          }
         }
        }
       }
      },
      "text/html": [
       "<div>\n",
       "        \n",
       "        \n",
       "            <div id=\"8cf39271-886d-44dc-a202-8e8bc9dca582\" class=\"plotly-graph-div\" style=\"height:525px; width:100%;\"></div>\n",
       "            <script type=\"text/javascript\">\n",
       "                require([\"plotly\"], function(Plotly) {\n",
       "                    window.PLOTLYENV=window.PLOTLYENV || {};\n",
       "                    \n",
       "                if (document.getElementById(\"8cf39271-886d-44dc-a202-8e8bc9dca582\")) {\n",
       "                    Plotly.newPlot(\n",
       "                        '8cf39271-886d-44dc-a202-8e8bc9dca582',\n",
       "                        [{\"diagonal\": {\"visible\": false}, \"dimensions\": [{\"axis\": {\"matches\": true}, \"label\": \"numberOfSentences\", \"values\": [3, 3, 3, 4, 4, 9, 4, 2, 2, 9, 2, 1, 1, 5, 2, 6, 5, 2, 6, 4, 4, 7, 6, 6, 8, 3, 5, 7, 2, 2, 6, 4, 2, 3, 2, 4, 4, 2, 7, 5, 1, 4, 2, 1, 1, 3, 3, 1, 3, 4, 3, 2, 4, 3, 5, 1, 2, 1, 3, 9, 7, 3, 5, 2, 7, 3, 4, 6, 1, 8, 1, 3, 7, 6, 3, 3, 2, 2, 1, 14, 6, 2, 3, 1, 2, 2, 1, 3, 9, 3, 3, 14, 6, 7, 11, 1, 10, 3, 7, 3, 8, 1, 1, 5, 2, 3, 3, 5, 1, 4, 2, 3, 3, 3, 4, 4, 2, 3, 3, 4, 2, 4, 9, 3, 14, 5, 4, 2, 2, 3, 4, 4, 8, 9, 3, 5, 5, 2, 7, 3, 3, 1, 3, 4, 4, 4, 3, 5, 3, 3, 3, 5, 3, 8, 2, 4, 1, 3, 1, 3, 7, 10, 2, 2, 2, 4, 2, 6, 4, 3, 6, 9, 3, 2, 3, 6, 9, 3, 3, 12, 2, 6, 3, 2, 3, 1, 4, 5, 2, 4, 3, 6, 3, 9, 2, 2, 2, 7, 3, 3]}, {\"axis\": {\"matches\": true}, \"label\": \"wordCount\", \"values\": [48, 49, 88, 43, 25, 247, 29, 31, 30, 200, 62, 20, 34, 58, 24, 127, 105, 23, 166, 112, 114, 244, 96, 162, 201, 62, 113, 61, 29, 33, 169, 28, 28, 28, 22, 91, 88, 34, 176, 90, 35, 69, 43, 36, 27, 51, 27, 29, 23, 96, 23, 22, 82, 65, 106, 25, 36, 41, 52, 210, 178, 53, 108, 31, 183, 31, 72, 59, 28, 163, 22, 46, 172, 129, 87, 88, 24, 33, 25, 280, 61, 24, 53, 25, 60, 73, 55, 74, 176, 31, 43, 299, 107, 88, 302, 40, 229, 113, 180, 32, 235, 49, 15, 65, 56, 35, 25, 135, 41, 43, 35, 43, 48, 41, 107, 34, 40, 56, 67, 50, 42, 42, 289, 28, 237, 85, 69, 29, 28, 22, 28, 21, 117, 212, 22, 42, 34, 68, 166, 25, 68, 27, 35, 181, 59, 90, 33, 159, 114, 69, 106, 27, 37, 188, 53, 79, 22, 47, 24, 78, 209, 239, 36, 28, 29, 88, 41, 79, 35, 78, 152, 176, 46, 24, 37, 157, 275, 53, 43, 300, 50, 152, 61, 29, 23, 54, 39, 89, 60, 27, 22, 61, 71, 288, 58, 44, 28, 130, 24, 63]}, {\"axis\": {\"matches\": true}, \"label\": \"meanWordLength\", \"values\": [4.708333333333333, 4.346938775510204, 4.1477272727272725, 3.9302325581395348, 3.36, 4.174089068825911, 3.413793103448276, 4.258064516129032, 4.4, 4.235, 4.161290322580645, 4.25, 3.5588235294117645, 3.5172413793103448, 4.541666666666667, 4.622047244094488, 4.771428571428571, 3.9565217391304346, 4.180722891566265, 4.133928571428571, 4.192982456140351, 4.610655737704918, 4.0, 4.135802469135802, 4.348258706467662, 4.725806451612903, 4.592920353982301, 3.819672131147541, 3.8275862068965516, 4.363636363636363, 4.272189349112426, 3.8214285714285716, 3.4285714285714284, 3.4285714285714284, 4.181818181818182, 4.2967032967032965, 4.193181818181818, 4.764705882352941, 3.9375, 3.933333333333333, 4.0, 4.434782608695652, 4.232558139534884, 3.75, 3.740740740740741, 4.470588235294118, 3.814814814814815, 4.310344827586207, 3.782608695652174, 4.729166666666667, 3.782608695652174, 3.8181818181818183, 5.036585365853658, 3.876923076923077, 4.30188679245283, 4.0, 4.305555555555555, 3.4634146341463414, 4.0, 4.423809523809524, 3.730337078651685, 4.415094339622642, 4.203703703703703, 4.0, 4.027322404371585, 3.3225806451612905, 4.222222222222222, 4.254237288135593, 4.535714285714286, 4.306748466257669, 4.2272727272727275, 3.8043478260869565, 4.5813953488372094, 4.775193798449612, 4.275862068965517, 4.556818181818182, 3.9583333333333335, 4.363636363636363, 3.48, 4.289285714285715, 3.4918032786885247, 3.5833333333333335, 5.150943396226415, 4.72, 4.55, 4.561643835616438, 4.036363636363636, 3.7837837837837838, 4.176136363636363, 4.387096774193548, 4.627906976744186, 4.488294314381271, 4.074766355140187, 4.25, 4.135761589403973, 4.15, 4.454148471615721, 4.035398230088496, 4.583333333333333, 4.125, 4.459574468085107, 4.020408163265306, 6.2, 3.876923076923077, 4.714285714285714, 5.2, 3.52, 4.466666666666667, 4.097560975609756, 3.9302325581395348, 4.171428571428572, 2.5348837209302326, 4.354166666666667, 4.024390243902439, 3.94392523364486, 3.6470588235294117, 4.625, 3.7857142857142856, 4.2388059701492535, 4.22, 4.023809523809524, 4.095238095238095, 4.352941176470588, 3.7857142857142856, 4.151898734177215, 4.047058823529412, 4.6231884057971016, 3.9655172413793105, 3.5714285714285716, 3.9545454545454546, 4.035714285714286, 4.761904761904762, 3.8461538461538463, 4.485849056603773, 4.045454545454546, 3.619047619047619, 3.7058823529411766, 4.25, 4.180722891566265, 3.76, 3.823529411764706, 3.925925925925926, 3.6857142857142855, 4.69060773480663, 4.3559322033898304, 4.177777777777778, 3.6666666666666665, 4.119496855345912, 4.245614035087719, 4.130434782608695, 4.5754716981132075, 3.6666666666666665, 3.918918918918919, 4.537234042553192, 4.113207547169812, 3.810126582278481, 4.090909090909091, 4.0, 4.458333333333333, 4.358974358974359, 4.574162679425838, 4.397489539748954, 4.861111111111111, 3.7857142857142856, 4.068965517241379, 4.511363636363637, 4.804878048780488, 3.632911392405063, 3.6, 4.128205128205129, 4.7105263157894735, 4.176136363636363, 4.217391304347826, 3.9166666666666665, 4.1891891891891895, 4.101910828025478, 4.076363636363636, 5.150943396226415, 2.5348837209302326, 4.723333333333334, 4.32, 4.3355263157894735, 3.6557377049180326, 4.068965517241379, 4.6521739130434785, 3.8333333333333335, 3.8205128205128207, 4.382022471910112, 4.3, 3.740740740740741, 4.136363636363637, 3.8524590163934427, 4.042253521126761, 4.489583333333333, 4.5344827586206895, 4.181818181818182, 3.392857142857143, 4.038461538461538, 4.125, 3.9523809523809526]}, {\"axis\": {\"matches\": true}, \"label\": \"maxWordLength\", \"values\": [14, 12, 10, 10, 11, 14, 9, 12, 12, 13, 13, 10, 6, 11, 16, 14, 14, 9, 10, 15, 11, 13, 12, 12, 12, 12, 14, 9, 15, 16, 16, 9, 10, 7, 10, 12, 12, 12, 13, 11, 11, 13, 14, 10, 10, 11, 9, 12, 10, 14, 10, 13, 14, 13, 13, 12, 10, 10, 10, 14, 11, 11, 12, 10, 14, 10, 11, 13, 10, 14, 9, 9, 14, 16, 15, 13, 10, 16, 8, 13, 9, 9, 12, 16, 11, 13, 11, 12, 12, 13, 13, 14, 13, 15, 14, 11, 13, 10, 13, 12, 14, 9, 13, 12, 13, 16, 9, 12, 11, 10, 12, 7, 10, 12, 12, 12, 12, 11, 10, 11, 10, 11, 13, 9, 15, 12, 12, 11, 8, 10, 12, 12, 15, 12, 10, 10, 12, 11, 12, 11, 10, 10, 11, 17, 13, 14, 12, 14, 12, 12, 15, 10, 9, 14, 14, 13, 10, 10, 11, 11, 18, 14, 12, 8, 10, 16, 12, 9, 9, 11, 14, 12, 11, 10, 11, 12, 13, 12, 7, 16, 12, 17, 13, 10, 12, 11, 12, 13, 10, 11, 9, 10, 12, 17, 11, 12, 10, 12, 11, 10]}, {\"axis\": {\"matches\": true}, \"label\": \"wordsWithPunctuationPercentage\", \"values\": [16.664, 8.16, 13.631999999999998, 9.3, 28.0, 8.08, 24.136, 22.575, 9.999, 8.0, 4.836, 10.0, 2.941, 29.308, 24.996000000000002, 11.805, 12.376, 13.041, 10.836, 11.596, 11.401, 13.088, 10.41, 8.021, 13.916, 11.284, 11.492, 19.668, 17.24, 15.149999999999999, 13.001999999999999, 24.997, 21.426000000000002, 21.426000000000002, 22.725, 8.784, 10.223999999999998, 11.764, 13.063999999999998, 14.443, 17.142000000000003, 11.592, 11.625, 5.554, 7.406, 13.719999999999999, 18.515, 3.448, 21.735000000000003, 13.533, 21.735000000000003, 22.725, 9.752, 12.304, 11.315999999999999, 8.0, 16.662, 9.756, 13.461, 11.424, 8.976, 9.43, 9.25, 22.575, 8.736, 25.8, 12.491999999999999, 15.245999999999999, 10.713000000000001, 8.582, 9.09, 13.038, 13.943999999999999, 12.4, 4.596, 6.815999999999999, 24.996000000000002, 15.149999999999999, 12.0, 13.565999999999999, 19.668, 24.996000000000002, 16.974, 12.0, 16.66, 10.952, 9.09, 8.106, 11.927999999999999, 22.575, 16.275000000000002, 12.024000000000001, 8.406, 13.631999999999998, 10.592, 10.0, 12.208, 8.84, 8.88, 9.375, 10.625, 4.08, 13.332, 15.38, 7.14, 14.285, 28.0, 9.62, 12.195, 9.3, 11.428, 18.6, 16.664, 12.195, 11.208, 17.646, 7.5, 19.634999999999998, 10.443999999999999, 14.0, 11.899999999999999, 16.66, 9.687999999999999, 24.997, 11.788, 15.287999999999998, 13.041, 20.688, 10.713000000000001, 31.814999999999998, 24.997, 19.044, 19.642, 10.362, 13.635, 26.18, 29.409999999999997, 14.7, 10.234, 24.0, 16.169999999999998, 7.406, 28.57, 13.8, 18.634, 13.332, 15.149999999999999, 9.42, 12.278, 14.49, 7.544, 40.733, 13.51, 8.496, 13.202, 7.59, 4.545, 8.508, 12.498000000000001, 12.82, 13.384, 12.54, 11.108, 17.855, 20.688, 12.495999999999999, 19.512, 12.649999999999999, 22.856, 11.538, 11.826, 11.927999999999999, 15.211, 20.830000000000002, 8.106, 11.448, 7.26, 16.974, 18.6, 13.653, 14.0, 11.169, 13.112, 20.688, 34.776, 5.553, 17.948, 10.107, 4.997999999999999, 29.624, 31.814999999999998, 18.029, 12.671999999999999, 8.328, 13.792, 13.631999999999998, 21.426000000000002, 9.228, 16.664, 6.348]}], \"hoverlabel\": {\"namelength\": 0}, \"hovertemplate\": \"author=Zola<br>%{xaxis.title.text}=%{x}<br>%{yaxis.title.text}=%{y}\", \"legendgroup\": \"author=Zola\", \"marker\": {\"color\": \"#636efa\", \"symbol\": \"circle\"}, \"name\": \"author=Zola\", \"showlegend\": true, \"type\": \"splom\"}, {\"diagonal\": {\"visible\": false}, \"dimensions\": [{\"axis\": {\"matches\": true}, \"label\": \"numberOfSentences\", \"values\": [4, 3, 7, 6, 4, 1, 3, 2, 9, 6, 13, 3, 3, 2, 2, 3, 1, 2, 4, 1, 2, 3, 2, 1, 3, 2, 1, 3, 2, 2, 2, 2, 1, 2, 1, 1, 1, 1, 3, 4, 4, 1, 2, 5, 2, 3, 2, 3, 12, 1, 2, 3, 3, 1, 2, 2, 2, 7, 1, 3, 1, 1, 2, 5, 9, 10, 4, 2, 5, 4, 1, 10, 1, 1, 3, 2, 4, 1, 2, 2, 7, 1, 1, 1, 2, 1, 2, 2, 3, 5, 1, 5, 2, 3, 5, 1, 2, 1, 5, 1, 2, 7, 5, 1, 7, 1, 5, 2, 2, 1, 3, 2, 1, 2, 5, 1, 14, 5, 4, 9, 3, 1, 3, 1, 2, 27, 2, 2, 8, 1, 1, 6, 1, 5, 1, 3, 1, 5, 1, 8, 1, 1, 1, 4, 5, 6, 3, 3, 5, 1, 3, 2, 3, 3, 3, 2, 2, 5, 2, 1, 4, 1, 1, 14, 3, 4, 7, 3, 1, 1, 27, 1, 5, 3, 2, 1, 1, 2, 5, 3, 1, 5, 2, 1, 4, 1, 1, 5, 2, 2, 2, 1, 5, 1, 3, 1, 2, 1, 9, 2]}, {\"axis\": {\"matches\": true}, \"label\": \"wordCount\", \"values\": [85, 43, 80, 83, 136, 29, 41, 47, 185, 39, 91, 32, 43, 71, 59, 82, 47, 56, 121, 28, 48, 41, 46, 47, 42, 36, 26, 46, 22, 34, 72, 30, 24, 43, 27, 33, 25, 23, 40, 83, 37, 49, 26, 114, 56, 35, 62, 41, 174, 35, 65, 35, 75, 26, 60, 38, 38, 86, 30, 35, 48, 46, 63, 90, 47, 127, 53, 65, 89, 84, 27, 101, 32, 37, 43, 24, 50, 30, 51, 24, 80, 31, 48, 33, 78, 28, 27, 73, 49, 56, 22, 48, 30, 201, 102, 21, 43, 38, 52, 46, 48, 32, 122, 33, 76, 32, 73, 56, 73, 35, 32, 25, 29, 53, 30, 21, 221, 206, 26, 71, 82, 67, 29, 19, 49, 237, 64, 35, 88, 21, 48, 214, 71, 100, 67, 49, 73, 24, 38, 97, 24, 55, 41, 197, 49, 135, 35, 29, 30, 31, 68, 36, 72, 67, 40, 52, 85, 69, 38, 33, 96, 19, 32, 221, 92, 50, 86, 32, 55, 37, 134, 27, 30, 40, 28, 31, 26, 20, 154, 35, 30, 77, 40, 31, 97, 23, 54, 112, 28, 53, 64, 47, 57, 24, 82, 33, 85, 22, 122, 44]}, {\"axis\": {\"matches\": true}, \"label\": \"meanWordLength\", \"values\": [4.176470588235294, 3.6511627906976742, 4.1, 3.9156626506024095, 4.0661764705882355, 4.137931034482759, 3.902439024390244, 4.1063829787234045, 3.918918918918919, 3.1025641025641026, 3.5824175824175826, 3.90625, 4.093023255813954, 3.3098591549295775, 4.627118644067797, 3.4634146341463414, 3.9574468085106385, 3.9642857142857144, 4.008264462809917, 3.8214285714285716, 3.6041666666666665, 3.731707317073171, 3.847826086956522, 4.48936170212766, 3.119047619047619, 4.361111111111111, 5.153846153846154, 3.8043478260869565, 4.2727272727272725, 3.5588235294117645, 3.9166666666666665, 3.533333333333333, 3.9583333333333335, 4.534883720930233, 4.074074074074074, 3.272727272727273, 4.56, 4.260869565217392, 3.45, 3.855421686746988, 3.891891891891892, 3.979591836734694, 4.076923076923077, 4.157894736842105, 3.9642857142857144, 3.342857142857143, 4.193548387096774, 3.902439024390244, 3.660919540229885, 4.771428571428571, 4.2, 4.714285714285714, 4.573333333333333, 3.3846153846153846, 4.2, 3.6842105263157894, 4.526315789473684, 3.4186046511627906, 3.8, 3.942857142857143, 4.395833333333333, 3.6739130434782608, 4.015873015873016, 4.266666666666667, 3.6808510638297873, 3.7401574803149606, 3.641509433962264, 4.2, 4.191011235955056, 4.166666666666667, 3.2222222222222223, 4.316831683168317, 3.96875, 3.918918918918919, 3.7674418604651163, 3.7083333333333335, 4.0, 4.2, 3.4901960784313726, 3.75, 4.1, 3.774193548387097, 4.0, 3.9696969696969697, 4.576923076923077, 4.571428571428571, 4.037037037037037, 4.041095890410959, 3.9591836734693877, 2.8035714285714284, 4.636363636363637, 4.125, 3.3, 4.199004975124378, 3.9019607843137254, 5.0, 4.558139534883721, 3.6578947368421053, 4.019230769230769, 3.9565217391304346, 3.6041666666666665, 3.40625, 4.081967213114754, 4.909090909090909, 4.381578947368421, 3.78125, 3.712328767123288, 3.7142857142857144, 4.027397260273973, 3.914285714285714, 3.375, 3.84, 3.7586206896551726, 4.188679245283019, 3.2333333333333334, 5.0, 3.8009049773755654, 4.359223300970874, 3.730769230769231, 4.084507042253521, 4.7317073170731705, 4.029850746268656, 3.6206896551724137, 5.052631578947368, 4.061224489795919, 4.421940928270042, 3.953125, 3.6857142857142855, 3.977272727272727, 4.523809523809524, 4.0, 3.94392523364486, 3.380281690140845, 4.11, 4.029850746268656, 4.73469387755102, 3.7260273972602738, 3.625, 3.6578947368421053, 3.9381443298969074, 4.5, 4.127272727272727, 4.390243902439025, 4.451776649746193, 3.7142857142857144, 4.474074074074074, 3.342857142857143, 3.6206896551724137, 3.2333333333333334, 4.548387096774194, 3.3823529411764706, 4.111111111111111, 4.041666666666667, 3.9402985074626864, 3.975, 4.1923076923076925, 3.764705882352941, 3.927536231884058, 4.894736842105263, 3.272727272727273, 3.7083333333333335, 5.052631578947368, 3.84375, 3.8009049773755654, 4.184782608695652, 4.0, 3.4186046511627906, 3.90625, 3.6545454545454548, 4.027027027027027, 3.582089552238806, 3.925925925925926, 3.2333333333333334, 3.45, 3.25, 4.741935483870968, 3.269230769230769, 4.3, 4.116883116883117, 4.685714285714286, 4.266666666666667, 4.142857142857143, 3.9, 3.774193548387097, 3.577319587628866, 5.3478260869565215, 4.351851851851852, 3.6160714285714284, 3.25, 4.830188679245283, 3.953125, 3.9574468085106385, 4.43859649122807, 3.9166666666666665, 4.2560975609756095, 4.909090909090909, 3.8705882352941177, 5.0, 3.778688524590164, 3.4545454545454546]}, {\"axis\": {\"matches\": true}, \"label\": \"maxWordLength\", \"values\": [12, 10, 12, 14, 13, 11, 10, 10, 12, 10, 10, 9, 11, 10, 12, 10, 11, 13, 12, 8, 19, 9, 12, 9, 10, 9, 12, 10, 11, 8, 10, 10, 11, 12, 12, 9, 11, 11, 11, 10, 12, 11, 9, 11, 13, 8, 11, 10, 11, 13, 12, 11, 13, 14, 10, 14, 10, 9, 9, 10, 10, 13, 11, 16, 8, 11, 12, 12, 16, 12, 8, 13, 11, 11, 9, 10, 12, 10, 10, 9, 12, 9, 11, 9, 11, 10, 8, 12, 13, 7, 8, 12, 9, 15, 12, 10, 11, 9, 11, 11, 19, 7, 10, 11, 14, 9, 10, 12, 11, 11, 10, 9, 10, 11, 8, 10, 14, 15, 11, 12, 17, 11, 10, 10, 12, 15, 9, 10, 11, 10, 11, 12, 11, 12, 11, 11, 12, 12, 9, 12, 10, 12, 13, 12, 12, 13, 8, 10, 8, 12, 10, 11, 16, 10, 10, 12, 12, 11, 12, 9, 11, 10, 10, 14, 11, 12, 9, 9, 11, 11, 11, 11, 8, 11, 11, 12, 8, 9, 11, 12, 10, 13, 13, 9, 12, 12, 10, 10, 11, 11, 9, 11, 10, 9, 10, 11, 10, 10, 13, 10]}, {\"axis\": {\"matches\": true}, \"label\": \"wordsWithPunctuationPercentage\", \"values\": [15.287999999999998, 11.625, 16.25, 14.448, 9.555, 6.896, 21.951, 6.380999999999999, 12.96, 23.076, 25.254, 25.0, 18.6, 19.712, 8.469999999999999, 10.971, 4.254, 8.924999999999999, 10.738, 7.142, 16.664, 12.195, 19.557000000000002, 10.634999999999998, 19.04, 11.108, 19.23, 23.903, 22.725, 11.764, 8.328, 9.999, 4.166, 9.3, 11.109, 9.09, 8.0, 8.694, 15.0, 8.427999999999999, 27.02, 8.16, 15.384, 9.647, 8.924999999999999, 11.428, 12.896, 21.951, 17.22, 5.714, 9.228, 17.142000000000003, 3.9989999999999997, 11.538, 8.33, 7.892999999999999, 10.524, 16.268, 6.666, 25.713, 10.415000000000001, 6.519, 15.87, 13.332, 25.523999999999997, 15.74, 24.517999999999997, 9.228, 16.845, 14.28, 11.109, 19.8, 9.375, 5.404, 18.6, 12.498000000000001, 14.0, 3.333, 11.76, 12.498000000000001, 16.25, 6.45, 4.166, 12.12, 16.666, 21.426000000000002, 22.218, 10.952, 8.16, 14.28, 4.545, 18.747, 6.666, 6.461, 10.78, 9.522, 13.950000000000001, 13.155, 17.307000000000002, 10.865, 16.664, 28.125, 10.646999999999998, 24.24, 21.04, 12.5, 12.321, 7.14, 13.69, 11.428, 21.875, 16.0, 3.448, 11.315999999999999, 19.998, 9.522, 14.464, 8.245, 42.306, 25.343999999999998, 12.190000000000001, 7.46, 17.24, 10.526, 6.12, 19.787, 10.934000000000001, 11.428, 18.176, 9.522, 4.166, 7.939, 16.896, 11.0, 7.46, 12.24, 2.738, 41.660000000000004, 13.155, 17.51, 16.664, 3.636, 9.756, 10.647, 22.44, 11.1, 11.428, 17.24, 19.998, 9.675, 19.11, 22.216, 15.267999999999999, 14.92, 20.0, 11.538, 9.408, 26.082, 13.155, 9.09, 10.41, 10.526, 9.375, 14.464, 6.516, 14.0, 16.268, 25.0, 14.544, 16.212, 27.602, 14.812, 19.998, 15.0, 21.426000000000002, 16.125, 7.692, 25.0, 9.086, 17.142000000000003, 13.332, 19.47, 7.5, 6.45, 10.3, 4.347, 5.553, 12.488, 21.426000000000002, 7.544, 10.934000000000001, 4.254, 21.048000000000002, 4.166, 14.628, 24.24, 7.055999999999999, 9.09, 15.561, 11.36]}], \"hoverlabel\": {\"namelength\": 0}, \"hovertemplate\": \"author=Maupassant<br>%{xaxis.title.text}=%{x}<br>%{yaxis.title.text}=%{y}\", \"legendgroup\": \"author=Maupassant\", \"marker\": {\"color\": \"#EF553B\", \"symbol\": \"circle\"}, \"name\": \"author=Maupassant\", \"showlegend\": true, \"type\": \"splom\"}, {\"diagonal\": {\"visible\": false}, \"dimensions\": [{\"axis\": {\"matches\": true}, \"label\": \"numberOfSentences\", \"values\": [12, 2, 6, 3, 3, 8, 1, 1, 2, 5, 3, 1, 5, 2, 35, 2, 10, 1, 9, 1, 1, 6, 8, 2, 7, 4, 2, 1, 8, 2, 1, 1, 2, 6, 4, 4, 1, 1, 6, 5, 1, 7, 1, 2, 1, 7, 3, 5, 32, 5, 7, 15, 58, 6, 1, 2, 2, 9, 13, 2, 1, 2, 4, 1, 2, 37, 7, 1, 4, 1, 45, 5, 34, 8, 2, 2, 3, 4, 3, 9, 1, 3, 9, 13, 1, 2, 4, 2, 3, 5, 15, 6, 2, 17, 1, 6, 3, 2, 6, 3, 5, 2, 6, 2, 5, 1, 7, 1, 2, 1, 11, 13, 1, 1, 5, 6, 5, 18, 1, 1, 6, 14, 1, 3, 1, 33, 12, 1, 5, 2, 2, 1, 18, 2, 2, 84, 30, 13, 3, 1, 4, 1, 1, 3, 2, 1, 2, 1, 2, 3, 2, 8, 7, 21, 13, 2, 10, 1, 2, 2, 2, 4, 1, 1, 2, 1, 13, 1, 11, 1, 3, 2, 4, 42, 2, 16, 2, 4, 3, 3, 2, 4, 27, 2, 15, 3, 3, 17, 1, 8, 6, 6, 1, 2, 3, 2, 3, 1, 4, 10]}, {\"axis\": {\"matches\": true}, \"label\": \"wordCount\", \"values\": [110, 34, 93, 50, 40, 114, 36, 34, 26, 85, 32, 42, 189, 57, 718, 26, 179, 22, 119, 26, 38, 97, 256, 23, 103, 31, 88, 20, 178, 34, 22, 25, 26, 51, 62, 42, 26, 39, 99, 116, 27, 238, 24, 39, 35, 301, 47, 25, 980, 25, 226, 168, 961, 101, 29, 30, 46, 203, 283, 21, 27, 37, 190, 25, 94, 1377, 76, 32, 82, 22, 1187, 42, 1296, 116, 34, 38, 30, 84, 27, 252, 23, 49, 120, 403, 74, 45, 85, 27, 53, 177, 504, 200, 24, 195, 23, 91, 24, 27, 210, 50, 40, 63, 47, 28, 139, 42, 106, 20, 36, 26, 275, 409, 30, 40, 153, 206, 169, 541, 39, 24, 74, 549, 31, 39, 22, 631, 224, 72, 61, 27, 38, 29, 527, 19, 39, 1727, 1317, 193, 32, 38, 142, 28, 21, 32, 92, 34, 32, 40, 40, 81, 25, 155, 218, 717, 368, 25, 126, 28, 36, 39, 63, 173, 27, 39, 40, 39, 341, 22, 230, 56, 107, 38, 58, 1351, 55, 172, 41, 72, 44, 63, 24, 33, 487, 22, 485, 48, 32, 389, 35, 138, 66, 79, 16, 19, 59, 26, 63, 21, 137, 133]}, {\"axis\": {\"matches\": true}, \"label\": \"meanWordLength\", \"values\": [4.009090909090909, 3.6470588235294117, 3.6881720430107525, 4.46, 4.1, 3.780701754385965, 4.055555555555555, 4.088235294117647, 3.3846153846153846, 3.8, 3.75, 4.714285714285714, 4.8994708994708995, 4.298245614035087, 4.438718662952646, 3.6153846153846154, 4.346368715083799, 4.136363636363637, 4.142857142857143, 4.269230769230769, 4.078947368421052, 4.041237113402062, 4.5, 4.086956521739131, 3.563106796116505, 3.870967741935484, 4.431818181818182, 4.65, 4.308988764044944, 4.882352941176471, 4.045454545454546, 3.76, 3.8076923076923075, 3.7254901960784315, 3.8225806451612905, 3.5, 4.153846153846154, 3.9743589743589745, 4.0606060606060606, 3.8879310344827585, 4.481481481481482, 4.802521008403361, 4.791666666666667, 4.128205128205129, 4.085714285714285, 3.9003322259136213, 4.1063829787234045, 3.4, 4.003061224489796, 3.4, 4.265486725663717, 3.3452380952380953, 4.074921956295525, 3.8118811881188117, 4.620689655172414, 3.933333333333333, 4.869565217391305, 3.748768472906404, 4.512367491166078, 4.190476190476191, 4.407407407407407, 4.1891891891891895, 4.678947368421053, 4.04, 4.542553191489362, 4.3994190268700075, 3.8421052631578947, 4.21875, 4.414634146341464, 3.8636363636363638, 4.500421229991575, 3.9523809523809526, 4.417438271604938, 3.6551724137931036, 4.882352941176471, 4.131578947368421, 4.266666666666667, 4.583333333333333, 3.1481481481481484, 4.134920634920635, 4.0, 4.326530612244898, 3.1166666666666667, 4.516129032258065, 4.648648648648648, 3.8666666666666667, 4.588235294117647, 4.2592592592592595, 3.849056603773585, 4.107344632768362, 4.109126984126984, 4.255, 4.166666666666667, 3.682051282051282, 3.8260869565217392, 3.4285714285714284, 3.9166666666666665, 3.5925925925925926, 4.4, 4.46, 3.375, 4.26984126984127, 3.574468085106383, 4.642857142857143, 4.258992805755396, 3.880952380952381, 3.8679245283018866, 4.7, 5.027777777777778, 4.0, 4.556363636363637, 4.515892420537897, 4.233333333333333, 5.275, 4.071895424836601, 4.635922330097087, 3.8757396449704142, 4.539741219963031, 3.6666666666666665, 4.541666666666667, 4.081081081081081, 4.240437158469946, 3.5806451612903225, 3.6666666666666665, 3.8636363636363638, 3.98256735340729, 3.861607142857143, 4.416666666666667, 3.6721311475409837, 3.925925925925926, 3.6052631578947367, 3.9310344827586206, 4.373814041745731, 4.578947368421052, 4.0256410256410255, 3.81644470179502, 4.577069096431283, 4.082901554404145, 4.0, 4.684210526315789, 4.429577464788732, 4.321428571428571, 4.142857142857143, 4.25, 3.782608695652174, 4.352941176470588, 4.34375, 4.3, 3.85, 4.1234567901234565, 3.48, 4.787096774193548, 4.463302752293578, 4.298465829846583, 3.8206521739130435, 4.0, 3.9444444444444446, 4.642857142857143, 4.111111111111111, 4.384615384615385, 4.26984126984127, 4.473988439306359, 4.37037037037037, 4.051282051282051, 3.85, 4.230769230769231, 4.492668621700879, 3.909090909090909, 3.9260869565217393, 4.232142857142857, 4.158878504672897, 4.394736842105263, 4.051724137931035, 4.516654330125832, 4.7272727272727275, 3.703488372093023, 3.5121951219512195, 4.097222222222222, 3.772727272727273, 3.9523809523809526, 3.8333333333333335, 4.303030303030303, 3.9055441478439423, 4.318181818181818, 4.439175257731959, 4.104166666666667, 4.0, 4.4113110539845755, 4.9714285714285715, 3.920289855072464, 3.8181818181818183, 3.962025316455696, 5.5625, 5.2105263157894735, 4.813559322033898, 4.3076923076923075, 4.063492063492063, 4.0476190476190474, 4.773722627737226, 3.5037593984962405]}, {\"axis\": {\"matches\": true}, \"label\": \"maxWordLength\", \"values\": [10, 9, 13, 11, 10, 10, 13, 12, 9, 13, 9, 13, 15, 15, 18, 8, 13, 12, 13, 12, 9, 12, 15, 11, 14, 13, 13, 11, 12, 14, 12, 10, 8, 15, 14, 9, 9, 11, 14, 11, 13, 14, 10, 11, 10, 13, 9, 10, 15, 10, 14, 11, 17, 11, 12, 9, 13, 10, 15, 10, 11, 8, 14, 9, 13, 16, 14, 11, 13, 12, 15, 16, 17, 12, 14, 13, 11, 12, 10, 12, 9, 9, 9, 14, 13, 8, 12, 10, 10, 13, 13, 16, 10, 14, 10, 10, 12, 8, 14, 11, 10, 16, 9, 11, 18, 10, 11, 10, 11, 10, 15, 22, 13, 13, 16, 16, 13, 15, 10, 10, 16, 15, 10, 8, 10, 16, 12, 14, 13, 9, 12, 10, 14, 12, 10, 15, 16, 15, 9, 12, 13, 13, 8, 10, 11, 10, 13, 10, 10, 13, 11, 15, 12, 14, 13, 11, 12, 11, 10, 12, 16, 15, 11, 13, 10, 11, 14, 10, 12, 14, 14, 15, 10, 16, 13, 12, 9, 11, 11, 12, 10, 13, 19, 12, 14, 10, 9, 19, 11, 12, 13, 10, 10, 10, 13, 12, 12, 12, 15, 11]}, {\"axis\": {\"matches\": true}, \"label\": \"wordsWithPunctuationPercentage\", \"values\": [17.271, 20.587, 17.2, 16.0, 12.5, 12.278, 11.108, 14.704999999999998, 15.384, 14.111999999999998, 15.625, 4.76, 12.167, 26.31, 12.788, 15.384, 10.602, 13.635, 19.32, 15.384, 5.262, 12.36, 9.36, 21.735000000000003, 9.7, 29.025000000000002, 7.951999999999999, 10.0, 10.098, 11.764, 9.09, 12.0, 19.23, 23.52, 8.06, 19.04, 11.538, 10.256, 11.11, 10.344, 11.109, 12.6, 4.166, 12.82, 11.428, 11.620000000000001, 10.634999999999998, 28.0, 8.772, 28.0, 8.398, 13.684999999999999, 14.872, 17.82, 6.896, 13.332, 15.211, 12.792, 9.530999999999999, 14.283000000000001, 7.406, 8.106, 6.838, 20.0, 6.378, 9.648, 17.095, 6.25, 8.533000000000001, 22.725, 9.24, 26.18, 8.778, 14.654, 11.764, 10.524, 23.331000000000003, 11.899999999999999, 25.921, 10.692, 17.388, 22.44, 24.99, 7.4399999999999995, 20.265, 4.444, 12.936, 22.218, 11.315999999999999, 10.716, 9.306000000000001, 13.0, 24.996000000000002, 17.408, 8.694, 10.98, 20.830000000000002, 14.812, 10.472, 16.0, 20.0, 19.044, 17.016, 17.855, 12.222999999999999, 9.52, 15.088, 15.0, 16.662, 15.384, 11.979, 7.076, 9.999, 15.0, 9.795, 9.7, 7.092, 9.936, 10.256, 16.664, 14.861, 8.554, 9.675, 17.948, 22.725, 14.852, 12.934000000000001, 4.164, 18.029, 11.109, 10.524, 6.896, 12.663, 42.104, 15.384, 12.540000000000001, 8.1, 14.504000000000001, 21.875, 5.262, 7.744, 24.997, 9.522, 15.625, 15.204, 8.823, 31.25, 10.0, 10.0, 8.638, 24.0, 13.545, 11.908000000000001, 11.537, 10.569, 24.0, 14.274000000000001, 14.284, 16.662, 12.82, 19.044, 7.513999999999999, 37.03, 15.384, 10.0, 10.256, 11.719999999999999, 13.635, 14.322, 10.709999999999999, 7.472, 21.048, 12.068, 9.472, 5.454000000000001, 18.011, 17.073, 8.328, 20.447999999999997, 11.109, 12.498000000000001, 27.27, 15.374999999999998, 18.18, 10.918, 16.664, 21.875, 10.537, 14.285, 10.136, 24.24, 13.915, 12.5, 26.314999999999998, 15.245999999999999, 19.23, 7.935, 9.522, 13.122, 14.269]}], \"hoverlabel\": {\"namelength\": 0}, \"hovertemplate\": \"author=Balzac<br>%{xaxis.title.text}=%{x}<br>%{yaxis.title.text}=%{y}\", \"legendgroup\": \"author=Balzac\", \"marker\": {\"color\": \"#00cc96\", \"symbol\": \"circle\"}, \"name\": \"author=Balzac\", \"showlegend\": true, \"type\": \"splom\"}],\n",
       "                        {\"dragmode\": \"select\", \"legend\": {\"tracegroupgap\": 0}, \"margin\": {\"t\": 60}, \"template\": {\"data\": {\"bar\": [{\"error_x\": {\"color\": \"#2a3f5f\"}, \"error_y\": {\"color\": \"#2a3f5f\"}, \"marker\": {\"line\": {\"color\": \"#E5ECF6\", \"width\": 0.5}}, \"type\": \"bar\"}], \"barpolar\": [{\"marker\": {\"line\": {\"color\": \"#E5ECF6\", \"width\": 0.5}}, \"type\": \"barpolar\"}], \"carpet\": [{\"aaxis\": {\"endlinecolor\": \"#2a3f5f\", \"gridcolor\": \"white\", \"linecolor\": \"white\", \"minorgridcolor\": \"white\", \"startlinecolor\": \"#2a3f5f\"}, \"baxis\": {\"endlinecolor\": \"#2a3f5f\", \"gridcolor\": \"white\", \"linecolor\": \"white\", \"minorgridcolor\": \"white\", \"startlinecolor\": \"#2a3f5f\"}, \"type\": \"carpet\"}], \"choropleth\": [{\"colorbar\": {\"outlinewidth\": 0, \"ticks\": \"\"}, \"type\": \"choropleth\"}], \"contour\": [{\"colorbar\": {\"outlinewidth\": 0, \"ticks\": \"\"}, \"colorscale\": [[0.0, \"#0d0887\"], [0.1111111111111111, \"#46039f\"], [0.2222222222222222, \"#7201a8\"], [0.3333333333333333, \"#9c179e\"], [0.4444444444444444, \"#bd3786\"], [0.5555555555555556, \"#d8576b\"], [0.6666666666666666, \"#ed7953\"], [0.7777777777777778, \"#fb9f3a\"], [0.8888888888888888, \"#fdca26\"], [1.0, \"#f0f921\"]], \"type\": \"contour\"}], \"contourcarpet\": [{\"colorbar\": {\"outlinewidth\": 0, \"ticks\": \"\"}, \"type\": \"contourcarpet\"}], \"heatmap\": [{\"colorbar\": {\"outlinewidth\": 0, \"ticks\": \"\"}, \"colorscale\": [[0.0, \"#0d0887\"], [0.1111111111111111, \"#46039f\"], [0.2222222222222222, \"#7201a8\"], [0.3333333333333333, \"#9c179e\"], [0.4444444444444444, \"#bd3786\"], [0.5555555555555556, \"#d8576b\"], [0.6666666666666666, \"#ed7953\"], [0.7777777777777778, \"#fb9f3a\"], [0.8888888888888888, \"#fdca26\"], [1.0, \"#f0f921\"]], \"type\": \"heatmap\"}], \"heatmapgl\": [{\"colorbar\": {\"outlinewidth\": 0, \"ticks\": \"\"}, \"colorscale\": [[0.0, \"#0d0887\"], [0.1111111111111111, \"#46039f\"], [0.2222222222222222, \"#7201a8\"], [0.3333333333333333, \"#9c179e\"], [0.4444444444444444, \"#bd3786\"], [0.5555555555555556, \"#d8576b\"], [0.6666666666666666, \"#ed7953\"], [0.7777777777777778, \"#fb9f3a\"], [0.8888888888888888, \"#fdca26\"], [1.0, \"#f0f921\"]], \"type\": \"heatmapgl\"}], \"histogram\": [{\"marker\": {\"colorbar\": {\"outlinewidth\": 0, \"ticks\": \"\"}}, \"type\": \"histogram\"}], \"histogram2d\": [{\"colorbar\": {\"outlinewidth\": 0, \"ticks\": \"\"}, \"colorscale\": [[0.0, \"#0d0887\"], [0.1111111111111111, \"#46039f\"], [0.2222222222222222, \"#7201a8\"], [0.3333333333333333, \"#9c179e\"], [0.4444444444444444, \"#bd3786\"], [0.5555555555555556, \"#d8576b\"], [0.6666666666666666, \"#ed7953\"], [0.7777777777777778, \"#fb9f3a\"], [0.8888888888888888, \"#fdca26\"], [1.0, \"#f0f921\"]], \"type\": \"histogram2d\"}], \"histogram2dcontour\": [{\"colorbar\": {\"outlinewidth\": 0, \"ticks\": \"\"}, \"colorscale\": [[0.0, \"#0d0887\"], [0.1111111111111111, \"#46039f\"], [0.2222222222222222, \"#7201a8\"], [0.3333333333333333, \"#9c179e\"], [0.4444444444444444, \"#bd3786\"], [0.5555555555555556, \"#d8576b\"], [0.6666666666666666, \"#ed7953\"], [0.7777777777777778, \"#fb9f3a\"], [0.8888888888888888, \"#fdca26\"], [1.0, \"#f0f921\"]], \"type\": \"histogram2dcontour\"}], \"mesh3d\": [{\"colorbar\": {\"outlinewidth\": 0, \"ticks\": \"\"}, \"type\": \"mesh3d\"}], \"parcoords\": [{\"line\": {\"colorbar\": {\"outlinewidth\": 0, \"ticks\": \"\"}}, \"type\": \"parcoords\"}], \"pie\": [{\"automargin\": true, \"type\": \"pie\"}], \"scatter\": [{\"marker\": {\"colorbar\": {\"outlinewidth\": 0, \"ticks\": \"\"}}, \"type\": \"scatter\"}], \"scatter3d\": [{\"line\": {\"colorbar\": {\"outlinewidth\": 0, \"ticks\": \"\"}}, \"marker\": {\"colorbar\": {\"outlinewidth\": 0, \"ticks\": \"\"}}, \"type\": \"scatter3d\"}], \"scattercarpet\": [{\"marker\": {\"colorbar\": {\"outlinewidth\": 0, \"ticks\": \"\"}}, \"type\": \"scattercarpet\"}], \"scattergeo\": [{\"marker\": {\"colorbar\": {\"outlinewidth\": 0, \"ticks\": \"\"}}, \"type\": \"scattergeo\"}], \"scattergl\": [{\"marker\": {\"colorbar\": {\"outlinewidth\": 0, \"ticks\": \"\"}}, \"type\": \"scattergl\"}], \"scattermapbox\": [{\"marker\": {\"colorbar\": {\"outlinewidth\": 0, \"ticks\": \"\"}}, \"type\": \"scattermapbox\"}], \"scatterpolar\": [{\"marker\": {\"colorbar\": {\"outlinewidth\": 0, \"ticks\": \"\"}}, \"type\": \"scatterpolar\"}], \"scatterpolargl\": [{\"marker\": {\"colorbar\": {\"outlinewidth\": 0, \"ticks\": \"\"}}, \"type\": \"scatterpolargl\"}], \"scatterternary\": [{\"marker\": {\"colorbar\": {\"outlinewidth\": 0, \"ticks\": \"\"}}, \"type\": \"scatterternary\"}], \"surface\": [{\"colorbar\": {\"outlinewidth\": 0, \"ticks\": \"\"}, \"colorscale\": [[0.0, \"#0d0887\"], [0.1111111111111111, \"#46039f\"], [0.2222222222222222, \"#7201a8\"], [0.3333333333333333, \"#9c179e\"], [0.4444444444444444, \"#bd3786\"], [0.5555555555555556, \"#d8576b\"], [0.6666666666666666, \"#ed7953\"], [0.7777777777777778, \"#fb9f3a\"], [0.8888888888888888, \"#fdca26\"], [1.0, \"#f0f921\"]], \"type\": \"surface\"}], \"table\": [{\"cells\": {\"fill\": {\"color\": \"#EBF0F8\"}, \"line\": {\"color\": \"white\"}}, \"header\": {\"fill\": {\"color\": \"#C8D4E3\"}, \"line\": {\"color\": \"white\"}}, \"type\": \"table\"}]}, \"layout\": {\"annotationdefaults\": {\"arrowcolor\": \"#2a3f5f\", \"arrowhead\": 0, \"arrowwidth\": 1}, \"coloraxis\": {\"colorbar\": {\"outlinewidth\": 0, \"ticks\": \"\"}}, \"colorscale\": {\"diverging\": [[0, \"#8e0152\"], [0.1, \"#c51b7d\"], [0.2, \"#de77ae\"], [0.3, \"#f1b6da\"], [0.4, \"#fde0ef\"], [0.5, \"#f7f7f7\"], [0.6, \"#e6f5d0\"], [0.7, \"#b8e186\"], [0.8, \"#7fbc41\"], [0.9, \"#4d9221\"], [1, \"#276419\"]], \"sequential\": [[0.0, \"#0d0887\"], [0.1111111111111111, \"#46039f\"], [0.2222222222222222, \"#7201a8\"], [0.3333333333333333, \"#9c179e\"], [0.4444444444444444, \"#bd3786\"], [0.5555555555555556, \"#d8576b\"], [0.6666666666666666, \"#ed7953\"], [0.7777777777777778, \"#fb9f3a\"], [0.8888888888888888, \"#fdca26\"], [1.0, \"#f0f921\"]], \"sequentialminus\": [[0.0, \"#0d0887\"], [0.1111111111111111, \"#46039f\"], [0.2222222222222222, \"#7201a8\"], [0.3333333333333333, \"#9c179e\"], [0.4444444444444444, \"#bd3786\"], [0.5555555555555556, \"#d8576b\"], [0.6666666666666666, \"#ed7953\"], [0.7777777777777778, \"#fb9f3a\"], [0.8888888888888888, \"#fdca26\"], [1.0, \"#f0f921\"]]}, \"colorway\": [\"#636efa\", \"#EF553B\", \"#00cc96\", \"#ab63fa\", \"#FFA15A\", \"#19d3f3\", \"#FF6692\", \"#B6E880\", \"#FF97FF\", \"#FECB52\"], \"font\": {\"color\": \"#2a3f5f\"}, \"geo\": {\"bgcolor\": \"white\", \"lakecolor\": \"white\", \"landcolor\": \"#E5ECF6\", \"showlakes\": true, \"showland\": true, \"subunitcolor\": \"white\"}, \"hoverlabel\": {\"align\": \"left\"}, \"hovermode\": \"closest\", \"mapbox\": {\"style\": \"light\"}, \"paper_bgcolor\": \"white\", \"plot_bgcolor\": \"#E5ECF6\", \"polar\": {\"angularaxis\": {\"gridcolor\": \"white\", \"linecolor\": \"white\", \"ticks\": \"\"}, \"bgcolor\": \"#E5ECF6\", \"radialaxis\": {\"gridcolor\": \"white\", \"linecolor\": \"white\", \"ticks\": \"\"}}, \"scene\": {\"xaxis\": {\"backgroundcolor\": \"#E5ECF6\", \"gridcolor\": \"white\", \"gridwidth\": 2, \"linecolor\": \"white\", \"showbackground\": true, \"ticks\": \"\", \"zerolinecolor\": \"white\"}, \"yaxis\": {\"backgroundcolor\": \"#E5ECF6\", \"gridcolor\": \"white\", \"gridwidth\": 2, \"linecolor\": \"white\", \"showbackground\": true, \"ticks\": \"\", \"zerolinecolor\": \"white\"}, \"zaxis\": {\"backgroundcolor\": \"#E5ECF6\", \"gridcolor\": \"white\", \"gridwidth\": 2, \"linecolor\": \"white\", \"showbackground\": true, \"ticks\": \"\", \"zerolinecolor\": \"white\"}}, \"shapedefaults\": {\"line\": {\"color\": \"#2a3f5f\"}}, \"ternary\": {\"aaxis\": {\"gridcolor\": \"white\", \"linecolor\": \"white\", \"ticks\": \"\"}, \"baxis\": {\"gridcolor\": \"white\", \"linecolor\": \"white\", \"ticks\": \"\"}, \"bgcolor\": \"#E5ECF6\", \"caxis\": {\"gridcolor\": \"white\", \"linecolor\": \"white\", \"ticks\": \"\"}}, \"title\": {\"x\": 0.05}, \"xaxis\": {\"automargin\": true, \"gridcolor\": \"white\", \"linecolor\": \"white\", \"ticks\": \"\", \"title\": {\"standoff\": 15}, \"zerolinecolor\": \"white\", \"zerolinewidth\": 2}, \"yaxis\": {\"automargin\": true, \"gridcolor\": \"white\", \"linecolor\": \"white\", \"ticks\": \"\", \"title\": {\"standoff\": 15}, \"zerolinecolor\": \"white\", \"zerolinewidth\": 2}}}},\n",
       "                        {\"responsive\": true}\n",
       "                    ).then(function(){\n",
       "                            \n",
       "var gd = document.getElementById('8cf39271-886d-44dc-a202-8e8bc9dca582');\n",
       "var x = new MutationObserver(function (mutations, observer) {{\n",
       "        var display = window.getComputedStyle(gd).display;\n",
       "        if (!display || display === 'none') {{\n",
       "            console.log([gd, 'removed!']);\n",
       "            Plotly.purge(gd);\n",
       "            observer.disconnect();\n",
       "        }}\n",
       "}});\n",
       "\n",
       "// Listen for the removal of the full notebook cells\n",
       "var notebookContainer = gd.closest('#notebook-container');\n",
       "if (notebookContainer) {{\n",
       "    x.observe(notebookContainer, {childList: true});\n",
       "}}\n",
       "\n",
       "// Listen for the clearing of the current output cell\n",
       "var outputEl = gd.closest('.output');\n",
       "if (outputEl) {{\n",
       "    x.observe(outputEl, {childList: true});\n",
       "}}\n",
       "\n",
       "                        })\n",
       "                };\n",
       "                });\n",
       "            </script>\n",
       "        </div>"
      ]
     },
     "metadata": {},
     "output_type": "display_data"
    }
   ],
   "source": [
    "fig = px.scatter_matrix(my_df,\n",
    "    dimensions=[\"numberOfSentences\", \"wordCount\", \"meanWordLength\", \"maxWordLength\", \"wordsWithPunctuationPercentage\"],\n",
    "    color=\"author\")\n",
    "fig.update_traces(diagonal_visible=False)\n",
    "fig.show()"
   ]
  },
  {
   "cell_type": "markdown",
   "metadata": {},
   "source": [
    "### Comparaison du WordCount pour chaque auteur"
   ]
  },
  {
   "cell_type": "code",
   "execution_count": 98,
   "metadata": {},
   "outputs": [
    {
     "data": {
      "application/vnd.plotly.v1+json": {
       "config": {
        "plotlyServerURL": "https://plot.ly"
       },
       "data": [
        {
         "autobinx": false,
         "histnorm": "probability density",
         "legendgroup": "Zola",
         "marker": {
          "color": "rgb(31, 119, 180)"
         },
         "name": "Zola",
         "opacity": 0.7,
         "type": "histogram",
         "x": [
          48,
          49,
          88,
          43,
          25,
          247,
          29,
          31,
          30,
          200,
          62,
          20,
          34,
          58,
          24,
          127,
          105,
          23,
          166,
          112,
          114,
          244,
          96,
          162,
          201,
          62,
          113,
          61,
          29,
          33,
          169,
          28,
          28,
          28,
          22,
          91,
          88,
          34,
          176,
          90,
          35,
          69,
          43,
          36,
          27,
          51,
          27,
          29,
          23,
          96,
          23,
          22,
          82,
          65,
          106,
          25,
          36,
          41,
          52,
          210,
          178,
          53,
          108,
          31,
          183,
          31,
          72,
          59,
          28,
          163,
          22,
          46,
          172,
          129,
          87,
          88,
          24,
          33,
          25,
          280,
          61,
          24,
          53,
          25,
          60,
          73,
          55,
          74,
          176,
          31,
          43,
          299,
          107,
          88,
          302,
          40,
          229,
          113,
          180,
          32,
          235,
          49,
          15,
          65,
          56,
          35,
          25,
          135,
          41,
          43,
          35,
          43,
          48,
          41,
          107,
          34,
          40,
          56,
          67,
          50,
          42,
          42,
          289,
          28,
          237,
          85,
          69,
          29,
          28,
          22,
          28,
          21,
          117,
          212,
          22,
          42,
          34,
          68,
          166,
          25,
          68,
          27,
          35,
          181,
          59,
          90,
          33,
          159,
          114,
          69,
          106,
          27,
          37,
          188,
          53,
          79,
          22,
          47,
          24,
          78,
          209,
          239,
          36,
          28,
          29,
          88,
          41,
          79,
          35,
          78,
          152,
          176,
          46,
          24,
          37,
          157,
          275,
          53,
          43,
          300,
          50,
          152,
          61,
          29,
          23,
          54,
          39,
          89,
          60,
          27,
          22,
          61,
          71,
          288,
          58,
          44,
          28,
          130,
          24,
          63
         ],
         "xaxis": "x",
         "xbins": {
          "end": 302,
          "size": 1,
          "start": 15
         },
         "yaxis": "y"
        },
        {
         "autobinx": false,
         "histnorm": "probability density",
         "legendgroup": "Maupassant",
         "marker": {
          "color": "rgb(255, 127, 14)"
         },
         "name": "Maupassant",
         "opacity": 0.7,
         "type": "histogram",
         "x": [
          85,
          43,
          80,
          83,
          136,
          29,
          41,
          47,
          185,
          39,
          91,
          32,
          43,
          71,
          59,
          82,
          47,
          56,
          121,
          28,
          48,
          41,
          46,
          47,
          42,
          36,
          26,
          46,
          22,
          34,
          72,
          30,
          24,
          43,
          27,
          33,
          25,
          23,
          40,
          83,
          37,
          49,
          26,
          114,
          56,
          35,
          62,
          41,
          174,
          35,
          65,
          35,
          75,
          26,
          60,
          38,
          38,
          86,
          30,
          35,
          48,
          46,
          63,
          90,
          47,
          127,
          53,
          65,
          89,
          84,
          27,
          101,
          32,
          37,
          43,
          24,
          50,
          30,
          51,
          24,
          80,
          31,
          48,
          33,
          78,
          28,
          27,
          73,
          49,
          56,
          22,
          48,
          30,
          201,
          102,
          21,
          43,
          38,
          52,
          46,
          48,
          32,
          122,
          33,
          76,
          32,
          73,
          56,
          73,
          35,
          32,
          25,
          29,
          53,
          30,
          21,
          221,
          206,
          26,
          71,
          82,
          67,
          29,
          19,
          49,
          237,
          64,
          35,
          88,
          21,
          48,
          214,
          71,
          100,
          67,
          49,
          73,
          24,
          38,
          97,
          24,
          55,
          41,
          197,
          49,
          135,
          35,
          29,
          30,
          31,
          68,
          36,
          72,
          67,
          40,
          52,
          85,
          69,
          38,
          33,
          96,
          19,
          32,
          221,
          92,
          50,
          86,
          32,
          55,
          37,
          134,
          27,
          30,
          40,
          28,
          31,
          26,
          20,
          154,
          35,
          30,
          77,
          40,
          31,
          97,
          23,
          54,
          112,
          28,
          53,
          64,
          47,
          57,
          24,
          82,
          33,
          85,
          22,
          122,
          44
         ],
         "xaxis": "x",
         "xbins": {
          "end": 237,
          "size": 1,
          "start": 19
         },
         "yaxis": "y"
        },
        {
         "autobinx": false,
         "histnorm": "probability density",
         "legendgroup": "Balzac",
         "marker": {
          "color": "rgb(44, 160, 44)"
         },
         "name": "Balzac",
         "opacity": 0.7,
         "type": "histogram",
         "x": [
          110,
          34,
          93,
          50,
          40,
          114,
          36,
          34,
          26,
          85,
          32,
          42,
          189,
          57,
          718,
          26,
          179,
          22,
          119,
          26,
          38,
          97,
          256,
          23,
          103,
          31,
          88,
          20,
          178,
          34,
          22,
          25,
          26,
          51,
          62,
          42,
          26,
          39,
          99,
          116,
          27,
          238,
          24,
          39,
          35,
          301,
          47,
          25,
          980,
          25,
          226,
          168,
          961,
          101,
          29,
          30,
          46,
          203,
          283,
          21,
          27,
          37,
          190,
          25,
          94,
          1377,
          76,
          32,
          82,
          22,
          1187,
          42,
          1296,
          116,
          34,
          38,
          30,
          84,
          27,
          252,
          23,
          49,
          120,
          403,
          74,
          45,
          85,
          27,
          53,
          177,
          504,
          200,
          24,
          195,
          23,
          91,
          24,
          27,
          210,
          50,
          40,
          63,
          47,
          28,
          139,
          42,
          106,
          20,
          36,
          26,
          275,
          409,
          30,
          40,
          153,
          206,
          169,
          541,
          39,
          24,
          74,
          549,
          31,
          39,
          22,
          631,
          224,
          72,
          61,
          27,
          38,
          29,
          527,
          19,
          39,
          1727,
          1317,
          193,
          32,
          38,
          142,
          28,
          21,
          32,
          92,
          34,
          32,
          40,
          40,
          81,
          25,
          155,
          218,
          717,
          368,
          25,
          126,
          28,
          36,
          39,
          63,
          173,
          27,
          39,
          40,
          39,
          341,
          22,
          230,
          56,
          107,
          38,
          58,
          1351,
          55,
          172,
          41,
          72,
          44,
          63,
          24,
          33,
          487,
          22,
          485,
          48,
          32,
          389,
          35,
          138,
          66,
          79,
          16,
          19,
          59,
          26,
          63,
          21,
          137,
          133
         ],
         "xaxis": "x",
         "xbins": {
          "end": 1727,
          "size": 1,
          "start": 16
         },
         "yaxis": "y"
        },
        {
         "legendgroup": "Zola",
         "marker": {
          "color": "rgb(31, 119, 180)"
         },
         "mode": "lines",
         "name": "Zola",
         "showlegend": false,
         "type": "scatter",
         "x": [
          15,
          15.574,
          16.148,
          16.722,
          17.296,
          17.87,
          18.444,
          19.018,
          19.592,
          20.166,
          20.740000000000002,
          21.314,
          21.887999999999998,
          22.462,
          23.036,
          23.61,
          24.183999999999997,
          24.758,
          25.332,
          25.906,
          26.48,
          27.054000000000002,
          27.628,
          28.201999999999998,
          28.776,
          29.35,
          29.924,
          30.497999999999998,
          31.072,
          31.646,
          32.22,
          32.794,
          33.367999999999995,
          33.942,
          34.516,
          35.09,
          35.664,
          36.238,
          36.812,
          37.385999999999996,
          37.96,
          38.534,
          39.108000000000004,
          39.682,
          40.256,
          40.83,
          41.403999999999996,
          41.978,
          42.552,
          43.126000000000005,
          43.7,
          44.274,
          44.848,
          45.422,
          45.995999999999995,
          46.57,
          47.144,
          47.718,
          48.292,
          48.866,
          49.44,
          50.014,
          50.588,
          51.162,
          51.736,
          52.31,
          52.884,
          53.458,
          54.032,
          54.606,
          55.18,
          55.754,
          56.328,
          56.902,
          57.476,
          58.05,
          58.624,
          59.198,
          59.772,
          60.346,
          60.92,
          61.494,
          62.068,
          62.642,
          63.216,
          63.79,
          64.364,
          64.938,
          65.512,
          66.086,
          66.66,
          67.23400000000001,
          67.80799999999999,
          68.382,
          68.956,
          69.53,
          70.104,
          70.678,
          71.25200000000001,
          71.826,
          72.4,
          72.97399999999999,
          73.548,
          74.122,
          74.696,
          75.27000000000001,
          75.844,
          76.418,
          76.99199999999999,
          77.566,
          78.14,
          78.714,
          79.288,
          79.862,
          80.436,
          81.01,
          81.584,
          82.158,
          82.732,
          83.306,
          83.88,
          84.454,
          85.028,
          85.602,
          86.176,
          86.75,
          87.324,
          87.898,
          88.472,
          89.046,
          89.62,
          90.194,
          90.768,
          91.342,
          91.916,
          92.49,
          93.064,
          93.638,
          94.212,
          94.786,
          95.36,
          95.934,
          96.508,
          97.082,
          97.656,
          98.23,
          98.804,
          99.378,
          99.952,
          100.526,
          101.1,
          101.674,
          102.248,
          102.822,
          103.396,
          103.97,
          104.544,
          105.118,
          105.692,
          106.266,
          106.84,
          107.414,
          107.988,
          108.562,
          109.136,
          109.71,
          110.284,
          110.858,
          111.432,
          112.006,
          112.58,
          113.154,
          113.728,
          114.302,
          114.876,
          115.45,
          116.024,
          116.598,
          117.172,
          117.746,
          118.32,
          118.894,
          119.468,
          120.042,
          120.616,
          121.19,
          121.764,
          122.338,
          122.912,
          123.486,
          124.06,
          124.634,
          125.208,
          125.782,
          126.356,
          126.93,
          127.504,
          128.078,
          128.652,
          129.226,
          129.8,
          130.374,
          130.94799999999998,
          131.522,
          132.096,
          132.67000000000002,
          133.244,
          133.81799999999998,
          134.392,
          134.966,
          135.54000000000002,
          136.114,
          136.688,
          137.262,
          137.836,
          138.41,
          138.98399999999998,
          139.558,
          140.132,
          140.70600000000002,
          141.28,
          141.85399999999998,
          142.428,
          143.002,
          143.576,
          144.15,
          144.724,
          145.298,
          145.872,
          146.446,
          147.02,
          147.594,
          148.168,
          148.742,
          149.316,
          149.89,
          150.464,
          151.038,
          151.612,
          152.186,
          152.76,
          153.334,
          153.908,
          154.482,
          155.056,
          155.63,
          156.204,
          156.778,
          157.352,
          157.926,
          158.5,
          159.074,
          159.648,
          160.222,
          160.796,
          161.37,
          161.944,
          162.518,
          163.092,
          163.666,
          164.24,
          164.814,
          165.388,
          165.962,
          166.536,
          167.11,
          167.684,
          168.258,
          168.832,
          169.406,
          169.98,
          170.554,
          171.128,
          171.702,
          172.276,
          172.85,
          173.424,
          173.998,
          174.572,
          175.146,
          175.72,
          176.294,
          176.868,
          177.442,
          178.016,
          178.59,
          179.164,
          179.738,
          180.312,
          180.886,
          181.46,
          182.034,
          182.608,
          183.182,
          183.756,
          184.33,
          184.904,
          185.478,
          186.052,
          186.626,
          187.2,
          187.774,
          188.348,
          188.922,
          189.496,
          190.07,
          190.644,
          191.218,
          191.792,
          192.366,
          192.94,
          193.514,
          194.088,
          194.662,
          195.236,
          195.81,
          196.384,
          196.958,
          197.532,
          198.106,
          198.68,
          199.254,
          199.828,
          200.402,
          200.976,
          201.55,
          202.124,
          202.698,
          203.272,
          203.846,
          204.42,
          204.994,
          205.568,
          206.142,
          206.716,
          207.29,
          207.864,
          208.438,
          209.012,
          209.586,
          210.16,
          210.734,
          211.308,
          211.882,
          212.456,
          213.03,
          213.604,
          214.178,
          214.752,
          215.326,
          215.9,
          216.474,
          217.048,
          217.622,
          218.196,
          218.77,
          219.344,
          219.918,
          220.492,
          221.066,
          221.64,
          222.214,
          222.788,
          223.362,
          223.936,
          224.51,
          225.084,
          225.658,
          226.232,
          226.806,
          227.38,
          227.954,
          228.528,
          229.102,
          229.676,
          230.25,
          230.824,
          231.398,
          231.972,
          232.546,
          233.12,
          233.694,
          234.268,
          234.842,
          235.416,
          235.99,
          236.564,
          237.138,
          237.712,
          238.286,
          238.86,
          239.434,
          240.008,
          240.582,
          241.156,
          241.73,
          242.304,
          242.878,
          243.452,
          244.026,
          244.6,
          245.174,
          245.748,
          246.322,
          246.896,
          247.47,
          248.044,
          248.618,
          249.192,
          249.766,
          250.34,
          250.914,
          251.488,
          252.062,
          252.636,
          253.21,
          253.784,
          254.358,
          254.932,
          255.506,
          256.08000000000004,
          256.654,
          257.228,
          257.802,
          258.376,
          258.95,
          259.524,
          260.098,
          260.672,
          261.246,
          261.82,
          262.394,
          262.96799999999996,
          263.54200000000003,
          264.116,
          264.69,
          265.264,
          265.83799999999997,
          266.41200000000003,
          266.986,
          267.56,
          268.134,
          268.70799999999997,
          269.28200000000004,
          269.856,
          270.43,
          271.004,
          271.578,
          272.152,
          272.726,
          273.3,
          273.874,
          274.448,
          275.022,
          275.596,
          276.17,
          276.744,
          277.318,
          277.892,
          278.466,
          279.04,
          279.614,
          280.188,
          280.762,
          281.336,
          281.91,
          282.484,
          283.058,
          283.632,
          284.206,
          284.78,
          285.354,
          285.928,
          286.502,
          287.076,
          287.65,
          288.224,
          288.798,
          289.372,
          289.946,
          290.52,
          291.094,
          291.668,
          292.242,
          292.816,
          293.39,
          293.964,
          294.538,
          295.112,
          295.686,
          296.26,
          296.834,
          297.408,
          297.982,
          298.556,
          299.13,
          299.704,
          300.278,
          300.852,
          301.426
         ],
         "xaxis": "x",
         "y": [
          0.006440730037336462,
          0.006554171266421951,
          0.006666580119659259,
          0.006777848903779207,
          0.006887870556887627,
          0.006996538859214355,
          0.007103748643136327,
          0.0072093960018296205,
          0.007313378495907888,
          0.007415595357408565,
          0.00751594769049583,
          0.00761433866825897,
          0.007710673724997559,
          0.007804860743399718,
          0.007896810236037787,
          0.00798643552062536,
          0.008073652888502415,
          0.008158381765839783,
          0.00824054486708097,
          0.008320068340168045,
          0.008396881903129016,
          0.008470918971636288,
          0.008542116777179478,
          0.008610416475531197,
          0.008675763245220649,
          0.008738106375767073,
          0.008797399345463369,
          0.0088535998885389,
          0.00890667005156974,
          0.00895657623904394,
          0.009003289248028918,
          0.009046784291927592,
          0.009087041013348635,
          0.009124043486155014,
          0.00915778020679263,
          0.009188244075037967,
          0.00921543236433962,
          0.00923934668196329,
          0.009259992919183422,
          0.00927738119179631,
          0.009291525771260464,
          0.009302445006797938,
          0.009310161238817841,
          0.009314700704047565,
          0.009316093432780505,
          0.009314373138669677,
          0.009309577101515275,
          0.009301746043510657,
          0.009290923999425387,
          0.009277158181216074,
          0.009260498837565117,
          0.009240999108855376,
          0.009218714878093243,
          0.009193704618296368,
          0.009166029236862352,
          0.009135751917433859,
          0.009102937959771915,
          0.009067654618143623,
          0.009029970938723727,
          0.008989957596499419,
          0.008947686732157727,
          0.008903231789421508,
          0.008856667353286501,
          0.008808068989595987,
          0.00875751308637313,
          0.008705076697312672,
          0.008650837387814875,
          0.008594873083924419,
          0.008537261924516308,
          0.008478082117049038,
          0.00841741179718357,
          0.00835532889254384,
          0.008291910990871945,
          0.008227235212807976,
          0.008161378089501375,
          0.008094415445237898,
          0.008026422285242977,
          0.007957472688799866,
          0.007887639707798514,
          0.007816995270809285,
          0.0077456100927543224,
          0.007673553590228224,
          0.007600893802500183,
          0.007527697318209861,
          0.00745402920775082,
          0.00737995296131783,
          0.007305530432577128,
          0.00723082178790309,
          0.007155885461109671,
          0.007080778113591003,
          0.007005554599772439,
          0.006930267937761564,
          0.00685496928507748,
          0.006779707919326767,
          0.006704531223685595,
          0.006629484677039412,
          0.006554611848624593,
          0.006479954397010343,
          0.0064055520732541555,
          0.006331442728059552,
          0.006257662322761633,
          0.006184244943963351,
          0.006111222821643493,
          0.006038626350556385,
          0.00596648411474283,
          0.005894822914972124,
          0.00582366779893589,
          0.005753042094015701,
          0.005682967442448601,
          0.005613463838716894,
          0.005544549668991381,
          0.0054762417524603585,
          0.005408555384380358,
          0.005341504380687986,
          0.0052751011240168314,
          0.005209356610966912,
          0.005144280500479019,
          0.005079881163170621,
          0.005016165731494448,
          0.004953140150585693,
          0.004890809229668206,
          0.004829176693894923,
          0.004768245236502101,
          0.004708016571161753,
          0.004648491484420977,
          0.00458966988812133,
          0.004531550871695678,
          0.004474132754244126,
          0.004417413136294673,
          0.004361388951158113,
          0.004306056515790492,
          0.0042514115810800834,
          0.004197449381479214,
          0.004144164683904772,
          0.004091551835834245,
          0.004039604812527269,
          0.0039883172633056645,
          0.003937682556827544,
          0.003887693825294004,
          0.0038383440075292208,
          0.0037896258908775584,
          0.003741532151863361,
          0.0036940553955617838,
          0.0036471881936309828,
          0.0036009231209584345,
          0.003555252790876211,
          0.0035101698889023086,
          0.0034656672049672836,
          0.003421737664087579,
          0.003378374355449211,
          0.00333557055986766,
          0.003293319775592172,
          0.0032516157424249473,
          0.0032104524641280788,
          0.0031698242290937907,
          0.0031297256292557624,
          0.003090151577222333,
          0.0030510973216148793,
          0.0030125584605976874,
          0.002974530953588579,
          0.0029370111311425133,
          0.002899995703003784,
          0.002863481764325608,
          0.0028274668000593116,
          0.002791948687518913,
          0.002756925697130467,
          0.0027223964913792977,
          0.002688360121972084,
          0.002654816025234524,
          0.0026217640157695215,
          0.0025892042784046443,
          0.0025571373584617843,
          0.0025255641503861906,
          0.0024944858847759425,
          0.0024639041138573886,
          0.0024338206954560553,
          0.002404237775516761,
          0.0023751577692306927,
          0.0023465833408314912,
          0.0023185173821260166,
          0.0022909629898297387,
          0.0022639234417802735,
          0.0022374021721062866,
          0.002211402745432604,
          0.0021859288302056206,
          0.0021609841712264006,
          0.0021365725614817185,
          0.002112697813366221,
          0.0020893637293912895,
          0.0020665740724785876,
          0.0020443325359382177,
          0.002022642713233233,
          0.002001508067633703,
          0.0019809319018646134,
          0.0019609173278528048,
          0.0019414672366786445,
          0.0019225842688382203,
          0.001904270784921804,
          0.0018865288368136823,
          0.0018693601395176384,
          0.0018527660437111261,
          0.001836747509129507,
          0.001821305078879862,
          0.0018064388547814115,
          0.0017921484738270712,
          0.0017784330858573848,
          0.0017652913325349484,
          0.001752721327703457,
          0.0017407206392116045,
          0.001729286272277572,
          0.001718414654465172,
          0.0017081016223377506,
          0.0016983424098505726,
          0.0016891316385369804,
          0.0016804633095377488,
          0.0016723307975170586,
          0.001664726846502314,
          0.0016576435676785898,
          0.001651072439161943,
          0.0016450043077690958,
          0.0016394293927942311,
          0.0016343372917966379,
          0.0016297169883961059,
          0.0016255568620658373,
          0.0016218446999057203,
          0.0016185677103717953,
          0.0016157125389307805,
          0.0016132652856016864,
          0.0016112115243397645,
          0.0016095363242113942,
          0.0016082242723020768,
          0.0016072594982933265,
          0.0016066257006382555,
          0.0016063061742597302,
          0.001606283839689423,
          0.0016065412735607437,
          0.0016070607403636463,
          0.001607824225364664,
          0.001608813468591099,
          0.0016100099997744407,
          0.0016113951741444181,
          0.00161295020896196,
          0.0016146562206765323,
          0.001616494262590995,
          0.0016184453629152057,
          0.0016204905630880996,
          0.001622610956247038,
          0.0016247877257225432,
          0.0016270021834365461,
          0.0016292358080825596,
          0.0016314702829670139,
          0.0016336875333923305,
          0.0016358697634639048,
          0.0016379994922054743,
          0.001640059588869841,
          0.001642033307334985,
          0.0016439043194790566,
          0.0016456567474314912,
          0.001647275194601773,
          0.0016487447753919043,
          0.0016500511435035385,
          0.0016511805187559533,
          0.0016521197123366093,
          0.0016528561504117617,
          0.0016533778960307005,
          0.0016536736692633898,
          0.0016537328655178002,
          0.001653545571989797,
          0.0016531025822051901,
          0.0016523954086204867,
          0.0016514162932557588,
          0.0016501582163400258,
          0.0016486149029566297,
          0.001646780827682984,
          0.001644651217226092,
          0.0016422220510621,
          0.001639490060094901,
          0.0016364527233555417,
          0.0016331082627706003,
          0.0016294556360340806,
          0.0016254945276234997,
          0.001621225338006692,
          0.0016166491710915749,
          0.0016117678199763794,
          0.0016065837510630889,
          0.0016011000866014591,
          0.0015953205857355463,
          0.0015892496241287433,
          0.001582892172247122,
          0.0015762537723842524,
          0.0015693405145137491,
          0.0015621590110584656,
          0.001554716370667502,
          0.0015470201710941454,
          0.0015390784312694058,
          0.0015308995826668744,
          0.0015224924400555327,
          0.0015138661717374023,
          0.001505030269367071,
          0.001495994517449744,
          0.00148676896261384,
          0.001477363882753117,
          0.0014677897561319935,
          0.0014580572305461369,
          0.00144817709262838,
          0.0014381602373879287,
          0.0014280176380682534,
          0.0014177603164064244,
          0.0014073993133736976,
          0.0013969456604740111,
          0.001386410351673747,
          0.0013758043160326334,
          0.0013651383911019923,
          0.0013544232971528616,
          0.0013436696122925325,
          0.0013328877485242114,
          0.0013220879288004387,
          0.0013112801651167581,
          0.0013004742376881934,
          0.0012896796752467493,
          0.0012789057364942218,
          0.001268161392740341,
          0.0012574553117522865,
          0.0012467958428375259,
          0.001236191003177923,
          0.001225648465429201,
          0.0012151755465959232,
          0.0012047791981884288,
          0.0011944659976644864,
          0.0011842421411548344,
          0.0011741134374683067,
          0.0011640853033688967,
          0.0011541627601138423,
          0.0011443504312386736,
          0.0011346525415721754,
          0.0011250729174612727,
          0.0011156149881831011,
          0.0011062817885188476,
          0.0010970759624613859,
          0.0010879997680263251,
          0.0010790550831337596,
          0.0010702434125258124,
          0.0010615658956829616,
          0.0010530233157001868,
          0.0010446161090820428,
          0.0010363443764140462,
          0.0010282078938660668,
          0.0010202061254818372,
          0.0010123382362072243,
          0.0010046031056085466,
          0.0009969993422309067,
          0.0009895252985453451,
          0.0009821790864325208,
          0.0009749585931496277,
          0.0009678614977263477,
          0.0009608852877348466,
          0.000954027276378097,
          0.0009472846198402461,
          0.0009406543348421748,
          0.0009341333163450773,
          0.0009277183553445726,
          0.0009214061566976838,
          0.0009151933569249918,
          0.0009090765419303388,
          0.000903052264580678,
          0.0008971170620889789,
          0.0008912674731435927,
          0.000885500054728121,
          0.0008798113985765674,
          0.0008741981472095063,
          0.0008686570094980719,
          0.0008631847757038226,
          0.0008577783319439264,
          0.0008524346740327304,
          0.0008471509206524574,
          0.0008419243258077665,
          0.000836752290520934,
          0.0008316323737267208,
          0.0008265623023283896,
          0.0008215399803789493,
          0.0008165634973544653,
          0.0008116311354891733,
          0.0008067413761452487,
          0.0008018929051932693,
          0.0007970846173827831,
          0.0007923156196859013,
          0.0007875852336004267,
          0.0007828929964027611,
          0.0007782386613446535,
          0.0007736221967917565,
          0.0007690437843059183,
          0.0007645038156771821,
          0.000760002888915508,
          0.000755541803216325,
          0.0007511215529181188,
          0.0007467433204743116,
          0.000742408468465748,
          0.0007381185306840839,
          0.0007338752023202861,
          0.0007296803292962748,
          0.0007255358967814835,
          0.0007214440169396456,
          0.000717406915954619,
          0.0007134269203872845,
          0.0007095064429186775,
          0.0007056479675373741,
          0.0007018540342318581,
          0.0006981272232510068,
          0.0006944701389980341,
          0.0006908853936251709,
          0.0006873755903980119,
          0.0006839433068998281,
          0.0006805910781472361,
          0.0006773213796893902,
          0.0006741366107633242,
          0.0006710390775782473,
          0.0006680309768014157,
          0.0006651143793177413,
          0.0006622912143344871,
          0.0006595632539013013,
          0.000656932097914393,
          0.0006543991596719331,
          0.0006519656520457063,
          0.0006496325743317255,
          0.0006474006998398764,
          0.000645270564279784,
          0.0006432424549969301,
          0.0006413164011096538,
          0.0006394921645940233,
          0.0006377692323597343,
          0.0006361468093561272,
          0.0006346238127432111,
          0.0006331988671581684,
          0.0006318703011033304,
          0.0006306361444769332,
          0.0006294941272632581,
          0.0006284416793939284,
          0.0006274759317872876,
          0.0006265937185678771,
          0.0006257915804631488,
          0.0006250657693696485,
          0.0006244122540760779,
          0.0006238267271258504,
          0.0006233046127970532,
          0.0006228410761731449,
          0.0006224310332732174,
          0.0006220691622063564,
          0.0006217499153104364,
          0.000621467532231717,
          0.000621216053897825,
          0.000620989337333113,
          0.0006207810712620709,
          0.0006205847924433345,
          0.0006203939026740182,
          0.0006202016864015029,
          0.000620001328877515,
          0.000619785934787312,
          0.0006195485472850668,
          0.0006192821673651141,
          0.0006189797734975981,
          0.0006186343414562264,
          0.0006182388642653408,
          0.0006177863721932795,
          0.0006172699527191157,
          0.0006166827704002411,
          0.0006160180865689605,
          0.0006152692787872357,
          0.0006144298599899958,
          0.0006134934972489615,
          0.0006124540300907491,
          0.000611305488305082,
          0.0006100421091812528,
          0.0006086583541135275,
          0.0006071489245189442,
          0.000605508777013937,
          0.0006037331377993797,
          0.0006018175162069844,
          0.0005997577173634909,
          0.0005975498539327318,
          0.000595190356899423,
          0.0005926759853624226,
          0.0005900038353091617,
          0.0005871713473470098,
          0.0005841763133714329,
          0.0005810168821549531,
          0.0005776915638450715,
          0.0005741992333634975,
          0.0005705391327031586,
          0.0005667108721236072,
          0.0005627144302494878,
          0.0005585501530807546,
          0.000554218751927243,
          0.0005497213002840232,
          0.0005450592296676911,
          0.0005402343244373288,
          0.0005352487156273377,
          0.000530104873822623,
          0.0005248056011097702,
          0.0005193540221407955,
          0.0005137535743488459
         ],
         "yaxis": "y"
        },
        {
         "legendgroup": "Maupassant",
         "marker": {
          "color": "rgb(255, 127, 14)"
         },
         "mode": "lines",
         "name": "Maupassant",
         "showlegend": false,
         "type": "scatter",
         "x": [
          19,
          19.436,
          19.872,
          20.308,
          20.744,
          21.18,
          21.616,
          22.052,
          22.488,
          22.924,
          23.36,
          23.796,
          24.232,
          24.668,
          25.104,
          25.54,
          25.976,
          26.412,
          26.848,
          27.284,
          27.72,
          28.156,
          28.592,
          29.028,
          29.464,
          29.9,
          30.336,
          30.772,
          31.208,
          31.644,
          32.08,
          32.516,
          32.952,
          33.388,
          33.824,
          34.26,
          34.696,
          35.132000000000005,
          35.568,
          36.004000000000005,
          36.44,
          36.876000000000005,
          37.312,
          37.748000000000005,
          38.184,
          38.620000000000005,
          39.056,
          39.492000000000004,
          39.928,
          40.364000000000004,
          40.8,
          41.236000000000004,
          41.672,
          42.108000000000004,
          42.544,
          42.980000000000004,
          43.416,
          43.852000000000004,
          44.288,
          44.724000000000004,
          45.16,
          45.596000000000004,
          46.032,
          46.468,
          46.903999999999996,
          47.34,
          47.775999999999996,
          48.212,
          48.647999999999996,
          49.084,
          49.519999999999996,
          49.956,
          50.391999999999996,
          50.828,
          51.264,
          51.7,
          52.136,
          52.572,
          53.008,
          53.444,
          53.88,
          54.316,
          54.752,
          55.188,
          55.624,
          56.06,
          56.496,
          56.932,
          57.368,
          57.804,
          58.24,
          58.676,
          59.112,
          59.548,
          59.984,
          60.42,
          60.856,
          61.292,
          61.728,
          62.164,
          62.6,
          63.036,
          63.472,
          63.908,
          64.344,
          64.78,
          65.21600000000001,
          65.652,
          66.088,
          66.524,
          66.96000000000001,
          67.396,
          67.832,
          68.268,
          68.70400000000001,
          69.14,
          69.576,
          70.012,
          70.44800000000001,
          70.884,
          71.32,
          71.756,
          72.19200000000001,
          72.628,
          73.064,
          73.5,
          73.936,
          74.372,
          74.80799999999999,
          75.244,
          75.68,
          76.116,
          76.55199999999999,
          76.988,
          77.424,
          77.86,
          78.29599999999999,
          78.732,
          79.168,
          79.604,
          80.03999999999999,
          80.476,
          80.912,
          81.348,
          81.78399999999999,
          82.22,
          82.656,
          83.092,
          83.528,
          83.964,
          84.4,
          84.836,
          85.272,
          85.708,
          86.144,
          86.58,
          87.016,
          87.452,
          87.888,
          88.324,
          88.76,
          89.196,
          89.632,
          90.068,
          90.504,
          90.94,
          91.376,
          91.812,
          92.248,
          92.684,
          93.12,
          93.556,
          93.992,
          94.428,
          94.864,
          95.3,
          95.736,
          96.172,
          96.608,
          97.044,
          97.48,
          97.916,
          98.352,
          98.788,
          99.224,
          99.66,
          100.096,
          100.532,
          100.968,
          101.404,
          101.84,
          102.276,
          102.712,
          103.148,
          103.584,
          104.02,
          104.456,
          104.892,
          105.328,
          105.764,
          106.2,
          106.636,
          107.072,
          107.508,
          107.944,
          108.38,
          108.816,
          109.252,
          109.688,
          110.124,
          110.56,
          110.996,
          111.432,
          111.868,
          112.304,
          112.74,
          113.176,
          113.612,
          114.048,
          114.484,
          114.92,
          115.356,
          115.792,
          116.228,
          116.664,
          117.1,
          117.536,
          117.972,
          118.408,
          118.844,
          119.28,
          119.716,
          120.152,
          120.588,
          121.024,
          121.46,
          121.896,
          122.332,
          122.768,
          123.204,
          123.64,
          124.076,
          124.512,
          124.948,
          125.384,
          125.82,
          126.256,
          126.692,
          127.128,
          127.564,
          128,
          128.436,
          128.872,
          129.308,
          129.744,
          130.18,
          130.61599999999999,
          131.05200000000002,
          131.488,
          131.924,
          132.36,
          132.796,
          133.232,
          133.668,
          134.10399999999998,
          134.54000000000002,
          134.976,
          135.412,
          135.848,
          136.284,
          136.72,
          137.156,
          137.59199999999998,
          138.02800000000002,
          138.464,
          138.9,
          139.336,
          139.772,
          140.208,
          140.644,
          141.07999999999998,
          141.51600000000002,
          141.952,
          142.388,
          142.824,
          143.26,
          143.696,
          144.132,
          144.56799999999998,
          145.00400000000002,
          145.44,
          145.876,
          146.312,
          146.748,
          147.184,
          147.62,
          148.056,
          148.492,
          148.928,
          149.364,
          149.8,
          150.236,
          150.672,
          151.108,
          151.544,
          151.98,
          152.416,
          152.852,
          153.288,
          153.724,
          154.16,
          154.596,
          155.032,
          155.468,
          155.904,
          156.34,
          156.776,
          157.212,
          157.648,
          158.084,
          158.52,
          158.956,
          159.392,
          159.828,
          160.264,
          160.7,
          161.136,
          161.572,
          162.008,
          162.444,
          162.88,
          163.316,
          163.752,
          164.188,
          164.624,
          165.06,
          165.496,
          165.932,
          166.368,
          166.804,
          167.24,
          167.676,
          168.112,
          168.548,
          168.984,
          169.42,
          169.856,
          170.292,
          170.728,
          171.164,
          171.6,
          172.036,
          172.472,
          172.908,
          173.344,
          173.78,
          174.216,
          174.652,
          175.088,
          175.524,
          175.96,
          176.396,
          176.832,
          177.268,
          177.704,
          178.14,
          178.576,
          179.012,
          179.448,
          179.884,
          180.32,
          180.756,
          181.192,
          181.628,
          182.064,
          182.5,
          182.936,
          183.372,
          183.808,
          184.244,
          184.68,
          185.116,
          185.552,
          185.988,
          186.424,
          186.86,
          187.296,
          187.732,
          188.168,
          188.604,
          189.04,
          189.476,
          189.912,
          190.348,
          190.784,
          191.22,
          191.656,
          192.092,
          192.528,
          192.964,
          193.4,
          193.836,
          194.272,
          194.708,
          195.144,
          195.58,
          196.016,
          196.452,
          196.888,
          197.324,
          197.76,
          198.196,
          198.632,
          199.068,
          199.504,
          199.94,
          200.376,
          200.812,
          201.248,
          201.684,
          202.12,
          202.556,
          202.992,
          203.428,
          203.864,
          204.3,
          204.736,
          205.172,
          205.608,
          206.044,
          206.48,
          206.916,
          207.352,
          207.788,
          208.224,
          208.66,
          209.096,
          209.532,
          209.968,
          210.404,
          210.84,
          211.276,
          211.712,
          212.148,
          212.584,
          213.02,
          213.456,
          213.892,
          214.328,
          214.764,
          215.2,
          215.636,
          216.072,
          216.508,
          216.944,
          217.38,
          217.816,
          218.252,
          218.688,
          219.124,
          219.56,
          219.996,
          220.432,
          220.868,
          221.304,
          221.74,
          222.176,
          222.612,
          223.048,
          223.484,
          223.92,
          224.356,
          224.792,
          225.228,
          225.664,
          226.1,
          226.536,
          226.972,
          227.408,
          227.844,
          228.28,
          228.716,
          229.152,
          229.588,
          230.024,
          230.46,
          230.896,
          231.332,
          231.768,
          232.204,
          232.64,
          233.076,
          233.512,
          233.948,
          234.384,
          234.82,
          235.256,
          235.692,
          236.128,
          236.564
         ],
         "xaxis": "x",
         "y": [
          0.009292474984171758,
          0.009512277555861195,
          0.009730900428939612,
          0.009948062504485456,
          0.010163482219937453,
          0.01037687830546546,
          0.010587970544998366,
          0.010796480538666112,
          0.011002132463395983,
          0.01120465382840712,
          0.011403776222370132,
          0.011599236049042413,
          0.011790775248252214,
          0.011978141999186587,
          0.012161091403038254,
          0.012339386142184416,
          0.0125127971132047,
          0.012681104031195278,
          0.012844096003000644,
          0.013001572067161382,
          0.013153341698565212,
          0.013299225275987505,
          0.01343905451091482,
          0.013572672836259108,
          0.013699935753789983,
          0.013820711139335301,
          0.013934879505025461,
          0.014042334218081287,
          0.014142981675869762,
          0.014236741437171645,
          0.014323546309821238,
          0.014403342395088147,
          0.014476089089372902,
          0.014541759043982158,
          0.014600338083931845,
          0.01465182508689953,
          0.014696231823607096,
          0.014733582761062583,
          0.014763914830223556,
          0.014787277159764866,
          0.014803730777738423,
          0.014813348283003847,
          0.014816213488385223,
          0.014812421037569757,
          0.014802075997811704,
          0.014785293430537074,
          0.014762197941963843,
          0.01473292321585763,
          0.014697611530535669,
          0.01465641326221326,
          0.014609486376756924,
          0.01455699591186763,
          0.014499113451669038,
          0.014436016595616984,
          0.014367888423582388,
          0.01429491695888796,
          0.014217294631003215,
          0.014135217739521378,
          0.014048885920958813,
          0.01395850161983086,
          0.013864269565371904,
          0.013766396255179399,
          0.013665089446974822,
          0.013560557659589096,
          0.013453009684195452,
          0.013342654106732316,
          0.013229698842379189,
          0.013114350682875085,
          0.012996814857396375,
          0.012877294607644816,
          0.012755990777733315,
          0.01263310141939838,
          0.012508821413013774,
          0.012383342104830044,
          0.012256850960818891,
          0.01212953123745855,
          0.012001561669759221,
          0.011873116176791569,
          0.011744363584950138,
          0.011615467369153802,
          0.011486585412158842,
          0.01135786978213482,
          0.011229466528629653,
          0.011101515497027883,
          0.010974150161583944,
          0.01084749747708988,
          0.010721677749215617,
          0.010596804523536516,
          0.010472984493239822,
          0.010350317425476832,
          0.010228896106301491,
          0.01010880630410888,
          0.00999012675145708,
          0.009872929145125641,
          0.009757278164230093,
          0.009643231506177815,
          0.009530839940213576,
          0.009420147378264939,
          0.009311190962757938,
          0.009204001171032351,
          0.009098601935943475,
          0.008995010782194285,
          0.008893238977898378,
          0.008793291700829731,
          0.00869516821877203,
          0.008598862083336618,
          0.008504361336575512,
          0.008411648729674964,
          0.008320701952974702,
          0.008231493876520442,
          0.008143992800321428,
          0.008058162713451812,
          0.007973963561104263,
          0.007891351518677675,
          0.007810279271956865,
          0.007730696302422868,
          0.007652549176715938,
          0.007575781839262402,
          0.007500335907068043,
          0.007426150965678167,
          0.007353164865305133,
          0.0072813140161299165,
          0.0072105336817941245,
          0.0071407582701129655,
          0.0070719216200584595,
          0.0070039572840846645,
          0.006936798804893374,
          0.006870379985769173,
          0.006804635153647113,
          0.0067394994141133915,
          0.006674908897580437,
          0.006610800995921106,
          0.0065471145888931995,
          0.006483790259733749,
          0.0064207704993530625,
          0.006357999898611299,
          0.006295425328213207,
          0.006232996105812339,
          0.006170664149971151,
          0.006108384120679647,
          0.00604611354619175,
          0.005983812935994661,
          0.0059214458797824925,
          0.005858979132360869,
          0.005796382684463443,
          0.005733629819514893,
          0.005670697156426874,
          0.005607564678564008,
          0.005544215749065757,
          0.005480637112757156,
          0.005416818884926158,
          0.00535275452728824,
          0.0052884408114993835,
          0.0052238777706167545,
          0.005159068638941931,
          0.005094019780714831,
          0.005028740608157121,
          0.004963243489391392,
          0.004897543646788377,
          0.004831659046316492,
          0.0047656102784882776,
          0.004699420431515676,
          0.004633114957300546,
          0.004566721530899185,
          0.004500269904109012,
          0.004433791753832619,
          0.004367320525879092,
          0.0043008912748645515,
          0.004234540500873762,
          0.004168305983542379,
          0.00410222661421457,
          0.0040363422268243085,
          0.003970693428139745,
          0.0039053214279994677,
          0.003840267870156947,
          0.0037755746643350786,
          0.003711283820076973,
          0.0036474372829612954,
          0.0035840767737315535,
          0.0035212436308682785,
          0.003458978657111071,
          0.0033973219704145664,
          0.003336312859798162,
          0.003275989646524004,
          0.003216389551011694,
          0.003157548565870943,
          0.0030995013354056084,
          0.0030422810419139914,
          0.00298591929908108,
          0.002930446052728837,
          0.0028758894891603892,
          0.002822275951303784,
          0.0027696298628300587,
          0.002717973660389772,
          0.0026673277340811857,
          0.002617710376232464,
          0.002569137738549526,
          0.00252162379765082,
          0.0024751803289798984,
          0.0024298168890570983,
          0.0023855408060021906,
          0.0023423571782312325,
          0.0023002688812027655,
          0.002259276582061215,
          0.002219378761998919,
          0.0021805717461326883,
          0.002142849740666248,
          0.0021062048770865717,
          0.002070627263119756,
          0.002036105040151184,
          0.0020026244467949315,
          0.001970169888279101,
          0.0019387240112968454,
          0.0019082677839574714,
          0.0018787805804581774,
          0.0018502402700846634,
          0.0018226233101382994,
          0.001795904842378518,
          0.001770058792561818,
          0.001745057972653227,
          0.001720874185282175,
          0.001697478330012588,
          0.0016748405109966232,
          0.0016529301455827342,
          0.0016317160734516765,
          0.001611166665858791,
          0.001591249934567049,
          0.0015719336400632686,
          0.0015531853986592448,
          0.0015349727880904235,
          0.0015172634512369896,
          0.0015000251976059781,
          0.0014832261022277994,
          0.0014668346016368486,
          0.0014508195866229988,
          0.0014351504914591794,
          0.0014197973793293429,
          0.0014047310237013783,
          0.0013899229854102211,
          0.0013753456852380152,
          0.001360972471800186,
          0.001346777684568875,
          0.0013327367118879379,
          0.001318826043856963,
          0.0013050233199849643,
          0.0012913073715377424,
          0.0012776582585261747,
          0.0012640573013058287,
          0.0012504871067811646,
          0.0012369315892300627,
          0.0012233759857866102,
          0.0012098068666415377,
          0.001196212140040702,
          0.0011825810521822761,
          0.001168904182132742,
          0.0011551734319004711,
          0.0011413820118232848,
          0.0011275244214432353,
          0.001113596426057353,
          0.0010995950291477555,
          0.001085518440907864,
          0.0010713660430935964,
          0.0010571383504393507,
          0.0010428369688881911,
          0.0010284645508939097,
          0.0010140247480596022,
          0.0009995221613829219,
          0.0009849622893823655,
          0.0009703514743817507,
          0.0009556968472314161,
          0.0009410062707446992,
          0.0009262882821269499,
          0.0009115520346715722,
          0.0008968072389936497,
          0.0008820641040664535,
          0.0008673332783195078,
          0.0008526257910493757,
          0.000837952994385366,
          0.0008233265060425753,
          0.0008087581530837963,
          0.0007942599169000722,
          0.0007798438796070486,
          0.0007655221720410079,
          0.000751306923524392,
          0.0007372102135561857,
          0.0007232440255674792,
          0.0007094202028672382,
          0.0006957504068876998,
          0.0006822460778231228,
          0.000668918397739848,
          0.0006557782562199746,
          0.0006428362185853976,
          0.0006301024967337814,
          0.0006175869226031265,
          0.0006052989242672186,
          0.000593247504650387,
          0.0005814412228367763,
          0.0005698881779368378,
          0.0005585959954619893,
          0.0005475718161475129,
          0.0005368222871537235,
          0.0005263535555663422,
          0.0005161712641088971,
          0.0005062805489728095,
          0.0004966860396646527,
          0.0004873918607649383,
          0.0004784016354886037,
          0.00046971849093418994,
          0.0004613450649064728,
          0.000453283514195986,
          0.0004455355241984454,
          0.00043810231975751165,
          0.0004309846771154399,
          0.00042418293685813117,
          0.00041769701774359747,
          0.00041152643130598534,
          0.0004056702971309378,
          0.0004001273587021467,
          0.0003948959997233464,
          0.0003899742608247226,
          0.00038535985656761046,
          0.0003810501926663887,
          0.0003770423833515854,
          0.00037333326880331435,
          0.00036991943258917007,
          0.0003667972190456418,
          0.00036396275054681633,
          0.0003614119446086665,
          0.0003591405307814705,
          0.00035714406728687306,
          0.00035541795735976385,
          0.00035395746525846496,
          0.0003527577319097285,
          0.0003518137901576894,
          0.0003511205795882584,
          0.00035067296090244215,
          0.00035046572981379387,
          0.000350493630446639,
          0.00035075136821290624,
          0.0003512336221463931,
          0.00035193505667409163,
          0.00035285033280489626,
          0.0003539741187166013,
          0.0003553010997226377,
          0.00035682598760055436,
          0.0003585435292648316,
          0.00036044851476727967,
          0.00036253578460907507,
          0.00036480023634944097,
          0.00036723683049711195,
          0.0003698405956721003,
          0.0003726066330268815,
          0.000375530119917987,
          0.00037860631282114705,
          0.00038183054948552885,
          0.0003851982503253459,
          0.0003887049190500791,
          0.000392346142537785,
          0.00039611758995947914,
          0.00040001501116624527,
          0.00040403423435465336,
          0.00040817116303009114,
          0.0004124217722917881,
          0.000416782104467535,
          0.0004212482641303771,
          0.00042581641253377795,
          0.0004304827615059141,
          0.00043524356684780213,
          0.000440095121283802,
          0.00044503374701666744,
          0.00045005578794265355,
          0.0004551576015852033,
          0.0004603355508083771,
          0.00046558599537339766,
          0.00047090528340347845,
          0.00047628974282335666,
          0.0004817356728407644,
          0.00048723933553728474,
          0.0004927969476357717,
          0.0004984046725106382,
          0.0005040586125059311,
          0.0005097548016241596,
          0.000515489198646366,
          0.0005212576807409334,
          0.0005270560376151474,
          0.0005328799662596038,
          0.0005387250663311938,
          0.000544586836215698,
          0.0005504606698059528,
          0.000556341854026266,
          0.0005622255671281986,
          0.0005681068777771632,
          0.0005739807449434706,
          0.0005798420186056604,
          0.0005856854412681045,
          0.000591505650289169,
          0.0005972971810106204,
          0.0006030544706735549,
          0.000608771863100994,
          0.000614443614122424,
          0.0006200638977110255,
          0.0006256268128002284,
          0.0006311263907424613,
          0.0006365566033696983,
          0.0006419113716125565,
          0.0006471845746323466,
          0.000652370059418592,
          0.000657461650803149,
          0.0006624531618411239,
          0.0006673384045083516,
          0.0006721112006651791,
          0.0006767653932367386,
          0.0006812948575606813,
          0.0006856935128545692,
          0.0006899553337565813,
          0.0006940743618950262,
          0.0006980447174441459,
          0.000701860610625966,
          0.0007055163531202916,
          0.0007090063693474569,
          0.00071232520759096,
          0.0007154675509296689,
          0.0007184282279518133,
          0.0007212022232253965,
          0.0007237846875020319,
          0.0007261709476333693,
          0.0007283565161813168,
          0.000730337100705079,
          0.0007321086127096427,
          0.0007336671762417188,
          0.0007350091361202984,
          0.0007361310657898737,
          0.0007370297747850623,
          0.0007377023157957908,
          0.0007381459913224546,
          0.0007383583599104833,
          0.0007383372419536228,
          0.000738080725054975,
          0.0007375871689344471,
          0.000736855209870799,
          0.0007358837646659942,
          0.0007346720341190319,
          0.0007332195059959867,
          0.0007315259574825765,
          0.0007295914571052896,
          0.0007274163661069616,
          0.0007250013392627204,
          0.0007223473251224598,
          0.0007194555656664733,
          0.0007163275953616092,
          0.0007129652396063023,
          0.0007093706125541347,
          0.0007055461143071425,
          0.0007014944274719633,
          0.0006972185130740775,
          0.0006927216058278333,
          0.0006880072087626528,
          0.0006830790872087447,
          0.0006779412621488299,
          0.0006725980029457051,
          0.0006670538194589878,
          0.0006613134535679555,
          0.0006553818701210928,
          0.0006492642473366154,
          0.0006429659666819422,
          0.0006364926022636337,
          0.0006298499097628228,
          0.0006230438149544361,
          0.0006160804018516003,
          0.0006089659005194503,
          0.0006017066746050634,
          0.0005943092086324374,
          0.0005867800951132329,
          0.0005791260215253806,
          0.0005713537572126495,
          0.0005634701402587765,
          0.0005554820643898262,
          0.0005473964659580289,
          0.0005392203110594942,
          0.0005309605828368191,
          0.0005226242690158625,
          0.0005142183497236952,
          0.0005057497856321278,
          0.0004972255064681829,
          0.000488652399929554,
          0.0004800373010393792,
          0.0004713869819707806,
          0.00046270814236743163,
          0.00045400740018213594,
          0.0004452912830509459,
          0.00043656622021586447,
          0.00042783853500466394,
          0.0004191144378719054,
          0.0004104000200008244,
          0.0004017012474615714,
          0.0003930239559172098,
          0.00038437384586507934,
          0.00037575647839760033,
          0.00036717727146334307,
          0.00035864149660634116
         ],
         "yaxis": "y"
        },
        {
         "legendgroup": "Balzac",
         "marker": {
          "color": "rgb(44, 160, 44)"
         },
         "mode": "lines",
         "name": "Balzac",
         "showlegend": false,
         "type": "scatter",
         "x": [
          16,
          19.422,
          22.844,
          26.266,
          29.688000000000002,
          33.11,
          36.532,
          39.954,
          43.376000000000005,
          46.798,
          50.22,
          53.642,
          57.064,
          60.486,
          63.908,
          67.33,
          70.75200000000001,
          74.174,
          77.596,
          81.018,
          84.44,
          87.862,
          91.284,
          94.706,
          98.128,
          101.55,
          104.972,
          108.394,
          111.816,
          115.238,
          118.66,
          122.082,
          125.504,
          128.926,
          132.348,
          135.76999999999998,
          139.192,
          142.614,
          146.036,
          149.458,
          152.88,
          156.302,
          159.724,
          163.146,
          166.568,
          169.99,
          173.412,
          176.834,
          180.256,
          183.678,
          187.1,
          190.522,
          193.944,
          197.366,
          200.788,
          204.21,
          207.632,
          211.054,
          214.476,
          217.898,
          221.32,
          224.742,
          228.164,
          231.586,
          235.008,
          238.43,
          241.852,
          245.274,
          248.696,
          252.118,
          255.54,
          258.962,
          262.384,
          265.80600000000004,
          269.228,
          272.65,
          276.072,
          279.494,
          282.916,
          286.338,
          289.76,
          293.182,
          296.604,
          300.026,
          303.448,
          306.87,
          310.292,
          313.714,
          317.136,
          320.558,
          323.98,
          327.402,
          330.824,
          334.246,
          337.668,
          341.09,
          344.512,
          347.934,
          351.356,
          354.778,
          358.2,
          361.622,
          365.044,
          368.466,
          371.888,
          375.31,
          378.732,
          382.154,
          385.576,
          388.998,
          392.42,
          395.842,
          399.264,
          402.686,
          406.108,
          409.53,
          412.952,
          416.374,
          419.796,
          423.218,
          426.64,
          430.062,
          433.484,
          436.906,
          440.328,
          443.75,
          447.172,
          450.594,
          454.016,
          457.438,
          460.86,
          464.282,
          467.704,
          471.126,
          474.548,
          477.97,
          481.392,
          484.814,
          488.236,
          491.658,
          495.08,
          498.502,
          501.924,
          505.346,
          508.768,
          512.19,
          515.6120000000001,
          519.034,
          522.456,
          525.8779999999999,
          529.3,
          532.722,
          536.144,
          539.566,
          542.988,
          546.41,
          549.832,
          553.254,
          556.676,
          560.098,
          563.52,
          566.942,
          570.364,
          573.786,
          577.208,
          580.63,
          584.052,
          587.474,
          590.896,
          594.318,
          597.74,
          601.162,
          604.584,
          608.006,
          611.428,
          614.85,
          618.272,
          621.694,
          625.116,
          628.538,
          631.96,
          635.382,
          638.804,
          642.226,
          645.648,
          649.07,
          652.492,
          655.914,
          659.336,
          662.758,
          666.18,
          669.602,
          673.024,
          676.446,
          679.868,
          683.29,
          686.712,
          690.134,
          693.556,
          696.978,
          700.4,
          703.822,
          707.244,
          710.666,
          714.088,
          717.51,
          720.932,
          724.354,
          727.776,
          731.198,
          734.62,
          738.042,
          741.464,
          744.886,
          748.308,
          751.73,
          755.152,
          758.574,
          761.996,
          765.418,
          768.84,
          772.262,
          775.684,
          779.106,
          782.528,
          785.95,
          789.372,
          792.794,
          796.216,
          799.638,
          803.06,
          806.482,
          809.904,
          813.326,
          816.748,
          820.17,
          823.592,
          827.014,
          830.436,
          833.858,
          837.28,
          840.702,
          844.124,
          847.546,
          850.968,
          854.39,
          857.812,
          861.234,
          864.656,
          868.078,
          871.5,
          874.922,
          878.344,
          881.766,
          885.188,
          888.61,
          892.032,
          895.454,
          898.876,
          902.298,
          905.72,
          909.142,
          912.564,
          915.986,
          919.408,
          922.83,
          926.252,
          929.674,
          933.096,
          936.518,
          939.94,
          943.362,
          946.784,
          950.206,
          953.628,
          957.05,
          960.472,
          963.894,
          967.316,
          970.738,
          974.16,
          977.582,
          981.004,
          984.426,
          987.848,
          991.27,
          994.692,
          998.114,
          1001.536,
          1004.958,
          1008.38,
          1011.802,
          1015.224,
          1018.646,
          1022.068,
          1025.49,
          1028.912,
          1032.3339999999998,
          1035.7559999999999,
          1039.1779999999999,
          1042.6,
          1046.022,
          1049.444,
          1052.866,
          1056.288,
          1059.71,
          1063.132,
          1066.554,
          1069.976,
          1073.398,
          1076.82,
          1080.242,
          1083.664,
          1087.086,
          1090.508,
          1093.93,
          1097.352,
          1100.774,
          1104.196,
          1107.618,
          1111.04,
          1114.462,
          1117.884,
          1121.306,
          1124.728,
          1128.15,
          1131.572,
          1134.994,
          1138.416,
          1141.838,
          1145.26,
          1148.682,
          1152.104,
          1155.526,
          1158.948,
          1162.37,
          1165.792,
          1169.214,
          1172.636,
          1176.058,
          1179.48,
          1182.902,
          1186.324,
          1189.746,
          1193.168,
          1196.59,
          1200.012,
          1203.434,
          1206.856,
          1210.278,
          1213.7,
          1217.122,
          1220.544,
          1223.966,
          1227.388,
          1230.81,
          1234.232,
          1237.654,
          1241.076,
          1244.498,
          1247.92,
          1251.342,
          1254.764,
          1258.186,
          1261.608,
          1265.03,
          1268.452,
          1271.874,
          1275.296,
          1278.718,
          1282.14,
          1285.562,
          1288.984,
          1292.406,
          1295.828,
          1299.25,
          1302.672,
          1306.094,
          1309.516,
          1312.938,
          1316.36,
          1319.782,
          1323.204,
          1326.626,
          1330.048,
          1333.47,
          1336.892,
          1340.314,
          1343.736,
          1347.158,
          1350.58,
          1354.002,
          1357.424,
          1360.846,
          1364.268,
          1367.69,
          1371.112,
          1374.534,
          1377.956,
          1381.378,
          1384.8,
          1388.222,
          1391.644,
          1395.066,
          1398.488,
          1401.91,
          1405.332,
          1408.754,
          1412.176,
          1415.598,
          1419.02,
          1422.442,
          1425.864,
          1429.286,
          1432.708,
          1436.13,
          1439.552,
          1442.974,
          1446.396,
          1449.818,
          1453.24,
          1456.662,
          1460.084,
          1463.506,
          1466.928,
          1470.35,
          1473.772,
          1477.194,
          1480.616,
          1484.038,
          1487.46,
          1490.882,
          1494.304,
          1497.726,
          1501.148,
          1504.57,
          1507.992,
          1511.414,
          1514.836,
          1518.258,
          1521.68,
          1525.102,
          1528.524,
          1531.946,
          1535.368,
          1538.79,
          1542.212,
          1545.634,
          1549.056,
          1552.478,
          1555.9,
          1559.322,
          1562.744,
          1566.166,
          1569.588,
          1573.01,
          1576.432,
          1579.854,
          1583.276,
          1586.698,
          1590.12,
          1593.542,
          1596.964,
          1600.386,
          1603.808,
          1607.23,
          1610.652,
          1614.074,
          1617.496,
          1620.918,
          1624.34,
          1627.762,
          1631.184,
          1634.606,
          1638.028,
          1641.45,
          1644.872,
          1648.294,
          1651.716,
          1655.138,
          1658.56,
          1661.982,
          1665.404,
          1668.826,
          1672.248,
          1675.67,
          1679.092,
          1682.514,
          1685.936,
          1689.358,
          1692.78,
          1696.202,
          1699.624,
          1703.046,
          1706.468,
          1709.89,
          1713.312,
          1716.734,
          1720.156,
          1723.578
         ],
         "xaxis": "x",
         "y": [
          0.003006564218349886,
          0.0030443867284389134,
          0.0030791251531690784,
          0.003110684691763066,
          0.003138982019840637,
          0.003163945715420145,
          0.0031855166081315224,
          0.003203648048969468,
          0.003218306098651381,
          0.0032294696334003695,
          0.003237130367739998,
          0.003241292794654863,
          0.0032419740442313476,
          0.0032392036626358632,
          0.0032330233140057062,
          0.0032234864085115044,
          0.0032106576604923973,
          0.003194612581158297,
          0.0031754369108916007,
          0.003153225996657365,
          0.003128084120442072,
          0.0031001237849821155,
          0.0030694649633119333,
          0.003036234318855585,
          0.0030005644029045173,
          0.002962592836367583,
          0.002922461482649019,
          0.0028803156184074724,
          0.0028363031087776987,
          0.002790573593399968,
          0.002743277689304885,
          0.0026945662163489177,
          0.0026445894504938663,
          0.0025934964097784337,
          0.002541434177348398,
          0.0024885472654009896,
          0.002434977023365486,
          0.0023808610930936692,
          0.0023263329132770143,
          0.0022715212747498647,
          0.0022165499277858203,
          0.0021615372419544264,
          0.0021065959185833905,
          0.002051832755372925,
          0.0019973484622387034,
          0.0019432375270227375,
          0.001889588129310569,
          0.0018364821002320587,
          0.0017839949258038805,
          0.0017321957910962954,
          0.0016811476622762317,
          0.0016309074033932073,
          0.0015815259246342239,
          0.0015330483586776763,
          0.0014855142617229684,
          0.0014389578357603995,
          0.0013934081686724825,
          0.0013488894888206272,
          0.0013054214308669558,
          0.0012630193097068196,
          0.0012216943995398113,
          0.0011814542152820007,
          0.001142302793716315,
          0.0011042409719875079,
          0.0010672666612694787,
          0.0010313751136621055,
          0.0009965591806088984,
          0.0009628095613622467,
          0.0009301150402568147,
          0.0008984627117808622,
          0.0008678381926573433,
          0.0008382258203592436,
          0.0008096088376848184,
          0.0007819695632064102,
          0.0007552895475800465,
          0.0007295497158608752,
          0.0007047304961110746,
          0.0006808119347114592,
          0.000657773798895626,
          0.0006355956671160327,
          0.0006142570079252576,
          0.0005937372481132904,
          0.0005740158308838886,
          0.0005550722648804597,
          0.0005368861648858596,
          0.0005194372850218289,
          0.0005027055452639094,
          0.000486671052067763,
          0.0004713141138742182,
          0.00045661525222440055,
          0.0004425552091743105,
          0.00042911495165144425,
          0.0004162756733457844,
          0.0004040187946748934,
          0.00039232596130900756,
          0.000381179041687984,
          0.00037056012390860595,
          0.00036045151230891054,
          0.00035083572402655813,
          0.0003416954857614138,
          0.000333013730928927,
          0.00032477359735092484,
          0.0003169584255943367,
          0.0003095517580362974,
          0.0003025373387060792,
          0.00029589911393032895,
          0.0002896212337880412,
          0.0002836880543653663,
          0.0002780841407875097,
          0.00027279427099529427,
          0.00026780344022710233,
          0.0002630968661625547,
          0.0002586599946819396,
          0.00025447850619480394,
          0.0002505383224917479,
          0.0002468256140750368,
          0.00024332680792572093,
          0.00024002859566725905,
          0.00023691794208781548,
          0.00023398209398523936,
          0.00023120858929993532,
          0.0002285852665013111,
          0.00022610027419301743,
          0.0002237420809007785,
          0.00022149948500414465,
          0.00021936162477003687,
          0.00021731798844154462,
          0.0002153584243301558,
          0.0002134731508536071,
          0.00021165276645499309,
          0.00020988825933184653,
          0.00020817101689683836,
          0.0002064928348847501,
          0.0002048459260136847,
          0.00020322292810235804,
          0.00020161691153996653,
          0.00020002138600080067,
          0.00019843030629266496,
          0.0001968380772264813,
          0.0001952395573943339,
          0.00019363006174482125,
          0.0001920053628479995,
          0.00019036169074750672,
          0.0001886957313046721,
          0.00018700462294855082,
          0.0001852859517567917,
          0.0001835377448050276,
          0.00018175846173686694,
          0.00017994698452249337,
          0.00017810260539108134,
          0.00017622501294054985,
          0.0001743142764473252,
          0.00017237082841852142,
          0.00017039544544898835,
          0.0001683892274657319,
          0.00016635357546198606,
          0.0001642901678424069,
          0.0001622009355191848,
          0.00016008803591602774,
          0.00015795382605271702,
          0.00015580083489699002,
          0.00015363173518266853,
          0.00015144931490299464,
          0.00014925644869591512,
          0.00014705606934340288,
          0.00014485113960974226,
          0.00014264462464393777,
          0.00014043946516902953,
          0.0001382385516760945,
          0.00013604469983313793,
          0.00013386062730901135,
          0.0001316889322000313,
          0.0001295320732322941,
          0.00012739235189591745,
          0.0001252718966488402,
          0.00012317264930757315,
          0.00012109635372067353,
          0.00011904454679798644,
          0.00011701855194512926,
          0.00011501947492857344,
          0.00011304820217231267,
          0.00011110540146275634,
          0.00010919152501448519,
          0.00010730681482609659,
          0.0001054513102328383,
          0.00010362485754134257,
          0.00010182712161175707,
          0.00010005759923414629,
          9.831563412941102e-05,
          9.660043339029916e-05,
          9.491108516553031e-05,
          9.32465773797071e-05,
          9.160581727366376e-05,
          8.99876515442448e-05,
          8.839088685923905e-05,
          8.681431052233198e-05,
          8.525671106443837e-05,
          8.37168985415905e-05,
          8.219372432559533e-05,
          8.068610018183462e-05,
          7.91930164387388e-05,
          7.771355906545419e-05,
          7.624692548790245e-05,
          7.47924389885919e-05,
          7.334956155201018e-05,
          7.191790503498943e-05,
          7.049724055988431e-05,
          6.908750604752883e-05,
          6.76888118265133e-05,
          6.630144427515017e-05,
          6.492586747235737e-05,
          6.356272285337481e-05,
          6.221282688556636e-05,
          6.087716679834244e-05,
          5.955689441931089e-05,
          5.8253318185970504e-05,
          5.696789341844636e-05,
          5.570221095383026e-05,
          5.4457984256496656e-05,
          5.3237035131252784e-05,
          5.204127817725138e-05,
          5.0872704130218416e-05,
          4.973336224866208e-05,
          4.862534190632955e-05,
          4.755075355825485e-05,
          4.6511709251292106e-05,
          4.551030285209424e-05,
          4.454859016609135e-05,
          4.3628569120211397e-05,
          4.2752160179899895e-05,
          4.192118716751989e-05,
          4.113735864449962e-05,
          4.040225001372946e-05,
          3.97172864917604e-05,
          3.9083727092414344e-05,
          3.850264975455672e-05,
          3.797493773709249e-05,
          3.750126739380903e-05,
          3.70820974295916e-05,
          3.671765972785272e-05,
          3.6407951826837134e-05,
          3.615273110986111e-05,
          3.5951510761599344e-05,
          3.580355752932199e-05,
          3.570789131458189e-05,
          3.566328660733365e-05,
          3.5668275760904886e-05,
          3.572115409270825e-05,
          3.581998678215762e-05,
          3.5962617524000385e-05,
          3.614667888228262e-05,
          3.6369604277494386e-05,
          3.6628641527176185e-05,
          3.692086784848621e-05,
          3.724320622000266e-05,
          3.759244298945261e-05,
          3.7965246604192375e-05,
          3.8358187332197004e-05,
          3.876775783312336e-05,
          3.9190394431772626e-05,
          3.962249894006235e-05,
          4.006046086850172e-05,
          4.050067986420415e-05,
          4.093958820973519e-05,
          4.137367321562558e-05,
          4.179949933922652e-05,
          4.221372986377923e-05,
          4.2613147974131836e-05,
          4.299467706948014e-05,
          4.3355400158826336e-05,
          4.3692578191525454e-05,
          4.400366718329534e-05,
          4.428633400735128e-05,
          4.453847073083389e-05,
          4.475820738834837e-05,
          4.49439230971397e-05,
          4.509425543207913e-05,
          4.520810799312051e-05,
          4.528465611306575e-05,
          4.532335066921646e-05,
          4.532391997863215e-05,
          4.528636977310306e-05,
          4.5210981266415355e-05,
          4.5098307342863285e-05,
          4.494916691208171e-05,
          4.476463749095583e-05,
          4.454604608844794e-05,
          4.429495848349819e-05,
          4.4013166999551056e-05,
          4.370267689158304e-05,
          4.336569147262382e-05,
          4.300459611654979e-05,
          4.262194128227674e-05,
          4.22204247112933e-05,
          4.1802872955688907e-05,
          4.137222239738071e-05,
          4.0931499921095885e-05,
          4.048380340381065e-05,
          4.0032282181782476e-05,
          3.958011765306882e-05,
          3.913050416854699e-05,
          3.8686630358006036e-05,
          3.825166102995178e-05,
          3.782871977445896e-05,
          3.742087238783609e-05,
          3.7031111226175167e-05,
          3.6662340582187055e-05,
          3.631736316623547e-05,
          3.5998867758344486e-05,
          3.570941808334561e-05,
          3.545144294643098e-05,
          3.522722765137321e-05,
          3.503890670874677e-05,
          3.488845782682162e-05,
          3.477769716357871e-05,
          3.470827580468979e-05,
          3.468167741947784e-05,
          3.4699217034980355e-05,
          3.4762040857421427e-05,
          3.4871127060784046e-05,
          3.5027287453875375e-05,
          3.523116993038895e-05,
          3.548326160106565e-05,
          3.5783892503195155e-05,
          3.613323978042097e-05,
          3.6531332225128226e-05,
          3.6978055076602097e-05,
          3.747315497061694e-05,
          3.80162449401094e-05,
          3.860680937203208e-05,
          3.9244208832295856e-05,
          3.9927684678777506e-05,
          4.065636339158274e-05,
          4.142926055996324e-05,
          4.224528447634982e-05,
          4.310323929970949e-05,
          4.4001827762692796e-05,
          4.493965340962726e-05,
          4.591522236514251e-05,
          4.692694464589777e-05,
          4.7973135040326065e-05,
          4.905201359333032e-05,
          5.016170574427385e-05,
          5.130024217723009e-05,
          5.246555845212824e-05,
          5.365549449399217e-05,
          5.486779402479024e-05,
          5.610010402836156e-05,
          5.734997434336386e-05,
          5.8614857482107676e-05,
          5.989210877444955e-05,
          6.117898693556397e-05,
          6.247265515439132e-05,
          6.37701827958763e-05,
          6.5068547804794e-05,
          6.63646398920769e-05,
          6.76552645761758e-05,
          6.8937148142222e-05,
          7.020694357072282e-05,
          7.146123747537351e-05,
          7.269655807644906e-05,
          7.390938422234701e-05,
          7.509615545735802e-05,
          7.625328311885618e-05,
          7.737716243202706e-05,
          7.846418555520564e-05,
          7.951075551408297e-05,
          8.051330094867931e-05,
          8.146829158327651e-05,
          8.237225431664725e-05,
          8.32217898181107e-05,
          8.401358950434826e-05,
          8.474445276269317e-05,
          8.541130427890227e-05,
          8.601121132134587e-05,
          8.654140082920966e-05,
          8.699927614976394e-05,
          8.73824332690708e-05,
          8.768867638169019e-05,
          8.791603264800796e-05,
          8.806276599272033e-05,
          8.812738980470832e-05,
          8.810867840695299e-05,
          8.800567717517232e-05,
          8.781771119538361e-05,
          8.7544392363468e-05,
          8.718562484387849e-05,
          8.674160881971432e-05,
          8.621284248229428e-05,
          8.560012222490544e-05,
          8.490454102237397e-05,
          8.41274849952971e-05,
          8.327062817497317e-05,
          8.23359255020723e-05,
          8.132560410869037e-05,
          8.0242152949431e-05,
          7.908831086238205e-05,
          7.786705315511049e-05,
          7.658157682394353e-05,
          7.523528452668362e-05,
          7.383176743939787e-05,
          7.237478713692043e-05,
          7.08682566441291e-05,
          6.931622081083428e-05,
          6.772283616720747e-05,
          6.609235041906623e-05,
          6.442908174300671e-05,
          6.27373980403745e-05,
          6.1021696306417416e-05,
          5.928638226674119e-05,
          5.753585042746232e-05,
          5.5774464678330656e-05,
          5.400653957967624e-05,
          5.223632245445159e-05,
          5.0467976396032565e-05,
          4.870556429094186e-05,
          4.695303394343373e-05,
          4.521420437607629e-05,
          4.349275336725201e-05,
          4.179220627302495e-05,
          4.011592616726277e-05,
          3.84671053203996e-05,
          3.6848758023935806e-05,
          3.526371475484518e-05,
          3.371461766161985e-05,
          3.2203917341870614e-05,
          3.073387087031778e-05,
          2.9306541025767e-05,
          2.792379665634786e-05,
          2.6587314113987762e-05,
          2.5298579681851935e-05,
          2.4058892912354863e-05,
          2.2869370788377755e-05,
          2.1730952616521836e-05,
          2.0644405558598847e-05,
          1.9610330706105028e-05,
          1.862916960210874e-05,
          1.7701211115785998e-05,
          1.682659857670823e-05,
          1.6005337078867426e-05,
          1.5237300868256597e-05,
          1.4522240732521529e-05,
          1.3859791316693734e-05,
          1.3249478295203764e-05,
          1.2690725337176397e-05,
          1.2182860809308836e-05,
          1.172512416834936e-05,
          1.131667200320213e-05,
          1.095658369489268e-05,
          1.0643866670928921e-05,
          1.0377461238878313e-05,
          1.0156244992156545e-05,
          9.979036788984945e-06,
          9.844600313132804e-06,
          9.751647232323479e-06,
          9.69883997697356e-06,
          9.684794168170405e-06,
          9.708080729411197e-06,
          9.767227721563999e-06,
          9.860721944717165e-06,
          9.987010354015208e-06,
          1.0144501339204517e-05,
          1.033156591940652e-05,
          1.0546538905588633e-05,
          1.0787720083307886e-05,
          1.1053375467569525e-05,
          1.134173868008821e-05,
          1.1651012496889656e-05,
          1.1979370611084953e-05,
          1.2324959651831554e-05,
          1.2685901496022017e-05,
          1.3060295904172534e-05,
          1.3446223506396592e-05,
          1.3841749158311053e-05,
          1.424492568032645e-05,
          1.4653797987100945e-05,
          1.5066407607081449e-05,
          1.548079758511278e-05,
          1.5895017754157407e-05,
          1.630713035533535e-05,
          1.671521597885417e-05,
          1.711737979205562e-05,
          1.7511758014834114e-05,
          1.7896524597180355e-05,
          1.8269898048640603e-05,
          1.8630148365132703e-05,
          1.897560399488947e-05,
          1.930465878235889e-05,
          1.9615778826727737e-05,
          1.9907509190379877e-05,
          2.017848039208343e-05,
          2.0427414620024094e-05,
          2.0653131600975262e-05,
          2.085455406390056e-05,
          2.103071273910238e-05,
          2.1180750837623203e-05,
          2.1303927959933605e-05,
          2.1399623387943577e-05,
          2.146733871998841e-05,
          2.1506699814595464e-05
         ],
         "yaxis": "y"
        },
        {
         "legendgroup": "Zola",
         "marker": {
          "color": "rgb(31, 119, 180)",
          "symbol": "line-ns-open"
         },
         "mode": "markers",
         "name": "Zola",
         "showlegend": false,
         "type": "scatter",
         "x": [
          48,
          49,
          88,
          43,
          25,
          247,
          29,
          31,
          30,
          200,
          62,
          20,
          34,
          58,
          24,
          127,
          105,
          23,
          166,
          112,
          114,
          244,
          96,
          162,
          201,
          62,
          113,
          61,
          29,
          33,
          169,
          28,
          28,
          28,
          22,
          91,
          88,
          34,
          176,
          90,
          35,
          69,
          43,
          36,
          27,
          51,
          27,
          29,
          23,
          96,
          23,
          22,
          82,
          65,
          106,
          25,
          36,
          41,
          52,
          210,
          178,
          53,
          108,
          31,
          183,
          31,
          72,
          59,
          28,
          163,
          22,
          46,
          172,
          129,
          87,
          88,
          24,
          33,
          25,
          280,
          61,
          24,
          53,
          25,
          60,
          73,
          55,
          74,
          176,
          31,
          43,
          299,
          107,
          88,
          302,
          40,
          229,
          113,
          180,
          32,
          235,
          49,
          15,
          65,
          56,
          35,
          25,
          135,
          41,
          43,
          35,
          43,
          48,
          41,
          107,
          34,
          40,
          56,
          67,
          50,
          42,
          42,
          289,
          28,
          237,
          85,
          69,
          29,
          28,
          22,
          28,
          21,
          117,
          212,
          22,
          42,
          34,
          68,
          166,
          25,
          68,
          27,
          35,
          181,
          59,
          90,
          33,
          159,
          114,
          69,
          106,
          27,
          37,
          188,
          53,
          79,
          22,
          47,
          24,
          78,
          209,
          239,
          36,
          28,
          29,
          88,
          41,
          79,
          35,
          78,
          152,
          176,
          46,
          24,
          37,
          157,
          275,
          53,
          43,
          300,
          50,
          152,
          61,
          29,
          23,
          54,
          39,
          89,
          60,
          27,
          22,
          61,
          71,
          288,
          58,
          44,
          28,
          130,
          24,
          63
         ],
         "xaxis": "x",
         "y": [
          "Zola",
          "Zola",
          "Zola",
          "Zola",
          "Zola",
          "Zola",
          "Zola",
          "Zola",
          "Zola",
          "Zola",
          "Zola",
          "Zola",
          "Zola",
          "Zola",
          "Zola",
          "Zola",
          "Zola",
          "Zola",
          "Zola",
          "Zola",
          "Zola",
          "Zola",
          "Zola",
          "Zola",
          "Zola",
          "Zola",
          "Zola",
          "Zola",
          "Zola",
          "Zola",
          "Zola",
          "Zola",
          "Zola",
          "Zola",
          "Zola",
          "Zola",
          "Zola",
          "Zola",
          "Zola",
          "Zola",
          "Zola",
          "Zola",
          "Zola",
          "Zola",
          "Zola",
          "Zola",
          "Zola",
          "Zola",
          "Zola",
          "Zola",
          "Zola",
          "Zola",
          "Zola",
          "Zola",
          "Zola",
          "Zola",
          "Zola",
          "Zola",
          "Zola",
          "Zola",
          "Zola",
          "Zola",
          "Zola",
          "Zola",
          "Zola",
          "Zola",
          "Zola",
          "Zola",
          "Zola",
          "Zola",
          "Zola",
          "Zola",
          "Zola",
          "Zola",
          "Zola",
          "Zola",
          "Zola",
          "Zola",
          "Zola",
          "Zola",
          "Zola",
          "Zola",
          "Zola",
          "Zola",
          "Zola",
          "Zola",
          "Zola",
          "Zola",
          "Zola",
          "Zola",
          "Zola",
          "Zola",
          "Zola",
          "Zola",
          "Zola",
          "Zola",
          "Zola",
          "Zola",
          "Zola",
          "Zola",
          "Zola",
          "Zola",
          "Zola",
          "Zola",
          "Zola",
          "Zola",
          "Zola",
          "Zola",
          "Zola",
          "Zola",
          "Zola",
          "Zola",
          "Zola",
          "Zola",
          "Zola",
          "Zola",
          "Zola",
          "Zola",
          "Zola",
          "Zola",
          "Zola",
          "Zola",
          "Zola",
          "Zola",
          "Zola",
          "Zola",
          "Zola",
          "Zola",
          "Zola",
          "Zola",
          "Zola",
          "Zola",
          "Zola",
          "Zola",
          "Zola",
          "Zola",
          "Zola",
          "Zola",
          "Zola",
          "Zola",
          "Zola",
          "Zola",
          "Zola",
          "Zola",
          "Zola",
          "Zola",
          "Zola",
          "Zola",
          "Zola",
          "Zola",
          "Zola",
          "Zola",
          "Zola",
          "Zola",
          "Zola",
          "Zola",
          "Zola",
          "Zola",
          "Zola",
          "Zola",
          "Zola",
          "Zola",
          "Zola",
          "Zola",
          "Zola",
          "Zola",
          "Zola",
          "Zola",
          "Zola",
          "Zola",
          "Zola",
          "Zola",
          "Zola",
          "Zola",
          "Zola",
          "Zola",
          "Zola",
          "Zola",
          "Zola",
          "Zola",
          "Zola",
          "Zola",
          "Zola",
          "Zola",
          "Zola",
          "Zola",
          "Zola",
          "Zola",
          "Zola",
          "Zola",
          "Zola",
          "Zola",
          "Zola",
          "Zola",
          "Zola",
          "Zola",
          "Zola",
          "Zola",
          "Zola",
          "Zola"
         ],
         "yaxis": "y2"
        },
        {
         "legendgroup": "Maupassant",
         "marker": {
          "color": "rgb(255, 127, 14)",
          "symbol": "line-ns-open"
         },
         "mode": "markers",
         "name": "Maupassant",
         "showlegend": false,
         "type": "scatter",
         "x": [
          85,
          43,
          80,
          83,
          136,
          29,
          41,
          47,
          185,
          39,
          91,
          32,
          43,
          71,
          59,
          82,
          47,
          56,
          121,
          28,
          48,
          41,
          46,
          47,
          42,
          36,
          26,
          46,
          22,
          34,
          72,
          30,
          24,
          43,
          27,
          33,
          25,
          23,
          40,
          83,
          37,
          49,
          26,
          114,
          56,
          35,
          62,
          41,
          174,
          35,
          65,
          35,
          75,
          26,
          60,
          38,
          38,
          86,
          30,
          35,
          48,
          46,
          63,
          90,
          47,
          127,
          53,
          65,
          89,
          84,
          27,
          101,
          32,
          37,
          43,
          24,
          50,
          30,
          51,
          24,
          80,
          31,
          48,
          33,
          78,
          28,
          27,
          73,
          49,
          56,
          22,
          48,
          30,
          201,
          102,
          21,
          43,
          38,
          52,
          46,
          48,
          32,
          122,
          33,
          76,
          32,
          73,
          56,
          73,
          35,
          32,
          25,
          29,
          53,
          30,
          21,
          221,
          206,
          26,
          71,
          82,
          67,
          29,
          19,
          49,
          237,
          64,
          35,
          88,
          21,
          48,
          214,
          71,
          100,
          67,
          49,
          73,
          24,
          38,
          97,
          24,
          55,
          41,
          197,
          49,
          135,
          35,
          29,
          30,
          31,
          68,
          36,
          72,
          67,
          40,
          52,
          85,
          69,
          38,
          33,
          96,
          19,
          32,
          221,
          92,
          50,
          86,
          32,
          55,
          37,
          134,
          27,
          30,
          40,
          28,
          31,
          26,
          20,
          154,
          35,
          30,
          77,
          40,
          31,
          97,
          23,
          54,
          112,
          28,
          53,
          64,
          47,
          57,
          24,
          82,
          33,
          85,
          22,
          122,
          44
         ],
         "xaxis": "x",
         "y": [
          "Maupassant",
          "Maupassant",
          "Maupassant",
          "Maupassant",
          "Maupassant",
          "Maupassant",
          "Maupassant",
          "Maupassant",
          "Maupassant",
          "Maupassant",
          "Maupassant",
          "Maupassant",
          "Maupassant",
          "Maupassant",
          "Maupassant",
          "Maupassant",
          "Maupassant",
          "Maupassant",
          "Maupassant",
          "Maupassant",
          "Maupassant",
          "Maupassant",
          "Maupassant",
          "Maupassant",
          "Maupassant",
          "Maupassant",
          "Maupassant",
          "Maupassant",
          "Maupassant",
          "Maupassant",
          "Maupassant",
          "Maupassant",
          "Maupassant",
          "Maupassant",
          "Maupassant",
          "Maupassant",
          "Maupassant",
          "Maupassant",
          "Maupassant",
          "Maupassant",
          "Maupassant",
          "Maupassant",
          "Maupassant",
          "Maupassant",
          "Maupassant",
          "Maupassant",
          "Maupassant",
          "Maupassant",
          "Maupassant",
          "Maupassant",
          "Maupassant",
          "Maupassant",
          "Maupassant",
          "Maupassant",
          "Maupassant",
          "Maupassant",
          "Maupassant",
          "Maupassant",
          "Maupassant",
          "Maupassant",
          "Maupassant",
          "Maupassant",
          "Maupassant",
          "Maupassant",
          "Maupassant",
          "Maupassant",
          "Maupassant",
          "Maupassant",
          "Maupassant",
          "Maupassant",
          "Maupassant",
          "Maupassant",
          "Maupassant",
          "Maupassant",
          "Maupassant",
          "Maupassant",
          "Maupassant",
          "Maupassant",
          "Maupassant",
          "Maupassant",
          "Maupassant",
          "Maupassant",
          "Maupassant",
          "Maupassant",
          "Maupassant",
          "Maupassant",
          "Maupassant",
          "Maupassant",
          "Maupassant",
          "Maupassant",
          "Maupassant",
          "Maupassant",
          "Maupassant",
          "Maupassant",
          "Maupassant",
          "Maupassant",
          "Maupassant",
          "Maupassant",
          "Maupassant",
          "Maupassant",
          "Maupassant",
          "Maupassant",
          "Maupassant",
          "Maupassant",
          "Maupassant",
          "Maupassant",
          "Maupassant",
          "Maupassant",
          "Maupassant",
          "Maupassant",
          "Maupassant",
          "Maupassant",
          "Maupassant",
          "Maupassant",
          "Maupassant",
          "Maupassant",
          "Maupassant",
          "Maupassant",
          "Maupassant",
          "Maupassant",
          "Maupassant",
          "Maupassant",
          "Maupassant",
          "Maupassant",
          "Maupassant",
          "Maupassant",
          "Maupassant",
          "Maupassant",
          "Maupassant",
          "Maupassant",
          "Maupassant",
          "Maupassant",
          "Maupassant",
          "Maupassant",
          "Maupassant",
          "Maupassant",
          "Maupassant",
          "Maupassant",
          "Maupassant",
          "Maupassant",
          "Maupassant",
          "Maupassant",
          "Maupassant",
          "Maupassant",
          "Maupassant",
          "Maupassant",
          "Maupassant",
          "Maupassant",
          "Maupassant",
          "Maupassant",
          "Maupassant",
          "Maupassant",
          "Maupassant",
          "Maupassant",
          "Maupassant",
          "Maupassant",
          "Maupassant",
          "Maupassant",
          "Maupassant",
          "Maupassant",
          "Maupassant",
          "Maupassant",
          "Maupassant",
          "Maupassant",
          "Maupassant",
          "Maupassant",
          "Maupassant",
          "Maupassant",
          "Maupassant",
          "Maupassant",
          "Maupassant",
          "Maupassant",
          "Maupassant",
          "Maupassant",
          "Maupassant",
          "Maupassant",
          "Maupassant",
          "Maupassant",
          "Maupassant",
          "Maupassant",
          "Maupassant",
          "Maupassant",
          "Maupassant",
          "Maupassant",
          "Maupassant",
          "Maupassant",
          "Maupassant",
          "Maupassant",
          "Maupassant",
          "Maupassant",
          "Maupassant",
          "Maupassant",
          "Maupassant",
          "Maupassant",
          "Maupassant",
          "Maupassant",
          "Maupassant",
          "Maupassant",
          "Maupassant",
          "Maupassant"
         ],
         "yaxis": "y2"
        },
        {
         "legendgroup": "Balzac",
         "marker": {
          "color": "rgb(44, 160, 44)",
          "symbol": "line-ns-open"
         },
         "mode": "markers",
         "name": "Balzac",
         "showlegend": false,
         "type": "scatter",
         "x": [
          110,
          34,
          93,
          50,
          40,
          114,
          36,
          34,
          26,
          85,
          32,
          42,
          189,
          57,
          718,
          26,
          179,
          22,
          119,
          26,
          38,
          97,
          256,
          23,
          103,
          31,
          88,
          20,
          178,
          34,
          22,
          25,
          26,
          51,
          62,
          42,
          26,
          39,
          99,
          116,
          27,
          238,
          24,
          39,
          35,
          301,
          47,
          25,
          980,
          25,
          226,
          168,
          961,
          101,
          29,
          30,
          46,
          203,
          283,
          21,
          27,
          37,
          190,
          25,
          94,
          1377,
          76,
          32,
          82,
          22,
          1187,
          42,
          1296,
          116,
          34,
          38,
          30,
          84,
          27,
          252,
          23,
          49,
          120,
          403,
          74,
          45,
          85,
          27,
          53,
          177,
          504,
          200,
          24,
          195,
          23,
          91,
          24,
          27,
          210,
          50,
          40,
          63,
          47,
          28,
          139,
          42,
          106,
          20,
          36,
          26,
          275,
          409,
          30,
          40,
          153,
          206,
          169,
          541,
          39,
          24,
          74,
          549,
          31,
          39,
          22,
          631,
          224,
          72,
          61,
          27,
          38,
          29,
          527,
          19,
          39,
          1727,
          1317,
          193,
          32,
          38,
          142,
          28,
          21,
          32,
          92,
          34,
          32,
          40,
          40,
          81,
          25,
          155,
          218,
          717,
          368,
          25,
          126,
          28,
          36,
          39,
          63,
          173,
          27,
          39,
          40,
          39,
          341,
          22,
          230,
          56,
          107,
          38,
          58,
          1351,
          55,
          172,
          41,
          72,
          44,
          63,
          24,
          33,
          487,
          22,
          485,
          48,
          32,
          389,
          35,
          138,
          66,
          79,
          16,
          19,
          59,
          26,
          63,
          21,
          137,
          133
         ],
         "xaxis": "x",
         "y": [
          "Balzac",
          "Balzac",
          "Balzac",
          "Balzac",
          "Balzac",
          "Balzac",
          "Balzac",
          "Balzac",
          "Balzac",
          "Balzac",
          "Balzac",
          "Balzac",
          "Balzac",
          "Balzac",
          "Balzac",
          "Balzac",
          "Balzac",
          "Balzac",
          "Balzac",
          "Balzac",
          "Balzac",
          "Balzac",
          "Balzac",
          "Balzac",
          "Balzac",
          "Balzac",
          "Balzac",
          "Balzac",
          "Balzac",
          "Balzac",
          "Balzac",
          "Balzac",
          "Balzac",
          "Balzac",
          "Balzac",
          "Balzac",
          "Balzac",
          "Balzac",
          "Balzac",
          "Balzac",
          "Balzac",
          "Balzac",
          "Balzac",
          "Balzac",
          "Balzac",
          "Balzac",
          "Balzac",
          "Balzac",
          "Balzac",
          "Balzac",
          "Balzac",
          "Balzac",
          "Balzac",
          "Balzac",
          "Balzac",
          "Balzac",
          "Balzac",
          "Balzac",
          "Balzac",
          "Balzac",
          "Balzac",
          "Balzac",
          "Balzac",
          "Balzac",
          "Balzac",
          "Balzac",
          "Balzac",
          "Balzac",
          "Balzac",
          "Balzac",
          "Balzac",
          "Balzac",
          "Balzac",
          "Balzac",
          "Balzac",
          "Balzac",
          "Balzac",
          "Balzac",
          "Balzac",
          "Balzac",
          "Balzac",
          "Balzac",
          "Balzac",
          "Balzac",
          "Balzac",
          "Balzac",
          "Balzac",
          "Balzac",
          "Balzac",
          "Balzac",
          "Balzac",
          "Balzac",
          "Balzac",
          "Balzac",
          "Balzac",
          "Balzac",
          "Balzac",
          "Balzac",
          "Balzac",
          "Balzac",
          "Balzac",
          "Balzac",
          "Balzac",
          "Balzac",
          "Balzac",
          "Balzac",
          "Balzac",
          "Balzac",
          "Balzac",
          "Balzac",
          "Balzac",
          "Balzac",
          "Balzac",
          "Balzac",
          "Balzac",
          "Balzac",
          "Balzac",
          "Balzac",
          "Balzac",
          "Balzac",
          "Balzac",
          "Balzac",
          "Balzac",
          "Balzac",
          "Balzac",
          "Balzac",
          "Balzac",
          "Balzac",
          "Balzac",
          "Balzac",
          "Balzac",
          "Balzac",
          "Balzac",
          "Balzac",
          "Balzac",
          "Balzac",
          "Balzac",
          "Balzac",
          "Balzac",
          "Balzac",
          "Balzac",
          "Balzac",
          "Balzac",
          "Balzac",
          "Balzac",
          "Balzac",
          "Balzac",
          "Balzac",
          "Balzac",
          "Balzac",
          "Balzac",
          "Balzac",
          "Balzac",
          "Balzac",
          "Balzac",
          "Balzac",
          "Balzac",
          "Balzac",
          "Balzac",
          "Balzac",
          "Balzac",
          "Balzac",
          "Balzac",
          "Balzac",
          "Balzac",
          "Balzac",
          "Balzac",
          "Balzac",
          "Balzac",
          "Balzac",
          "Balzac",
          "Balzac",
          "Balzac",
          "Balzac",
          "Balzac",
          "Balzac",
          "Balzac",
          "Balzac",
          "Balzac",
          "Balzac",
          "Balzac",
          "Balzac",
          "Balzac",
          "Balzac",
          "Balzac",
          "Balzac",
          "Balzac",
          "Balzac",
          "Balzac",
          "Balzac",
          "Balzac",
          "Balzac",
          "Balzac",
          "Balzac",
          "Balzac",
          "Balzac",
          "Balzac",
          "Balzac",
          "Balzac",
          "Balzac"
         ],
         "yaxis": "y2"
        }
       ],
       "layout": {
        "barmode": "overlay",
        "hovermode": "closest",
        "legend": {
         "traceorder": "reversed"
        },
        "template": {
         "data": {
          "bar": [
           {
            "error_x": {
             "color": "#2a3f5f"
            },
            "error_y": {
             "color": "#2a3f5f"
            },
            "marker": {
             "line": {
              "color": "#E5ECF6",
              "width": 0.5
             }
            },
            "type": "bar"
           }
          ],
          "barpolar": [
           {
            "marker": {
             "line": {
              "color": "#E5ECF6",
              "width": 0.5
             }
            },
            "type": "barpolar"
           }
          ],
          "carpet": [
           {
            "aaxis": {
             "endlinecolor": "#2a3f5f",
             "gridcolor": "white",
             "linecolor": "white",
             "minorgridcolor": "white",
             "startlinecolor": "#2a3f5f"
            },
            "baxis": {
             "endlinecolor": "#2a3f5f",
             "gridcolor": "white",
             "linecolor": "white",
             "minorgridcolor": "white",
             "startlinecolor": "#2a3f5f"
            },
            "type": "carpet"
           }
          ],
          "choropleth": [
           {
            "colorbar": {
             "outlinewidth": 0,
             "ticks": ""
            },
            "type": "choropleth"
           }
          ],
          "contour": [
           {
            "colorbar": {
             "outlinewidth": 0,
             "ticks": ""
            },
            "colorscale": [
             [
              0,
              "#0d0887"
             ],
             [
              0.1111111111111111,
              "#46039f"
             ],
             [
              0.2222222222222222,
              "#7201a8"
             ],
             [
              0.3333333333333333,
              "#9c179e"
             ],
             [
              0.4444444444444444,
              "#bd3786"
             ],
             [
              0.5555555555555556,
              "#d8576b"
             ],
             [
              0.6666666666666666,
              "#ed7953"
             ],
             [
              0.7777777777777778,
              "#fb9f3a"
             ],
             [
              0.8888888888888888,
              "#fdca26"
             ],
             [
              1,
              "#f0f921"
             ]
            ],
            "type": "contour"
           }
          ],
          "contourcarpet": [
           {
            "colorbar": {
             "outlinewidth": 0,
             "ticks": ""
            },
            "type": "contourcarpet"
           }
          ],
          "heatmap": [
           {
            "colorbar": {
             "outlinewidth": 0,
             "ticks": ""
            },
            "colorscale": [
             [
              0,
              "#0d0887"
             ],
             [
              0.1111111111111111,
              "#46039f"
             ],
             [
              0.2222222222222222,
              "#7201a8"
             ],
             [
              0.3333333333333333,
              "#9c179e"
             ],
             [
              0.4444444444444444,
              "#bd3786"
             ],
             [
              0.5555555555555556,
              "#d8576b"
             ],
             [
              0.6666666666666666,
              "#ed7953"
             ],
             [
              0.7777777777777778,
              "#fb9f3a"
             ],
             [
              0.8888888888888888,
              "#fdca26"
             ],
             [
              1,
              "#f0f921"
             ]
            ],
            "type": "heatmap"
           }
          ],
          "heatmapgl": [
           {
            "colorbar": {
             "outlinewidth": 0,
             "ticks": ""
            },
            "colorscale": [
             [
              0,
              "#0d0887"
             ],
             [
              0.1111111111111111,
              "#46039f"
             ],
             [
              0.2222222222222222,
              "#7201a8"
             ],
             [
              0.3333333333333333,
              "#9c179e"
             ],
             [
              0.4444444444444444,
              "#bd3786"
             ],
             [
              0.5555555555555556,
              "#d8576b"
             ],
             [
              0.6666666666666666,
              "#ed7953"
             ],
             [
              0.7777777777777778,
              "#fb9f3a"
             ],
             [
              0.8888888888888888,
              "#fdca26"
             ],
             [
              1,
              "#f0f921"
             ]
            ],
            "type": "heatmapgl"
           }
          ],
          "histogram": [
           {
            "marker": {
             "colorbar": {
              "outlinewidth": 0,
              "ticks": ""
             }
            },
            "type": "histogram"
           }
          ],
          "histogram2d": [
           {
            "colorbar": {
             "outlinewidth": 0,
             "ticks": ""
            },
            "colorscale": [
             [
              0,
              "#0d0887"
             ],
             [
              0.1111111111111111,
              "#46039f"
             ],
             [
              0.2222222222222222,
              "#7201a8"
             ],
             [
              0.3333333333333333,
              "#9c179e"
             ],
             [
              0.4444444444444444,
              "#bd3786"
             ],
             [
              0.5555555555555556,
              "#d8576b"
             ],
             [
              0.6666666666666666,
              "#ed7953"
             ],
             [
              0.7777777777777778,
              "#fb9f3a"
             ],
             [
              0.8888888888888888,
              "#fdca26"
             ],
             [
              1,
              "#f0f921"
             ]
            ],
            "type": "histogram2d"
           }
          ],
          "histogram2dcontour": [
           {
            "colorbar": {
             "outlinewidth": 0,
             "ticks": ""
            },
            "colorscale": [
             [
              0,
              "#0d0887"
             ],
             [
              0.1111111111111111,
              "#46039f"
             ],
             [
              0.2222222222222222,
              "#7201a8"
             ],
             [
              0.3333333333333333,
              "#9c179e"
             ],
             [
              0.4444444444444444,
              "#bd3786"
             ],
             [
              0.5555555555555556,
              "#d8576b"
             ],
             [
              0.6666666666666666,
              "#ed7953"
             ],
             [
              0.7777777777777778,
              "#fb9f3a"
             ],
             [
              0.8888888888888888,
              "#fdca26"
             ],
             [
              1,
              "#f0f921"
             ]
            ],
            "type": "histogram2dcontour"
           }
          ],
          "mesh3d": [
           {
            "colorbar": {
             "outlinewidth": 0,
             "ticks": ""
            },
            "type": "mesh3d"
           }
          ],
          "parcoords": [
           {
            "line": {
             "colorbar": {
              "outlinewidth": 0,
              "ticks": ""
             }
            },
            "type": "parcoords"
           }
          ],
          "pie": [
           {
            "automargin": true,
            "type": "pie"
           }
          ],
          "scatter": [
           {
            "marker": {
             "colorbar": {
              "outlinewidth": 0,
              "ticks": ""
             }
            },
            "type": "scatter"
           }
          ],
          "scatter3d": [
           {
            "line": {
             "colorbar": {
              "outlinewidth": 0,
              "ticks": ""
             }
            },
            "marker": {
             "colorbar": {
              "outlinewidth": 0,
              "ticks": ""
             }
            },
            "type": "scatter3d"
           }
          ],
          "scattercarpet": [
           {
            "marker": {
             "colorbar": {
              "outlinewidth": 0,
              "ticks": ""
             }
            },
            "type": "scattercarpet"
           }
          ],
          "scattergeo": [
           {
            "marker": {
             "colorbar": {
              "outlinewidth": 0,
              "ticks": ""
             }
            },
            "type": "scattergeo"
           }
          ],
          "scattergl": [
           {
            "marker": {
             "colorbar": {
              "outlinewidth": 0,
              "ticks": ""
             }
            },
            "type": "scattergl"
           }
          ],
          "scattermapbox": [
           {
            "marker": {
             "colorbar": {
              "outlinewidth": 0,
              "ticks": ""
             }
            },
            "type": "scattermapbox"
           }
          ],
          "scatterpolar": [
           {
            "marker": {
             "colorbar": {
              "outlinewidth": 0,
              "ticks": ""
             }
            },
            "type": "scatterpolar"
           }
          ],
          "scatterpolargl": [
           {
            "marker": {
             "colorbar": {
              "outlinewidth": 0,
              "ticks": ""
             }
            },
            "type": "scatterpolargl"
           }
          ],
          "scatterternary": [
           {
            "marker": {
             "colorbar": {
              "outlinewidth": 0,
              "ticks": ""
             }
            },
            "type": "scatterternary"
           }
          ],
          "surface": [
           {
            "colorbar": {
             "outlinewidth": 0,
             "ticks": ""
            },
            "colorscale": [
             [
              0,
              "#0d0887"
             ],
             [
              0.1111111111111111,
              "#46039f"
             ],
             [
              0.2222222222222222,
              "#7201a8"
             ],
             [
              0.3333333333333333,
              "#9c179e"
             ],
             [
              0.4444444444444444,
              "#bd3786"
             ],
             [
              0.5555555555555556,
              "#d8576b"
             ],
             [
              0.6666666666666666,
              "#ed7953"
             ],
             [
              0.7777777777777778,
              "#fb9f3a"
             ],
             [
              0.8888888888888888,
              "#fdca26"
             ],
             [
              1,
              "#f0f921"
             ]
            ],
            "type": "surface"
           }
          ],
          "table": [
           {
            "cells": {
             "fill": {
              "color": "#EBF0F8"
             },
             "line": {
              "color": "white"
             }
            },
            "header": {
             "fill": {
              "color": "#C8D4E3"
             },
             "line": {
              "color": "white"
             }
            },
            "type": "table"
           }
          ]
         },
         "layout": {
          "annotationdefaults": {
           "arrowcolor": "#2a3f5f",
           "arrowhead": 0,
           "arrowwidth": 1
          },
          "coloraxis": {
           "colorbar": {
            "outlinewidth": 0,
            "ticks": ""
           }
          },
          "colorscale": {
           "diverging": [
            [
             0,
             "#8e0152"
            ],
            [
             0.1,
             "#c51b7d"
            ],
            [
             0.2,
             "#de77ae"
            ],
            [
             0.3,
             "#f1b6da"
            ],
            [
             0.4,
             "#fde0ef"
            ],
            [
             0.5,
             "#f7f7f7"
            ],
            [
             0.6,
             "#e6f5d0"
            ],
            [
             0.7,
             "#b8e186"
            ],
            [
             0.8,
             "#7fbc41"
            ],
            [
             0.9,
             "#4d9221"
            ],
            [
             1,
             "#276419"
            ]
           ],
           "sequential": [
            [
             0,
             "#0d0887"
            ],
            [
             0.1111111111111111,
             "#46039f"
            ],
            [
             0.2222222222222222,
             "#7201a8"
            ],
            [
             0.3333333333333333,
             "#9c179e"
            ],
            [
             0.4444444444444444,
             "#bd3786"
            ],
            [
             0.5555555555555556,
             "#d8576b"
            ],
            [
             0.6666666666666666,
             "#ed7953"
            ],
            [
             0.7777777777777778,
             "#fb9f3a"
            ],
            [
             0.8888888888888888,
             "#fdca26"
            ],
            [
             1,
             "#f0f921"
            ]
           ],
           "sequentialminus": [
            [
             0,
             "#0d0887"
            ],
            [
             0.1111111111111111,
             "#46039f"
            ],
            [
             0.2222222222222222,
             "#7201a8"
            ],
            [
             0.3333333333333333,
             "#9c179e"
            ],
            [
             0.4444444444444444,
             "#bd3786"
            ],
            [
             0.5555555555555556,
             "#d8576b"
            ],
            [
             0.6666666666666666,
             "#ed7953"
            ],
            [
             0.7777777777777778,
             "#fb9f3a"
            ],
            [
             0.8888888888888888,
             "#fdca26"
            ],
            [
             1,
             "#f0f921"
            ]
           ]
          },
          "colorway": [
           "#636efa",
           "#EF553B",
           "#00cc96",
           "#ab63fa",
           "#FFA15A",
           "#19d3f3",
           "#FF6692",
           "#B6E880",
           "#FF97FF",
           "#FECB52"
          ],
          "font": {
           "color": "#2a3f5f"
          },
          "geo": {
           "bgcolor": "white",
           "lakecolor": "white",
           "landcolor": "#E5ECF6",
           "showlakes": true,
           "showland": true,
           "subunitcolor": "white"
          },
          "hoverlabel": {
           "align": "left"
          },
          "hovermode": "closest",
          "mapbox": {
           "style": "light"
          },
          "paper_bgcolor": "white",
          "plot_bgcolor": "#E5ECF6",
          "polar": {
           "angularaxis": {
            "gridcolor": "white",
            "linecolor": "white",
            "ticks": ""
           },
           "bgcolor": "#E5ECF6",
           "radialaxis": {
            "gridcolor": "white",
            "linecolor": "white",
            "ticks": ""
           }
          },
          "scene": {
           "xaxis": {
            "backgroundcolor": "#E5ECF6",
            "gridcolor": "white",
            "gridwidth": 2,
            "linecolor": "white",
            "showbackground": true,
            "ticks": "",
            "zerolinecolor": "white"
           },
           "yaxis": {
            "backgroundcolor": "#E5ECF6",
            "gridcolor": "white",
            "gridwidth": 2,
            "linecolor": "white",
            "showbackground": true,
            "ticks": "",
            "zerolinecolor": "white"
           },
           "zaxis": {
            "backgroundcolor": "#E5ECF6",
            "gridcolor": "white",
            "gridwidth": 2,
            "linecolor": "white",
            "showbackground": true,
            "ticks": "",
            "zerolinecolor": "white"
           }
          },
          "shapedefaults": {
           "line": {
            "color": "#2a3f5f"
           }
          },
          "ternary": {
           "aaxis": {
            "gridcolor": "white",
            "linecolor": "white",
            "ticks": ""
           },
           "baxis": {
            "gridcolor": "white",
            "linecolor": "white",
            "ticks": ""
           },
           "bgcolor": "#E5ECF6",
           "caxis": {
            "gridcolor": "white",
            "linecolor": "white",
            "ticks": ""
           }
          },
          "title": {
           "x": 0.05
          },
          "xaxis": {
           "automargin": true,
           "gridcolor": "white",
           "linecolor": "white",
           "ticks": "",
           "title": {
            "standoff": 15
           },
           "zerolinecolor": "white",
           "zerolinewidth": 2
          },
          "yaxis": {
           "automargin": true,
           "gridcolor": "white",
           "linecolor": "white",
           "ticks": "",
           "title": {
            "standoff": 15
           },
           "zerolinecolor": "white",
           "zerolinewidth": 2
          }
         }
        },
        "xaxis": {
         "anchor": "y2",
         "domain": [
          0,
          1
         ],
         "zeroline": false
        },
        "yaxis": {
         "anchor": "free",
         "domain": [
          0.35,
          1
         ],
         "position": 0
        },
        "yaxis2": {
         "anchor": "x",
         "domain": [
          0,
          0.25
         ],
         "dtick": 1,
         "showticklabels": false
        }
       }
      },
      "text/html": [
       "<div>\n",
       "        \n",
       "        \n",
       "            <div id=\"871ac0f4-b6bc-47b1-bb3e-05c38ea449ae\" class=\"plotly-graph-div\" style=\"height:525px; width:100%;\"></div>\n",
       "            <script type=\"text/javascript\">\n",
       "                require([\"plotly\"], function(Plotly) {\n",
       "                    window.PLOTLYENV=window.PLOTLYENV || {};\n",
       "                    \n",
       "                if (document.getElementById(\"871ac0f4-b6bc-47b1-bb3e-05c38ea449ae\")) {\n",
       "                    Plotly.newPlot(\n",
       "                        '871ac0f4-b6bc-47b1-bb3e-05c38ea449ae',\n",
       "                        [{\"autobinx\": false, \"histnorm\": \"probability density\", \"legendgroup\": \"Zola\", \"marker\": {\"color\": \"rgb(31, 119, 180)\"}, \"name\": \"Zola\", \"opacity\": 0.7, \"type\": \"histogram\", \"x\": [48, 49, 88, 43, 25, 247, 29, 31, 30, 200, 62, 20, 34, 58, 24, 127, 105, 23, 166, 112, 114, 244, 96, 162, 201, 62, 113, 61, 29, 33, 169, 28, 28, 28, 22, 91, 88, 34, 176, 90, 35, 69, 43, 36, 27, 51, 27, 29, 23, 96, 23, 22, 82, 65, 106, 25, 36, 41, 52, 210, 178, 53, 108, 31, 183, 31, 72, 59, 28, 163, 22, 46, 172, 129, 87, 88, 24, 33, 25, 280, 61, 24, 53, 25, 60, 73, 55, 74, 176, 31, 43, 299, 107, 88, 302, 40, 229, 113, 180, 32, 235, 49, 15, 65, 56, 35, 25, 135, 41, 43, 35, 43, 48, 41, 107, 34, 40, 56, 67, 50, 42, 42, 289, 28, 237, 85, 69, 29, 28, 22, 28, 21, 117, 212, 22, 42, 34, 68, 166, 25, 68, 27, 35, 181, 59, 90, 33, 159, 114, 69, 106, 27, 37, 188, 53, 79, 22, 47, 24, 78, 209, 239, 36, 28, 29, 88, 41, 79, 35, 78, 152, 176, 46, 24, 37, 157, 275, 53, 43, 300, 50, 152, 61, 29, 23, 54, 39, 89, 60, 27, 22, 61, 71, 288, 58, 44, 28, 130, 24, 63], \"xaxis\": \"x\", \"xbins\": {\"end\": 302.0, \"size\": 1, \"start\": 15.0}, \"yaxis\": \"y\"}, {\"autobinx\": false, \"histnorm\": \"probability density\", \"legendgroup\": \"Maupassant\", \"marker\": {\"color\": \"rgb(255, 127, 14)\"}, \"name\": \"Maupassant\", \"opacity\": 0.7, \"type\": \"histogram\", \"x\": [85, 43, 80, 83, 136, 29, 41, 47, 185, 39, 91, 32, 43, 71, 59, 82, 47, 56, 121, 28, 48, 41, 46, 47, 42, 36, 26, 46, 22, 34, 72, 30, 24, 43, 27, 33, 25, 23, 40, 83, 37, 49, 26, 114, 56, 35, 62, 41, 174, 35, 65, 35, 75, 26, 60, 38, 38, 86, 30, 35, 48, 46, 63, 90, 47, 127, 53, 65, 89, 84, 27, 101, 32, 37, 43, 24, 50, 30, 51, 24, 80, 31, 48, 33, 78, 28, 27, 73, 49, 56, 22, 48, 30, 201, 102, 21, 43, 38, 52, 46, 48, 32, 122, 33, 76, 32, 73, 56, 73, 35, 32, 25, 29, 53, 30, 21, 221, 206, 26, 71, 82, 67, 29, 19, 49, 237, 64, 35, 88, 21, 48, 214, 71, 100, 67, 49, 73, 24, 38, 97, 24, 55, 41, 197, 49, 135, 35, 29, 30, 31, 68, 36, 72, 67, 40, 52, 85, 69, 38, 33, 96, 19, 32, 221, 92, 50, 86, 32, 55, 37, 134, 27, 30, 40, 28, 31, 26, 20, 154, 35, 30, 77, 40, 31, 97, 23, 54, 112, 28, 53, 64, 47, 57, 24, 82, 33, 85, 22, 122, 44], \"xaxis\": \"x\", \"xbins\": {\"end\": 237.0, \"size\": 1, \"start\": 19.0}, \"yaxis\": \"y\"}, {\"autobinx\": false, \"histnorm\": \"probability density\", \"legendgroup\": \"Balzac\", \"marker\": {\"color\": \"rgb(44, 160, 44)\"}, \"name\": \"Balzac\", \"opacity\": 0.7, \"type\": \"histogram\", \"x\": [110, 34, 93, 50, 40, 114, 36, 34, 26, 85, 32, 42, 189, 57, 718, 26, 179, 22, 119, 26, 38, 97, 256, 23, 103, 31, 88, 20, 178, 34, 22, 25, 26, 51, 62, 42, 26, 39, 99, 116, 27, 238, 24, 39, 35, 301, 47, 25, 980, 25, 226, 168, 961, 101, 29, 30, 46, 203, 283, 21, 27, 37, 190, 25, 94, 1377, 76, 32, 82, 22, 1187, 42, 1296, 116, 34, 38, 30, 84, 27, 252, 23, 49, 120, 403, 74, 45, 85, 27, 53, 177, 504, 200, 24, 195, 23, 91, 24, 27, 210, 50, 40, 63, 47, 28, 139, 42, 106, 20, 36, 26, 275, 409, 30, 40, 153, 206, 169, 541, 39, 24, 74, 549, 31, 39, 22, 631, 224, 72, 61, 27, 38, 29, 527, 19, 39, 1727, 1317, 193, 32, 38, 142, 28, 21, 32, 92, 34, 32, 40, 40, 81, 25, 155, 218, 717, 368, 25, 126, 28, 36, 39, 63, 173, 27, 39, 40, 39, 341, 22, 230, 56, 107, 38, 58, 1351, 55, 172, 41, 72, 44, 63, 24, 33, 487, 22, 485, 48, 32, 389, 35, 138, 66, 79, 16, 19, 59, 26, 63, 21, 137, 133], \"xaxis\": \"x\", \"xbins\": {\"end\": 1727.0, \"size\": 1, \"start\": 16.0}, \"yaxis\": \"y\"}, {\"legendgroup\": \"Zola\", \"marker\": {\"color\": \"rgb(31, 119, 180)\"}, \"mode\": \"lines\", \"name\": \"Zola\", \"showlegend\": false, \"type\": \"scatter\", \"x\": [15.0, 15.574, 16.148, 16.722, 17.296, 17.87, 18.444, 19.018, 19.592, 20.166, 20.740000000000002, 21.314, 21.887999999999998, 22.462, 23.036, 23.61, 24.183999999999997, 24.758, 25.332, 25.906, 26.48, 27.054000000000002, 27.628, 28.201999999999998, 28.776, 29.35, 29.924, 30.497999999999998, 31.072, 31.646, 32.22, 32.794, 33.367999999999995, 33.942, 34.516, 35.09, 35.664, 36.238, 36.812, 37.385999999999996, 37.96, 38.534, 39.108000000000004, 39.682, 40.256, 40.83, 41.403999999999996, 41.978, 42.552, 43.126000000000005, 43.7, 44.274, 44.848, 45.422, 45.995999999999995, 46.57, 47.144, 47.718, 48.292, 48.866, 49.44, 50.014, 50.588, 51.162, 51.736, 52.31, 52.884, 53.458, 54.032, 54.606, 55.18, 55.754, 56.328, 56.902, 57.476, 58.05, 58.624, 59.198, 59.772, 60.346, 60.92, 61.494, 62.068, 62.642, 63.216, 63.79, 64.364, 64.938, 65.512, 66.086, 66.66, 67.23400000000001, 67.80799999999999, 68.382, 68.956, 69.53, 70.104, 70.678, 71.25200000000001, 71.826, 72.4, 72.97399999999999, 73.548, 74.122, 74.696, 75.27000000000001, 75.844, 76.418, 76.99199999999999, 77.566, 78.14, 78.714, 79.288, 79.862, 80.436, 81.01, 81.584, 82.158, 82.732, 83.306, 83.88, 84.454, 85.028, 85.602, 86.176, 86.75, 87.324, 87.898, 88.472, 89.046, 89.62, 90.194, 90.768, 91.342, 91.916, 92.49, 93.064, 93.638, 94.212, 94.786, 95.36, 95.934, 96.508, 97.082, 97.656, 98.23, 98.804, 99.378, 99.952, 100.526, 101.1, 101.674, 102.248, 102.822, 103.396, 103.97, 104.544, 105.118, 105.692, 106.266, 106.84, 107.414, 107.988, 108.562, 109.136, 109.71, 110.284, 110.858, 111.432, 112.006, 112.58, 113.154, 113.728, 114.302, 114.876, 115.45, 116.024, 116.598, 117.172, 117.746, 118.32, 118.894, 119.468, 120.042, 120.616, 121.19, 121.764, 122.338, 122.912, 123.486, 124.06, 124.634, 125.208, 125.782, 126.356, 126.93, 127.504, 128.078, 128.652, 129.226, 129.8, 130.374, 130.94799999999998, 131.522, 132.096, 132.67000000000002, 133.244, 133.81799999999998, 134.392, 134.966, 135.54000000000002, 136.114, 136.688, 137.262, 137.836, 138.41, 138.98399999999998, 139.558, 140.132, 140.70600000000002, 141.28, 141.85399999999998, 142.428, 143.002, 143.576, 144.15, 144.724, 145.298, 145.872, 146.446, 147.02, 147.594, 148.168, 148.742, 149.316, 149.89, 150.464, 151.038, 151.612, 152.186, 152.76, 153.334, 153.908, 154.482, 155.056, 155.63, 156.204, 156.778, 157.352, 157.926, 158.5, 159.074, 159.648, 160.222, 160.796, 161.37, 161.944, 162.518, 163.092, 163.666, 164.24, 164.814, 165.388, 165.962, 166.536, 167.11, 167.684, 168.258, 168.832, 169.406, 169.98, 170.554, 171.128, 171.702, 172.276, 172.85, 173.424, 173.998, 174.572, 175.146, 175.72, 176.294, 176.868, 177.442, 178.016, 178.59, 179.164, 179.738, 180.312, 180.886, 181.46, 182.034, 182.608, 183.182, 183.756, 184.33, 184.904, 185.478, 186.052, 186.626, 187.2, 187.774, 188.348, 188.922, 189.496, 190.07, 190.644, 191.218, 191.792, 192.366, 192.94, 193.514, 194.088, 194.662, 195.236, 195.81, 196.384, 196.958, 197.532, 198.106, 198.68, 199.254, 199.828, 200.402, 200.976, 201.55, 202.124, 202.698, 203.272, 203.846, 204.42, 204.994, 205.568, 206.142, 206.716, 207.29, 207.864, 208.438, 209.012, 209.586, 210.16, 210.734, 211.308, 211.882, 212.456, 213.03, 213.604, 214.178, 214.752, 215.326, 215.9, 216.474, 217.048, 217.622, 218.196, 218.77, 219.344, 219.918, 220.492, 221.066, 221.64, 222.214, 222.788, 223.362, 223.936, 224.51, 225.084, 225.658, 226.232, 226.806, 227.38, 227.954, 228.528, 229.102, 229.676, 230.25, 230.824, 231.398, 231.972, 232.546, 233.12, 233.694, 234.268, 234.842, 235.416, 235.99, 236.564, 237.138, 237.712, 238.286, 238.86, 239.434, 240.008, 240.582, 241.156, 241.73, 242.304, 242.878, 243.452, 244.026, 244.6, 245.174, 245.748, 246.322, 246.896, 247.47, 248.044, 248.618, 249.192, 249.766, 250.34, 250.914, 251.488, 252.062, 252.636, 253.21, 253.784, 254.358, 254.932, 255.506, 256.08000000000004, 256.654, 257.228, 257.802, 258.376, 258.95, 259.524, 260.098, 260.672, 261.246, 261.82, 262.394, 262.96799999999996, 263.54200000000003, 264.116, 264.69, 265.264, 265.83799999999997, 266.41200000000003, 266.986, 267.56, 268.134, 268.70799999999997, 269.28200000000004, 269.856, 270.43, 271.004, 271.578, 272.152, 272.726, 273.3, 273.874, 274.448, 275.022, 275.596, 276.17, 276.744, 277.318, 277.892, 278.466, 279.04, 279.614, 280.188, 280.762, 281.336, 281.91, 282.484, 283.058, 283.632, 284.206, 284.78, 285.354, 285.928, 286.502, 287.076, 287.65, 288.224, 288.798, 289.372, 289.946, 290.52, 291.094, 291.668, 292.242, 292.816, 293.39, 293.964, 294.538, 295.112, 295.686, 296.26, 296.834, 297.408, 297.982, 298.556, 299.13, 299.704, 300.278, 300.852, 301.426], \"xaxis\": \"x\", \"y\": [0.006440730037336462, 0.006554171266421951, 0.006666580119659259, 0.006777848903779207, 0.006887870556887627, 0.006996538859214355, 0.007103748643136327, 0.0072093960018296205, 0.007313378495907888, 0.007415595357408565, 0.00751594769049583, 0.00761433866825897, 0.007710673724997559, 0.007804860743399718, 0.007896810236037787, 0.00798643552062536, 0.008073652888502415, 0.008158381765839783, 0.00824054486708097, 0.008320068340168045, 0.008396881903129016, 0.008470918971636288, 0.008542116777179478, 0.008610416475531197, 0.008675763245220649, 0.008738106375767073, 0.008797399345463369, 0.0088535998885389, 0.00890667005156974, 0.00895657623904394, 0.009003289248028918, 0.009046784291927592, 0.009087041013348635, 0.009124043486155014, 0.00915778020679263, 0.009188244075037967, 0.00921543236433962, 0.00923934668196329, 0.009259992919183422, 0.00927738119179631, 0.009291525771260464, 0.009302445006797938, 0.009310161238817841, 0.009314700704047565, 0.009316093432780505, 0.009314373138669677, 0.009309577101515275, 0.009301746043510657, 0.009290923999425387, 0.009277158181216074, 0.009260498837565117, 0.009240999108855376, 0.009218714878093243, 0.009193704618296368, 0.009166029236862352, 0.009135751917433859, 0.009102937959771915, 0.009067654618143623, 0.009029970938723727, 0.008989957596499419, 0.008947686732157727, 0.008903231789421508, 0.008856667353286501, 0.008808068989595987, 0.00875751308637313, 0.008705076697312672, 0.008650837387814875, 0.008594873083924419, 0.008537261924516308, 0.008478082117049038, 0.00841741179718357, 0.00835532889254384, 0.008291910990871945, 0.008227235212807976, 0.008161378089501375, 0.008094415445237898, 0.008026422285242977, 0.007957472688799866, 0.007887639707798514, 0.007816995270809285, 0.0077456100927543224, 0.007673553590228224, 0.007600893802500183, 0.007527697318209861, 0.00745402920775082, 0.00737995296131783, 0.007305530432577128, 0.00723082178790309, 0.007155885461109671, 0.007080778113591003, 0.007005554599772439, 0.006930267937761564, 0.00685496928507748, 0.006779707919326767, 0.006704531223685595, 0.006629484677039412, 0.006554611848624593, 0.006479954397010343, 0.0064055520732541555, 0.006331442728059552, 0.006257662322761633, 0.006184244943963351, 0.006111222821643493, 0.006038626350556385, 0.00596648411474283, 0.005894822914972124, 0.00582366779893589, 0.005753042094015701, 0.005682967442448601, 0.005613463838716894, 0.005544549668991381, 0.0054762417524603585, 0.005408555384380358, 0.005341504380687986, 0.0052751011240168314, 0.005209356610966912, 0.005144280500479019, 0.005079881163170621, 0.005016165731494448, 0.004953140150585693, 0.004890809229668206, 0.004829176693894923, 0.004768245236502101, 0.004708016571161753, 0.004648491484420977, 0.00458966988812133, 0.004531550871695678, 0.004474132754244126, 0.004417413136294673, 0.004361388951158113, 0.004306056515790492, 0.0042514115810800834, 0.004197449381479214, 0.004144164683904772, 0.004091551835834245, 0.004039604812527269, 0.0039883172633056645, 0.003937682556827544, 0.003887693825294004, 0.0038383440075292208, 0.0037896258908775584, 0.003741532151863361, 0.0036940553955617838, 0.0036471881936309828, 0.0036009231209584345, 0.003555252790876211, 0.0035101698889023086, 0.0034656672049672836, 0.003421737664087579, 0.003378374355449211, 0.00333557055986766, 0.003293319775592172, 0.0032516157424249473, 0.0032104524641280788, 0.0031698242290937907, 0.0031297256292557624, 0.003090151577222333, 0.0030510973216148793, 0.0030125584605976874, 0.002974530953588579, 0.0029370111311425133, 0.002899995703003784, 0.002863481764325608, 0.0028274668000593116, 0.002791948687518913, 0.002756925697130467, 0.0027223964913792977, 0.002688360121972084, 0.002654816025234524, 0.0026217640157695215, 0.0025892042784046443, 0.0025571373584617843, 0.0025255641503861906, 0.0024944858847759425, 0.0024639041138573886, 0.0024338206954560553, 0.002404237775516761, 0.0023751577692306927, 0.0023465833408314912, 0.0023185173821260166, 0.0022909629898297387, 0.0022639234417802735, 0.0022374021721062866, 0.002211402745432604, 0.0021859288302056206, 0.0021609841712264006, 0.0021365725614817185, 0.002112697813366221, 0.0020893637293912895, 0.0020665740724785876, 0.0020443325359382177, 0.002022642713233233, 0.002001508067633703, 0.0019809319018646134, 0.0019609173278528048, 0.0019414672366786445, 0.0019225842688382203, 0.001904270784921804, 0.0018865288368136823, 0.0018693601395176384, 0.0018527660437111261, 0.001836747509129507, 0.001821305078879862, 0.0018064388547814115, 0.0017921484738270712, 0.0017784330858573848, 0.0017652913325349484, 0.001752721327703457, 0.0017407206392116045, 0.001729286272277572, 0.001718414654465172, 0.0017081016223377506, 0.0016983424098505726, 0.0016891316385369804, 0.0016804633095377488, 0.0016723307975170586, 0.001664726846502314, 0.0016576435676785898, 0.001651072439161943, 0.0016450043077690958, 0.0016394293927942311, 0.0016343372917966379, 0.0016297169883961059, 0.0016255568620658373, 0.0016218446999057203, 0.0016185677103717953, 0.0016157125389307805, 0.0016132652856016864, 0.0016112115243397645, 0.0016095363242113942, 0.0016082242723020768, 0.0016072594982933265, 0.0016066257006382555, 0.0016063061742597302, 0.001606283839689423, 0.0016065412735607437, 0.0016070607403636463, 0.001607824225364664, 0.001608813468591099, 0.0016100099997744407, 0.0016113951741444181, 0.00161295020896196, 0.0016146562206765323, 0.001616494262590995, 0.0016184453629152057, 0.0016204905630880996, 0.001622610956247038, 0.0016247877257225432, 0.0016270021834365461, 0.0016292358080825596, 0.0016314702829670139, 0.0016336875333923305, 0.0016358697634639048, 0.0016379994922054743, 0.001640059588869841, 0.001642033307334985, 0.0016439043194790566, 0.0016456567474314912, 0.001647275194601773, 0.0016487447753919043, 0.0016500511435035385, 0.0016511805187559533, 0.0016521197123366093, 0.0016528561504117617, 0.0016533778960307005, 0.0016536736692633898, 0.0016537328655178002, 0.001653545571989797, 0.0016531025822051901, 0.0016523954086204867, 0.0016514162932557588, 0.0016501582163400258, 0.0016486149029566297, 0.001646780827682984, 0.001644651217226092, 0.0016422220510621, 0.001639490060094901, 0.0016364527233555417, 0.0016331082627706003, 0.0016294556360340806, 0.0016254945276234997, 0.001621225338006692, 0.0016166491710915749, 0.0016117678199763794, 0.0016065837510630889, 0.0016011000866014591, 0.0015953205857355463, 0.0015892496241287433, 0.001582892172247122, 0.0015762537723842524, 0.0015693405145137491, 0.0015621590110584656, 0.001554716370667502, 0.0015470201710941454, 0.0015390784312694058, 0.0015308995826668744, 0.0015224924400555327, 0.0015138661717374023, 0.001505030269367071, 0.001495994517449744, 0.00148676896261384, 0.001477363882753117, 0.0014677897561319935, 0.0014580572305461369, 0.00144817709262838, 0.0014381602373879287, 0.0014280176380682534, 0.0014177603164064244, 0.0014073993133736976, 0.0013969456604740111, 0.001386410351673747, 0.0013758043160326334, 0.0013651383911019923, 0.0013544232971528616, 0.0013436696122925325, 0.0013328877485242114, 0.0013220879288004387, 0.0013112801651167581, 0.0013004742376881934, 0.0012896796752467493, 0.0012789057364942218, 0.001268161392740341, 0.0012574553117522865, 0.0012467958428375259, 0.001236191003177923, 0.001225648465429201, 0.0012151755465959232, 0.0012047791981884288, 0.0011944659976644864, 0.0011842421411548344, 0.0011741134374683067, 0.0011640853033688967, 0.0011541627601138423, 0.0011443504312386736, 0.0011346525415721754, 0.0011250729174612727, 0.0011156149881831011, 0.0011062817885188476, 0.0010970759624613859, 0.0010879997680263251, 0.0010790550831337596, 0.0010702434125258124, 0.0010615658956829616, 0.0010530233157001868, 0.0010446161090820428, 0.0010363443764140462, 0.0010282078938660668, 0.0010202061254818372, 0.0010123382362072243, 0.0010046031056085466, 0.0009969993422309067, 0.0009895252985453451, 0.0009821790864325208, 0.0009749585931496277, 0.0009678614977263477, 0.0009608852877348466, 0.000954027276378097, 0.0009472846198402461, 0.0009406543348421748, 0.0009341333163450773, 0.0009277183553445726, 0.0009214061566976838, 0.0009151933569249918, 0.0009090765419303388, 0.000903052264580678, 0.0008971170620889789, 0.0008912674731435927, 0.000885500054728121, 0.0008798113985765674, 0.0008741981472095063, 0.0008686570094980719, 0.0008631847757038226, 0.0008577783319439264, 0.0008524346740327304, 0.0008471509206524574, 0.0008419243258077665, 0.000836752290520934, 0.0008316323737267208, 0.0008265623023283896, 0.0008215399803789493, 0.0008165634973544653, 0.0008116311354891733, 0.0008067413761452487, 0.0008018929051932693, 0.0007970846173827831, 0.0007923156196859013, 0.0007875852336004267, 0.0007828929964027611, 0.0007782386613446535, 0.0007736221967917565, 0.0007690437843059183, 0.0007645038156771821, 0.000760002888915508, 0.000755541803216325, 0.0007511215529181188, 0.0007467433204743116, 0.000742408468465748, 0.0007381185306840839, 0.0007338752023202861, 0.0007296803292962748, 0.0007255358967814835, 0.0007214440169396456, 0.000717406915954619, 0.0007134269203872845, 0.0007095064429186775, 0.0007056479675373741, 0.0007018540342318581, 0.0006981272232510068, 0.0006944701389980341, 0.0006908853936251709, 0.0006873755903980119, 0.0006839433068998281, 0.0006805910781472361, 0.0006773213796893902, 0.0006741366107633242, 0.0006710390775782473, 0.0006680309768014157, 0.0006651143793177413, 0.0006622912143344871, 0.0006595632539013013, 0.000656932097914393, 0.0006543991596719331, 0.0006519656520457063, 0.0006496325743317255, 0.0006474006998398764, 0.000645270564279784, 0.0006432424549969301, 0.0006413164011096538, 0.0006394921645940233, 0.0006377692323597343, 0.0006361468093561272, 0.0006346238127432111, 0.0006331988671581684, 0.0006318703011033304, 0.0006306361444769332, 0.0006294941272632581, 0.0006284416793939284, 0.0006274759317872876, 0.0006265937185678771, 0.0006257915804631488, 0.0006250657693696485, 0.0006244122540760779, 0.0006238267271258504, 0.0006233046127970532, 0.0006228410761731449, 0.0006224310332732174, 0.0006220691622063564, 0.0006217499153104364, 0.000621467532231717, 0.000621216053897825, 0.000620989337333113, 0.0006207810712620709, 0.0006205847924433345, 0.0006203939026740182, 0.0006202016864015029, 0.000620001328877515, 0.000619785934787312, 0.0006195485472850668, 0.0006192821673651141, 0.0006189797734975981, 0.0006186343414562264, 0.0006182388642653408, 0.0006177863721932795, 0.0006172699527191157, 0.0006166827704002411, 0.0006160180865689605, 0.0006152692787872357, 0.0006144298599899958, 0.0006134934972489615, 0.0006124540300907491, 0.000611305488305082, 0.0006100421091812528, 0.0006086583541135275, 0.0006071489245189442, 0.000605508777013937, 0.0006037331377993797, 0.0006018175162069844, 0.0005997577173634909, 0.0005975498539327318, 0.000595190356899423, 0.0005926759853624226, 0.0005900038353091617, 0.0005871713473470098, 0.0005841763133714329, 0.0005810168821549531, 0.0005776915638450715, 0.0005741992333634975, 0.0005705391327031586, 0.0005667108721236072, 0.0005627144302494878, 0.0005585501530807546, 0.000554218751927243, 0.0005497213002840232, 0.0005450592296676911, 0.0005402343244373288, 0.0005352487156273377, 0.000530104873822623, 0.0005248056011097702, 0.0005193540221407955, 0.0005137535743488459], \"yaxis\": \"y\"}, {\"legendgroup\": \"Maupassant\", \"marker\": {\"color\": \"rgb(255, 127, 14)\"}, \"mode\": \"lines\", \"name\": \"Maupassant\", \"showlegend\": false, \"type\": \"scatter\", \"x\": [19.0, 19.436, 19.872, 20.308, 20.744, 21.18, 21.616, 22.052, 22.488, 22.924, 23.36, 23.796, 24.232, 24.668, 25.104, 25.54, 25.976, 26.412, 26.848, 27.284, 27.72, 28.156, 28.592, 29.028, 29.464, 29.9, 30.336, 30.772, 31.208, 31.644, 32.08, 32.516, 32.952, 33.388, 33.824, 34.26, 34.696, 35.132000000000005, 35.568, 36.004000000000005, 36.44, 36.876000000000005, 37.312, 37.748000000000005, 38.184, 38.620000000000005, 39.056, 39.492000000000004, 39.928, 40.364000000000004, 40.8, 41.236000000000004, 41.672, 42.108000000000004, 42.544, 42.980000000000004, 43.416, 43.852000000000004, 44.288, 44.724000000000004, 45.16, 45.596000000000004, 46.032, 46.468, 46.903999999999996, 47.34, 47.775999999999996, 48.212, 48.647999999999996, 49.084, 49.519999999999996, 49.956, 50.391999999999996, 50.828, 51.264, 51.7, 52.136, 52.572, 53.008, 53.444, 53.88, 54.316, 54.752, 55.188, 55.624, 56.06, 56.496, 56.932, 57.368, 57.804, 58.24, 58.676, 59.112, 59.548, 59.984, 60.42, 60.856, 61.292, 61.728, 62.164, 62.6, 63.036, 63.472, 63.908, 64.344, 64.78, 65.21600000000001, 65.652, 66.088, 66.524, 66.96000000000001, 67.396, 67.832, 68.268, 68.70400000000001, 69.14, 69.576, 70.012, 70.44800000000001, 70.884, 71.32, 71.756, 72.19200000000001, 72.628, 73.064, 73.5, 73.936, 74.372, 74.80799999999999, 75.244, 75.68, 76.116, 76.55199999999999, 76.988, 77.424, 77.86, 78.29599999999999, 78.732, 79.168, 79.604, 80.03999999999999, 80.476, 80.912, 81.348, 81.78399999999999, 82.22, 82.656, 83.092, 83.528, 83.964, 84.4, 84.836, 85.272, 85.708, 86.144, 86.58, 87.016, 87.452, 87.888, 88.324, 88.76, 89.196, 89.632, 90.068, 90.504, 90.94, 91.376, 91.812, 92.248, 92.684, 93.12, 93.556, 93.992, 94.428, 94.864, 95.3, 95.736, 96.172, 96.608, 97.044, 97.48, 97.916, 98.352, 98.788, 99.224, 99.66, 100.096, 100.532, 100.968, 101.404, 101.84, 102.276, 102.712, 103.148, 103.584, 104.02, 104.456, 104.892, 105.328, 105.764, 106.2, 106.636, 107.072, 107.508, 107.944, 108.38, 108.816, 109.252, 109.688, 110.124, 110.56, 110.996, 111.432, 111.868, 112.304, 112.74, 113.176, 113.612, 114.048, 114.484, 114.92, 115.356, 115.792, 116.228, 116.664, 117.1, 117.536, 117.972, 118.408, 118.844, 119.28, 119.716, 120.152, 120.588, 121.024, 121.46, 121.896, 122.332, 122.768, 123.204, 123.64, 124.076, 124.512, 124.948, 125.384, 125.82, 126.256, 126.692, 127.128, 127.564, 128.0, 128.436, 128.872, 129.308, 129.744, 130.18, 130.61599999999999, 131.05200000000002, 131.488, 131.924, 132.36, 132.796, 133.232, 133.668, 134.10399999999998, 134.54000000000002, 134.976, 135.412, 135.848, 136.284, 136.72, 137.156, 137.59199999999998, 138.02800000000002, 138.464, 138.9, 139.336, 139.772, 140.208, 140.644, 141.07999999999998, 141.51600000000002, 141.952, 142.388, 142.824, 143.26, 143.696, 144.132, 144.56799999999998, 145.00400000000002, 145.44, 145.876, 146.312, 146.748, 147.184, 147.62, 148.056, 148.492, 148.928, 149.364, 149.8, 150.236, 150.672, 151.108, 151.544, 151.98, 152.416, 152.852, 153.288, 153.724, 154.16, 154.596, 155.032, 155.468, 155.904, 156.34, 156.776, 157.212, 157.648, 158.084, 158.52, 158.956, 159.392, 159.828, 160.264, 160.7, 161.136, 161.572, 162.008, 162.444, 162.88, 163.316, 163.752, 164.188, 164.624, 165.06, 165.496, 165.932, 166.368, 166.804, 167.24, 167.676, 168.112, 168.548, 168.984, 169.42, 169.856, 170.292, 170.728, 171.164, 171.6, 172.036, 172.472, 172.908, 173.344, 173.78, 174.216, 174.652, 175.088, 175.524, 175.96, 176.396, 176.832, 177.268, 177.704, 178.14, 178.576, 179.012, 179.448, 179.884, 180.32, 180.756, 181.192, 181.628, 182.064, 182.5, 182.936, 183.372, 183.808, 184.244, 184.68, 185.116, 185.552, 185.988, 186.424, 186.86, 187.296, 187.732, 188.168, 188.604, 189.04, 189.476, 189.912, 190.348, 190.784, 191.22, 191.656, 192.092, 192.528, 192.964, 193.4, 193.836, 194.272, 194.708, 195.144, 195.58, 196.016, 196.452, 196.888, 197.324, 197.76, 198.196, 198.632, 199.068, 199.504, 199.94, 200.376, 200.812, 201.248, 201.684, 202.12, 202.556, 202.992, 203.428, 203.864, 204.3, 204.736, 205.172, 205.608, 206.044, 206.48, 206.916, 207.352, 207.788, 208.224, 208.66, 209.096, 209.532, 209.968, 210.404, 210.84, 211.276, 211.712, 212.148, 212.584, 213.02, 213.456, 213.892, 214.328, 214.764, 215.2, 215.636, 216.072, 216.508, 216.944, 217.38, 217.816, 218.252, 218.688, 219.124, 219.56, 219.996, 220.432, 220.868, 221.304, 221.74, 222.176, 222.612, 223.048, 223.484, 223.92, 224.356, 224.792, 225.228, 225.664, 226.1, 226.536, 226.972, 227.408, 227.844, 228.28, 228.716, 229.152, 229.588, 230.024, 230.46, 230.896, 231.332, 231.768, 232.204, 232.64, 233.076, 233.512, 233.948, 234.384, 234.82, 235.256, 235.692, 236.128, 236.564], \"xaxis\": \"x\", \"y\": [0.009292474984171758, 0.009512277555861195, 0.009730900428939612, 0.009948062504485456, 0.010163482219937453, 0.01037687830546546, 0.010587970544998366, 0.010796480538666112, 0.011002132463395983, 0.01120465382840712, 0.011403776222370132, 0.011599236049042413, 0.011790775248252214, 0.011978141999186587, 0.012161091403038254, 0.012339386142184416, 0.0125127971132047, 0.012681104031195278, 0.012844096003000644, 0.013001572067161382, 0.013153341698565212, 0.013299225275987505, 0.01343905451091482, 0.013572672836259108, 0.013699935753789983, 0.013820711139335301, 0.013934879505025461, 0.014042334218081287, 0.014142981675869762, 0.014236741437171645, 0.014323546309821238, 0.014403342395088147, 0.014476089089372902, 0.014541759043982158, 0.014600338083931845, 0.01465182508689953, 0.014696231823607096, 0.014733582761062583, 0.014763914830223556, 0.014787277159764866, 0.014803730777738423, 0.014813348283003847, 0.014816213488385223, 0.014812421037569757, 0.014802075997811704, 0.014785293430537074, 0.014762197941963843, 0.01473292321585763, 0.014697611530535669, 0.01465641326221326, 0.014609486376756924, 0.01455699591186763, 0.014499113451669038, 0.014436016595616984, 0.014367888423582388, 0.01429491695888796, 0.014217294631003215, 0.014135217739521378, 0.014048885920958813, 0.01395850161983086, 0.013864269565371904, 0.013766396255179399, 0.013665089446974822, 0.013560557659589096, 0.013453009684195452, 0.013342654106732316, 0.013229698842379189, 0.013114350682875085, 0.012996814857396375, 0.012877294607644816, 0.012755990777733315, 0.01263310141939838, 0.012508821413013774, 0.012383342104830044, 0.012256850960818891, 0.01212953123745855, 0.012001561669759221, 0.011873116176791569, 0.011744363584950138, 0.011615467369153802, 0.011486585412158842, 0.01135786978213482, 0.011229466528629653, 0.011101515497027883, 0.010974150161583944, 0.01084749747708988, 0.010721677749215617, 0.010596804523536516, 0.010472984493239822, 0.010350317425476832, 0.010228896106301491, 0.01010880630410888, 0.00999012675145708, 0.009872929145125641, 0.009757278164230093, 0.009643231506177815, 0.009530839940213576, 0.009420147378264939, 0.009311190962757938, 0.009204001171032351, 0.009098601935943475, 0.008995010782194285, 0.008893238977898378, 0.008793291700829731, 0.00869516821877203, 0.008598862083336618, 0.008504361336575512, 0.008411648729674964, 0.008320701952974702, 0.008231493876520442, 0.008143992800321428, 0.008058162713451812, 0.007973963561104263, 0.007891351518677675, 0.007810279271956865, 0.007730696302422868, 0.007652549176715938, 0.007575781839262402, 0.007500335907068043, 0.007426150965678167, 0.007353164865305133, 0.0072813140161299165, 0.0072105336817941245, 0.0071407582701129655, 0.0070719216200584595, 0.0070039572840846645, 0.006936798804893374, 0.006870379985769173, 0.006804635153647113, 0.0067394994141133915, 0.006674908897580437, 0.006610800995921106, 0.0065471145888931995, 0.006483790259733749, 0.0064207704993530625, 0.006357999898611299, 0.006295425328213207, 0.006232996105812339, 0.006170664149971151, 0.006108384120679647, 0.00604611354619175, 0.005983812935994661, 0.0059214458797824925, 0.005858979132360869, 0.005796382684463443, 0.005733629819514893, 0.005670697156426874, 0.005607564678564008, 0.005544215749065757, 0.005480637112757156, 0.005416818884926158, 0.00535275452728824, 0.0052884408114993835, 0.0052238777706167545, 0.005159068638941931, 0.005094019780714831, 0.005028740608157121, 0.004963243489391392, 0.004897543646788377, 0.004831659046316492, 0.0047656102784882776, 0.004699420431515676, 0.004633114957300546, 0.004566721530899185, 0.004500269904109012, 0.004433791753832619, 0.004367320525879092, 0.0043008912748645515, 0.004234540500873762, 0.004168305983542379, 0.00410222661421457, 0.0040363422268243085, 0.003970693428139745, 0.0039053214279994677, 0.003840267870156947, 0.0037755746643350786, 0.003711283820076973, 0.0036474372829612954, 0.0035840767737315535, 0.0035212436308682785, 0.003458978657111071, 0.0033973219704145664, 0.003336312859798162, 0.003275989646524004, 0.003216389551011694, 0.003157548565870943, 0.0030995013354056084, 0.0030422810419139914, 0.00298591929908108, 0.002930446052728837, 0.0028758894891603892, 0.002822275951303784, 0.0027696298628300587, 0.002717973660389772, 0.0026673277340811857, 0.002617710376232464, 0.002569137738549526, 0.00252162379765082, 0.0024751803289798984, 0.0024298168890570983, 0.0023855408060021906, 0.0023423571782312325, 0.0023002688812027655, 0.002259276582061215, 0.002219378761998919, 0.0021805717461326883, 0.002142849740666248, 0.0021062048770865717, 0.002070627263119756, 0.002036105040151184, 0.0020026244467949315, 0.001970169888279101, 0.0019387240112968454, 0.0019082677839574714, 0.0018787805804581774, 0.0018502402700846634, 0.0018226233101382994, 0.001795904842378518, 0.001770058792561818, 0.001745057972653227, 0.001720874185282175, 0.001697478330012588, 0.0016748405109966232, 0.0016529301455827342, 0.0016317160734516765, 0.001611166665858791, 0.001591249934567049, 0.0015719336400632686, 0.0015531853986592448, 0.0015349727880904235, 0.0015172634512369896, 0.0015000251976059781, 0.0014832261022277994, 0.0014668346016368486, 0.0014508195866229988, 0.0014351504914591794, 0.0014197973793293429, 0.0014047310237013783, 0.0013899229854102211, 0.0013753456852380152, 0.001360972471800186, 0.001346777684568875, 0.0013327367118879379, 0.001318826043856963, 0.0013050233199849643, 0.0012913073715377424, 0.0012776582585261747, 0.0012640573013058287, 0.0012504871067811646, 0.0012369315892300627, 0.0012233759857866102, 0.0012098068666415377, 0.001196212140040702, 0.0011825810521822761, 0.001168904182132742, 0.0011551734319004711, 0.0011413820118232848, 0.0011275244214432353, 0.001113596426057353, 0.0010995950291477555, 0.001085518440907864, 0.0010713660430935964, 0.0010571383504393507, 0.0010428369688881911, 0.0010284645508939097, 0.0010140247480596022, 0.0009995221613829219, 0.0009849622893823655, 0.0009703514743817507, 0.0009556968472314161, 0.0009410062707446992, 0.0009262882821269499, 0.0009115520346715722, 0.0008968072389936497, 0.0008820641040664535, 0.0008673332783195078, 0.0008526257910493757, 0.000837952994385366, 0.0008233265060425753, 0.0008087581530837963, 0.0007942599169000722, 0.0007798438796070486, 0.0007655221720410079, 0.000751306923524392, 0.0007372102135561857, 0.0007232440255674792, 0.0007094202028672382, 0.0006957504068876998, 0.0006822460778231228, 0.000668918397739848, 0.0006557782562199746, 0.0006428362185853976, 0.0006301024967337814, 0.0006175869226031265, 0.0006052989242672186, 0.000593247504650387, 0.0005814412228367763, 0.0005698881779368378, 0.0005585959954619893, 0.0005475718161475129, 0.0005368222871537235, 0.0005263535555663422, 0.0005161712641088971, 0.0005062805489728095, 0.0004966860396646527, 0.0004873918607649383, 0.0004784016354886037, 0.00046971849093418994, 0.0004613450649064728, 0.000453283514195986, 0.0004455355241984454, 0.00043810231975751165, 0.0004309846771154399, 0.00042418293685813117, 0.00041769701774359747, 0.00041152643130598534, 0.0004056702971309378, 0.0004001273587021467, 0.0003948959997233464, 0.0003899742608247226, 0.00038535985656761046, 0.0003810501926663887, 0.0003770423833515854, 0.00037333326880331435, 0.00036991943258917007, 0.0003667972190456418, 0.00036396275054681633, 0.0003614119446086665, 0.0003591405307814705, 0.00035714406728687306, 0.00035541795735976385, 0.00035395746525846496, 0.0003527577319097285, 0.0003518137901576894, 0.0003511205795882584, 0.00035067296090244215, 0.00035046572981379387, 0.000350493630446639, 0.00035075136821290624, 0.0003512336221463931, 0.00035193505667409163, 0.00035285033280489626, 0.0003539741187166013, 0.0003553010997226377, 0.00035682598760055436, 0.0003585435292648316, 0.00036044851476727967, 0.00036253578460907507, 0.00036480023634944097, 0.00036723683049711195, 0.0003698405956721003, 0.0003726066330268815, 0.000375530119917987, 0.00037860631282114705, 0.00038183054948552885, 0.0003851982503253459, 0.0003887049190500791, 0.000392346142537785, 0.00039611758995947914, 0.00040001501116624527, 0.00040403423435465336, 0.00040817116303009114, 0.0004124217722917881, 0.000416782104467535, 0.0004212482641303771, 0.00042581641253377795, 0.0004304827615059141, 0.00043524356684780213, 0.000440095121283802, 0.00044503374701666744, 0.00045005578794265355, 0.0004551576015852033, 0.0004603355508083771, 0.00046558599537339766, 0.00047090528340347845, 0.00047628974282335666, 0.0004817356728407644, 0.00048723933553728474, 0.0004927969476357717, 0.0004984046725106382, 0.0005040586125059311, 0.0005097548016241596, 0.000515489198646366, 0.0005212576807409334, 0.0005270560376151474, 0.0005328799662596038, 0.0005387250663311938, 0.000544586836215698, 0.0005504606698059528, 0.000556341854026266, 0.0005622255671281986, 0.0005681068777771632, 0.0005739807449434706, 0.0005798420186056604, 0.0005856854412681045, 0.000591505650289169, 0.0005972971810106204, 0.0006030544706735549, 0.000608771863100994, 0.000614443614122424, 0.0006200638977110255, 0.0006256268128002284, 0.0006311263907424613, 0.0006365566033696983, 0.0006419113716125565, 0.0006471845746323466, 0.000652370059418592, 0.000657461650803149, 0.0006624531618411239, 0.0006673384045083516, 0.0006721112006651791, 0.0006767653932367386, 0.0006812948575606813, 0.0006856935128545692, 0.0006899553337565813, 0.0006940743618950262, 0.0006980447174441459, 0.000701860610625966, 0.0007055163531202916, 0.0007090063693474569, 0.00071232520759096, 0.0007154675509296689, 0.0007184282279518133, 0.0007212022232253965, 0.0007237846875020319, 0.0007261709476333693, 0.0007283565161813168, 0.000730337100705079, 0.0007321086127096427, 0.0007336671762417188, 0.0007350091361202984, 0.0007361310657898737, 0.0007370297747850623, 0.0007377023157957908, 0.0007381459913224546, 0.0007383583599104833, 0.0007383372419536228, 0.000738080725054975, 0.0007375871689344471, 0.000736855209870799, 0.0007358837646659942, 0.0007346720341190319, 0.0007332195059959867, 0.0007315259574825765, 0.0007295914571052896, 0.0007274163661069616, 0.0007250013392627204, 0.0007223473251224598, 0.0007194555656664733, 0.0007163275953616092, 0.0007129652396063023, 0.0007093706125541347, 0.0007055461143071425, 0.0007014944274719633, 0.0006972185130740775, 0.0006927216058278333, 0.0006880072087626528, 0.0006830790872087447, 0.0006779412621488299, 0.0006725980029457051, 0.0006670538194589878, 0.0006613134535679555, 0.0006553818701210928, 0.0006492642473366154, 0.0006429659666819422, 0.0006364926022636337, 0.0006298499097628228, 0.0006230438149544361, 0.0006160804018516003, 0.0006089659005194503, 0.0006017066746050634, 0.0005943092086324374, 0.0005867800951132329, 0.0005791260215253806, 0.0005713537572126495, 0.0005634701402587765, 0.0005554820643898262, 0.0005473964659580289, 0.0005392203110594942, 0.0005309605828368191, 0.0005226242690158625, 0.0005142183497236952, 0.0005057497856321278, 0.0004972255064681829, 0.000488652399929554, 0.0004800373010393792, 0.0004713869819707806, 0.00046270814236743163, 0.00045400740018213594, 0.0004452912830509459, 0.00043656622021586447, 0.00042783853500466394, 0.0004191144378719054, 0.0004104000200008244, 0.0004017012474615714, 0.0003930239559172098, 0.00038437384586507934, 0.00037575647839760033, 0.00036717727146334307, 0.00035864149660634116], \"yaxis\": \"y\"}, {\"legendgroup\": \"Balzac\", \"marker\": {\"color\": \"rgb(44, 160, 44)\"}, \"mode\": \"lines\", \"name\": \"Balzac\", \"showlegend\": false, \"type\": \"scatter\", \"x\": [16.0, 19.422, 22.844, 26.266, 29.688000000000002, 33.11, 36.532, 39.954, 43.376000000000005, 46.798, 50.22, 53.642, 57.064, 60.486, 63.908, 67.33, 70.75200000000001, 74.174, 77.596, 81.018, 84.44, 87.862, 91.284, 94.706, 98.128, 101.55, 104.972, 108.394, 111.816, 115.238, 118.66, 122.082, 125.504, 128.926, 132.348, 135.76999999999998, 139.192, 142.614, 146.036, 149.458, 152.88, 156.302, 159.724, 163.146, 166.568, 169.99, 173.412, 176.834, 180.256, 183.678, 187.1, 190.522, 193.944, 197.366, 200.788, 204.21, 207.632, 211.054, 214.476, 217.898, 221.32, 224.742, 228.164, 231.586, 235.008, 238.43, 241.852, 245.274, 248.696, 252.118, 255.54, 258.962, 262.384, 265.80600000000004, 269.228, 272.65, 276.072, 279.494, 282.916, 286.338, 289.76, 293.182, 296.604, 300.026, 303.448, 306.87, 310.292, 313.714, 317.136, 320.558, 323.98, 327.402, 330.824, 334.246, 337.668, 341.09, 344.512, 347.934, 351.356, 354.778, 358.2, 361.622, 365.044, 368.466, 371.888, 375.31, 378.732, 382.154, 385.576, 388.998, 392.42, 395.842, 399.264, 402.686, 406.108, 409.53, 412.952, 416.374, 419.796, 423.218, 426.64, 430.062, 433.484, 436.906, 440.328, 443.75, 447.172, 450.594, 454.016, 457.438, 460.86, 464.282, 467.704, 471.126, 474.548, 477.97, 481.392, 484.814, 488.236, 491.658, 495.08, 498.502, 501.924, 505.346, 508.768, 512.19, 515.6120000000001, 519.034, 522.456, 525.8779999999999, 529.3, 532.722, 536.144, 539.566, 542.988, 546.41, 549.832, 553.254, 556.676, 560.098, 563.52, 566.942, 570.364, 573.786, 577.208, 580.63, 584.052, 587.474, 590.896, 594.318, 597.74, 601.162, 604.584, 608.006, 611.428, 614.85, 618.272, 621.694, 625.116, 628.538, 631.96, 635.382, 638.804, 642.226, 645.648, 649.07, 652.492, 655.914, 659.336, 662.758, 666.18, 669.602, 673.024, 676.446, 679.868, 683.29, 686.712, 690.134, 693.556, 696.978, 700.4, 703.822, 707.244, 710.666, 714.088, 717.51, 720.932, 724.354, 727.776, 731.198, 734.62, 738.042, 741.464, 744.886, 748.308, 751.73, 755.152, 758.574, 761.996, 765.418, 768.84, 772.262, 775.684, 779.106, 782.528, 785.95, 789.372, 792.794, 796.216, 799.638, 803.06, 806.482, 809.904, 813.326, 816.748, 820.17, 823.592, 827.014, 830.436, 833.858, 837.28, 840.702, 844.124, 847.546, 850.968, 854.39, 857.812, 861.234, 864.656, 868.078, 871.5, 874.922, 878.344, 881.766, 885.188, 888.61, 892.032, 895.454, 898.876, 902.298, 905.72, 909.142, 912.564, 915.986, 919.408, 922.83, 926.252, 929.674, 933.096, 936.518, 939.94, 943.362, 946.784, 950.206, 953.628, 957.05, 960.472, 963.894, 967.316, 970.738, 974.16, 977.582, 981.004, 984.426, 987.848, 991.27, 994.692, 998.114, 1001.536, 1004.958, 1008.38, 1011.802, 1015.224, 1018.646, 1022.068, 1025.49, 1028.912, 1032.3339999999998, 1035.7559999999999, 1039.1779999999999, 1042.6, 1046.022, 1049.444, 1052.866, 1056.288, 1059.71, 1063.132, 1066.554, 1069.976, 1073.398, 1076.82, 1080.242, 1083.664, 1087.086, 1090.508, 1093.93, 1097.352, 1100.774, 1104.196, 1107.618, 1111.04, 1114.462, 1117.884, 1121.306, 1124.728, 1128.15, 1131.572, 1134.994, 1138.416, 1141.838, 1145.26, 1148.682, 1152.104, 1155.526, 1158.948, 1162.37, 1165.792, 1169.214, 1172.636, 1176.058, 1179.48, 1182.902, 1186.324, 1189.746, 1193.168, 1196.59, 1200.012, 1203.434, 1206.856, 1210.278, 1213.7, 1217.122, 1220.544, 1223.966, 1227.388, 1230.81, 1234.232, 1237.654, 1241.076, 1244.498, 1247.92, 1251.342, 1254.764, 1258.186, 1261.608, 1265.03, 1268.452, 1271.874, 1275.296, 1278.718, 1282.14, 1285.562, 1288.984, 1292.406, 1295.828, 1299.25, 1302.672, 1306.094, 1309.516, 1312.938, 1316.36, 1319.782, 1323.204, 1326.626, 1330.048, 1333.47, 1336.892, 1340.314, 1343.736, 1347.158, 1350.58, 1354.002, 1357.424, 1360.846, 1364.268, 1367.69, 1371.112, 1374.534, 1377.956, 1381.378, 1384.8, 1388.222, 1391.644, 1395.066, 1398.488, 1401.91, 1405.332, 1408.754, 1412.176, 1415.598, 1419.02, 1422.442, 1425.864, 1429.286, 1432.708, 1436.13, 1439.552, 1442.974, 1446.396, 1449.818, 1453.24, 1456.662, 1460.084, 1463.506, 1466.928, 1470.35, 1473.772, 1477.194, 1480.616, 1484.038, 1487.46, 1490.882, 1494.304, 1497.726, 1501.148, 1504.57, 1507.992, 1511.414, 1514.836, 1518.258, 1521.68, 1525.102, 1528.524, 1531.946, 1535.368, 1538.79, 1542.212, 1545.634, 1549.056, 1552.478, 1555.9, 1559.322, 1562.744, 1566.166, 1569.588, 1573.01, 1576.432, 1579.854, 1583.276, 1586.698, 1590.12, 1593.542, 1596.964, 1600.386, 1603.808, 1607.23, 1610.652, 1614.074, 1617.496, 1620.918, 1624.34, 1627.762, 1631.184, 1634.606, 1638.028, 1641.45, 1644.872, 1648.294, 1651.716, 1655.138, 1658.56, 1661.982, 1665.404, 1668.826, 1672.248, 1675.67, 1679.092, 1682.514, 1685.936, 1689.358, 1692.78, 1696.202, 1699.624, 1703.046, 1706.468, 1709.89, 1713.312, 1716.734, 1720.156, 1723.578], \"xaxis\": \"x\", \"y\": [0.003006564218349886, 0.0030443867284389134, 0.0030791251531690784, 0.003110684691763066, 0.003138982019840637, 0.003163945715420145, 0.0031855166081315224, 0.003203648048969468, 0.003218306098651381, 0.0032294696334003695, 0.003237130367739998, 0.003241292794654863, 0.0032419740442313476, 0.0032392036626358632, 0.0032330233140057062, 0.0032234864085115044, 0.0032106576604923973, 0.003194612581158297, 0.0031754369108916007, 0.003153225996657365, 0.003128084120442072, 0.0031001237849821155, 0.0030694649633119333, 0.003036234318855585, 0.0030005644029045173, 0.002962592836367583, 0.002922461482649019, 0.0028803156184074724, 0.0028363031087776987, 0.002790573593399968, 0.002743277689304885, 0.0026945662163489177, 0.0026445894504938663, 0.0025934964097784337, 0.002541434177348398, 0.0024885472654009896, 0.002434977023365486, 0.0023808610930936692, 0.0023263329132770143, 0.0022715212747498647, 0.0022165499277858203, 0.0021615372419544264, 0.0021065959185833905, 0.002051832755372925, 0.0019973484622387034, 0.0019432375270227375, 0.001889588129310569, 0.0018364821002320587, 0.0017839949258038805, 0.0017321957910962954, 0.0016811476622762317, 0.0016309074033932073, 0.0015815259246342239, 0.0015330483586776763, 0.0014855142617229684, 0.0014389578357603995, 0.0013934081686724825, 0.0013488894888206272, 0.0013054214308669558, 0.0012630193097068196, 0.0012216943995398113, 0.0011814542152820007, 0.001142302793716315, 0.0011042409719875079, 0.0010672666612694787, 0.0010313751136621055, 0.0009965591806088984, 0.0009628095613622467, 0.0009301150402568147, 0.0008984627117808622, 0.0008678381926573433, 0.0008382258203592436, 0.0008096088376848184, 0.0007819695632064102, 0.0007552895475800465, 0.0007295497158608752, 0.0007047304961110746, 0.0006808119347114592, 0.000657773798895626, 0.0006355956671160327, 0.0006142570079252576, 0.0005937372481132904, 0.0005740158308838886, 0.0005550722648804597, 0.0005368861648858596, 0.0005194372850218289, 0.0005027055452639094, 0.000486671052067763, 0.0004713141138742182, 0.00045661525222440055, 0.0004425552091743105, 0.00042911495165144425, 0.0004162756733457844, 0.0004040187946748934, 0.00039232596130900756, 0.000381179041687984, 0.00037056012390860595, 0.00036045151230891054, 0.00035083572402655813, 0.0003416954857614138, 0.000333013730928927, 0.00032477359735092484, 0.0003169584255943367, 0.0003095517580362974, 0.0003025373387060792, 0.00029589911393032895, 0.0002896212337880412, 0.0002836880543653663, 0.0002780841407875097, 0.00027279427099529427, 0.00026780344022710233, 0.0002630968661625547, 0.0002586599946819396, 0.00025447850619480394, 0.0002505383224917479, 0.0002468256140750368, 0.00024332680792572093, 0.00024002859566725905, 0.00023691794208781548, 0.00023398209398523936, 0.00023120858929993532, 0.0002285852665013111, 0.00022610027419301743, 0.0002237420809007785, 0.00022149948500414465, 0.00021936162477003687, 0.00021731798844154462, 0.0002153584243301558, 0.0002134731508536071, 0.00021165276645499309, 0.00020988825933184653, 0.00020817101689683836, 0.0002064928348847501, 0.0002048459260136847, 0.00020322292810235804, 0.00020161691153996653, 0.00020002138600080067, 0.00019843030629266496, 0.0001968380772264813, 0.0001952395573943339, 0.00019363006174482125, 0.0001920053628479995, 0.00019036169074750672, 0.0001886957313046721, 0.00018700462294855082, 0.0001852859517567917, 0.0001835377448050276, 0.00018175846173686694, 0.00017994698452249337, 0.00017810260539108134, 0.00017622501294054985, 0.0001743142764473252, 0.00017237082841852142, 0.00017039544544898835, 0.0001683892274657319, 0.00016635357546198606, 0.0001642901678424069, 0.0001622009355191848, 0.00016008803591602774, 0.00015795382605271702, 0.00015580083489699002, 0.00015363173518266853, 0.00015144931490299464, 0.00014925644869591512, 0.00014705606934340288, 0.00014485113960974226, 0.00014264462464393777, 0.00014043946516902953, 0.0001382385516760945, 0.00013604469983313793, 0.00013386062730901135, 0.0001316889322000313, 0.0001295320732322941, 0.00012739235189591745, 0.0001252718966488402, 0.00012317264930757315, 0.00012109635372067353, 0.00011904454679798644, 0.00011701855194512926, 0.00011501947492857344, 0.00011304820217231267, 0.00011110540146275634, 0.00010919152501448519, 0.00010730681482609659, 0.0001054513102328383, 0.00010362485754134257, 0.00010182712161175707, 0.00010005759923414629, 9.831563412941102e-05, 9.660043339029916e-05, 9.491108516553031e-05, 9.32465773797071e-05, 9.160581727366376e-05, 8.99876515442448e-05, 8.839088685923905e-05, 8.681431052233198e-05, 8.525671106443837e-05, 8.37168985415905e-05, 8.219372432559533e-05, 8.068610018183462e-05, 7.91930164387388e-05, 7.771355906545419e-05, 7.624692548790245e-05, 7.47924389885919e-05, 7.334956155201018e-05, 7.191790503498943e-05, 7.049724055988431e-05, 6.908750604752883e-05, 6.76888118265133e-05, 6.630144427515017e-05, 6.492586747235737e-05, 6.356272285337481e-05, 6.221282688556636e-05, 6.087716679834244e-05, 5.955689441931089e-05, 5.8253318185970504e-05, 5.696789341844636e-05, 5.570221095383026e-05, 5.4457984256496656e-05, 5.3237035131252784e-05, 5.204127817725138e-05, 5.0872704130218416e-05, 4.973336224866208e-05, 4.862534190632955e-05, 4.755075355825485e-05, 4.6511709251292106e-05, 4.551030285209424e-05, 4.454859016609135e-05, 4.3628569120211397e-05, 4.2752160179899895e-05, 4.192118716751989e-05, 4.113735864449962e-05, 4.040225001372946e-05, 3.97172864917604e-05, 3.9083727092414344e-05, 3.850264975455672e-05, 3.797493773709249e-05, 3.750126739380903e-05, 3.70820974295916e-05, 3.671765972785272e-05, 3.6407951826837134e-05, 3.615273110986111e-05, 3.5951510761599344e-05, 3.580355752932199e-05, 3.570789131458189e-05, 3.566328660733365e-05, 3.5668275760904886e-05, 3.572115409270825e-05, 3.581998678215762e-05, 3.5962617524000385e-05, 3.614667888228262e-05, 3.6369604277494386e-05, 3.6628641527176185e-05, 3.692086784848621e-05, 3.724320622000266e-05, 3.759244298945261e-05, 3.7965246604192375e-05, 3.8358187332197004e-05, 3.876775783312336e-05, 3.9190394431772626e-05, 3.962249894006235e-05, 4.006046086850172e-05, 4.050067986420415e-05, 4.093958820973519e-05, 4.137367321562558e-05, 4.179949933922652e-05, 4.221372986377923e-05, 4.2613147974131836e-05, 4.299467706948014e-05, 4.3355400158826336e-05, 4.3692578191525454e-05, 4.400366718329534e-05, 4.428633400735128e-05, 4.453847073083389e-05, 4.475820738834837e-05, 4.49439230971397e-05, 4.509425543207913e-05, 4.520810799312051e-05, 4.528465611306575e-05, 4.532335066921646e-05, 4.532391997863215e-05, 4.528636977310306e-05, 4.5210981266415355e-05, 4.5098307342863285e-05, 4.494916691208171e-05, 4.476463749095583e-05, 4.454604608844794e-05, 4.429495848349819e-05, 4.4013166999551056e-05, 4.370267689158304e-05, 4.336569147262382e-05, 4.300459611654979e-05, 4.262194128227674e-05, 4.22204247112933e-05, 4.1802872955688907e-05, 4.137222239738071e-05, 4.0931499921095885e-05, 4.048380340381065e-05, 4.0032282181782476e-05, 3.958011765306882e-05, 3.913050416854699e-05, 3.8686630358006036e-05, 3.825166102995178e-05, 3.782871977445896e-05, 3.742087238783609e-05, 3.7031111226175167e-05, 3.6662340582187055e-05, 3.631736316623547e-05, 3.5998867758344486e-05, 3.570941808334561e-05, 3.545144294643098e-05, 3.522722765137321e-05, 3.503890670874677e-05, 3.488845782682162e-05, 3.477769716357871e-05, 3.470827580468979e-05, 3.468167741947784e-05, 3.4699217034980355e-05, 3.4762040857421427e-05, 3.4871127060784046e-05, 3.5027287453875375e-05, 3.523116993038895e-05, 3.548326160106565e-05, 3.5783892503195155e-05, 3.613323978042097e-05, 3.6531332225128226e-05, 3.6978055076602097e-05, 3.747315497061694e-05, 3.80162449401094e-05, 3.860680937203208e-05, 3.9244208832295856e-05, 3.9927684678777506e-05, 4.065636339158274e-05, 4.142926055996324e-05, 4.224528447634982e-05, 4.310323929970949e-05, 4.4001827762692796e-05, 4.493965340962726e-05, 4.591522236514251e-05, 4.692694464589777e-05, 4.7973135040326065e-05, 4.905201359333032e-05, 5.016170574427385e-05, 5.130024217723009e-05, 5.246555845212824e-05, 5.365549449399217e-05, 5.486779402479024e-05, 5.610010402836156e-05, 5.734997434336386e-05, 5.8614857482107676e-05, 5.989210877444955e-05, 6.117898693556397e-05, 6.247265515439132e-05, 6.37701827958763e-05, 6.5068547804794e-05, 6.63646398920769e-05, 6.76552645761758e-05, 6.8937148142222e-05, 7.020694357072282e-05, 7.146123747537351e-05, 7.269655807644906e-05, 7.390938422234701e-05, 7.509615545735802e-05, 7.625328311885618e-05, 7.737716243202706e-05, 7.846418555520564e-05, 7.951075551408297e-05, 8.051330094867931e-05, 8.146829158327651e-05, 8.237225431664725e-05, 8.32217898181107e-05, 8.401358950434826e-05, 8.474445276269317e-05, 8.541130427890227e-05, 8.601121132134587e-05, 8.654140082920966e-05, 8.699927614976394e-05, 8.73824332690708e-05, 8.768867638169019e-05, 8.791603264800796e-05, 8.806276599272033e-05, 8.812738980470832e-05, 8.810867840695299e-05, 8.800567717517232e-05, 8.781771119538361e-05, 8.7544392363468e-05, 8.718562484387849e-05, 8.674160881971432e-05, 8.621284248229428e-05, 8.560012222490544e-05, 8.490454102237397e-05, 8.41274849952971e-05, 8.327062817497317e-05, 8.23359255020723e-05, 8.132560410869037e-05, 8.0242152949431e-05, 7.908831086238205e-05, 7.786705315511049e-05, 7.658157682394353e-05, 7.523528452668362e-05, 7.383176743939787e-05, 7.237478713692043e-05, 7.08682566441291e-05, 6.931622081083428e-05, 6.772283616720747e-05, 6.609235041906623e-05, 6.442908174300671e-05, 6.27373980403745e-05, 6.1021696306417416e-05, 5.928638226674119e-05, 5.753585042746232e-05, 5.5774464678330656e-05, 5.400653957967624e-05, 5.223632245445159e-05, 5.0467976396032565e-05, 4.870556429094186e-05, 4.695303394343373e-05, 4.521420437607629e-05, 4.349275336725201e-05, 4.179220627302495e-05, 4.011592616726277e-05, 3.84671053203996e-05, 3.6848758023935806e-05, 3.526371475484518e-05, 3.371461766161985e-05, 3.2203917341870614e-05, 3.073387087031778e-05, 2.9306541025767e-05, 2.792379665634786e-05, 2.6587314113987762e-05, 2.5298579681851935e-05, 2.4058892912354863e-05, 2.2869370788377755e-05, 2.1730952616521836e-05, 2.0644405558598847e-05, 1.9610330706105028e-05, 1.862916960210874e-05, 1.7701211115785998e-05, 1.682659857670823e-05, 1.6005337078867426e-05, 1.5237300868256597e-05, 1.4522240732521529e-05, 1.3859791316693734e-05, 1.3249478295203764e-05, 1.2690725337176397e-05, 1.2182860809308836e-05, 1.172512416834936e-05, 1.131667200320213e-05, 1.095658369489268e-05, 1.0643866670928921e-05, 1.0377461238878313e-05, 1.0156244992156545e-05, 9.979036788984945e-06, 9.844600313132804e-06, 9.751647232323479e-06, 9.69883997697356e-06, 9.684794168170405e-06, 9.708080729411197e-06, 9.767227721563999e-06, 9.860721944717165e-06, 9.987010354015208e-06, 1.0144501339204517e-05, 1.033156591940652e-05, 1.0546538905588633e-05, 1.0787720083307886e-05, 1.1053375467569525e-05, 1.134173868008821e-05, 1.1651012496889656e-05, 1.1979370611084953e-05, 1.2324959651831554e-05, 1.2685901496022017e-05, 1.3060295904172534e-05, 1.3446223506396592e-05, 1.3841749158311053e-05, 1.424492568032645e-05, 1.4653797987100945e-05, 1.5066407607081449e-05, 1.548079758511278e-05, 1.5895017754157407e-05, 1.630713035533535e-05, 1.671521597885417e-05, 1.711737979205562e-05, 1.7511758014834114e-05, 1.7896524597180355e-05, 1.8269898048640603e-05, 1.8630148365132703e-05, 1.897560399488947e-05, 1.930465878235889e-05, 1.9615778826727737e-05, 1.9907509190379877e-05, 2.017848039208343e-05, 2.0427414620024094e-05, 2.0653131600975262e-05, 2.085455406390056e-05, 2.103071273910238e-05, 2.1180750837623203e-05, 2.1303927959933605e-05, 2.1399623387943577e-05, 2.146733871998841e-05, 2.1506699814595464e-05], \"yaxis\": \"y\"}, {\"legendgroup\": \"Zola\", \"marker\": {\"color\": \"rgb(31, 119, 180)\", \"symbol\": \"line-ns-open\"}, \"mode\": \"markers\", \"name\": \"Zola\", \"showlegend\": false, \"type\": \"scatter\", \"x\": [48, 49, 88, 43, 25, 247, 29, 31, 30, 200, 62, 20, 34, 58, 24, 127, 105, 23, 166, 112, 114, 244, 96, 162, 201, 62, 113, 61, 29, 33, 169, 28, 28, 28, 22, 91, 88, 34, 176, 90, 35, 69, 43, 36, 27, 51, 27, 29, 23, 96, 23, 22, 82, 65, 106, 25, 36, 41, 52, 210, 178, 53, 108, 31, 183, 31, 72, 59, 28, 163, 22, 46, 172, 129, 87, 88, 24, 33, 25, 280, 61, 24, 53, 25, 60, 73, 55, 74, 176, 31, 43, 299, 107, 88, 302, 40, 229, 113, 180, 32, 235, 49, 15, 65, 56, 35, 25, 135, 41, 43, 35, 43, 48, 41, 107, 34, 40, 56, 67, 50, 42, 42, 289, 28, 237, 85, 69, 29, 28, 22, 28, 21, 117, 212, 22, 42, 34, 68, 166, 25, 68, 27, 35, 181, 59, 90, 33, 159, 114, 69, 106, 27, 37, 188, 53, 79, 22, 47, 24, 78, 209, 239, 36, 28, 29, 88, 41, 79, 35, 78, 152, 176, 46, 24, 37, 157, 275, 53, 43, 300, 50, 152, 61, 29, 23, 54, 39, 89, 60, 27, 22, 61, 71, 288, 58, 44, 28, 130, 24, 63], \"xaxis\": \"x\", \"y\": [\"Zola\", \"Zola\", \"Zola\", \"Zola\", \"Zola\", \"Zola\", \"Zola\", \"Zola\", \"Zola\", \"Zola\", \"Zola\", \"Zola\", \"Zola\", \"Zola\", \"Zola\", \"Zola\", \"Zola\", \"Zola\", \"Zola\", \"Zola\", \"Zola\", \"Zola\", \"Zola\", \"Zola\", \"Zola\", \"Zola\", \"Zola\", \"Zola\", \"Zola\", \"Zola\", \"Zola\", \"Zola\", \"Zola\", \"Zola\", \"Zola\", \"Zola\", \"Zola\", \"Zola\", \"Zola\", \"Zola\", \"Zola\", \"Zola\", \"Zola\", \"Zola\", \"Zola\", \"Zola\", \"Zola\", \"Zola\", \"Zola\", \"Zola\", \"Zola\", \"Zola\", \"Zola\", \"Zola\", \"Zola\", \"Zola\", \"Zola\", \"Zola\", \"Zola\", \"Zola\", \"Zola\", \"Zola\", \"Zola\", \"Zola\", \"Zola\", \"Zola\", \"Zola\", \"Zola\", \"Zola\", \"Zola\", \"Zola\", \"Zola\", \"Zola\", \"Zola\", \"Zola\", \"Zola\", \"Zola\", \"Zola\", \"Zola\", \"Zola\", \"Zola\", \"Zola\", \"Zola\", \"Zola\", \"Zola\", \"Zola\", \"Zola\", \"Zola\", \"Zola\", \"Zola\", \"Zola\", \"Zola\", \"Zola\", \"Zola\", \"Zola\", \"Zola\", \"Zola\", \"Zola\", \"Zola\", \"Zola\", \"Zola\", \"Zola\", \"Zola\", \"Zola\", \"Zola\", \"Zola\", \"Zola\", \"Zola\", \"Zola\", \"Zola\", \"Zola\", \"Zola\", \"Zola\", \"Zola\", \"Zola\", \"Zola\", \"Zola\", \"Zola\", \"Zola\", \"Zola\", \"Zola\", \"Zola\", \"Zola\", \"Zola\", \"Zola\", \"Zola\", \"Zola\", \"Zola\", \"Zola\", \"Zola\", \"Zola\", \"Zola\", \"Zola\", \"Zola\", \"Zola\", \"Zola\", \"Zola\", \"Zola\", \"Zola\", \"Zola\", \"Zola\", \"Zola\", \"Zola\", \"Zola\", \"Zola\", \"Zola\", \"Zola\", \"Zola\", \"Zola\", \"Zola\", \"Zola\", \"Zola\", \"Zola\", \"Zola\", \"Zola\", \"Zola\", \"Zola\", \"Zola\", \"Zola\", \"Zola\", \"Zola\", \"Zola\", \"Zola\", \"Zola\", \"Zola\", \"Zola\", \"Zola\", \"Zola\", \"Zola\", \"Zola\", \"Zola\", \"Zola\", \"Zola\", \"Zola\", \"Zola\", \"Zola\", \"Zola\", \"Zola\", \"Zola\", \"Zola\", \"Zola\", \"Zola\", \"Zola\", \"Zola\", \"Zola\", \"Zola\", \"Zola\", \"Zola\", \"Zola\", \"Zola\", \"Zola\", \"Zola\", \"Zola\", \"Zola\", \"Zola\", \"Zola\", \"Zola\", \"Zola\", \"Zola\", \"Zola\"], \"yaxis\": \"y2\"}, {\"legendgroup\": \"Maupassant\", \"marker\": {\"color\": \"rgb(255, 127, 14)\", \"symbol\": \"line-ns-open\"}, \"mode\": \"markers\", \"name\": \"Maupassant\", \"showlegend\": false, \"type\": \"scatter\", \"x\": [85, 43, 80, 83, 136, 29, 41, 47, 185, 39, 91, 32, 43, 71, 59, 82, 47, 56, 121, 28, 48, 41, 46, 47, 42, 36, 26, 46, 22, 34, 72, 30, 24, 43, 27, 33, 25, 23, 40, 83, 37, 49, 26, 114, 56, 35, 62, 41, 174, 35, 65, 35, 75, 26, 60, 38, 38, 86, 30, 35, 48, 46, 63, 90, 47, 127, 53, 65, 89, 84, 27, 101, 32, 37, 43, 24, 50, 30, 51, 24, 80, 31, 48, 33, 78, 28, 27, 73, 49, 56, 22, 48, 30, 201, 102, 21, 43, 38, 52, 46, 48, 32, 122, 33, 76, 32, 73, 56, 73, 35, 32, 25, 29, 53, 30, 21, 221, 206, 26, 71, 82, 67, 29, 19, 49, 237, 64, 35, 88, 21, 48, 214, 71, 100, 67, 49, 73, 24, 38, 97, 24, 55, 41, 197, 49, 135, 35, 29, 30, 31, 68, 36, 72, 67, 40, 52, 85, 69, 38, 33, 96, 19, 32, 221, 92, 50, 86, 32, 55, 37, 134, 27, 30, 40, 28, 31, 26, 20, 154, 35, 30, 77, 40, 31, 97, 23, 54, 112, 28, 53, 64, 47, 57, 24, 82, 33, 85, 22, 122, 44], \"xaxis\": \"x\", \"y\": [\"Maupassant\", \"Maupassant\", \"Maupassant\", \"Maupassant\", \"Maupassant\", \"Maupassant\", \"Maupassant\", \"Maupassant\", \"Maupassant\", \"Maupassant\", \"Maupassant\", \"Maupassant\", \"Maupassant\", \"Maupassant\", \"Maupassant\", \"Maupassant\", \"Maupassant\", \"Maupassant\", \"Maupassant\", \"Maupassant\", \"Maupassant\", \"Maupassant\", \"Maupassant\", \"Maupassant\", \"Maupassant\", \"Maupassant\", \"Maupassant\", \"Maupassant\", \"Maupassant\", \"Maupassant\", \"Maupassant\", \"Maupassant\", \"Maupassant\", \"Maupassant\", \"Maupassant\", \"Maupassant\", \"Maupassant\", \"Maupassant\", \"Maupassant\", \"Maupassant\", \"Maupassant\", \"Maupassant\", \"Maupassant\", \"Maupassant\", \"Maupassant\", \"Maupassant\", \"Maupassant\", \"Maupassant\", \"Maupassant\", \"Maupassant\", \"Maupassant\", \"Maupassant\", \"Maupassant\", \"Maupassant\", \"Maupassant\", \"Maupassant\", \"Maupassant\", \"Maupassant\", \"Maupassant\", \"Maupassant\", \"Maupassant\", \"Maupassant\", \"Maupassant\", \"Maupassant\", \"Maupassant\", \"Maupassant\", \"Maupassant\", \"Maupassant\", \"Maupassant\", \"Maupassant\", \"Maupassant\", \"Maupassant\", \"Maupassant\", \"Maupassant\", \"Maupassant\", \"Maupassant\", \"Maupassant\", \"Maupassant\", \"Maupassant\", \"Maupassant\", \"Maupassant\", \"Maupassant\", \"Maupassant\", \"Maupassant\", \"Maupassant\", \"Maupassant\", \"Maupassant\", \"Maupassant\", \"Maupassant\", \"Maupassant\", \"Maupassant\", \"Maupassant\", \"Maupassant\", \"Maupassant\", \"Maupassant\", \"Maupassant\", \"Maupassant\", \"Maupassant\", \"Maupassant\", \"Maupassant\", \"Maupassant\", \"Maupassant\", \"Maupassant\", \"Maupassant\", \"Maupassant\", \"Maupassant\", \"Maupassant\", \"Maupassant\", \"Maupassant\", \"Maupassant\", \"Maupassant\", \"Maupassant\", \"Maupassant\", \"Maupassant\", \"Maupassant\", \"Maupassant\", \"Maupassant\", \"Maupassant\", \"Maupassant\", \"Maupassant\", \"Maupassant\", \"Maupassant\", \"Maupassant\", \"Maupassant\", \"Maupassant\", \"Maupassant\", \"Maupassant\", \"Maupassant\", \"Maupassant\", \"Maupassant\", \"Maupassant\", \"Maupassant\", \"Maupassant\", \"Maupassant\", \"Maupassant\", \"Maupassant\", \"Maupassant\", \"Maupassant\", \"Maupassant\", \"Maupassant\", \"Maupassant\", \"Maupassant\", \"Maupassant\", \"Maupassant\", \"Maupassant\", \"Maupassant\", \"Maupassant\", \"Maupassant\", \"Maupassant\", \"Maupassant\", \"Maupassant\", \"Maupassant\", \"Maupassant\", \"Maupassant\", \"Maupassant\", \"Maupassant\", \"Maupassant\", \"Maupassant\", \"Maupassant\", \"Maupassant\", \"Maupassant\", \"Maupassant\", \"Maupassant\", \"Maupassant\", \"Maupassant\", \"Maupassant\", \"Maupassant\", \"Maupassant\", \"Maupassant\", \"Maupassant\", \"Maupassant\", \"Maupassant\", \"Maupassant\", \"Maupassant\", \"Maupassant\", \"Maupassant\", \"Maupassant\", \"Maupassant\", \"Maupassant\", \"Maupassant\", \"Maupassant\", \"Maupassant\", \"Maupassant\", \"Maupassant\", \"Maupassant\", \"Maupassant\", \"Maupassant\", \"Maupassant\", \"Maupassant\", \"Maupassant\", \"Maupassant\", \"Maupassant\", \"Maupassant\", \"Maupassant\", \"Maupassant\", \"Maupassant\", \"Maupassant\", \"Maupassant\", \"Maupassant\", \"Maupassant\"], \"yaxis\": \"y2\"}, {\"legendgroup\": \"Balzac\", \"marker\": {\"color\": \"rgb(44, 160, 44)\", \"symbol\": \"line-ns-open\"}, \"mode\": \"markers\", \"name\": \"Balzac\", \"showlegend\": false, \"type\": \"scatter\", \"x\": [110, 34, 93, 50, 40, 114, 36, 34, 26, 85, 32, 42, 189, 57, 718, 26, 179, 22, 119, 26, 38, 97, 256, 23, 103, 31, 88, 20, 178, 34, 22, 25, 26, 51, 62, 42, 26, 39, 99, 116, 27, 238, 24, 39, 35, 301, 47, 25, 980, 25, 226, 168, 961, 101, 29, 30, 46, 203, 283, 21, 27, 37, 190, 25, 94, 1377, 76, 32, 82, 22, 1187, 42, 1296, 116, 34, 38, 30, 84, 27, 252, 23, 49, 120, 403, 74, 45, 85, 27, 53, 177, 504, 200, 24, 195, 23, 91, 24, 27, 210, 50, 40, 63, 47, 28, 139, 42, 106, 20, 36, 26, 275, 409, 30, 40, 153, 206, 169, 541, 39, 24, 74, 549, 31, 39, 22, 631, 224, 72, 61, 27, 38, 29, 527, 19, 39, 1727, 1317, 193, 32, 38, 142, 28, 21, 32, 92, 34, 32, 40, 40, 81, 25, 155, 218, 717, 368, 25, 126, 28, 36, 39, 63, 173, 27, 39, 40, 39, 341, 22, 230, 56, 107, 38, 58, 1351, 55, 172, 41, 72, 44, 63, 24, 33, 487, 22, 485, 48, 32, 389, 35, 138, 66, 79, 16, 19, 59, 26, 63, 21, 137, 133], \"xaxis\": \"x\", \"y\": [\"Balzac\", \"Balzac\", \"Balzac\", \"Balzac\", \"Balzac\", \"Balzac\", \"Balzac\", \"Balzac\", \"Balzac\", \"Balzac\", \"Balzac\", \"Balzac\", \"Balzac\", \"Balzac\", \"Balzac\", \"Balzac\", \"Balzac\", \"Balzac\", \"Balzac\", \"Balzac\", \"Balzac\", \"Balzac\", \"Balzac\", \"Balzac\", \"Balzac\", \"Balzac\", \"Balzac\", \"Balzac\", \"Balzac\", \"Balzac\", \"Balzac\", \"Balzac\", \"Balzac\", \"Balzac\", \"Balzac\", \"Balzac\", \"Balzac\", \"Balzac\", \"Balzac\", \"Balzac\", \"Balzac\", \"Balzac\", \"Balzac\", \"Balzac\", \"Balzac\", \"Balzac\", \"Balzac\", \"Balzac\", \"Balzac\", \"Balzac\", \"Balzac\", \"Balzac\", \"Balzac\", \"Balzac\", \"Balzac\", \"Balzac\", \"Balzac\", \"Balzac\", \"Balzac\", \"Balzac\", \"Balzac\", \"Balzac\", \"Balzac\", \"Balzac\", \"Balzac\", \"Balzac\", \"Balzac\", \"Balzac\", \"Balzac\", \"Balzac\", \"Balzac\", \"Balzac\", \"Balzac\", \"Balzac\", \"Balzac\", \"Balzac\", \"Balzac\", \"Balzac\", \"Balzac\", \"Balzac\", \"Balzac\", \"Balzac\", \"Balzac\", \"Balzac\", \"Balzac\", \"Balzac\", \"Balzac\", \"Balzac\", \"Balzac\", \"Balzac\", \"Balzac\", \"Balzac\", \"Balzac\", \"Balzac\", \"Balzac\", \"Balzac\", \"Balzac\", \"Balzac\", \"Balzac\", \"Balzac\", \"Balzac\", \"Balzac\", \"Balzac\", \"Balzac\", \"Balzac\", \"Balzac\", \"Balzac\", \"Balzac\", \"Balzac\", \"Balzac\", \"Balzac\", \"Balzac\", \"Balzac\", \"Balzac\", \"Balzac\", \"Balzac\", \"Balzac\", \"Balzac\", \"Balzac\", \"Balzac\", \"Balzac\", \"Balzac\", \"Balzac\", \"Balzac\", \"Balzac\", \"Balzac\", \"Balzac\", \"Balzac\", \"Balzac\", \"Balzac\", \"Balzac\", \"Balzac\", \"Balzac\", \"Balzac\", \"Balzac\", \"Balzac\", \"Balzac\", \"Balzac\", \"Balzac\", \"Balzac\", \"Balzac\", \"Balzac\", \"Balzac\", \"Balzac\", \"Balzac\", \"Balzac\", \"Balzac\", \"Balzac\", \"Balzac\", \"Balzac\", \"Balzac\", \"Balzac\", \"Balzac\", \"Balzac\", \"Balzac\", \"Balzac\", \"Balzac\", \"Balzac\", \"Balzac\", \"Balzac\", \"Balzac\", \"Balzac\", \"Balzac\", \"Balzac\", \"Balzac\", \"Balzac\", \"Balzac\", \"Balzac\", \"Balzac\", \"Balzac\", \"Balzac\", \"Balzac\", \"Balzac\", \"Balzac\", \"Balzac\", \"Balzac\", \"Balzac\", \"Balzac\", \"Balzac\", \"Balzac\", \"Balzac\", \"Balzac\", \"Balzac\", \"Balzac\", \"Balzac\", \"Balzac\", \"Balzac\", \"Balzac\", \"Balzac\", \"Balzac\", \"Balzac\", \"Balzac\", \"Balzac\", \"Balzac\", \"Balzac\", \"Balzac\", \"Balzac\", \"Balzac\", \"Balzac\", \"Balzac\"], \"yaxis\": \"y2\"}],\n",
       "                        {\"barmode\": \"overlay\", \"hovermode\": \"closest\", \"legend\": {\"traceorder\": \"reversed\"}, \"template\": {\"data\": {\"bar\": [{\"error_x\": {\"color\": \"#2a3f5f\"}, \"error_y\": {\"color\": \"#2a3f5f\"}, \"marker\": {\"line\": {\"color\": \"#E5ECF6\", \"width\": 0.5}}, \"type\": \"bar\"}], \"barpolar\": [{\"marker\": {\"line\": {\"color\": \"#E5ECF6\", \"width\": 0.5}}, \"type\": \"barpolar\"}], \"carpet\": [{\"aaxis\": {\"endlinecolor\": \"#2a3f5f\", \"gridcolor\": \"white\", \"linecolor\": \"white\", \"minorgridcolor\": \"white\", \"startlinecolor\": \"#2a3f5f\"}, \"baxis\": {\"endlinecolor\": \"#2a3f5f\", \"gridcolor\": \"white\", \"linecolor\": \"white\", \"minorgridcolor\": \"white\", \"startlinecolor\": \"#2a3f5f\"}, \"type\": \"carpet\"}], \"choropleth\": [{\"colorbar\": {\"outlinewidth\": 0, \"ticks\": \"\"}, \"type\": \"choropleth\"}], \"contour\": [{\"colorbar\": {\"outlinewidth\": 0, \"ticks\": \"\"}, \"colorscale\": [[0.0, \"#0d0887\"], [0.1111111111111111, \"#46039f\"], [0.2222222222222222, \"#7201a8\"], [0.3333333333333333, \"#9c179e\"], [0.4444444444444444, \"#bd3786\"], [0.5555555555555556, \"#d8576b\"], [0.6666666666666666, \"#ed7953\"], [0.7777777777777778, \"#fb9f3a\"], [0.8888888888888888, \"#fdca26\"], [1.0, \"#f0f921\"]], \"type\": \"contour\"}], \"contourcarpet\": [{\"colorbar\": {\"outlinewidth\": 0, \"ticks\": \"\"}, \"type\": \"contourcarpet\"}], \"heatmap\": [{\"colorbar\": {\"outlinewidth\": 0, \"ticks\": \"\"}, \"colorscale\": [[0.0, \"#0d0887\"], [0.1111111111111111, \"#46039f\"], [0.2222222222222222, \"#7201a8\"], [0.3333333333333333, \"#9c179e\"], [0.4444444444444444, \"#bd3786\"], [0.5555555555555556, \"#d8576b\"], [0.6666666666666666, \"#ed7953\"], [0.7777777777777778, \"#fb9f3a\"], [0.8888888888888888, \"#fdca26\"], [1.0, \"#f0f921\"]], \"type\": \"heatmap\"}], \"heatmapgl\": [{\"colorbar\": {\"outlinewidth\": 0, \"ticks\": \"\"}, \"colorscale\": [[0.0, \"#0d0887\"], [0.1111111111111111, \"#46039f\"], [0.2222222222222222, \"#7201a8\"], [0.3333333333333333, \"#9c179e\"], [0.4444444444444444, \"#bd3786\"], [0.5555555555555556, \"#d8576b\"], [0.6666666666666666, \"#ed7953\"], [0.7777777777777778, \"#fb9f3a\"], [0.8888888888888888, \"#fdca26\"], [1.0, \"#f0f921\"]], \"type\": \"heatmapgl\"}], \"histogram\": [{\"marker\": {\"colorbar\": {\"outlinewidth\": 0, \"ticks\": \"\"}}, \"type\": \"histogram\"}], \"histogram2d\": [{\"colorbar\": {\"outlinewidth\": 0, \"ticks\": \"\"}, \"colorscale\": [[0.0, \"#0d0887\"], [0.1111111111111111, \"#46039f\"], [0.2222222222222222, \"#7201a8\"], [0.3333333333333333, \"#9c179e\"], [0.4444444444444444, \"#bd3786\"], [0.5555555555555556, \"#d8576b\"], [0.6666666666666666, \"#ed7953\"], [0.7777777777777778, \"#fb9f3a\"], [0.8888888888888888, \"#fdca26\"], [1.0, \"#f0f921\"]], \"type\": \"histogram2d\"}], \"histogram2dcontour\": [{\"colorbar\": {\"outlinewidth\": 0, \"ticks\": \"\"}, \"colorscale\": [[0.0, \"#0d0887\"], [0.1111111111111111, \"#46039f\"], [0.2222222222222222, \"#7201a8\"], [0.3333333333333333, \"#9c179e\"], [0.4444444444444444, \"#bd3786\"], [0.5555555555555556, \"#d8576b\"], [0.6666666666666666, \"#ed7953\"], [0.7777777777777778, \"#fb9f3a\"], [0.8888888888888888, \"#fdca26\"], [1.0, \"#f0f921\"]], \"type\": \"histogram2dcontour\"}], \"mesh3d\": [{\"colorbar\": {\"outlinewidth\": 0, \"ticks\": \"\"}, \"type\": \"mesh3d\"}], \"parcoords\": [{\"line\": {\"colorbar\": {\"outlinewidth\": 0, \"ticks\": \"\"}}, \"type\": \"parcoords\"}], \"pie\": [{\"automargin\": true, \"type\": \"pie\"}], \"scatter\": [{\"marker\": {\"colorbar\": {\"outlinewidth\": 0, \"ticks\": \"\"}}, \"type\": \"scatter\"}], \"scatter3d\": [{\"line\": {\"colorbar\": {\"outlinewidth\": 0, \"ticks\": \"\"}}, \"marker\": {\"colorbar\": {\"outlinewidth\": 0, \"ticks\": \"\"}}, \"type\": \"scatter3d\"}], \"scattercarpet\": [{\"marker\": {\"colorbar\": {\"outlinewidth\": 0, \"ticks\": \"\"}}, \"type\": \"scattercarpet\"}], \"scattergeo\": [{\"marker\": {\"colorbar\": {\"outlinewidth\": 0, \"ticks\": \"\"}}, \"type\": \"scattergeo\"}], \"scattergl\": [{\"marker\": {\"colorbar\": {\"outlinewidth\": 0, \"ticks\": \"\"}}, \"type\": \"scattergl\"}], \"scattermapbox\": [{\"marker\": {\"colorbar\": {\"outlinewidth\": 0, \"ticks\": \"\"}}, \"type\": \"scattermapbox\"}], \"scatterpolar\": [{\"marker\": {\"colorbar\": {\"outlinewidth\": 0, \"ticks\": \"\"}}, \"type\": \"scatterpolar\"}], \"scatterpolargl\": [{\"marker\": {\"colorbar\": {\"outlinewidth\": 0, \"ticks\": \"\"}}, \"type\": \"scatterpolargl\"}], \"scatterternary\": [{\"marker\": {\"colorbar\": {\"outlinewidth\": 0, \"ticks\": \"\"}}, \"type\": \"scatterternary\"}], \"surface\": [{\"colorbar\": {\"outlinewidth\": 0, \"ticks\": \"\"}, \"colorscale\": [[0.0, \"#0d0887\"], [0.1111111111111111, \"#46039f\"], [0.2222222222222222, \"#7201a8\"], [0.3333333333333333, \"#9c179e\"], [0.4444444444444444, \"#bd3786\"], [0.5555555555555556, \"#d8576b\"], [0.6666666666666666, \"#ed7953\"], [0.7777777777777778, \"#fb9f3a\"], [0.8888888888888888, \"#fdca26\"], [1.0, \"#f0f921\"]], \"type\": \"surface\"}], \"table\": [{\"cells\": {\"fill\": {\"color\": \"#EBF0F8\"}, \"line\": {\"color\": \"white\"}}, \"header\": {\"fill\": {\"color\": \"#C8D4E3\"}, \"line\": {\"color\": \"white\"}}, \"type\": \"table\"}]}, \"layout\": {\"annotationdefaults\": {\"arrowcolor\": \"#2a3f5f\", \"arrowhead\": 0, \"arrowwidth\": 1}, \"coloraxis\": {\"colorbar\": {\"outlinewidth\": 0, \"ticks\": \"\"}}, \"colorscale\": {\"diverging\": [[0, \"#8e0152\"], [0.1, \"#c51b7d\"], [0.2, \"#de77ae\"], [0.3, \"#f1b6da\"], [0.4, \"#fde0ef\"], [0.5, \"#f7f7f7\"], [0.6, \"#e6f5d0\"], [0.7, \"#b8e186\"], [0.8, \"#7fbc41\"], [0.9, \"#4d9221\"], [1, \"#276419\"]], \"sequential\": [[0.0, \"#0d0887\"], [0.1111111111111111, \"#46039f\"], [0.2222222222222222, \"#7201a8\"], [0.3333333333333333, \"#9c179e\"], [0.4444444444444444, \"#bd3786\"], [0.5555555555555556, \"#d8576b\"], [0.6666666666666666, \"#ed7953\"], [0.7777777777777778, \"#fb9f3a\"], [0.8888888888888888, \"#fdca26\"], [1.0, \"#f0f921\"]], \"sequentialminus\": [[0.0, \"#0d0887\"], [0.1111111111111111, \"#46039f\"], [0.2222222222222222, \"#7201a8\"], [0.3333333333333333, \"#9c179e\"], [0.4444444444444444, \"#bd3786\"], [0.5555555555555556, \"#d8576b\"], [0.6666666666666666, \"#ed7953\"], [0.7777777777777778, \"#fb9f3a\"], [0.8888888888888888, \"#fdca26\"], [1.0, \"#f0f921\"]]}, \"colorway\": [\"#636efa\", \"#EF553B\", \"#00cc96\", \"#ab63fa\", \"#FFA15A\", \"#19d3f3\", \"#FF6692\", \"#B6E880\", \"#FF97FF\", \"#FECB52\"], \"font\": {\"color\": \"#2a3f5f\"}, \"geo\": {\"bgcolor\": \"white\", \"lakecolor\": \"white\", \"landcolor\": \"#E5ECF6\", \"showlakes\": true, \"showland\": true, \"subunitcolor\": \"white\"}, \"hoverlabel\": {\"align\": \"left\"}, \"hovermode\": \"closest\", \"mapbox\": {\"style\": \"light\"}, \"paper_bgcolor\": \"white\", \"plot_bgcolor\": \"#E5ECF6\", \"polar\": {\"angularaxis\": {\"gridcolor\": \"white\", \"linecolor\": \"white\", \"ticks\": \"\"}, \"bgcolor\": \"#E5ECF6\", \"radialaxis\": {\"gridcolor\": \"white\", \"linecolor\": \"white\", \"ticks\": \"\"}}, \"scene\": {\"xaxis\": {\"backgroundcolor\": \"#E5ECF6\", \"gridcolor\": \"white\", \"gridwidth\": 2, \"linecolor\": \"white\", \"showbackground\": true, \"ticks\": \"\", \"zerolinecolor\": \"white\"}, \"yaxis\": {\"backgroundcolor\": \"#E5ECF6\", \"gridcolor\": \"white\", \"gridwidth\": 2, \"linecolor\": \"white\", \"showbackground\": true, \"ticks\": \"\", \"zerolinecolor\": \"white\"}, \"zaxis\": {\"backgroundcolor\": \"#E5ECF6\", \"gridcolor\": \"white\", \"gridwidth\": 2, \"linecolor\": \"white\", \"showbackground\": true, \"ticks\": \"\", \"zerolinecolor\": \"white\"}}, \"shapedefaults\": {\"line\": {\"color\": \"#2a3f5f\"}}, \"ternary\": {\"aaxis\": {\"gridcolor\": \"white\", \"linecolor\": \"white\", \"ticks\": \"\"}, \"baxis\": {\"gridcolor\": \"white\", \"linecolor\": \"white\", \"ticks\": \"\"}, \"bgcolor\": \"#E5ECF6\", \"caxis\": {\"gridcolor\": \"white\", \"linecolor\": \"white\", \"ticks\": \"\"}}, \"title\": {\"x\": 0.05}, \"xaxis\": {\"automargin\": true, \"gridcolor\": \"white\", \"linecolor\": \"white\", \"ticks\": \"\", \"title\": {\"standoff\": 15}, \"zerolinecolor\": \"white\", \"zerolinewidth\": 2}, \"yaxis\": {\"automargin\": true, \"gridcolor\": \"white\", \"linecolor\": \"white\", \"ticks\": \"\", \"title\": {\"standoff\": 15}, \"zerolinecolor\": \"white\", \"zerolinewidth\": 2}}}, \"xaxis\": {\"anchor\": \"y2\", \"domain\": [0.0, 1.0], \"zeroline\": false}, \"yaxis\": {\"anchor\": \"free\", \"domain\": [0.35, 1], \"position\": 0.0}, \"yaxis2\": {\"anchor\": \"x\", \"domain\": [0, 0.25], \"dtick\": 1, \"showticklabels\": false}},\n",
       "                        {\"responsive\": true}\n",
       "                    ).then(function(){\n",
       "                            \n",
       "var gd = document.getElementById('871ac0f4-b6bc-47b1-bb3e-05c38ea449ae');\n",
       "var x = new MutationObserver(function (mutations, observer) {{\n",
       "        var display = window.getComputedStyle(gd).display;\n",
       "        if (!display || display === 'none') {{\n",
       "            console.log([gd, 'removed!']);\n",
       "            Plotly.purge(gd);\n",
       "            observer.disconnect();\n",
       "        }}\n",
       "}});\n",
       "\n",
       "// Listen for the removal of the full notebook cells\n",
       "var notebookContainer = gd.closest('#notebook-container');\n",
       "if (notebookContainer) {{\n",
       "    x.observe(notebookContainer, {childList: true});\n",
       "}}\n",
       "\n",
       "// Listen for the clearing of the current output cell\n",
       "var outputEl = gd.closest('.output');\n",
       "if (outputEl) {{\n",
       "    x.observe(outputEl, {childList: true});\n",
       "}}\n",
       "\n",
       "                        })\n",
       "                };\n",
       "                });\n",
       "            </script>\n",
       "        </div>"
      ]
     },
     "metadata": {},
     "output_type": "display_data"
    }
   ],
   "source": [
    "import plotly.figure_factory as ff\n",
    "\n",
    "group_labels = ['Zola', 'Maupassant', 'Balzac']\n",
    "\n",
    "x1 = my_df[my_df['author'] == 'Zola']['wordCount']\n",
    "x2 = my_df[my_df['author'] == 'Maupassant']['wordCount']\n",
    "x3 = my_df[my_df['author'] == 'Balzac']['wordCount']\n",
    "\n",
    "x2 = x2.reset_index(drop=True)\n",
    "x3 = x3.reset_index(drop=True)\n",
    "\n",
    "hist_data = [x1,x2,x3]\n",
    "\n",
    "fig = ff.create_distplot(hist_data, group_labels, bin_size=1)\n",
    "fig.show()"
   ]
  },
  {
   "cell_type": "code",
   "execution_count": 99,
   "metadata": {},
   "outputs": [
    {
     "data": {
      "text/plain": [
       "<matplotlib.axes._subplots.AxesSubplot at 0x1e4378abe10>"
      ]
     },
     "execution_count": 99,
     "metadata": {},
     "output_type": "execute_result"
    },
    {
     "data": {
      "image/png": "[encoded data removed]",
      "text/plain": [
       "<Figure size 1152x432 with 1 Axes>"
      ]
     },
     "metadata": {
      "needs_background": "light"
     },
     "output_type": "display_data"
    }
   ],
   "source": [
    "plt.figure(figsize=(16, 6))\n",
    "\n",
    "sns.violinplot(x='author', y='wordCount', data=my_df, order=[\"Zola\", \"Maupassant\", \"Balzac\"])"
   ]
  },
  {
   "cell_type": "code",
   "execution_count": 100,
   "metadata": {},
   "outputs": [],
   "source": [
    "import plotly.graph_objects as go"
   ]
  },
  {
   "cell_type": "code",
   "execution_count": 101,
   "metadata": {},
   "outputs": [
    {
     "data": {
      "application/vnd.plotly.v1+json": {
       "config": {
        "plotlyServerURL": "https://plot.ly"
       },
       "data": [
        {
         "box": {
          "visible": true
         },
         "meanline": {
          "visible": true
         },
         "name": "Zola",
         "type": "violin",
         "x": [
          "Zola",
          "Zola",
          "Zola",
          "Zola",
          "Zola",
          "Zola",
          "Zola",
          "Zola",
          "Zola",
          "Zola",
          "Zola",
          "Zola",
          "Zola",
          "Zola",
          "Zola",
          "Zola",
          "Zola",
          "Zola",
          "Zola",
          "Zola",
          "Zola",
          "Zola",
          "Zola",
          "Zola",
          "Zola",
          "Zola",
          "Zola",
          "Zola",
          "Zola",
          "Zola",
          "Zola",
          "Zola",
          "Zola",
          "Zola",
          "Zola",
          "Zola",
          "Zola",
          "Zola",
          "Zola",
          "Zola",
          "Zola",
          "Zola",
          "Zola",
          "Zola",
          "Zola",
          "Zola",
          "Zola",
          "Zola",
          "Zola",
          "Zola",
          "Zola",
          "Zola",
          "Zola",
          "Zola",
          "Zola",
          "Zola",
          "Zola",
          "Zola",
          "Zola",
          "Zola",
          "Zola",
          "Zola",
          "Zola",
          "Zola",
          "Zola",
          "Zola",
          "Zola",
          "Zola",
          "Zola",
          "Zola",
          "Zola",
          "Zola",
          "Zola",
          "Zola",
          "Zola",
          "Zola",
          "Zola",
          "Zola",
          "Zola",
          "Zola",
          "Zola",
          "Zola",
          "Zola",
          "Zola",
          "Zola",
          "Zola",
          "Zola",
          "Zola",
          "Zola",
          "Zola",
          "Zola",
          "Zola",
          "Zola",
          "Zola",
          "Zola",
          "Zola",
          "Zola",
          "Zola",
          "Zola",
          "Zola",
          "Zola",
          "Zola",
          "Zola",
          "Zola",
          "Zola",
          "Zola",
          "Zola",
          "Zola",
          "Zola",
          "Zola",
          "Zola",
          "Zola",
          "Zola",
          "Zola",
          "Zola",
          "Zola",
          "Zola",
          "Zola",
          "Zola",
          "Zola",
          "Zola",
          "Zola",
          "Zola",
          "Zola",
          "Zola",
          "Zola",
          "Zola",
          "Zola",
          "Zola",
          "Zola",
          "Zola",
          "Zola",
          "Zola",
          "Zola",
          "Zola",
          "Zola",
          "Zola",
          "Zola",
          "Zola",
          "Zola",
          "Zola",
          "Zola",
          "Zola",
          "Zola",
          "Zola",
          "Zola",
          "Zola",
          "Zola",
          "Zola",
          "Zola",
          "Zola",
          "Zola",
          "Zola",
          "Zola",
          "Zola",
          "Zola",
          "Zola",
          "Zola",
          "Zola",
          "Zola",
          "Zola",
          "Zola",
          "Zola",
          "Zola",
          "Zola",
          "Zola",
          "Zola",
          "Zola",
          "Zola",
          "Zola",
          "Zola",
          "Zola",
          "Zola",
          "Zola",
          "Zola",
          "Zola",
          "Zola",
          "Zola",
          "Zola",
          "Zola",
          "Zola",
          "Zola",
          "Zola",
          "Zola",
          "Zola",
          "Zola",
          "Zola",
          "Zola",
          "Zola",
          "Zola",
          "Zola",
          "Zola",
          "Zola",
          "Zola",
          "Zola",
          "Zola",
          "Zola",
          "Zola",
          "Zola",
          "Zola"
         ],
         "y": [
          48,
          49,
          88,
          43,
          25,
          247,
          29,
          31,
          30,
          200,
          62,
          20,
          34,
          58,
          24,
          127,
          105,
          23,
          166,
          112,
          114,
          244,
          96,
          162,
          201,
          62,
          113,
          61,
          29,
          33,
          169,
          28,
          28,
          28,
          22,
          91,
          88,
          34,
          176,
          90,
          35,
          69,
          43,
          36,
          27,
          51,
          27,
          29,
          23,
          96,
          23,
          22,
          82,
          65,
          106,
          25,
          36,
          41,
          52,
          210,
          178,
          53,
          108,
          31,
          183,
          31,
          72,
          59,
          28,
          163,
          22,
          46,
          172,
          129,
          87,
          88,
          24,
          33,
          25,
          280,
          61,
          24,
          53,
          25,
          60,
          73,
          55,
          74,
          176,
          31,
          43,
          299,
          107,
          88,
          302,
          40,
          229,
          113,
          180,
          32,
          235,
          49,
          15,
          65,
          56,
          35,
          25,
          135,
          41,
          43,
          35,
          43,
          48,
          41,
          107,
          34,
          40,
          56,
          67,
          50,
          42,
          42,
          289,
          28,
          237,
          85,
          69,
          29,
          28,
          22,
          28,
          21,
          117,
          212,
          22,
          42,
          34,
          68,
          166,
          25,
          68,
          27,
          35,
          181,
          59,
          90,
          33,
          159,
          114,
          69,
          106,
          27,
          37,
          188,
          53,
          79,
          22,
          47,
          24,
          78,
          209,
          239,
          36,
          28,
          29,
          88,
          41,
          79,
          35,
          78,
          152,
          176,
          46,
          24,
          37,
          157,
          275,
          53,
          43,
          300,
          50,
          152,
          61,
          29,
          23,
          54,
          39,
          89,
          60,
          27,
          22,
          61,
          71,
          288,
          58,
          44,
          28,
          130,
          24,
          63
         ]
        },
        {
         "box": {
          "visible": true
         },
         "meanline": {
          "visible": true
         },
         "name": "Maupassant",
         "type": "violin",
         "x": [
          "Maupassant",
          "Maupassant",
          "Maupassant",
          "Maupassant",
          "Maupassant",
          "Maupassant",
          "Maupassant",
          "Maupassant",
          "Maupassant",
          "Maupassant",
          "Maupassant",
          "Maupassant",
          "Maupassant",
          "Maupassant",
          "Maupassant",
          "Maupassant",
          "Maupassant",
          "Maupassant",
          "Maupassant",
          "Maupassant",
          "Maupassant",
          "Maupassant",
          "Maupassant",
          "Maupassant",
          "Maupassant",
          "Maupassant",
          "Maupassant",
          "Maupassant",
          "Maupassant",
          "Maupassant",
          "Maupassant",
          "Maupassant",
          "Maupassant",
          "Maupassant",
          "Maupassant",
          "Maupassant",
          "Maupassant",
          "Maupassant",
          "Maupassant",
          "Maupassant",
          "Maupassant",
          "Maupassant",
          "Maupassant",
          "Maupassant",
          "Maupassant",
          "Maupassant",
          "Maupassant",
          "Maupassant",
          "Maupassant",
          "Maupassant",
          "Maupassant",
          "Maupassant",
          "Maupassant",
          "Maupassant",
          "Maupassant",
          "Maupassant",
          "Maupassant",
          "Maupassant",
          "Maupassant",
          "Maupassant",
          "Maupassant",
          "Maupassant",
          "Maupassant",
          "Maupassant",
          "Maupassant",
          "Maupassant",
          "Maupassant",
          "Maupassant",
          "Maupassant",
          "Maupassant",
          "Maupassant",
          "Maupassant",
          "Maupassant",
          "Maupassant",
          "Maupassant",
          "Maupassant",
          "Maupassant",
          "Maupassant",
          "Maupassant",
          "Maupassant",
          "Maupassant",
          "Maupassant",
          "Maupassant",
          "Maupassant",
          "Maupassant",
          "Maupassant",
          "Maupassant",
          "Maupassant",
          "Maupassant",
          "Maupassant",
          "Maupassant",
          "Maupassant",
          "Maupassant",
          "Maupassant",
          "Maupassant",
          "Maupassant",
          "Maupassant",
          "Maupassant",
          "Maupassant",
          "Maupassant",
          "Maupassant",
          "Maupassant",
          "Maupassant",
          "Maupassant",
          "Maupassant",
          "Maupassant",
          "Maupassant",
          "Maupassant",
          "Maupassant",
          "Maupassant",
          "Maupassant",
          "Maupassant",
          "Maupassant",
          "Maupassant",
          "Maupassant",
          "Maupassant",
          "Maupassant",
          "Maupassant",
          "Maupassant",
          "Maupassant",
          "Maupassant",
          "Maupassant",
          "Maupassant",
          "Maupassant",
          "Maupassant",
          "Maupassant",
          "Maupassant",
          "Maupassant",
          "Maupassant",
          "Maupassant",
          "Maupassant",
          "Maupassant",
          "Maupassant",
          "Maupassant",
          "Maupassant",
          "Maupassant",
          "Maupassant",
          "Maupassant",
          "Maupassant",
          "Maupassant",
          "Maupassant",
          "Maupassant",
          "Maupassant",
          "Maupassant",
          "Maupassant",
          "Maupassant",
          "Maupassant",
          "Maupassant",
          "Maupassant",
          "Maupassant",
          "Maupassant",
          "Maupassant",
          "Maupassant",
          "Maupassant",
          "Maupassant",
          "Maupassant",
          "Maupassant",
          "Maupassant",
          "Maupassant",
          "Maupassant",
          "Maupassant",
          "Maupassant",
          "Maupassant",
          "Maupassant",
          "Maupassant",
          "Maupassant",
          "Maupassant",
          "Maupassant",
          "Maupassant",
          "Maupassant",
          "Maupassant",
          "Maupassant",
          "Maupassant",
          "Maupassant",
          "Maupassant",
          "Maupassant",
          "Maupassant",
          "Maupassant",
          "Maupassant",
          "Maupassant",
          "Maupassant",
          "Maupassant",
          "Maupassant",
          "Maupassant",
          "Maupassant",
          "Maupassant",
          "Maupassant",
          "Maupassant",
          "Maupassant",
          "Maupassant",
          "Maupassant",
          "Maupassant",
          "Maupassant",
          "Maupassant",
          "Maupassant",
          "Maupassant",
          "Maupassant",
          "Maupassant",
          "Maupassant",
          "Maupassant"
         ],
         "y": [
          85,
          43,
          80,
          83,
          136,
          29,
          41,
          47,
          185,
          39,
          91,
          32,
          43,
          71,
          59,
          82,
          47,
          56,
          121,
          28,
          48,
          41,
          46,
          47,
          42,
          36,
          26,
          46,
          22,
          34,
          72,
          30,
          24,
          43,
          27,
          33,
          25,
          23,
          40,
          83,
          37,
          49,
          26,
          114,
          56,
          35,
          62,
          41,
          174,
          35,
          65,
          35,
          75,
          26,
          60,
          38,
          38,
          86,
          30,
          35,
          48,
          46,
          63,
          90,
          47,
          127,
          53,
          65,
          89,
          84,
          27,
          101,
          32,
          37,
          43,
          24,
          50,
          30,
          51,
          24,
          80,
          31,
          48,
          33,
          78,
          28,
          27,
          73,
          49,
          56,
          22,
          48,
          30,
          201,
          102,
          21,
          43,
          38,
          52,
          46,
          48,
          32,
          122,
          33,
          76,
          32,
          73,
          56,
          73,
          35,
          32,
          25,
          29,
          53,
          30,
          21,
          221,
          206,
          26,
          71,
          82,
          67,
          29,
          19,
          49,
          237,
          64,
          35,
          88,
          21,
          48,
          214,
          71,
          100,
          67,
          49,
          73,
          24,
          38,
          97,
          24,
          55,
          41,
          197,
          49,
          135,
          35,
          29,
          30,
          31,
          68,
          36,
          72,
          67,
          40,
          52,
          85,
          69,
          38,
          33,
          96,
          19,
          32,
          221,
          92,
          50,
          86,
          32,
          55,
          37,
          134,
          27,
          30,
          40,
          28,
          31,
          26,
          20,
          154,
          35,
          30,
          77,
          40,
          31,
          97,
          23,
          54,
          112,
          28,
          53,
          64,
          47,
          57,
          24,
          82,
          33,
          85,
          22,
          122,
          44
         ]
        },
        {
         "box": {
          "visible": true
         },
         "meanline": {
          "visible": true
         },
         "name": "Balzac",
         "type": "violin",
         "x": [
          "Balzac",
          "Balzac",
          "Balzac",
          "Balzac",
          "Balzac",
          "Balzac",
          "Balzac",
          "Balzac",
          "Balzac",
          "Balzac",
          "Balzac",
          "Balzac",
          "Balzac",
          "Balzac",
          "Balzac",
          "Balzac",
          "Balzac",
          "Balzac",
          "Balzac",
          "Balzac",
          "Balzac",
          "Balzac",
          "Balzac",
          "Balzac",
          "Balzac",
          "Balzac",
          "Balzac",
          "Balzac",
          "Balzac",
          "Balzac",
          "Balzac",
          "Balzac",
          "Balzac",
          "Balzac",
          "Balzac",
          "Balzac",
          "Balzac",
          "Balzac",
          "Balzac",
          "Balzac",
          "Balzac",
          "Balzac",
          "Balzac",
          "Balzac",
          "Balzac",
          "Balzac",
          "Balzac",
          "Balzac",
          "Balzac",
          "Balzac",
          "Balzac",
          "Balzac",
          "Balzac",
          "Balzac",
          "Balzac",
          "Balzac",
          "Balzac",
          "Balzac",
          "Balzac",
          "Balzac",
          "Balzac",
          "Balzac",
          "Balzac",
          "Balzac",
          "Balzac",
          "Balzac",
          "Balzac",
          "Balzac",
          "Balzac",
          "Balzac",
          "Balzac",
          "Balzac",
          "Balzac",
          "Balzac",
          "Balzac",
          "Balzac",
          "Balzac",
          "Balzac",
          "Balzac",
          "Balzac",
          "Balzac",
          "Balzac",
          "Balzac",
          "Balzac",
          "Balzac",
          "Balzac",
          "Balzac",
          "Balzac",
          "Balzac",
          "Balzac",
          "Balzac",
          "Balzac",
          "Balzac",
          "Balzac",
          "Balzac",
          "Balzac",
          "Balzac",
          "Balzac",
          "Balzac",
          "Balzac",
          "Balzac",
          "Balzac",
          "Balzac",
          "Balzac",
          "Balzac",
          "Balzac",
          "Balzac",
          "Balzac",
          "Balzac",
          "Balzac",
          "Balzac",
          "Balzac",
          "Balzac",
          "Balzac",
          "Balzac",
          "Balzac",
          "Balzac",
          "Balzac",
          "Balzac",
          "Balzac",
          "Balzac",
          "Balzac",
          "Balzac",
          "Balzac",
          "Balzac",
          "Balzac",
          "Balzac",
          "Balzac",
          "Balzac",
          "Balzac",
          "Balzac",
          "Balzac",
          "Balzac",
          "Balzac",
          "Balzac",
          "Balzac",
          "Balzac",
          "Balzac",
          "Balzac",
          "Balzac",
          "Balzac",
          "Balzac",
          "Balzac",
          "Balzac",
          "Balzac",
          "Balzac",
          "Balzac",
          "Balzac",
          "Balzac",
          "Balzac",
          "Balzac",
          "Balzac",
          "Balzac",
          "Balzac",
          "Balzac",
          "Balzac",
          "Balzac",
          "Balzac",
          "Balzac",
          "Balzac",
          "Balzac",
          "Balzac",
          "Balzac",
          "Balzac",
          "Balzac",
          "Balzac",
          "Balzac",
          "Balzac",
          "Balzac",
          "Balzac",
          "Balzac",
          "Balzac",
          "Balzac",
          "Balzac",
          "Balzac",
          "Balzac",
          "Balzac",
          "Balzac",
          "Balzac",
          "Balzac",
          "Balzac",
          "Balzac",
          "Balzac",
          "Balzac",
          "Balzac",
          "Balzac",
          "Balzac",
          "Balzac",
          "Balzac",
          "Balzac",
          "Balzac",
          "Balzac",
          "Balzac",
          "Balzac",
          "Balzac",
          "Balzac",
          "Balzac",
          "Balzac",
          "Balzac",
          "Balzac"
         ],
         "y": [
          110,
          34,
          93,
          50,
          40,
          114,
          36,
          34,
          26,
          85,
          32,
          42,
          189,
          57,
          718,
          26,
          179,
          22,
          119,
          26,
          38,
          97,
          256,
          23,
          103,
          31,
          88,
          20,
          178,
          34,
          22,
          25,
          26,
          51,
          62,
          42,
          26,
          39,
          99,
          116,
          27,
          238,
          24,
          39,
          35,
          301,
          47,
          25,
          980,
          25,
          226,
          168,
          961,
          101,
          29,
          30,
          46,
          203,
          283,
          21,
          27,
          37,
          190,
          25,
          94,
          1377,
          76,
          32,
          82,
          22,
          1187,
          42,
          1296,
          116,
          34,
          38,
          30,
          84,
          27,
          252,
          23,
          49,
          120,
          403,
          74,
          45,
          85,
          27,
          53,
          177,
          504,
          200,
          24,
          195,
          23,
          91,
          24,
          27,
          210,
          50,
          40,
          63,
          47,
          28,
          139,
          42,
          106,
          20,
          36,
          26,
          275,
          409,
          30,
          40,
          153,
          206,
          169,
          541,
          39,
          24,
          74,
          549,
          31,
          39,
          22,
          631,
          224,
          72,
          61,
          27,
          38,
          29,
          527,
          19,
          39,
          1727,
          1317,
          193,
          32,
          38,
          142,
          28,
          21,
          32,
          92,
          34,
          32,
          40,
          40,
          81,
          25,
          155,
          218,
          717,
          368,
          25,
          126,
          28,
          36,
          39,
          63,
          173,
          27,
          39,
          40,
          39,
          341,
          22,
          230,
          56,
          107,
          38,
          58,
          1351,
          55,
          172,
          41,
          72,
          44,
          63,
          24,
          33,
          487,
          22,
          485,
          48,
          32,
          389,
          35,
          138,
          66,
          79,
          16,
          19,
          59,
          26,
          63,
          21,
          137,
          133
         ]
        }
       ],
       "layout": {
        "template": {
         "data": {
          "bar": [
           {
            "error_x": {
             "color": "#2a3f5f"
            },
            "error_y": {
             "color": "#2a3f5f"
            },
            "marker": {
             "line": {
              "color": "#E5ECF6",
              "width": 0.5
             }
            },
            "type": "bar"
           }
          ],
          "barpolar": [
           {
            "marker": {
             "line": {
              "color": "#E5ECF6",
              "width": 0.5
             }
            },
            "type": "barpolar"
           }
          ],
          "carpet": [
           {
            "aaxis": {
             "endlinecolor": "#2a3f5f",
             "gridcolor": "white",
             "linecolor": "white",
             "minorgridcolor": "white",
             "startlinecolor": "#2a3f5f"
            },
            "baxis": {
             "endlinecolor": "#2a3f5f",
             "gridcolor": "white",
             "linecolor": "white",
             "minorgridcolor": "white",
             "startlinecolor": "#2a3f5f"
            },
            "type": "carpet"
           }
          ],
          "choropleth": [
           {
            "colorbar": {
             "outlinewidth": 0,
             "ticks": ""
            },
            "type": "choropleth"
           }
          ],
          "contour": [
           {
            "colorbar": {
             "outlinewidth": 0,
             "ticks": ""
            },
            "colorscale": [
             [
              0,
              "#0d0887"
             ],
             [
              0.1111111111111111,
              "#46039f"
             ],
             [
              0.2222222222222222,
              "#7201a8"
             ],
             [
              0.3333333333333333,
              "#9c179e"
             ],
             [
              0.4444444444444444,
              "#bd3786"
             ],
             [
              0.5555555555555556,
              "#d8576b"
             ],
             [
              0.6666666666666666,
              "#ed7953"
             ],
             [
              0.7777777777777778,
              "#fb9f3a"
             ],
             [
              0.8888888888888888,
              "#fdca26"
             ],
             [
              1,
              "#f0f921"
             ]
            ],
            "type": "contour"
           }
          ],
          "contourcarpet": [
           {
            "colorbar": {
             "outlinewidth": 0,
             "ticks": ""
            },
            "type": "contourcarpet"
           }
          ],
          "heatmap": [
           {
            "colorbar": {
             "outlinewidth": 0,
             "ticks": ""
            },
            "colorscale": [
             [
              0,
              "#0d0887"
             ],
             [
              0.1111111111111111,
              "#46039f"
             ],
             [
              0.2222222222222222,
              "#7201a8"
             ],
             [
              0.3333333333333333,
              "#9c179e"
             ],
             [
              0.4444444444444444,
              "#bd3786"
             ],
             [
              0.5555555555555556,
              "#d8576b"
             ],
             [
              0.6666666666666666,
              "#ed7953"
             ],
             [
              0.7777777777777778,
              "#fb9f3a"
             ],
             [
              0.8888888888888888,
              "#fdca26"
             ],
             [
              1,
              "#f0f921"
             ]
            ],
            "type": "heatmap"
           }
          ],
          "heatmapgl": [
           {
            "colorbar": {
             "outlinewidth": 0,
             "ticks": ""
            },
            "colorscale": [
             [
              0,
              "#0d0887"
             ],
             [
              0.1111111111111111,
              "#46039f"
             ],
             [
              0.2222222222222222,
              "#7201a8"
             ],
             [
              0.3333333333333333,
              "#9c179e"
             ],
             [
              0.4444444444444444,
              "#bd3786"
             ],
             [
              0.5555555555555556,
              "#d8576b"
             ],
             [
              0.6666666666666666,
              "#ed7953"
             ],
             [
              0.7777777777777778,
              "#fb9f3a"
             ],
             [
              0.8888888888888888,
              "#fdca26"
             ],
             [
              1,
              "#f0f921"
             ]
            ],
            "type": "heatmapgl"
           }
          ],
          "histogram": [
           {
            "marker": {
             "colorbar": {
              "outlinewidth": 0,
              "ticks": ""
             }
            },
            "type": "histogram"
           }
          ],
          "histogram2d": [
           {
            "colorbar": {
             "outlinewidth": 0,
             "ticks": ""
            },
            "colorscale": [
             [
              0,
              "#0d0887"
             ],
             [
              0.1111111111111111,
              "#46039f"
             ],
             [
              0.2222222222222222,
              "#7201a8"
             ],
             [
              0.3333333333333333,
              "#9c179e"
             ],
             [
              0.4444444444444444,
              "#bd3786"
             ],
             [
              0.5555555555555556,
              "#d8576b"
             ],
             [
              0.6666666666666666,
              "#ed7953"
             ],
             [
              0.7777777777777778,
              "#fb9f3a"
             ],
             [
              0.8888888888888888,
              "#fdca26"
             ],
             [
              1,
              "#f0f921"
             ]
            ],
            "type": "histogram2d"
           }
          ],
          "histogram2dcontour": [
           {
            "colorbar": {
             "outlinewidth": 0,
             "ticks": ""
            },
            "colorscale": [
             [
              0,
              "#0d0887"
             ],
             [
              0.1111111111111111,
              "#46039f"
             ],
             [
              0.2222222222222222,
              "#7201a8"
             ],
             [
              0.3333333333333333,
              "#9c179e"
             ],
             [
              0.4444444444444444,
              "#bd3786"
             ],
             [
              0.5555555555555556,
              "#d8576b"
             ],
             [
              0.6666666666666666,
              "#ed7953"
             ],
             [
              0.7777777777777778,
              "#fb9f3a"
             ],
             [
              0.8888888888888888,
              "#fdca26"
             ],
             [
              1,
              "#f0f921"
             ]
            ],
            "type": "histogram2dcontour"
           }
          ],
          "mesh3d": [
           {
            "colorbar": {
             "outlinewidth": 0,
             "ticks": ""
            },
            "type": "mesh3d"
           }
          ],
          "parcoords": [
           {
            "line": {
             "colorbar": {
              "outlinewidth": 0,
              "ticks": ""
             }
            },
            "type": "parcoords"
           }
          ],
          "pie": [
           {
            "automargin": true,
            "type": "pie"
           }
          ],
          "scatter": [
           {
            "marker": {
             "colorbar": {
              "outlinewidth": 0,
              "ticks": ""
             }
            },
            "type": "scatter"
           }
          ],
          "scatter3d": [
           {
            "line": {
             "colorbar": {
              "outlinewidth": 0,
              "ticks": ""
             }
            },
            "marker": {
             "colorbar": {
              "outlinewidth": 0,
              "ticks": ""
             }
            },
            "type": "scatter3d"
           }
          ],
          "scattercarpet": [
           {
            "marker": {
             "colorbar": {
              "outlinewidth": 0,
              "ticks": ""
             }
            },
            "type": "scattercarpet"
           }
          ],
          "scattergeo": [
           {
            "marker": {
             "colorbar": {
              "outlinewidth": 0,
              "ticks": ""
             }
            },
            "type": "scattergeo"
           }
          ],
          "scattergl": [
           {
            "marker": {
             "colorbar": {
              "outlinewidth": 0,
              "ticks": ""
             }
            },
            "type": "scattergl"
           }
          ],
          "scattermapbox": [
           {
            "marker": {
             "colorbar": {
              "outlinewidth": 0,
              "ticks": ""
             }
            },
            "type": "scattermapbox"
           }
          ],
          "scatterpolar": [
           {
            "marker": {
             "colorbar": {
              "outlinewidth": 0,
              "ticks": ""
             }
            },
            "type": "scatterpolar"
           }
          ],
          "scatterpolargl": [
           {
            "marker": {
             "colorbar": {
              "outlinewidth": 0,
              "ticks": ""
             }
            },
            "type": "scatterpolargl"
           }
          ],
          "scatterternary": [
           {
            "marker": {
             "colorbar": {
              "outlinewidth": 0,
              "ticks": ""
             }
            },
            "type": "scatterternary"
           }
          ],
          "surface": [
           {
            "colorbar": {
             "outlinewidth": 0,
             "ticks": ""
            },
            "colorscale": [
             [
              0,
              "#0d0887"
             ],
             [
              0.1111111111111111,
              "#46039f"
             ],
             [
              0.2222222222222222,
              "#7201a8"
             ],
             [
              0.3333333333333333,
              "#9c179e"
             ],
             [
              0.4444444444444444,
              "#bd3786"
             ],
             [
              0.5555555555555556,
              "#d8576b"
             ],
             [
              0.6666666666666666,
              "#ed7953"
             ],
             [
              0.7777777777777778,
              "#fb9f3a"
             ],
             [
              0.8888888888888888,
              "#fdca26"
             ],
             [
              1,
              "#f0f921"
             ]
            ],
            "type": "surface"
           }
          ],
          "table": [
           {
            "cells": {
             "fill": {
              "color": "#EBF0F8"
             },
             "line": {
              "color": "white"
             }
            },
            "header": {
             "fill": {
              "color": "#C8D4E3"
             },
             "line": {
              "color": "white"
             }
            },
            "type": "table"
           }
          ]
         },
         "layout": {
          "annotationdefaults": {
           "arrowcolor": "#2a3f5f",
           "arrowhead": 0,
           "arrowwidth": 1
          },
          "coloraxis": {
           "colorbar": {
            "outlinewidth": 0,
            "ticks": ""
           }
          },
          "colorscale": {
           "diverging": [
            [
             0,
             "#8e0152"
            ],
            [
             0.1,
             "#c51b7d"
            ],
            [
             0.2,
             "#de77ae"
            ],
            [
             0.3,
             "#f1b6da"
            ],
            [
             0.4,
             "#fde0ef"
            ],
            [
             0.5,
             "#f7f7f7"
            ],
            [
             0.6,
             "#e6f5d0"
            ],
            [
             0.7,
             "#b8e186"
            ],
            [
             0.8,
             "#7fbc41"
            ],
            [
             0.9,
             "#4d9221"
            ],
            [
             1,
             "#276419"
            ]
           ],
           "sequential": [
            [
             0,
             "#0d0887"
            ],
            [
             0.1111111111111111,
             "#46039f"
            ],
            [
             0.2222222222222222,
             "#7201a8"
            ],
            [
             0.3333333333333333,
             "#9c179e"
            ],
            [
             0.4444444444444444,
             "#bd3786"
            ],
            [
             0.5555555555555556,
             "#d8576b"
            ],
            [
             0.6666666666666666,
             "#ed7953"
            ],
            [
             0.7777777777777778,
             "#fb9f3a"
            ],
            [
             0.8888888888888888,
             "#fdca26"
            ],
            [
             1,
             "#f0f921"
            ]
           ],
           "sequentialminus": [
            [
             0,
             "#0d0887"
            ],
            [
             0.1111111111111111,
             "#46039f"
            ],
            [
             0.2222222222222222,
             "#7201a8"
            ],
            [
             0.3333333333333333,
             "#9c179e"
            ],
            [
             0.4444444444444444,
             "#bd3786"
            ],
            [
             0.5555555555555556,
             "#d8576b"
            ],
            [
             0.6666666666666666,
             "#ed7953"
            ],
            [
             0.7777777777777778,
             "#fb9f3a"
            ],
            [
             0.8888888888888888,
             "#fdca26"
            ],
            [
             1,
             "#f0f921"
            ]
           ]
          },
          "colorway": [
           "#636efa",
           "#EF553B",
           "#00cc96",
           "#ab63fa",
           "#FFA15A",
           "#19d3f3",
           "#FF6692",
           "#B6E880",
           "#FF97FF",
           "#FECB52"
          ],
          "font": {
           "color": "#2a3f5f"
          },
          "geo": {
           "bgcolor": "white",
           "lakecolor": "white",
           "landcolor": "#E5ECF6",
           "showlakes": true,
           "showland": true,
           "subunitcolor": "white"
          },
          "hoverlabel": {
           "align": "left"
          },
          "hovermode": "closest",
          "mapbox": {
           "style": "light"
          },
          "paper_bgcolor": "white",
          "plot_bgcolor": "#E5ECF6",
          "polar": {
           "angularaxis": {
            "gridcolor": "white",
            "linecolor": "white",
            "ticks": ""
           },
           "bgcolor": "#E5ECF6",
           "radialaxis": {
            "gridcolor": "white",
            "linecolor": "white",
            "ticks": ""
           }
          },
          "scene": {
           "xaxis": {
            "backgroundcolor": "#E5ECF6",
            "gridcolor": "white",
            "gridwidth": 2,
            "linecolor": "white",
            "showbackground": true,
            "ticks": "",
            "zerolinecolor": "white"
           },
           "yaxis": {
            "backgroundcolor": "#E5ECF6",
            "gridcolor": "white",
            "gridwidth": 2,
            "linecolor": "white",
            "showbackground": true,
            "ticks": "",
            "zerolinecolor": "white"
           },
           "zaxis": {
            "backgroundcolor": "#E5ECF6",
            "gridcolor": "white",
            "gridwidth": 2,
            "linecolor": "white",
            "showbackground": true,
            "ticks": "",
            "zerolinecolor": "white"
           }
          },
          "shapedefaults": {
           "line": {
            "color": "#2a3f5f"
           }
          },
          "ternary": {
           "aaxis": {
            "gridcolor": "white",
            "linecolor": "white",
            "ticks": ""
           },
           "baxis": {
            "gridcolor": "white",
            "linecolor": "white",
            "ticks": ""
           },
           "bgcolor": "#E5ECF6",
           "caxis": {
            "gridcolor": "white",
            "linecolor": "white",
            "ticks": ""
           }
          },
          "title": {
           "x": 0.05
          },
          "xaxis": {
           "automargin": true,
           "gridcolor": "white",
           "linecolor": "white",
           "ticks": "",
           "title": {
            "standoff": 15
           },
           "zerolinecolor": "white",
           "zerolinewidth": 2
          },
          "yaxis": {
           "automargin": true,
           "gridcolor": "white",
           "linecolor": "white",
           "ticks": "",
           "title": {
            "standoff": 15
           },
           "zerolinecolor": "white",
           "zerolinewidth": 2
          }
         }
        }
       }
      },
      "text/html": [
       "<div>\n",
       "        \n",
       "        \n",
       "            <div id=\"7959b63a-3779-49b5-8dd7-7dfed52617f3\" class=\"plotly-graph-div\" style=\"height:525px; width:100%;\"></div>\n",
       "            <script type=\"text/javascript\">\n",
       "                require([\"plotly\"], function(Plotly) {\n",
       "                    window.PLOTLYENV=window.PLOTLYENV || {};\n",
       "                    \n",
       "                if (document.getElementById(\"7959b63a-3779-49b5-8dd7-7dfed52617f3\")) {\n",
       "                    Plotly.newPlot(\n",
       "                        '7959b63a-3779-49b5-8dd7-7dfed52617f3',\n",
       "                        [{\"box\": {\"visible\": true}, \"meanline\": {\"visible\": true}, \"name\": \"Zola\", \"type\": \"violin\", \"x\": [\"Zola\", \"Zola\", \"Zola\", \"Zola\", \"Zola\", \"Zola\", \"Zola\", \"Zola\", \"Zola\", \"Zola\", \"Zola\", \"Zola\", \"Zola\", \"Zola\", \"Zola\", \"Zola\", \"Zola\", \"Zola\", \"Zola\", \"Zola\", \"Zola\", \"Zola\", \"Zola\", \"Zola\", \"Zola\", \"Zola\", \"Zola\", \"Zola\", \"Zola\", \"Zola\", \"Zola\", \"Zola\", \"Zola\", \"Zola\", \"Zola\", \"Zola\", \"Zola\", \"Zola\", \"Zola\", \"Zola\", \"Zola\", \"Zola\", \"Zola\", \"Zola\", \"Zola\", \"Zola\", \"Zola\", \"Zola\", \"Zola\", \"Zola\", \"Zola\", \"Zola\", \"Zola\", \"Zola\", \"Zola\", \"Zola\", \"Zola\", \"Zola\", \"Zola\", \"Zola\", \"Zola\", \"Zola\", \"Zola\", \"Zola\", \"Zola\", \"Zola\", \"Zola\", \"Zola\", \"Zola\", \"Zola\", \"Zola\", \"Zola\", \"Zola\", \"Zola\", \"Zola\", \"Zola\", \"Zola\", \"Zola\", \"Zola\", \"Zola\", \"Zola\", \"Zola\", \"Zola\", \"Zola\", \"Zola\", \"Zola\", \"Zola\", \"Zola\", \"Zola\", \"Zola\", \"Zola\", \"Zola\", \"Zola\", \"Zola\", \"Zola\", \"Zola\", \"Zola\", \"Zola\", \"Zola\", \"Zola\", \"Zola\", \"Zola\", \"Zola\", \"Zola\", \"Zola\", \"Zola\", \"Zola\", \"Zola\", \"Zola\", \"Zola\", \"Zola\", \"Zola\", \"Zola\", \"Zola\", \"Zola\", \"Zola\", \"Zola\", \"Zola\", \"Zola\", \"Zola\", \"Zola\", \"Zola\", \"Zola\", \"Zola\", \"Zola\", \"Zola\", \"Zola\", \"Zola\", \"Zola\", \"Zola\", \"Zola\", \"Zola\", \"Zola\", \"Zola\", \"Zola\", \"Zola\", \"Zola\", \"Zola\", \"Zola\", \"Zola\", \"Zola\", \"Zola\", \"Zola\", \"Zola\", \"Zola\", \"Zola\", \"Zola\", \"Zola\", \"Zola\", \"Zola\", \"Zola\", \"Zola\", \"Zola\", \"Zola\", \"Zola\", \"Zola\", \"Zola\", \"Zola\", \"Zola\", \"Zola\", \"Zola\", \"Zola\", \"Zola\", \"Zola\", \"Zola\", \"Zola\", \"Zola\", \"Zola\", \"Zola\", \"Zola\", \"Zola\", \"Zola\", \"Zola\", \"Zola\", \"Zola\", \"Zola\", \"Zola\", \"Zola\", \"Zola\", \"Zola\", \"Zola\", \"Zola\", \"Zola\", \"Zola\", \"Zola\", \"Zola\", \"Zola\", \"Zola\", \"Zola\", \"Zola\", \"Zola\", \"Zola\", \"Zola\", \"Zola\", \"Zola\", \"Zola\", \"Zola\", \"Zola\", \"Zola\", \"Zola\"], \"y\": [48, 49, 88, 43, 25, 247, 29, 31, 30, 200, 62, 20, 34, 58, 24, 127, 105, 23, 166, 112, 114, 244, 96, 162, 201, 62, 113, 61, 29, 33, 169, 28, 28, 28, 22, 91, 88, 34, 176, 90, 35, 69, 43, 36, 27, 51, 27, 29, 23, 96, 23, 22, 82, 65, 106, 25, 36, 41, 52, 210, 178, 53, 108, 31, 183, 31, 72, 59, 28, 163, 22, 46, 172, 129, 87, 88, 24, 33, 25, 280, 61, 24, 53, 25, 60, 73, 55, 74, 176, 31, 43, 299, 107, 88, 302, 40, 229, 113, 180, 32, 235, 49, 15, 65, 56, 35, 25, 135, 41, 43, 35, 43, 48, 41, 107, 34, 40, 56, 67, 50, 42, 42, 289, 28, 237, 85, 69, 29, 28, 22, 28, 21, 117, 212, 22, 42, 34, 68, 166, 25, 68, 27, 35, 181, 59, 90, 33, 159, 114, 69, 106, 27, 37, 188, 53, 79, 22, 47, 24, 78, 209, 239, 36, 28, 29, 88, 41, 79, 35, 78, 152, 176, 46, 24, 37, 157, 275, 53, 43, 300, 50, 152, 61, 29, 23, 54, 39, 89, 60, 27, 22, 61, 71, 288, 58, 44, 28, 130, 24, 63]}, {\"box\": {\"visible\": true}, \"meanline\": {\"visible\": true}, \"name\": \"Maupassant\", \"type\": \"violin\", \"x\": [\"Maupassant\", \"Maupassant\", \"Maupassant\", \"Maupassant\", \"Maupassant\", \"Maupassant\", \"Maupassant\", \"Maupassant\", \"Maupassant\", \"Maupassant\", \"Maupassant\", \"Maupassant\", \"Maupassant\", \"Maupassant\", \"Maupassant\", \"Maupassant\", \"Maupassant\", \"Maupassant\", \"Maupassant\", \"Maupassant\", \"Maupassant\", \"Maupassant\", \"Maupassant\", \"Maupassant\", \"Maupassant\", \"Maupassant\", \"Maupassant\", \"Maupassant\", \"Maupassant\", \"Maupassant\", \"Maupassant\", \"Maupassant\", \"Maupassant\", \"Maupassant\", \"Maupassant\", \"Maupassant\", \"Maupassant\", \"Maupassant\", \"Maupassant\", \"Maupassant\", \"Maupassant\", \"Maupassant\", \"Maupassant\", \"Maupassant\", \"Maupassant\", \"Maupassant\", \"Maupassant\", \"Maupassant\", \"Maupassant\", \"Maupassant\", \"Maupassant\", \"Maupassant\", \"Maupassant\", \"Maupassant\", \"Maupassant\", \"Maupassant\", \"Maupassant\", \"Maupassant\", \"Maupassant\", \"Maupassant\", \"Maupassant\", \"Maupassant\", \"Maupassant\", \"Maupassant\", \"Maupassant\", \"Maupassant\", \"Maupassant\", \"Maupassant\", \"Maupassant\", \"Maupassant\", \"Maupassant\", \"Maupassant\", \"Maupassant\", \"Maupassant\", \"Maupassant\", \"Maupassant\", \"Maupassant\", \"Maupassant\", \"Maupassant\", \"Maupassant\", \"Maupassant\", \"Maupassant\", \"Maupassant\", \"Maupassant\", \"Maupassant\", \"Maupassant\", \"Maupassant\", \"Maupassant\", \"Maupassant\", \"Maupassant\", \"Maupassant\", \"Maupassant\", \"Maupassant\", \"Maupassant\", \"Maupassant\", \"Maupassant\", \"Maupassant\", \"Maupassant\", \"Maupassant\", \"Maupassant\", \"Maupassant\", \"Maupassant\", \"Maupassant\", \"Maupassant\", \"Maupassant\", \"Maupassant\", \"Maupassant\", \"Maupassant\", \"Maupassant\", \"Maupassant\", \"Maupassant\", \"Maupassant\", \"Maupassant\", \"Maupassant\", \"Maupassant\", \"Maupassant\", \"Maupassant\", \"Maupassant\", \"Maupassant\", \"Maupassant\", \"Maupassant\", \"Maupassant\", \"Maupassant\", \"Maupassant\", \"Maupassant\", \"Maupassant\", \"Maupassant\", \"Maupassant\", \"Maupassant\", \"Maupassant\", \"Maupassant\", \"Maupassant\", \"Maupassant\", \"Maupassant\", \"Maupassant\", \"Maupassant\", \"Maupassant\", \"Maupassant\", \"Maupassant\", \"Maupassant\", \"Maupassant\", \"Maupassant\", \"Maupassant\", \"Maupassant\", \"Maupassant\", \"Maupassant\", \"Maupassant\", \"Maupassant\", \"Maupassant\", \"Maupassant\", \"Maupassant\", \"Maupassant\", \"Maupassant\", \"Maupassant\", \"Maupassant\", \"Maupassant\", \"Maupassant\", \"Maupassant\", \"Maupassant\", \"Maupassant\", \"Maupassant\", \"Maupassant\", \"Maupassant\", \"Maupassant\", \"Maupassant\", \"Maupassant\", \"Maupassant\", \"Maupassant\", \"Maupassant\", \"Maupassant\", \"Maupassant\", \"Maupassant\", \"Maupassant\", \"Maupassant\", \"Maupassant\", \"Maupassant\", \"Maupassant\", \"Maupassant\", \"Maupassant\", \"Maupassant\", \"Maupassant\", \"Maupassant\", \"Maupassant\", \"Maupassant\", \"Maupassant\", \"Maupassant\", \"Maupassant\", \"Maupassant\", \"Maupassant\", \"Maupassant\", \"Maupassant\", \"Maupassant\", \"Maupassant\", \"Maupassant\", \"Maupassant\", \"Maupassant\", \"Maupassant\", \"Maupassant\", \"Maupassant\", \"Maupassant\"], \"y\": [85, 43, 80, 83, 136, 29, 41, 47, 185, 39, 91, 32, 43, 71, 59, 82, 47, 56, 121, 28, 48, 41, 46, 47, 42, 36, 26, 46, 22, 34, 72, 30, 24, 43, 27, 33, 25, 23, 40, 83, 37, 49, 26, 114, 56, 35, 62, 41, 174, 35, 65, 35, 75, 26, 60, 38, 38, 86, 30, 35, 48, 46, 63, 90, 47, 127, 53, 65, 89, 84, 27, 101, 32, 37, 43, 24, 50, 30, 51, 24, 80, 31, 48, 33, 78, 28, 27, 73, 49, 56, 22, 48, 30, 201, 102, 21, 43, 38, 52, 46, 48, 32, 122, 33, 76, 32, 73, 56, 73, 35, 32, 25, 29, 53, 30, 21, 221, 206, 26, 71, 82, 67, 29, 19, 49, 237, 64, 35, 88, 21, 48, 214, 71, 100, 67, 49, 73, 24, 38, 97, 24, 55, 41, 197, 49, 135, 35, 29, 30, 31, 68, 36, 72, 67, 40, 52, 85, 69, 38, 33, 96, 19, 32, 221, 92, 50, 86, 32, 55, 37, 134, 27, 30, 40, 28, 31, 26, 20, 154, 35, 30, 77, 40, 31, 97, 23, 54, 112, 28, 53, 64, 47, 57, 24, 82, 33, 85, 22, 122, 44]}, {\"box\": {\"visible\": true}, \"meanline\": {\"visible\": true}, \"name\": \"Balzac\", \"type\": \"violin\", \"x\": [\"Balzac\", \"Balzac\", \"Balzac\", \"Balzac\", \"Balzac\", \"Balzac\", \"Balzac\", \"Balzac\", \"Balzac\", \"Balzac\", \"Balzac\", \"Balzac\", \"Balzac\", \"Balzac\", \"Balzac\", \"Balzac\", \"Balzac\", \"Balzac\", \"Balzac\", \"Balzac\", \"Balzac\", \"Balzac\", \"Balzac\", \"Balzac\", \"Balzac\", \"Balzac\", \"Balzac\", \"Balzac\", \"Balzac\", \"Balzac\", \"Balzac\", \"Balzac\", \"Balzac\", \"Balzac\", \"Balzac\", \"Balzac\", \"Balzac\", \"Balzac\", \"Balzac\", \"Balzac\", \"Balzac\", \"Balzac\", \"Balzac\", \"Balzac\", \"Balzac\", \"Balzac\", \"Balzac\", \"Balzac\", \"Balzac\", \"Balzac\", \"Balzac\", \"Balzac\", \"Balzac\", \"Balzac\", \"Balzac\", \"Balzac\", \"Balzac\", \"Balzac\", \"Balzac\", \"Balzac\", \"Balzac\", \"Balzac\", \"Balzac\", \"Balzac\", \"Balzac\", \"Balzac\", \"Balzac\", \"Balzac\", \"Balzac\", \"Balzac\", \"Balzac\", \"Balzac\", \"Balzac\", \"Balzac\", \"Balzac\", \"Balzac\", \"Balzac\", \"Balzac\", \"Balzac\", \"Balzac\", \"Balzac\", \"Balzac\", \"Balzac\", \"Balzac\", \"Balzac\", \"Balzac\", \"Balzac\", \"Balzac\", \"Balzac\", \"Balzac\", \"Balzac\", \"Balzac\", \"Balzac\", \"Balzac\", \"Balzac\", \"Balzac\", \"Balzac\", \"Balzac\", \"Balzac\", \"Balzac\", \"Balzac\", \"Balzac\", \"Balzac\", \"Balzac\", \"Balzac\", \"Balzac\", \"Balzac\", \"Balzac\", \"Balzac\", \"Balzac\", \"Balzac\", \"Balzac\", \"Balzac\", \"Balzac\", \"Balzac\", \"Balzac\", \"Balzac\", \"Balzac\", \"Balzac\", \"Balzac\", \"Balzac\", \"Balzac\", \"Balzac\", \"Balzac\", \"Balzac\", \"Balzac\", \"Balzac\", \"Balzac\", \"Balzac\", \"Balzac\", \"Balzac\", \"Balzac\", \"Balzac\", \"Balzac\", \"Balzac\", \"Balzac\", \"Balzac\", \"Balzac\", \"Balzac\", \"Balzac\", \"Balzac\", \"Balzac\", \"Balzac\", \"Balzac\", \"Balzac\", \"Balzac\", \"Balzac\", \"Balzac\", \"Balzac\", \"Balzac\", \"Balzac\", \"Balzac\", \"Balzac\", \"Balzac\", \"Balzac\", \"Balzac\", \"Balzac\", \"Balzac\", \"Balzac\", \"Balzac\", \"Balzac\", \"Balzac\", \"Balzac\", \"Balzac\", \"Balzac\", \"Balzac\", \"Balzac\", \"Balzac\", \"Balzac\", \"Balzac\", \"Balzac\", \"Balzac\", \"Balzac\", \"Balzac\", \"Balzac\", \"Balzac\", \"Balzac\", \"Balzac\", \"Balzac\", \"Balzac\", \"Balzac\", \"Balzac\", \"Balzac\", \"Balzac\", \"Balzac\", \"Balzac\", \"Balzac\", \"Balzac\", \"Balzac\", \"Balzac\", \"Balzac\", \"Balzac\", \"Balzac\", \"Balzac\", \"Balzac\", \"Balzac\", \"Balzac\", \"Balzac\", \"Balzac\", \"Balzac\"], \"y\": [110, 34, 93, 50, 40, 114, 36, 34, 26, 85, 32, 42, 189, 57, 718, 26, 179, 22, 119, 26, 38, 97, 256, 23, 103, 31, 88, 20, 178, 34, 22, 25, 26, 51, 62, 42, 26, 39, 99, 116, 27, 238, 24, 39, 35, 301, 47, 25, 980, 25, 226, 168, 961, 101, 29, 30, 46, 203, 283, 21, 27, 37, 190, 25, 94, 1377, 76, 32, 82, 22, 1187, 42, 1296, 116, 34, 38, 30, 84, 27, 252, 23, 49, 120, 403, 74, 45, 85, 27, 53, 177, 504, 200, 24, 195, 23, 91, 24, 27, 210, 50, 40, 63, 47, 28, 139, 42, 106, 20, 36, 26, 275, 409, 30, 40, 153, 206, 169, 541, 39, 24, 74, 549, 31, 39, 22, 631, 224, 72, 61, 27, 38, 29, 527, 19, 39, 1727, 1317, 193, 32, 38, 142, 28, 21, 32, 92, 34, 32, 40, 40, 81, 25, 155, 218, 717, 368, 25, 126, 28, 36, 39, 63, 173, 27, 39, 40, 39, 341, 22, 230, 56, 107, 38, 58, 1351, 55, 172, 41, 72, 44, 63, 24, 33, 487, 22, 485, 48, 32, 389, 35, 138, 66, 79, 16, 19, 59, 26, 63, 21, 137, 133]}],\n",
       "                        {\"template\": {\"data\": {\"bar\": [{\"error_x\": {\"color\": \"#2a3f5f\"}, \"error_y\": {\"color\": \"#2a3f5f\"}, \"marker\": {\"line\": {\"color\": \"#E5ECF6\", \"width\": 0.5}}, \"type\": \"bar\"}], \"barpolar\": [{\"marker\": {\"line\": {\"color\": \"#E5ECF6\", \"width\": 0.5}}, \"type\": \"barpolar\"}], \"carpet\": [{\"aaxis\": {\"endlinecolor\": \"#2a3f5f\", \"gridcolor\": \"white\", \"linecolor\": \"white\", \"minorgridcolor\": \"white\", \"startlinecolor\": \"#2a3f5f\"}, \"baxis\": {\"endlinecolor\": \"#2a3f5f\", \"gridcolor\": \"white\", \"linecolor\": \"white\", \"minorgridcolor\": \"white\", \"startlinecolor\": \"#2a3f5f\"}, \"type\": \"carpet\"}], \"choropleth\": [{\"colorbar\": {\"outlinewidth\": 0, \"ticks\": \"\"}, \"type\": \"choropleth\"}], \"contour\": [{\"colorbar\": {\"outlinewidth\": 0, \"ticks\": \"\"}, \"colorscale\": [[0.0, \"#0d0887\"], [0.1111111111111111, \"#46039f\"], [0.2222222222222222, \"#7201a8\"], [0.3333333333333333, \"#9c179e\"], [0.4444444444444444, \"#bd3786\"], [0.5555555555555556, \"#d8576b\"], [0.6666666666666666, \"#ed7953\"], [0.7777777777777778, \"#fb9f3a\"], [0.8888888888888888, \"#fdca26\"], [1.0, \"#f0f921\"]], \"type\": \"contour\"}], \"contourcarpet\": [{\"colorbar\": {\"outlinewidth\": 0, \"ticks\": \"\"}, \"type\": \"contourcarpet\"}], \"heatmap\": [{\"colorbar\": {\"outlinewidth\": 0, \"ticks\": \"\"}, \"colorscale\": [[0.0, \"#0d0887\"], [0.1111111111111111, \"#46039f\"], [0.2222222222222222, \"#7201a8\"], [0.3333333333333333, \"#9c179e\"], [0.4444444444444444, \"#bd3786\"], [0.5555555555555556, \"#d8576b\"], [0.6666666666666666, \"#ed7953\"], [0.7777777777777778, \"#fb9f3a\"], [0.8888888888888888, \"#fdca26\"], [1.0, \"#f0f921\"]], \"type\": \"heatmap\"}], \"heatmapgl\": [{\"colorbar\": {\"outlinewidth\": 0, \"ticks\": \"\"}, \"colorscale\": [[0.0, \"#0d0887\"], [0.1111111111111111, \"#46039f\"], [0.2222222222222222, \"#7201a8\"], [0.3333333333333333, \"#9c179e\"], [0.4444444444444444, \"#bd3786\"], [0.5555555555555556, \"#d8576b\"], [0.6666666666666666, \"#ed7953\"], [0.7777777777777778, \"#fb9f3a\"], [0.8888888888888888, \"#fdca26\"], [1.0, \"#f0f921\"]], \"type\": \"heatmapgl\"}], \"histogram\": [{\"marker\": {\"colorbar\": {\"outlinewidth\": 0, \"ticks\": \"\"}}, \"type\": \"histogram\"}], \"histogram2d\": [{\"colorbar\": {\"outlinewidth\": 0, \"ticks\": \"\"}, \"colorscale\": [[0.0, \"#0d0887\"], [0.1111111111111111, \"#46039f\"], [0.2222222222222222, \"#7201a8\"], [0.3333333333333333, \"#9c179e\"], [0.4444444444444444, \"#bd3786\"], [0.5555555555555556, \"#d8576b\"], [0.6666666666666666, \"#ed7953\"], [0.7777777777777778, \"#fb9f3a\"], [0.8888888888888888, \"#fdca26\"], [1.0, \"#f0f921\"]], \"type\": \"histogram2d\"}], \"histogram2dcontour\": [{\"colorbar\": {\"outlinewidth\": 0, \"ticks\": \"\"}, \"colorscale\": [[0.0, \"#0d0887\"], [0.1111111111111111, \"#46039f\"], [0.2222222222222222, \"#7201a8\"], [0.3333333333333333, \"#9c179e\"], [0.4444444444444444, \"#bd3786\"], [0.5555555555555556, \"#d8576b\"], [0.6666666666666666, \"#ed7953\"], [0.7777777777777778, \"#fb9f3a\"], [0.8888888888888888, \"#fdca26\"], [1.0, \"#f0f921\"]], \"type\": \"histogram2dcontour\"}], \"mesh3d\": [{\"colorbar\": {\"outlinewidth\": 0, \"ticks\": \"\"}, \"type\": \"mesh3d\"}], \"parcoords\": [{\"line\": {\"colorbar\": {\"outlinewidth\": 0, \"ticks\": \"\"}}, \"type\": \"parcoords\"}], \"pie\": [{\"automargin\": true, \"type\": \"pie\"}], \"scatter\": [{\"marker\": {\"colorbar\": {\"outlinewidth\": 0, \"ticks\": \"\"}}, \"type\": \"scatter\"}], \"scatter3d\": [{\"line\": {\"colorbar\": {\"outlinewidth\": 0, \"ticks\": \"\"}}, \"marker\": {\"colorbar\": {\"outlinewidth\": 0, \"ticks\": \"\"}}, \"type\": \"scatter3d\"}], \"scattercarpet\": [{\"marker\": {\"colorbar\": {\"outlinewidth\": 0, \"ticks\": \"\"}}, \"type\": \"scattercarpet\"}], \"scattergeo\": [{\"marker\": {\"colorbar\": {\"outlinewidth\": 0, \"ticks\": \"\"}}, \"type\": \"scattergeo\"}], \"scattergl\": [{\"marker\": {\"colorbar\": {\"outlinewidth\": 0, \"ticks\": \"\"}}, \"type\": \"scattergl\"}], \"scattermapbox\": [{\"marker\": {\"colorbar\": {\"outlinewidth\": 0, \"ticks\": \"\"}}, \"type\": \"scattermapbox\"}], \"scatterpolar\": [{\"marker\": {\"colorbar\": {\"outlinewidth\": 0, \"ticks\": \"\"}}, \"type\": \"scatterpolar\"}], \"scatterpolargl\": [{\"marker\": {\"colorbar\": {\"outlinewidth\": 0, \"ticks\": \"\"}}, \"type\": \"scatterpolargl\"}], \"scatterternary\": [{\"marker\": {\"colorbar\": {\"outlinewidth\": 0, \"ticks\": \"\"}}, \"type\": \"scatterternary\"}], \"surface\": [{\"colorbar\": {\"outlinewidth\": 0, \"ticks\": \"\"}, \"colorscale\": [[0.0, \"#0d0887\"], [0.1111111111111111, \"#46039f\"], [0.2222222222222222, \"#7201a8\"], [0.3333333333333333, \"#9c179e\"], [0.4444444444444444, \"#bd3786\"], [0.5555555555555556, \"#d8576b\"], [0.6666666666666666, \"#ed7953\"], [0.7777777777777778, \"#fb9f3a\"], [0.8888888888888888, \"#fdca26\"], [1.0, \"#f0f921\"]], \"type\": \"surface\"}], \"table\": [{\"cells\": {\"fill\": {\"color\": \"#EBF0F8\"}, \"line\": {\"color\": \"white\"}}, \"header\": {\"fill\": {\"color\": \"#C8D4E3\"}, \"line\": {\"color\": \"white\"}}, \"type\": \"table\"}]}, \"layout\": {\"annotationdefaults\": {\"arrowcolor\": \"#2a3f5f\", \"arrowhead\": 0, \"arrowwidth\": 1}, \"coloraxis\": {\"colorbar\": {\"outlinewidth\": 0, \"ticks\": \"\"}}, \"colorscale\": {\"diverging\": [[0, \"#8e0152\"], [0.1, \"#c51b7d\"], [0.2, \"#de77ae\"], [0.3, \"#f1b6da\"], [0.4, \"#fde0ef\"], [0.5, \"#f7f7f7\"], [0.6, \"#e6f5d0\"], [0.7, \"#b8e186\"], [0.8, \"#7fbc41\"], [0.9, \"#4d9221\"], [1, \"#276419\"]], \"sequential\": [[0.0, \"#0d0887\"], [0.1111111111111111, \"#46039f\"], [0.2222222222222222, \"#7201a8\"], [0.3333333333333333, \"#9c179e\"], [0.4444444444444444, \"#bd3786\"], [0.5555555555555556, \"#d8576b\"], [0.6666666666666666, \"#ed7953\"], [0.7777777777777778, \"#fb9f3a\"], [0.8888888888888888, \"#fdca26\"], [1.0, \"#f0f921\"]], \"sequentialminus\": [[0.0, \"#0d0887\"], [0.1111111111111111, \"#46039f\"], [0.2222222222222222, \"#7201a8\"], [0.3333333333333333, \"#9c179e\"], [0.4444444444444444, \"#bd3786\"], [0.5555555555555556, \"#d8576b\"], [0.6666666666666666, \"#ed7953\"], [0.7777777777777778, \"#fb9f3a\"], [0.8888888888888888, \"#fdca26\"], [1.0, \"#f0f921\"]]}, \"colorway\": [\"#636efa\", \"#EF553B\", \"#00cc96\", \"#ab63fa\", \"#FFA15A\", \"#19d3f3\", \"#FF6692\", \"#B6E880\", \"#FF97FF\", \"#FECB52\"], \"font\": {\"color\": \"#2a3f5f\"}, \"geo\": {\"bgcolor\": \"white\", \"lakecolor\": \"white\", \"landcolor\": \"#E5ECF6\", \"showlakes\": true, \"showland\": true, \"subunitcolor\": \"white\"}, \"hoverlabel\": {\"align\": \"left\"}, \"hovermode\": \"closest\", \"mapbox\": {\"style\": \"light\"}, \"paper_bgcolor\": \"white\", \"plot_bgcolor\": \"#E5ECF6\", \"polar\": {\"angularaxis\": {\"gridcolor\": \"white\", \"linecolor\": \"white\", \"ticks\": \"\"}, \"bgcolor\": \"#E5ECF6\", \"radialaxis\": {\"gridcolor\": \"white\", \"linecolor\": \"white\", \"ticks\": \"\"}}, \"scene\": {\"xaxis\": {\"backgroundcolor\": \"#E5ECF6\", \"gridcolor\": \"white\", \"gridwidth\": 2, \"linecolor\": \"white\", \"showbackground\": true, \"ticks\": \"\", \"zerolinecolor\": \"white\"}, \"yaxis\": {\"backgroundcolor\": \"#E5ECF6\", \"gridcolor\": \"white\", \"gridwidth\": 2, \"linecolor\": \"white\", \"showbackground\": true, \"ticks\": \"\", \"zerolinecolor\": \"white\"}, \"zaxis\": {\"backgroundcolor\": \"#E5ECF6\", \"gridcolor\": \"white\", \"gridwidth\": 2, \"linecolor\": \"white\", \"showbackground\": true, \"ticks\": \"\", \"zerolinecolor\": \"white\"}}, \"shapedefaults\": {\"line\": {\"color\": \"#2a3f5f\"}}, \"ternary\": {\"aaxis\": {\"gridcolor\": \"white\", \"linecolor\": \"white\", \"ticks\": \"\"}, \"baxis\": {\"gridcolor\": \"white\", \"linecolor\": \"white\", \"ticks\": \"\"}, \"bgcolor\": \"#E5ECF6\", \"caxis\": {\"gridcolor\": \"white\", \"linecolor\": \"white\", \"ticks\": \"\"}}, \"title\": {\"x\": 0.05}, \"xaxis\": {\"automargin\": true, \"gridcolor\": \"white\", \"linecolor\": \"white\", \"ticks\": \"\", \"title\": {\"standoff\": 15}, \"zerolinecolor\": \"white\", \"zerolinewidth\": 2}, \"yaxis\": {\"automargin\": true, \"gridcolor\": \"white\", \"linecolor\": \"white\", \"ticks\": \"\", \"title\": {\"standoff\": 15}, \"zerolinecolor\": \"white\", \"zerolinewidth\": 2}}}},\n",
       "                        {\"responsive\": true}\n",
       "                    ).then(function(){\n",
       "                            \n",
       "var gd = document.getElementById('7959b63a-3779-49b5-8dd7-7dfed52617f3');\n",
       "var x = new MutationObserver(function (mutations, observer) {{\n",
       "        var display = window.getComputedStyle(gd).display;\n",
       "        if (!display || display === 'none') {{\n",
       "            console.log([gd, 'removed!']);\n",
       "            Plotly.purge(gd);\n",
       "            observer.disconnect();\n",
       "        }}\n",
       "}});\n",
       "\n",
       "// Listen for the removal of the full notebook cells\n",
       "var notebookContainer = gd.closest('#notebook-container');\n",
       "if (notebookContainer) {{\n",
       "    x.observe(notebookContainer, {childList: true});\n",
       "}}\n",
       "\n",
       "// Listen for the clearing of the current output cell\n",
       "var outputEl = gd.closest('.output');\n",
       "if (outputEl) {{\n",
       "    x.observe(outputEl, {childList: true});\n",
       "}}\n",
       "\n",
       "                        })\n",
       "                };\n",
       "                });\n",
       "            </script>\n",
       "        </div>"
      ]
     },
     "metadata": {},
     "output_type": "display_data"
    }
   ],
   "source": [
    "fig = go.Figure()\n",
    "\n",
    "authors = ['Zola', 'Maupassant', 'Balzac']\n",
    "\n",
    "for author in authors:\n",
    "    fig.add_trace(go.Violin(x=my_df['author'][my_df['author'] == author],\n",
    "                            y=my_df['wordCount'][my_df['author'] == author],\n",
    "                            name=author,\n",
    "                            box_visible=True,\n",
    "                            meanline_visible=True))\n",
    "\n",
    "fig.show()"
   ]
  },
  {
   "cell_type": "markdown",
   "metadata": {},
   "source": [
    "Marrant, le plot de Balzac forme une plume de stylo. En tout cas il écrivait des longues phrases le bougre."
   ]
  },
  {
   "cell_type": "markdown",
   "metadata": {},
   "source": [
    "### Words Count vs number of sentences in a Paragraph"
   ]
  },
  {
   "cell_type": "code",
   "execution_count": 102,
   "metadata": {},
   "outputs": [
    {
     "data": {
      "application/vnd.plotly.v1+json": {
       "config": {
        "plotlyServerURL": "https://plot.ly"
       },
       "data": [
        {
         "customdata": [
          [
           16.664
          ],
          [
           8.16
          ],
          [
           13.631999999999998
          ],
          [
           9.3
          ],
          [
           28
          ],
          [
           8.08
          ],
          [
           24.136
          ],
          [
           22.575
          ],
          [
           9.999
          ],
          [
           8
          ],
          [
           4.836
          ],
          [
           10
          ],
          [
           2.941
          ],
          [
           29.308
          ],
          [
           24.996000000000002
          ],
          [
           11.805
          ],
          [
           12.376
          ],
          [
           13.041
          ],
          [
           10.836
          ],
          [
           11.596
          ],
          [
           11.401
          ],
          [
           13.088
          ],
          [
           10.41
          ],
          [
           8.021
          ],
          [
           13.916
          ],
          [
           11.284
          ],
          [
           11.492
          ],
          [
           19.668
          ],
          [
           17.24
          ],
          [
           15.149999999999999
          ],
          [
           13.001999999999999
          ],
          [
           24.997
          ],
          [
           21.426000000000002
          ],
          [
           21.426000000000002
          ],
          [
           22.725
          ],
          [
           8.784
          ],
          [
           10.223999999999998
          ],
          [
           11.764
          ],
          [
           13.063999999999998
          ],
          [
           14.443
          ],
          [
           17.142000000000003
          ],
          [
           11.592
          ],
          [
           11.625
          ],
          [
           5.554
          ],
          [
           7.406
          ],
          [
           13.719999999999999
          ],
          [
           18.515
          ],
          [
           3.448
          ],
          [
           21.735000000000003
          ],
          [
           13.533
          ],
          [
           21.735000000000003
          ],
          [
           22.725
          ],
          [
           9.752
          ],
          [
           12.304
          ],
          [
           11.315999999999999
          ],
          [
           8
          ],
          [
           16.662
          ],
          [
           9.756
          ],
          [
           13.461
          ],
          [
           11.424
          ],
          [
           8.976
          ],
          [
           9.43
          ],
          [
           9.25
          ],
          [
           22.575
          ],
          [
           8.736
          ],
          [
           25.8
          ],
          [
           12.491999999999999
          ],
          [
           15.245999999999999
          ],
          [
           10.713000000000001
          ],
          [
           8.582
          ],
          [
           9.09
          ],
          [
           13.038
          ],
          [
           13.943999999999999
          ],
          [
           12.4
          ],
          [
           4.596
          ],
          [
           6.815999999999999
          ],
          [
           24.996000000000002
          ],
          [
           15.149999999999999
          ],
          [
           12
          ],
          [
           13.565999999999999
          ],
          [
           19.668
          ],
          [
           24.996000000000002
          ],
          [
           16.974
          ],
          [
           12
          ],
          [
           16.66
          ],
          [
           10.952
          ],
          [
           9.09
          ],
          [
           8.106
          ],
          [
           11.927999999999999
          ],
          [
           22.575
          ],
          [
           16.275000000000002
          ],
          [
           12.024000000000001
          ],
          [
           8.406
          ],
          [
           13.631999999999998
          ],
          [
           10.592
          ],
          [
           10
          ],
          [
           12.208
          ],
          [
           8.84
          ],
          [
           8.88
          ],
          [
           9.375
          ],
          [
           10.625
          ],
          [
           4.08
          ],
          [
           13.332
          ],
          [
           15.38
          ],
          [
           7.14
          ],
          [
           14.285
          ],
          [
           28
          ],
          [
           9.62
          ],
          [
           12.195
          ],
          [
           9.3
          ],
          [
           11.428
          ],
          [
           18.6
          ],
          [
           16.664
          ],
          [
           12.195
          ],
          [
           11.208
          ],
          [
           17.646
          ],
          [
           7.5
          ],
          [
           19.634999999999998
          ],
          [
           10.443999999999999
          ],
          [
           14
          ],
          [
           11.899999999999999
          ],
          [
           16.66
          ],
          [
           9.687999999999999
          ],
          [
           24.997
          ],
          [
           11.788
          ],
          [
           15.287999999999998
          ],
          [
           13.041
          ],
          [
           20.688
          ],
          [
           10.713000000000001
          ],
          [
           31.814999999999998
          ],
          [
           24.997
          ],
          [
           19.044
          ],
          [
           19.642
          ],
          [
           10.362
          ],
          [
           13.635
          ],
          [
           26.18
          ],
          [
           29.409999999999997
          ],
          [
           14.7
          ],
          [
           10.234
          ],
          [
           24
          ],
          [
           16.169999999999998
          ],
          [
           7.406
          ],
          [
           28.57
          ],
          [
           13.8
          ],
          [
           18.634
          ],
          [
           13.332
          ],
          [
           15.149999999999999
          ],
          [
           9.42
          ],
          [
           12.278
          ],
          [
           14.49
          ],
          [
           7.544
          ],
          [
           40.733
          ],
          [
           13.51
          ],
          [
           8.496
          ],
          [
           13.202
          ],
          [
           7.59
          ],
          [
           4.545
          ],
          [
           8.508
          ],
          [
           12.498000000000001
          ],
          [
           12.82
          ],
          [
           13.384
          ],
          [
           12.54
          ],
          [
           11.108
          ],
          [
           17.855
          ],
          [
           20.688
          ],
          [
           12.495999999999999
          ],
          [
           19.512
          ],
          [
           12.649999999999999
          ],
          [
           22.856
          ],
          [
           11.538
          ],
          [
           11.826
          ],
          [
           11.927999999999999
          ],
          [
           15.211
          ],
          [
           20.830000000000002
          ],
          [
           8.106
          ],
          [
           11.448
          ],
          [
           7.26
          ],
          [
           16.974
          ],
          [
           18.6
          ],
          [
           13.653
          ],
          [
           14
          ],
          [
           11.169
          ],
          [
           13.112
          ],
          [
           20.688
          ],
          [
           34.776
          ],
          [
           5.553
          ],
          [
           17.948
          ],
          [
           10.107
          ],
          [
           4.997999999999999
          ],
          [
           29.624
          ],
          [
           31.814999999999998
          ],
          [
           18.029
          ],
          [
           12.671999999999999
          ],
          [
           8.328
          ],
          [
           13.792
          ],
          [
           13.631999999999998
          ],
          [
           21.426000000000002
          ],
          [
           9.228
          ],
          [
           16.664
          ],
          [
           6.348
          ]
         ],
         "hoverlabel": {
          "namelength": 0
         },
         "hovertemplate": "author=Zola<br>wordCount=%{x}<br>numberOfSentences=%{y}<br>meanWordLength=%{marker.size}<br>wordsWithPunctuationPercentage=%{customdata[0]}",
         "legendgroup": "author=Zola",
         "marker": {
          "color": "#636efa",
          "size": [
           4.708333333333333,
           4.346938775510204,
           4.1477272727272725,
           3.9302325581395348,
           3.36,
           4.174089068825911,
           3.413793103448276,
           4.258064516129032,
           4.4,
           4.235,
           4.161290322580645,
           4.25,
           3.5588235294117645,
           3.5172413793103448,
           4.541666666666667,
           4.622047244094488,
           4.771428571428571,
           3.9565217391304346,
           4.180722891566265,
           4.133928571428571,
           4.192982456140351,
           4.610655737704918,
           4,
           4.135802469135802,
           4.348258706467662,
           4.725806451612903,
           4.592920353982301,
           3.819672131147541,
           3.8275862068965516,
           4.363636363636363,
           4.272189349112426,
           3.8214285714285716,
           3.4285714285714284,
           3.4285714285714284,
           4.181818181818182,
           4.2967032967032965,
           4.193181818181818,
           4.764705882352941,
           3.9375,
           3.933333333333333,
           4,
           4.434782608695652,
           4.232558139534884,
           3.75,
           3.740740740740741,
           4.470588235294118,
           3.814814814814815,
           4.310344827586207,
           3.782608695652174,
           4.729166666666667,
           3.782608695652174,
           3.8181818181818183,
           5.036585365853658,
           3.876923076923077,
           4.30188679245283,
           4,
           4.305555555555555,
           3.4634146341463414,
           4,
           4.423809523809524,
           3.730337078651685,
           4.415094339622642,
           4.203703703703703,
           4,
           4.027322404371585,
           3.3225806451612905,
           4.222222222222222,
           4.254237288135593,
           4.535714285714286,
           4.306748466257669,
           4.2272727272727275,
           3.8043478260869565,
           4.5813953488372094,
           4.775193798449612,
           4.275862068965517,
           4.556818181818182,
           3.9583333333333335,
           4.363636363636363,
           3.48,
           4.289285714285715,
           3.4918032786885247,
           3.5833333333333335,
           5.150943396226415,
           4.72,
           4.55,
           4.561643835616438,
           4.036363636363636,
           3.7837837837837838,
           4.176136363636363,
           4.387096774193548,
           4.627906976744186,
           4.488294314381271,
           4.074766355140187,
           4.25,
           4.135761589403973,
           4.15,
           4.454148471615721,
           4.035398230088496,
           4.583333333333333,
           4.125,
           4.459574468085107,
           4.020408163265306,
           6.2,
           3.876923076923077,
           4.714285714285714,
           5.2,
           3.52,
           4.466666666666667,
           4.097560975609756,
           3.9302325581395348,
           4.171428571428572,
           2.5348837209302326,
           4.354166666666667,
           4.024390243902439,
           3.94392523364486,
           3.6470588235294117,
           4.625,
           3.7857142857142856,
           4.2388059701492535,
           4.22,
           4.023809523809524,
           4.095238095238095,
           4.352941176470588,
           3.7857142857142856,
           4.151898734177215,
           4.047058823529412,
           4.6231884057971016,
           3.9655172413793105,
           3.5714285714285716,
           3.9545454545454546,
           4.035714285714286,
           4.761904761904762,
           3.8461538461538463,
           4.485849056603773,
           4.045454545454546,
           3.619047619047619,
           3.7058823529411766,
           4.25,
           4.180722891566265,
           3.76,
           3.823529411764706,
           3.925925925925926,
           3.6857142857142855,
           4.69060773480663,
           4.3559322033898304,
           4.177777777777778,
           3.6666666666666665,
           4.119496855345912,
           4.245614035087719,
           4.130434782608695,
           4.5754716981132075,
           3.6666666666666665,
           3.918918918918919,
           4.537234042553192,
           4.113207547169812,
           3.810126582278481,
           4.090909090909091,
           4,
           4.458333333333333,
           4.358974358974359,
           4.574162679425838,
           4.397489539748954,
           4.861111111111111,
           3.7857142857142856,
           4.068965517241379,
           4.511363636363637,
           4.804878048780488,
           3.632911392405063,
           3.6,
           4.128205128205129,
           4.7105263157894735,
           4.176136363636363,
           4.217391304347826,
           3.9166666666666665,
           4.1891891891891895,
           4.101910828025478,
           4.076363636363636,
           5.150943396226415,
           2.5348837209302326,
           4.723333333333334,
           4.32,
           4.3355263157894735,
           3.6557377049180326,
           4.068965517241379,
           4.6521739130434785,
           3.8333333333333335,
           3.8205128205128207,
           4.382022471910112,
           4.3,
           3.740740740740741,
           4.136363636363637,
           3.8524590163934427,
           4.042253521126761,
           4.489583333333333,
           4.5344827586206895,
           4.181818181818182,
           3.392857142857143,
           4.038461538461538,
           4.125,
           3.9523809523809526
          ],
          "sizemode": "area",
          "sizeref": 0.0155,
          "symbol": "circle"
         },
         "mode": "markers",
         "name": "author=Zola",
         "showlegend": true,
         "type": "scatter",
         "x": [
          48,
          49,
          88,
          43,
          25,
          247,
          29,
          31,
          30,
          200,
          62,
          20,
          34,
          58,
          24,
          127,
          105,
          23,
          166,
          112,
          114,
          244,
          96,
          162,
          201,
          62,
          113,
          61,
          29,
          33,
          169,
          28,
          28,
          28,
          22,
          91,
          88,
          34,
          176,
          90,
          35,
          69,
          43,
          36,
          27,
          51,
          27,
          29,
          23,
          96,
          23,
          22,
          82,
          65,
          106,
          25,
          36,
          41,
          52,
          210,
          178,
          53,
          108,
          31,
          183,
          31,
          72,
          59,
          28,
          163,
          22,
          46,
          172,
          129,
          87,
          88,
          24,
          33,
          25,
          280,
          61,
          24,
          53,
          25,
          60,
          73,
          55,
          74,
          176,
          31,
          43,
          299,
          107,
          88,
          302,
          40,
          229,
          113,
          180,
          32,
          235,
          49,
          15,
          65,
          56,
          35,
          25,
          135,
          41,
          43,
          35,
          43,
          48,
          41,
          107,
          34,
          40,
          56,
          67,
          50,
          42,
          42,
          289,
          28,
          237,
          85,
          69,
          29,
          28,
          22,
          28,
          21,
          117,
          212,
          22,
          42,
          34,
          68,
          166,
          25,
          68,
          27,
          35,
          181,
          59,
          90,
          33,
          159,
          114,
          69,
          106,
          27,
          37,
          188,
          53,
          79,
          22,
          47,
          24,
          78,
          209,
          239,
          36,
          28,
          29,
          88,
          41,
          79,
          35,
          78,
          152,
          176,
          46,
          24,
          37,
          157,
          275,
          53,
          43,
          300,
          50,
          152,
          61,
          29,
          23,
          54,
          39,
          89,
          60,
          27,
          22,
          61,
          71,
          288,
          58,
          44,
          28,
          130,
          24,
          63
         ],
         "xaxis": "x",
         "y": [
          3,
          3,
          3,
          4,
          4,
          9,
          4,
          2,
          2,
          9,
          2,
          1,
          1,
          5,
          2,
          6,
          5,
          2,
          6,
          4,
          4,
          7,
          6,
          6,
          8,
          3,
          5,
          7,
          2,
          2,
          6,
          4,
          2,
          3,
          2,
          4,
          4,
          2,
          7,
          5,
          1,
          4,
          2,
          1,
          1,
          3,
          3,
          1,
          3,
          4,
          3,
          2,
          4,
          3,
          5,
          1,
          2,
          1,
          3,
          9,
          7,
          3,
          5,
          2,
          7,
          3,
          4,
          6,
          1,
          8,
          1,
          3,
          7,
          6,
          3,
          3,
          2,
          2,
          1,
          14,
          6,
          2,
          3,
          1,
          2,
          2,
          1,
          3,
          9,
          3,
          3,
          14,
          6,
          7,
          11,
          1,
          10,
          3,
          7,
          3,
          8,
          1,
          1,
          5,
          2,
          3,
          3,
          5,
          1,
          4,
          2,
          3,
          3,
          3,
          4,
          4,
          2,
          3,
          3,
          4,
          2,
          4,
          9,
          3,
          14,
          5,
          4,
          2,
          2,
          3,
          4,
          4,
          8,
          9,
          3,
          5,
          5,
          2,
          7,
          3,
          3,
          1,
          3,
          4,
          4,
          4,
          3,
          5,
          3,
          3,
          3,
          5,
          3,
          8,
          2,
          4,
          1,
          3,
          1,
          3,
          7,
          10,
          2,
          2,
          2,
          4,
          2,
          6,
          4,
          3,
          6,
          9,
          3,
          2,
          3,
          6,
          9,
          3,
          3,
          12,
          2,
          6,
          3,
          2,
          3,
          1,
          4,
          5,
          2,
          4,
          3,
          6,
          3,
          9,
          2,
          2,
          2,
          7,
          3,
          3
         ],
         "yaxis": "y"
        },
        {
         "customdata": [
          [
           15.287999999999998
          ],
          [
           11.625
          ],
          [
           16.25
          ],
          [
           14.448
          ],
          [
           9.555
          ],
          [
           6.896
          ],
          [
           21.951
          ],
          [
           6.380999999999999
          ],
          [
           12.96
          ],
          [
           23.076
          ],
          [
           25.254
          ],
          [
           25
          ],
          [
           18.6
          ],
          [
           19.712
          ],
          [
           8.469999999999999
          ],
          [
           10.971
          ],
          [
           4.254
          ],
          [
           8.924999999999999
          ],
          [
           10.738
          ],
          [
           7.142
          ],
          [
           16.664
          ],
          [
           12.195
          ],
          [
           19.557000000000002
          ],
          [
           10.634999999999998
          ],
          [
           19.04
          ],
          [
           11.108
          ],
          [
           19.23
          ],
          [
           23.903
          ],
          [
           22.725
          ],
          [
           11.764
          ],
          [
           8.328
          ],
          [
           9.999
          ],
          [
           4.166
          ],
          [
           9.3
          ],
          [
           11.109
          ],
          [
           9.09
          ],
          [
           8
          ],
          [
           8.694
          ],
          [
           15
          ],
          [
           8.427999999999999
          ],
          [
           27.02
          ],
          [
           8.16
          ],
          [
           15.384
          ],
          [
           9.647
          ],
          [
           8.924999999999999
          ],
          [
           11.428
          ],
          [
           12.896
          ],
          [
           21.951
          ],
          [
           17.22
          ],
          [
           5.714
          ],
          [
           9.228
          ],
          [
           17.142000000000003
          ],
          [
           3.9989999999999997
          ],
          [
           11.538
          ],
          [
           8.33
          ],
          [
           7.892999999999999
          ],
          [
           10.524
          ],
          [
           16.268
          ],
          [
           6.666
          ],
          [
           25.713
          ],
          [
           10.415000000000001
          ],
          [
           6.519
          ],
          [
           15.87
          ],
          [
           13.332
          ],
          [
           25.523999999999997
          ],
          [
           15.74
          ],
          [
           24.517999999999997
          ],
          [
           9.228
          ],
          [
           16.845
          ],
          [
           14.28
          ],
          [
           11.109
          ],
          [
           19.8
          ],
          [
           9.375
          ],
          [
           5.404
          ],
          [
           18.6
          ],
          [
           12.498000000000001
          ],
          [
           14
          ],
          [
           3.333
          ],
          [
           11.76
          ],
          [
           12.498000000000001
          ],
          [
           16.25
          ],
          [
           6.45
          ],
          [
           4.166
          ],
          [
           12.12
          ],
          [
           16.666
          ],
          [
           21.426000000000002
          ],
          [
           22.218
          ],
          [
           10.952
          ],
          [
           8.16
          ],
          [
           14.28
          ],
          [
           4.545
          ],
          [
           18.747
          ],
          [
           6.666
          ],
          [
           6.461
          ],
          [
           10.78
          ],
          [
           9.522
          ],
          [
           13.950000000000001
          ],
          [
           13.155
          ],
          [
           17.307000000000002
          ],
          [
           10.865
          ],
          [
           16.664
          ],
          [
           28.125
          ],
          [
           10.646999999999998
          ],
          [
           24.24
          ],
          [
           21.04
          ],
          [
           12.5
          ],
          [
           12.321
          ],
          [
           7.14
          ],
          [
           13.69
          ],
          [
           11.428
          ],
          [
           21.875
          ],
          [
           16
          ],
          [
           3.448
          ],
          [
           11.315999999999999
          ],
          [
           19.998
          ],
          [
           9.522
          ],
          [
           14.464
          ],
          [
           8.245
          ],
          [
           42.306
          ],
          [
           25.343999999999998
          ],
          [
           12.190000000000001
          ],
          [
           7.46
          ],
          [
           17.24
          ],
          [
           10.526
          ],
          [
           6.12
          ],
          [
           19.787
          ],
          [
           10.934000000000001
          ],
          [
           11.428
          ],
          [
           18.176
          ],
          [
           9.522
          ],
          [
           4.166
          ],
          [
           7.939
          ],
          [
           16.896
          ],
          [
           11
          ],
          [
           7.46
          ],
          [
           12.24
          ],
          [
           2.738
          ],
          [
           41.660000000000004
          ],
          [
           13.155
          ],
          [
           17.51
          ],
          [
           16.664
          ],
          [
           3.636
          ],
          [
           9.756
          ],
          [
           10.647
          ],
          [
           22.44
          ],
          [
           11.1
          ],
          [
           11.428
          ],
          [
           17.24
          ],
          [
           19.998
          ],
          [
           9.675
          ],
          [
           19.11
          ],
          [
           22.216
          ],
          [
           15.267999999999999
          ],
          [
           14.92
          ],
          [
           20
          ],
          [
           11.538
          ],
          [
           9.408
          ],
          [
           26.082
          ],
          [
           13.155
          ],
          [
           9.09
          ],
          [
           10.41
          ],
          [
           10.526
          ],
          [
           9.375
          ],
          [
           14.464
          ],
          [
           6.516
          ],
          [
           14
          ],
          [
           16.268
          ],
          [
           25
          ],
          [
           14.544
          ],
          [
           16.212
          ],
          [
           27.602
          ],
          [
           14.812
          ],
          [
           19.998
          ],
          [
           15
          ],
          [
           21.426000000000002
          ],
          [
           16.125
          ],
          [
           7.692
          ],
          [
           25
          ],
          [
           9.086
          ],
          [
           17.142000000000003
          ],
          [
           13.332
          ],
          [
           19.47
          ],
          [
           7.5
          ],
          [
           6.45
          ],
          [
           10.3
          ],
          [
           4.347
          ],
          [
           5.553
          ],
          [
           12.488
          ],
          [
           21.426000000000002
          ],
          [
           7.544
          ],
          [
           10.934000000000001
          ],
          [
           4.254
          ],
          [
           21.048000000000002
          ],
          [
           4.166
          ],
          [
           14.628
          ],
          [
           24.24
          ],
          [
           7.055999999999999
          ],
          [
           9.09
          ],
          [
           15.561
          ],
          [
           11.36
          ]
         ],
         "hoverlabel": {
          "namelength": 0
         },
         "hovertemplate": "author=Maupassant<br>wordCount=%{x}<br>numberOfSentences=%{y}<br>meanWordLength=%{marker.size}<br>wordsWithPunctuationPercentage=%{customdata[0]}",
         "legendgroup": "author=Maupassant",
         "marker": {
          "color": "#EF553B",
          "size": [
           4.176470588235294,
           3.6511627906976742,
           4.1,
           3.9156626506024095,
           4.0661764705882355,
           4.137931034482759,
           3.902439024390244,
           4.1063829787234045,
           3.918918918918919,
           3.1025641025641026,
           3.5824175824175826,
           3.90625,
           4.093023255813954,
           3.3098591549295775,
           4.627118644067797,
           3.4634146341463414,
           3.9574468085106385,
           3.9642857142857144,
           4.008264462809917,
           3.8214285714285716,
           3.6041666666666665,
           3.731707317073171,
           3.847826086956522,
           4.48936170212766,
           3.119047619047619,
           4.361111111111111,
           5.153846153846154,
           3.8043478260869565,
           4.2727272727272725,
           3.5588235294117645,
           3.9166666666666665,
           3.533333333333333,
           3.9583333333333335,
           4.534883720930233,
           4.074074074074074,
           3.272727272727273,
           4.56,
           4.260869565217392,
           3.45,
           3.855421686746988,
           3.891891891891892,
           3.979591836734694,
           4.076923076923077,
           4.157894736842105,
           3.9642857142857144,
           3.342857142857143,
           4.193548387096774,
           3.902439024390244,
           3.660919540229885,
           4.771428571428571,
           4.2,
           4.714285714285714,
           4.573333333333333,
           3.3846153846153846,
           4.2,
           3.6842105263157894,
           4.526315789473684,
           3.4186046511627906,
           3.8,
           3.942857142857143,
           4.395833333333333,
           3.6739130434782608,
           4.015873015873016,
           4.266666666666667,
           3.6808510638297873,
           3.7401574803149606,
           3.641509433962264,
           4.2,
           4.191011235955056,
           4.166666666666667,
           3.2222222222222223,
           4.316831683168317,
           3.96875,
           3.918918918918919,
           3.7674418604651163,
           3.7083333333333335,
           4,
           4.2,
           3.4901960784313726,
           3.75,
           4.1,
           3.774193548387097,
           4,
           3.9696969696969697,
           4.576923076923077,
           4.571428571428571,
           4.037037037037037,
           4.041095890410959,
           3.9591836734693877,
           2.8035714285714284,
           4.636363636363637,
           4.125,
           3.3,
           4.199004975124378,
           3.9019607843137254,
           5,
           4.558139534883721,
           3.6578947368421053,
           4.019230769230769,
           3.9565217391304346,
           3.6041666666666665,
           3.40625,
           4.081967213114754,
           4.909090909090909,
           4.381578947368421,
           3.78125,
           3.712328767123288,
           3.7142857142857144,
           4.027397260273973,
           3.914285714285714,
           3.375,
           3.84,
           3.7586206896551726,
           4.188679245283019,
           3.2333333333333334,
           5,
           3.8009049773755654,
           4.359223300970874,
           3.730769230769231,
           4.084507042253521,
           4.7317073170731705,
           4.029850746268656,
           3.6206896551724137,
           5.052631578947368,
           4.061224489795919,
           4.421940928270042,
           3.953125,
           3.6857142857142855,
           3.977272727272727,
           4.523809523809524,
           4,
           3.94392523364486,
           3.380281690140845,
           4.11,
           4.029850746268656,
           4.73469387755102,
           3.7260273972602738,
           3.625,
           3.6578947368421053,
           3.9381443298969074,
           4.5,
           4.127272727272727,
           4.390243902439025,
           4.451776649746193,
           3.7142857142857144,
           4.474074074074074,
           3.342857142857143,
           3.6206896551724137,
           3.2333333333333334,
           4.548387096774194,
           3.3823529411764706,
           4.111111111111111,
           4.041666666666667,
           3.9402985074626864,
           3.975,
           4.1923076923076925,
           3.764705882352941,
           3.927536231884058,
           4.894736842105263,
           3.272727272727273,
           3.7083333333333335,
           5.052631578947368,
           3.84375,
           3.8009049773755654,
           4.184782608695652,
           4,
           3.4186046511627906,
           3.90625,
           3.6545454545454548,
           4.027027027027027,
           3.582089552238806,
           3.925925925925926,
           3.2333333333333334,
           3.45,
           3.25,
           4.741935483870968,
           3.269230769230769,
           4.3,
           4.116883116883117,
           4.685714285714286,
           4.266666666666667,
           4.142857142857143,
           3.9,
           3.774193548387097,
           3.577319587628866,
           5.3478260869565215,
           4.351851851851852,
           3.6160714285714284,
           3.25,
           4.830188679245283,
           3.953125,
           3.9574468085106385,
           4.43859649122807,
           3.9166666666666665,
           4.2560975609756095,
           4.909090909090909,
           3.8705882352941177,
           5,
           3.778688524590164,
           3.4545454545454546
          ],
          "sizemode": "area",
          "sizeref": 0.0155,
          "symbol": "circle"
         },
         "mode": "markers",
         "name": "author=Maupassant",
         "showlegend": true,
         "type": "scatter",
         "x": [
          85,
          43,
          80,
          83,
          136,
          29,
          41,
          47,
          185,
          39,
          91,
          32,
          43,
          71,
          59,
          82,
          47,
          56,
          121,
          28,
          48,
          41,
          46,
          47,
          42,
          36,
          26,
          46,
          22,
          34,
          72,
          30,
          24,
          43,
          27,
          33,
          25,
          23,
          40,
          83,
          37,
          49,
          26,
          114,
          56,
          35,
          62,
          41,
          174,
          35,
          65,
          35,
          75,
          26,
          60,
          38,
          38,
          86,
          30,
          35,
          48,
          46,
          63,
          90,
          47,
          127,
          53,
          65,
          89,
          84,
          27,
          101,
          32,
          37,
          43,
          24,
          50,
          30,
          51,
          24,
          80,
          31,
          48,
          33,
          78,
          28,
          27,
          73,
          49,
          56,
          22,
          48,
          30,
          201,
          102,
          21,
          43,
          38,
          52,
          46,
          48,
          32,
          122,
          33,
          76,
          32,
          73,
          56,
          73,
          35,
          32,
          25,
          29,
          53,
          30,
          21,
          221,
          206,
          26,
          71,
          82,
          67,
          29,
          19,
          49,
          237,
          64,
          35,
          88,
          21,
          48,
          214,
          71,
          100,
          67,
          49,
          73,
          24,
          38,
          97,
          24,
          55,
          41,
          197,
          49,
          135,
          35,
          29,
          30,
          31,
          68,
          36,
          72,
          67,
          40,
          52,
          85,
          69,
          38,
          33,
          96,
          19,
          32,
          221,
          92,
          50,
          86,
          32,
          55,
          37,
          134,
          27,
          30,
          40,
          28,
          31,
          26,
          20,
          154,
          35,
          30,
          77,
          40,
          31,
          97,
          23,
          54,
          112,
          28,
          53,
          64,
          47,
          57,
          24,
          82,
          33,
          85,
          22,
          122,
          44
         ],
         "xaxis": "x",
         "y": [
          4,
          3,
          7,
          6,
          4,
          1,
          3,
          2,
          9,
          6,
          13,
          3,
          3,
          2,
          2,
          3,
          1,
          2,
          4,
          1,
          2,
          3,
          2,
          1,
          3,
          2,
          1,
          3,
          2,
          2,
          2,
          2,
          1,
          2,
          1,
          1,
          1,
          1,
          3,
          4,
          4,
          1,
          2,
          5,
          2,
          3,
          2,
          3,
          12,
          1,
          2,
          3,
          3,
          1,
          2,
          2,
          2,
          7,
          1,
          3,
          1,
          1,
          2,
          5,
          9,
          10,
          4,
          2,
          5,
          4,
          1,
          10,
          1,
          1,
          3,
          2,
          4,
          1,
          2,
          2,
          7,
          1,
          1,
          1,
          2,
          1,
          2,
          2,
          3,
          5,
          1,
          5,
          2,
          3,
          5,
          1,
          2,
          1,
          5,
          1,
          2,
          7,
          5,
          1,
          7,
          1,
          5,
          2,
          2,
          1,
          3,
          2,
          1,
          2,
          5,
          1,
          14,
          5,
          4,
          9,
          3,
          1,
          3,
          1,
          2,
          27,
          2,
          2,
          8,
          1,
          1,
          6,
          1,
          5,
          1,
          3,
          1,
          5,
          1,
          8,
          1,
          1,
          1,
          4,
          5,
          6,
          3,
          3,
          5,
          1,
          3,
          2,
          3,
          3,
          3,
          2,
          2,
          5,
          2,
          1,
          4,
          1,
          1,
          14,
          3,
          4,
          7,
          3,
          1,
          1,
          27,
          1,
          5,
          3,
          2,
          1,
          1,
          2,
          5,
          3,
          1,
          5,
          2,
          1,
          4,
          1,
          1,
          5,
          2,
          2,
          2,
          1,
          5,
          1,
          3,
          1,
          2,
          1,
          9,
          2
         ],
         "yaxis": "y"
        },
        {
         "customdata": [
          [
           17.271
          ],
          [
           20.587
          ],
          [
           17.2
          ],
          [
           16
          ],
          [
           12.5
          ],
          [
           12.278
          ],
          [
           11.108
          ],
          [
           14.704999999999998
          ],
          [
           15.384
          ],
          [
           14.111999999999998
          ],
          [
           15.625
          ],
          [
           4.76
          ],
          [
           12.167
          ],
          [
           26.31
          ],
          [
           12.788
          ],
          [
           15.384
          ],
          [
           10.602
          ],
          [
           13.635
          ],
          [
           19.32
          ],
          [
           15.384
          ],
          [
           5.262
          ],
          [
           12.36
          ],
          [
           9.36
          ],
          [
           21.735000000000003
          ],
          [
           9.7
          ],
          [
           29.025000000000002
          ],
          [
           7.951999999999999
          ],
          [
           10
          ],
          [
           10.098
          ],
          [
           11.764
          ],
          [
           9.09
          ],
          [
           12
          ],
          [
           19.23
          ],
          [
           23.52
          ],
          [
           8.06
          ],
          [
           19.04
          ],
          [
           11.538
          ],
          [
           10.256
          ],
          [
           11.11
          ],
          [
           10.344
          ],
          [
           11.109
          ],
          [
           12.6
          ],
          [
           4.166
          ],
          [
           12.82
          ],
          [
           11.428
          ],
          [
           11.620000000000001
          ],
          [
           10.634999999999998
          ],
          [
           28
          ],
          [
           8.772
          ],
          [
           28
          ],
          [
           8.398
          ],
          [
           13.684999999999999
          ],
          [
           14.872
          ],
          [
           17.82
          ],
          [
           6.896
          ],
          [
           13.332
          ],
          [
           15.211
          ],
          [
           12.792
          ],
          [
           9.530999999999999
          ],
          [
           14.283000000000001
          ],
          [
           7.406
          ],
          [
           8.106
          ],
          [
           6.838
          ],
          [
           20
          ],
          [
           6.378
          ],
          [
           9.648
          ],
          [
           17.095
          ],
          [
           6.25
          ],
          [
           8.533000000000001
          ],
          [
           22.725
          ],
          [
           9.24
          ],
          [
           26.18
          ],
          [
           8.778
          ],
          [
           14.654
          ],
          [
           11.764
          ],
          [
           10.524
          ],
          [
           23.331000000000003
          ],
          [
           11.899999999999999
          ],
          [
           25.921
          ],
          [
           10.692
          ],
          [
           17.388
          ],
          [
           22.44
          ],
          [
           24.99
          ],
          [
           7.4399999999999995
          ],
          [
           20.265
          ],
          [
           4.444
          ],
          [
           12.936
          ],
          [
           22.218
          ],
          [
           11.315999999999999
          ],
          [
           10.716
          ],
          [
           9.306000000000001
          ],
          [
           13
          ],
          [
           24.996000000000002
          ],
          [
           17.408
          ],
          [
           8.694
          ],
          [
           10.98
          ],
          [
           20.830000000000002
          ],
          [
           14.812
          ],
          [
           10.472
          ],
          [
           16
          ],
          [
           20
          ],
          [
           19.044
          ],
          [
           17.016
          ],
          [
           17.855
          ],
          [
           12.222999999999999
          ],
          [
           9.52
          ],
          [
           15.088
          ],
          [
           15
          ],
          [
           16.662
          ],
          [
           15.384
          ],
          [
           11.979
          ],
          [
           7.076
          ],
          [
           9.999
          ],
          [
           15
          ],
          [
           9.795
          ],
          [
           9.7
          ],
          [
           7.092
          ],
          [
           9.936
          ],
          [
           10.256
          ],
          [
           16.664
          ],
          [
           14.861
          ],
          [
           8.554
          ],
          [
           9.675
          ],
          [
           17.948
          ],
          [
           22.725
          ],
          [
           14.852
          ],
          [
           12.934000000000001
          ],
          [
           4.164
          ],
          [
           18.029
          ],
          [
           11.109
          ],
          [
           10.524
          ],
          [
           6.896
          ],
          [
           12.663
          ],
          [
           42.104
          ],
          [
           15.384
          ],
          [
           12.540000000000001
          ],
          [
           8.1
          ],
          [
           14.504000000000001
          ],
          [
           21.875
          ],
          [
           5.262
          ],
          [
           7.744
          ],
          [
           24.997
          ],
          [
           9.522
          ],
          [
           15.625
          ],
          [
           15.204
          ],
          [
           8.823
          ],
          [
           31.25
          ],
          [
           10
          ],
          [
           10
          ],
          [
           8.638
          ],
          [
           24
          ],
          [
           13.545
          ],
          [
           11.908000000000001
          ],
          [
           11.537
          ],
          [
           10.569
          ],
          [
           24
          ],
          [
           14.274000000000001
          ],
          [
           14.284
          ],
          [
           16.662
          ],
          [
           12.82
          ],
          [
           19.044
          ],
          [
           7.513999999999999
          ],
          [
           37.03
          ],
          [
           15.384
          ],
          [
           10
          ],
          [
           10.256
          ],
          [
           11.719999999999999
          ],
          [
           13.635
          ],
          [
           14.322
          ],
          [
           10.709999999999999
          ],
          [
           7.472
          ],
          [
           21.048
          ],
          [
           12.068
          ],
          [
           9.472
          ],
          [
           5.454000000000001
          ],
          [
           18.011
          ],
          [
           17.073
          ],
          [
           8.328
          ],
          [
           20.447999999999997
          ],
          [
           11.109
          ],
          [
           12.498000000000001
          ],
          [
           27.27
          ],
          [
           15.374999999999998
          ],
          [
           18.18
          ],
          [
           10.918
          ],
          [
           16.664
          ],
          [
           21.875
          ],
          [
           10.537
          ],
          [
           14.285
          ],
          [
           10.136
          ],
          [
           24.24
          ],
          [
           13.915
          ],
          [
           12.5
          ],
          [
           26.314999999999998
          ],
          [
           15.245999999999999
          ],
          [
           19.23
          ],
          [
           7.935
          ],
          [
           9.522
          ],
          [
           13.122
          ],
          [
           14.269
          ]
         ],
         "hoverlabel": {
          "namelength": 0
         },
         "hovertemplate": "author=Balzac<br>wordCount=%{x}<br>numberOfSentences=%{y}<br>meanWordLength=%{marker.size}<br>wordsWithPunctuationPercentage=%{customdata[0]}",
         "legendgroup": "author=Balzac",
         "marker": {
          "color": "#00cc96",
          "size": [
           4.009090909090909,
           3.6470588235294117,
           3.6881720430107525,
           4.46,
           4.1,
           3.780701754385965,
           4.055555555555555,
           4.088235294117647,
           3.3846153846153846,
           3.8,
           3.75,
           4.714285714285714,
           4.8994708994708995,
           4.298245614035087,
           4.438718662952646,
           3.6153846153846154,
           4.346368715083799,
           4.136363636363637,
           4.142857142857143,
           4.269230769230769,
           4.078947368421052,
           4.041237113402062,
           4.5,
           4.086956521739131,
           3.563106796116505,
           3.870967741935484,
           4.431818181818182,
           4.65,
           4.308988764044944,
           4.882352941176471,
           4.045454545454546,
           3.76,
           3.8076923076923075,
           3.7254901960784315,
           3.8225806451612905,
           3.5,
           4.153846153846154,
           3.9743589743589745,
           4.0606060606060606,
           3.8879310344827585,
           4.481481481481482,
           4.802521008403361,
           4.791666666666667,
           4.128205128205129,
           4.085714285714285,
           3.9003322259136213,
           4.1063829787234045,
           3.4,
           4.003061224489796,
           3.4,
           4.265486725663717,
           3.3452380952380953,
           4.074921956295525,
           3.8118811881188117,
           4.620689655172414,
           3.933333333333333,
           4.869565217391305,
           3.748768472906404,
           4.512367491166078,
           4.190476190476191,
           4.407407407407407,
           4.1891891891891895,
           4.678947368421053,
           4.04,
           4.542553191489362,
           4.3994190268700075,
           3.8421052631578947,
           4.21875,
           4.414634146341464,
           3.8636363636363638,
           4.500421229991575,
           3.9523809523809526,
           4.417438271604938,
           3.6551724137931036,
           4.882352941176471,
           4.131578947368421,
           4.266666666666667,
           4.583333333333333,
           3.1481481481481484,
           4.134920634920635,
           4,
           4.326530612244898,
           3.1166666666666667,
           4.516129032258065,
           4.648648648648648,
           3.8666666666666667,
           4.588235294117647,
           4.2592592592592595,
           3.849056603773585,
           4.107344632768362,
           4.109126984126984,
           4.255,
           4.166666666666667,
           3.682051282051282,
           3.8260869565217392,
           3.4285714285714284,
           3.9166666666666665,
           3.5925925925925926,
           4.4,
           4.46,
           3.375,
           4.26984126984127,
           3.574468085106383,
           4.642857142857143,
           4.258992805755396,
           3.880952380952381,
           3.8679245283018866,
           4.7,
           5.027777777777778,
           4,
           4.556363636363637,
           4.515892420537897,
           4.233333333333333,
           5.275,
           4.071895424836601,
           4.635922330097087,
           3.8757396449704142,
           4.539741219963031,
           3.6666666666666665,
           4.541666666666667,
           4.081081081081081,
           4.240437158469946,
           3.5806451612903225,
           3.6666666666666665,
           3.8636363636363638,
           3.98256735340729,
           3.861607142857143,
           4.416666666666667,
           3.6721311475409837,
           3.925925925925926,
           3.6052631578947367,
           3.9310344827586206,
           4.373814041745731,
           4.578947368421052,
           4.0256410256410255,
           3.81644470179502,
           4.577069096431283,
           4.082901554404145,
           4,
           4.684210526315789,
           4.429577464788732,
           4.321428571428571,
           4.142857142857143,
           4.25,
           3.782608695652174,
           4.352941176470588,
           4.34375,
           4.3,
           3.85,
           4.1234567901234565,
           3.48,
           4.787096774193548,
           4.463302752293578,
           4.298465829846583,
           3.8206521739130435,
           4,
           3.9444444444444446,
           4.642857142857143,
           4.111111111111111,
           4.384615384615385,
           4.26984126984127,
           4.473988439306359,
           4.37037037037037,
           4.051282051282051,
           3.85,
           4.230769230769231,
           4.492668621700879,
           3.909090909090909,
           3.9260869565217393,
           4.232142857142857,
           4.158878504672897,
           4.394736842105263,
           4.051724137931035,
           4.516654330125832,
           4.7272727272727275,
           3.703488372093023,
           3.5121951219512195,
           4.097222222222222,
           3.772727272727273,
           3.9523809523809526,
           3.8333333333333335,
           4.303030303030303,
           3.9055441478439423,
           4.318181818181818,
           4.439175257731959,
           4.104166666666667,
           4,
           4.4113110539845755,
           4.9714285714285715,
           3.920289855072464,
           3.8181818181818183,
           3.962025316455696,
           5.5625,
           5.2105263157894735,
           4.813559322033898,
           4.3076923076923075,
           4.063492063492063,
           4.0476190476190474,
           4.773722627737226,
           3.5037593984962405
          ],
          "sizemode": "area",
          "sizeref": 0.0155,
          "symbol": "circle"
         },
         "mode": "markers",
         "name": "author=Balzac",
         "showlegend": true,
         "type": "scatter",
         "x": [
          110,
          34,
          93,
          50,
          40,
          114,
          36,
          34,
          26,
          85,
          32,
          42,
          189,
          57,
          718,
          26,
          179,
          22,
          119,
          26,
          38,
          97,
          256,
          23,
          103,
          31,
          88,
          20,
          178,
          34,
          22,
          25,
          26,
          51,
          62,
          42,
          26,
          39,
          99,
          116,
          27,
          238,
          24,
          39,
          35,
          301,
          47,
          25,
          980,
          25,
          226,
          168,
          961,
          101,
          29,
          30,
          46,
          203,
          283,
          21,
          27,
          37,
          190,
          25,
          94,
          1377,
          76,
          32,
          82,
          22,
          1187,
          42,
          1296,
          116,
          34,
          38,
          30,
          84,
          27,
          252,
          23,
          49,
          120,
          403,
          74,
          45,
          85,
          27,
          53,
          177,
          504,
          200,
          24,
          195,
          23,
          91,
          24,
          27,
          210,
          50,
          40,
          63,
          47,
          28,
          139,
          42,
          106,
          20,
          36,
          26,
          275,
          409,
          30,
          40,
          153,
          206,
          169,
          541,
          39,
          24,
          74,
          549,
          31,
          39,
          22,
          631,
          224,
          72,
          61,
          27,
          38,
          29,
          527,
          19,
          39,
          1727,
          1317,
          193,
          32,
          38,
          142,
          28,
          21,
          32,
          92,
          34,
          32,
          40,
          40,
          81,
          25,
          155,
          218,
          717,
          368,
          25,
          126,
          28,
          36,
          39,
          63,
          173,
          27,
          39,
          40,
          39,
          341,
          22,
          230,
          56,
          107,
          38,
          58,
          1351,
          55,
          172,
          41,
          72,
          44,
          63,
          24,
          33,
          487,
          22,
          485,
          48,
          32,
          389,
          35,
          138,
          66,
          79,
          16,
          19,
          59,
          26,
          63,
          21,
          137,
          133
         ],
         "xaxis": "x",
         "y": [
          12,
          2,
          6,
          3,
          3,
          8,
          1,
          1,
          2,
          5,
          3,
          1,
          5,
          2,
          35,
          2,
          10,
          1,
          9,
          1,
          1,
          6,
          8,
          2,
          7,
          4,
          2,
          1,
          8,
          2,
          1,
          1,
          2,
          6,
          4,
          4,
          1,
          1,
          6,
          5,
          1,
          7,
          1,
          2,
          1,
          7,
          3,
          5,
          32,
          5,
          7,
          15,
          58,
          6,
          1,
          2,
          2,
          9,
          13,
          2,
          1,
          2,
          4,
          1,
          2,
          37,
          7,
          1,
          4,
          1,
          45,
          5,
          34,
          8,
          2,
          2,
          3,
          4,
          3,
          9,
          1,
          3,
          9,
          13,
          1,
          2,
          4,
          2,
          3,
          5,
          15,
          6,
          2,
          17,
          1,
          6,
          3,
          2,
          6,
          3,
          5,
          2,
          6,
          2,
          5,
          1,
          7,
          1,
          2,
          1,
          11,
          13,
          1,
          1,
          5,
          6,
          5,
          18,
          1,
          1,
          6,
          14,
          1,
          3,
          1,
          33,
          12,
          1,
          5,
          2,
          2,
          1,
          18,
          2,
          2,
          84,
          30,
          13,
          3,
          1,
          4,
          1,
          1,
          3,
          2,
          1,
          2,
          1,
          2,
          3,
          2,
          8,
          7,
          21,
          13,
          2,
          10,
          1,
          2,
          2,
          2,
          4,
          1,
          1,
          2,
          1,
          13,
          1,
          11,
          1,
          3,
          2,
          4,
          42,
          2,
          16,
          2,
          4,
          3,
          3,
          2,
          4,
          27,
          2,
          15,
          3,
          3,
          17,
          1,
          8,
          6,
          6,
          1,
          2,
          3,
          2,
          3,
          1,
          4,
          10
         ],
         "yaxis": "y"
        }
       ],
       "layout": {
        "legend": {
         "itemsizing": "constant",
         "tracegroupgap": 0
        },
        "margin": {
         "t": 60
        },
        "template": {
         "data": {
          "bar": [
           {
            "error_x": {
             "color": "#2a3f5f"
            },
            "error_y": {
             "color": "#2a3f5f"
            },
            "marker": {
             "line": {
              "color": "#E5ECF6",
              "width": 0.5
             }
            },
            "type": "bar"
           }
          ],
          "barpolar": [
           {
            "marker": {
             "line": {
              "color": "#E5ECF6",
              "width": 0.5
             }
            },
            "type": "barpolar"
           }
          ],
          "carpet": [
           {
            "aaxis": {
             "endlinecolor": "#2a3f5f",
             "gridcolor": "white",
             "linecolor": "white",
             "minorgridcolor": "white",
             "startlinecolor": "#2a3f5f"
            },
            "baxis": {
             "endlinecolor": "#2a3f5f",
             "gridcolor": "white",
             "linecolor": "white",
             "minorgridcolor": "white",
             "startlinecolor": "#2a3f5f"
            },
            "type": "carpet"
           }
          ],
          "choropleth": [
           {
            "colorbar": {
             "outlinewidth": 0,
             "ticks": ""
            },
            "type": "choropleth"
           }
          ],
          "contour": [
           {
            "colorbar": {
             "outlinewidth": 0,
             "ticks": ""
            },
            "colorscale": [
             [
              0,
              "#0d0887"
             ],
             [
              0.1111111111111111,
              "#46039f"
             ],
             [
              0.2222222222222222,
              "#7201a8"
             ],
             [
              0.3333333333333333,
              "#9c179e"
             ],
             [
              0.4444444444444444,
              "#bd3786"
             ],
             [
              0.5555555555555556,
              "#d8576b"
             ],
             [
              0.6666666666666666,
              "#ed7953"
             ],
             [
              0.7777777777777778,
              "#fb9f3a"
             ],
             [
              0.8888888888888888,
              "#fdca26"
             ],
             [
              1,
              "#f0f921"
             ]
            ],
            "type": "contour"
           }
          ],
          "contourcarpet": [
           {
            "colorbar": {
             "outlinewidth": 0,
             "ticks": ""
            },
            "type": "contourcarpet"
           }
          ],
          "heatmap": [
           {
            "colorbar": {
             "outlinewidth": 0,
             "ticks": ""
            },
            "colorscale": [
             [
              0,
              "#0d0887"
             ],
             [
              0.1111111111111111,
              "#46039f"
             ],
             [
              0.2222222222222222,
              "#7201a8"
             ],
             [
              0.3333333333333333,
              "#9c179e"
             ],
             [
              0.4444444444444444,
              "#bd3786"
             ],
             [
              0.5555555555555556,
              "#d8576b"
             ],
             [
              0.6666666666666666,
              "#ed7953"
             ],
             [
              0.7777777777777778,
              "#fb9f3a"
             ],
             [
              0.8888888888888888,
              "#fdca26"
             ],
             [
              1,
              "#f0f921"
             ]
            ],
            "type": "heatmap"
           }
          ],
          "heatmapgl": [
           {
            "colorbar": {
             "outlinewidth": 0,
             "ticks": ""
            },
            "colorscale": [
             [
              0,
              "#0d0887"
             ],
             [
              0.1111111111111111,
              "#46039f"
             ],
             [
              0.2222222222222222,
              "#7201a8"
             ],
             [
              0.3333333333333333,
              "#9c179e"
             ],
             [
              0.4444444444444444,
              "#bd3786"
             ],
             [
              0.5555555555555556,
              "#d8576b"
             ],
             [
              0.6666666666666666,
              "#ed7953"
             ],
             [
              0.7777777777777778,
              "#fb9f3a"
             ],
             [
              0.8888888888888888,
              "#fdca26"
             ],
             [
              1,
              "#f0f921"
             ]
            ],
            "type": "heatmapgl"
           }
          ],
          "histogram": [
           {
            "marker": {
             "colorbar": {
              "outlinewidth": 0,
              "ticks": ""
             }
            },
            "type": "histogram"
           }
          ],
          "histogram2d": [
           {
            "colorbar": {
             "outlinewidth": 0,
             "ticks": ""
            },
            "colorscale": [
             [
              0,
              "#0d0887"
             ],
             [
              0.1111111111111111,
              "#46039f"
             ],
             [
              0.2222222222222222,
              "#7201a8"
             ],
             [
              0.3333333333333333,
              "#9c179e"
             ],
             [
              0.4444444444444444,
              "#bd3786"
             ],
             [
              0.5555555555555556,
              "#d8576b"
             ],
             [
              0.6666666666666666,
              "#ed7953"
             ],
             [
              0.7777777777777778,
              "#fb9f3a"
             ],
             [
              0.8888888888888888,
              "#fdca26"
             ],
             [
              1,
              "#f0f921"
             ]
            ],
            "type": "histogram2d"
           }
          ],
          "histogram2dcontour": [
           {
            "colorbar": {
             "outlinewidth": 0,
             "ticks": ""
            },
            "colorscale": [
             [
              0,
              "#0d0887"
             ],
             [
              0.1111111111111111,
              "#46039f"
             ],
             [
              0.2222222222222222,
              "#7201a8"
             ],
             [
              0.3333333333333333,
              "#9c179e"
             ],
             [
              0.4444444444444444,
              "#bd3786"
             ],
             [
              0.5555555555555556,
              "#d8576b"
             ],
             [
              0.6666666666666666,
              "#ed7953"
             ],
             [
              0.7777777777777778,
              "#fb9f3a"
             ],
             [
              0.8888888888888888,
              "#fdca26"
             ],
             [
              1,
              "#f0f921"
             ]
            ],
            "type": "histogram2dcontour"
           }
          ],
          "mesh3d": [
           {
            "colorbar": {
             "outlinewidth": 0,
             "ticks": ""
            },
            "type": "mesh3d"
           }
          ],
          "parcoords": [
           {
            "line": {
             "colorbar": {
              "outlinewidth": 0,
              "ticks": ""
             }
            },
            "type": "parcoords"
           }
          ],
          "pie": [
           {
            "automargin": true,
            "type": "pie"
           }
          ],
          "scatter": [
           {
            "marker": {
             "colorbar": {
              "outlinewidth": 0,
              "ticks": ""
             }
            },
            "type": "scatter"
           }
          ],
          "scatter3d": [
           {
            "line": {
             "colorbar": {
              "outlinewidth": 0,
              "ticks": ""
             }
            },
            "marker": {
             "colorbar": {
              "outlinewidth": 0,
              "ticks": ""
             }
            },
            "type": "scatter3d"
           }
          ],
          "scattercarpet": [
           {
            "marker": {
             "colorbar": {
              "outlinewidth": 0,
              "ticks": ""
             }
            },
            "type": "scattercarpet"
           }
          ],
          "scattergeo": [
           {
            "marker": {
             "colorbar": {
              "outlinewidth": 0,
              "ticks": ""
             }
            },
            "type": "scattergeo"
           }
          ],
          "scattergl": [
           {
            "marker": {
             "colorbar": {
              "outlinewidth": 0,
              "ticks": ""
             }
            },
            "type": "scattergl"
           }
          ],
          "scattermapbox": [
           {
            "marker": {
             "colorbar": {
              "outlinewidth": 0,
              "ticks": ""
             }
            },
            "type": "scattermapbox"
           }
          ],
          "scatterpolar": [
           {
            "marker": {
             "colorbar": {
              "outlinewidth": 0,
              "ticks": ""
             }
            },
            "type": "scatterpolar"
           }
          ],
          "scatterpolargl": [
           {
            "marker": {
             "colorbar": {
              "outlinewidth": 0,
              "ticks": ""
             }
            },
            "type": "scatterpolargl"
           }
          ],
          "scatterternary": [
           {
            "marker": {
             "colorbar": {
              "outlinewidth": 0,
              "ticks": ""
             }
            },
            "type": "scatterternary"
           }
          ],
          "surface": [
           {
            "colorbar": {
             "outlinewidth": 0,
             "ticks": ""
            },
            "colorscale": [
             [
              0,
              "#0d0887"
             ],
             [
              0.1111111111111111,
              "#46039f"
             ],
             [
              0.2222222222222222,
              "#7201a8"
             ],
             [
              0.3333333333333333,
              "#9c179e"
             ],
             [
              0.4444444444444444,
              "#bd3786"
             ],
             [
              0.5555555555555556,
              "#d8576b"
             ],
             [
              0.6666666666666666,
              "#ed7953"
             ],
             [
              0.7777777777777778,
              "#fb9f3a"
             ],
             [
              0.8888888888888888,
              "#fdca26"
             ],
             [
              1,
              "#f0f921"
             ]
            ],
            "type": "surface"
           }
          ],
          "table": [
           {
            "cells": {
             "fill": {
              "color": "#EBF0F8"
             },
             "line": {
              "color": "white"
             }
            },
            "header": {
             "fill": {
              "color": "#C8D4E3"
             },
             "line": {
              "color": "white"
             }
            },
            "type": "table"
           }
          ]
         },
         "layout": {
          "annotationdefaults": {
           "arrowcolor": "#2a3f5f",
           "arrowhead": 0,
           "arrowwidth": 1
          },
          "coloraxis": {
           "colorbar": {
            "outlinewidth": 0,
            "ticks": ""
           }
          },
          "colorscale": {
           "diverging": [
            [
             0,
             "#8e0152"
            ],
            [
             0.1,
             "#c51b7d"
            ],
            [
             0.2,
             "#de77ae"
            ],
            [
             0.3,
             "#f1b6da"
            ],
            [
             0.4,
             "#fde0ef"
            ],
            [
             0.5,
             "#f7f7f7"
            ],
            [
             0.6,
             "#e6f5d0"
            ],
            [
             0.7,
             "#b8e186"
            ],
            [
             0.8,
             "#7fbc41"
            ],
            [
             0.9,
             "#4d9221"
            ],
            [
             1,
             "#276419"
            ]
           ],
           "sequential": [
            [
             0,
             "#0d0887"
            ],
            [
             0.1111111111111111,
             "#46039f"
            ],
            [
             0.2222222222222222,
             "#7201a8"
            ],
            [
             0.3333333333333333,
             "#9c179e"
            ],
            [
             0.4444444444444444,
             "#bd3786"
            ],
            [
             0.5555555555555556,
             "#d8576b"
            ],
            [
             0.6666666666666666,
             "#ed7953"
            ],
            [
             0.7777777777777778,
             "#fb9f3a"
            ],
            [
             0.8888888888888888,
             "#fdca26"
            ],
            [
             1,
             "#f0f921"
            ]
           ],
           "sequentialminus": [
            [
             0,
             "#0d0887"
            ],
            [
             0.1111111111111111,
             "#46039f"
            ],
            [
             0.2222222222222222,
             "#7201a8"
            ],
            [
             0.3333333333333333,
             "#9c179e"
            ],
            [
             0.4444444444444444,
             "#bd3786"
            ],
            [
             0.5555555555555556,
             "#d8576b"
            ],
            [
             0.6666666666666666,
             "#ed7953"
            ],
            [
             0.7777777777777778,
             "#fb9f3a"
            ],
            [
             0.8888888888888888,
             "#fdca26"
            ],
            [
             1,
             "#f0f921"
            ]
           ]
          },
          "colorway": [
           "#636efa",
           "#EF553B",
           "#00cc96",
           "#ab63fa",
           "#FFA15A",
           "#19d3f3",
           "#FF6692",
           "#B6E880",
           "#FF97FF",
           "#FECB52"
          ],
          "font": {
           "color": "#2a3f5f"
          },
          "geo": {
           "bgcolor": "white",
           "lakecolor": "white",
           "landcolor": "#E5ECF6",
           "showlakes": true,
           "showland": true,
           "subunitcolor": "white"
          },
          "hoverlabel": {
           "align": "left"
          },
          "hovermode": "closest",
          "mapbox": {
           "style": "light"
          },
          "paper_bgcolor": "white",
          "plot_bgcolor": "#E5ECF6",
          "polar": {
           "angularaxis": {
            "gridcolor": "white",
            "linecolor": "white",
            "ticks": ""
           },
           "bgcolor": "#E5ECF6",
           "radialaxis": {
            "gridcolor": "white",
            "linecolor": "white",
            "ticks": ""
           }
          },
          "scene": {
           "xaxis": {
            "backgroundcolor": "#E5ECF6",
            "gridcolor": "white",
            "gridwidth": 2,
            "linecolor": "white",
            "showbackground": true,
            "ticks": "",
            "zerolinecolor": "white"
           },
           "yaxis": {
            "backgroundcolor": "#E5ECF6",
            "gridcolor": "white",
            "gridwidth": 2,
            "linecolor": "white",
            "showbackground": true,
            "ticks": "",
            "zerolinecolor": "white"
           },
           "zaxis": {
            "backgroundcolor": "#E5ECF6",
            "gridcolor": "white",
            "gridwidth": 2,
            "linecolor": "white",
            "showbackground": true,
            "ticks": "",
            "zerolinecolor": "white"
           }
          },
          "shapedefaults": {
           "line": {
            "color": "#2a3f5f"
           }
          },
          "ternary": {
           "aaxis": {
            "gridcolor": "white",
            "linecolor": "white",
            "ticks": ""
           },
           "baxis": {
            "gridcolor": "white",
            "linecolor": "white",
            "ticks": ""
           },
           "bgcolor": "#E5ECF6",
           "caxis": {
            "gridcolor": "white",
            "linecolor": "white",
            "ticks": ""
           }
          },
          "title": {
           "x": 0.05
          },
          "xaxis": {
           "automargin": true,
           "gridcolor": "white",
           "linecolor": "white",
           "ticks": "",
           "title": {
            "standoff": 15
           },
           "zerolinecolor": "white",
           "zerolinewidth": 2
          },
          "yaxis": {
           "automargin": true,
           "gridcolor": "white",
           "linecolor": "white",
           "ticks": "",
           "title": {
            "standoff": 15
           },
           "zerolinecolor": "white",
           "zerolinewidth": 2
          }
         }
        },
        "xaxis": {
         "anchor": "y",
         "domain": [
          0,
          1
         ],
         "title": {
          "text": "wordCount"
         }
        },
        "yaxis": {
         "anchor": "x",
         "domain": [
          0,
          1
         ],
         "title": {
          "text": "numberOfSentences"
         }
        }
       }
      },
      "text/html": [
       "<div>\n",
       "        \n",
       "        \n",
       "            <div id=\"20a56b1f-b6b7-4b2f-91e0-7aad20c387fe\" class=\"plotly-graph-div\" style=\"height:525px; width:100%;\"></div>\n",
       "            <script type=\"text/javascript\">\n",
       "                require([\"plotly\"], function(Plotly) {\n",
       "                    window.PLOTLYENV=window.PLOTLYENV || {};\n",
       "                    \n",
       "                if (document.getElementById(\"20a56b1f-b6b7-4b2f-91e0-7aad20c387fe\")) {\n",
       "                    Plotly.newPlot(\n",
       "                        '20a56b1f-b6b7-4b2f-91e0-7aad20c387fe',\n",
       "                        [{\"customdata\": [[16.664], [8.16], [13.631999999999998], [9.3], [28.0], [8.08], [24.136], [22.575], [9.999], [8.0], [4.836], [10.0], [2.941], [29.308], [24.996000000000002], [11.805], [12.376], [13.041], [10.836], [11.596], [11.401], [13.088], [10.41], [8.021], [13.916], [11.284], [11.492], [19.668], [17.24], [15.149999999999999], [13.001999999999999], [24.997], [21.426000000000002], [21.426000000000002], [22.725], [8.784], [10.223999999999998], [11.764], [13.063999999999998], [14.443], [17.142000000000003], [11.592], [11.625], [5.554], [7.406], [13.719999999999999], [18.515], [3.448], [21.735000000000003], [13.533], [21.735000000000003], [22.725], [9.752], [12.304], [11.315999999999999], [8.0], [16.662], [9.756], [13.461], [11.424], [8.976], [9.43], [9.25], [22.575], [8.736], [25.8], [12.491999999999999], [15.245999999999999], [10.713000000000001], [8.582], [9.09], [13.038], [13.943999999999999], [12.4], [4.596], [6.815999999999999], [24.996000000000002], [15.149999999999999], [12.0], [13.565999999999999], [19.668], [24.996000000000002], [16.974], [12.0], [16.66], [10.952], [9.09], [8.106], [11.927999999999999], [22.575], [16.275000000000002], [12.024000000000001], [8.406], [13.631999999999998], [10.592], [10.0], [12.208], [8.84], [8.88], [9.375], [10.625], [4.08], [13.332], [15.38], [7.14], [14.285], [28.0], [9.62], [12.195], [9.3], [11.428], [18.6], [16.664], [12.195], [11.208], [17.646], [7.5], [19.634999999999998], [10.443999999999999], [14.0], [11.899999999999999], [16.66], [9.687999999999999], [24.997], [11.788], [15.287999999999998], [13.041], [20.688], [10.713000000000001], [31.814999999999998], [24.997], [19.044], [19.642], [10.362], [13.635], [26.18], [29.409999999999997], [14.7], [10.234], [24.0], [16.169999999999998], [7.406], [28.57], [13.8], [18.634], [13.332], [15.149999999999999], [9.42], [12.278], [14.49], [7.544], [40.733], [13.51], [8.496], [13.202], [7.59], [4.545], [8.508], [12.498000000000001], [12.82], [13.384], [12.54], [11.108], [17.855], [20.688], [12.495999999999999], [19.512], [12.649999999999999], [22.856], [11.538], [11.826], [11.927999999999999], [15.211], [20.830000000000002], [8.106], [11.448], [7.26], [16.974], [18.6], [13.653], [14.0], [11.169], [13.112], [20.688], [34.776], [5.553], [17.948], [10.107], [4.997999999999999], [29.624], [31.814999999999998], [18.029], [12.671999999999999], [8.328], [13.792], [13.631999999999998], [21.426000000000002], [9.228], [16.664], [6.348]], \"hoverlabel\": {\"namelength\": 0}, \"hovertemplate\": \"author=Zola<br>wordCount=%{x}<br>numberOfSentences=%{y}<br>meanWordLength=%{marker.size}<br>wordsWithPunctuationPercentage=%{customdata[0]}\", \"legendgroup\": \"author=Zola\", \"marker\": {\"color\": \"#636efa\", \"size\": [4.708333333333333, 4.346938775510204, 4.1477272727272725, 3.9302325581395348, 3.36, 4.174089068825911, 3.413793103448276, 4.258064516129032, 4.4, 4.235, 4.161290322580645, 4.25, 3.5588235294117645, 3.5172413793103448, 4.541666666666667, 4.622047244094488, 4.771428571428571, 3.9565217391304346, 4.180722891566265, 4.133928571428571, 4.192982456140351, 4.610655737704918, 4.0, 4.135802469135802, 4.348258706467662, 4.725806451612903, 4.592920353982301, 3.819672131147541, 3.8275862068965516, 4.363636363636363, 4.272189349112426, 3.8214285714285716, 3.4285714285714284, 3.4285714285714284, 4.181818181818182, 4.2967032967032965, 4.193181818181818, 4.764705882352941, 3.9375, 3.933333333333333, 4.0, 4.434782608695652, 4.232558139534884, 3.75, 3.740740740740741, 4.470588235294118, 3.814814814814815, 4.310344827586207, 3.782608695652174, 4.729166666666667, 3.782608695652174, 3.8181818181818183, 5.036585365853658, 3.876923076923077, 4.30188679245283, 4.0, 4.305555555555555, 3.4634146341463414, 4.0, 4.423809523809524, 3.730337078651685, 4.415094339622642, 4.203703703703703, 4.0, 4.027322404371585, 3.3225806451612905, 4.222222222222222, 4.254237288135593, 4.535714285714286, 4.306748466257669, 4.2272727272727275, 3.8043478260869565, 4.5813953488372094, 4.775193798449612, 4.275862068965517, 4.556818181818182, 3.9583333333333335, 4.363636363636363, 3.48, 4.289285714285715, 3.4918032786885247, 3.5833333333333335, 5.150943396226415, 4.72, 4.55, 4.561643835616438, 4.036363636363636, 3.7837837837837838, 4.176136363636363, 4.387096774193548, 4.627906976744186, 4.488294314381271, 4.074766355140187, 4.25, 4.135761589403973, 4.15, 4.454148471615721, 4.035398230088496, 4.583333333333333, 4.125, 4.459574468085107, 4.020408163265306, 6.2, 3.876923076923077, 4.714285714285714, 5.2, 3.52, 4.466666666666667, 4.097560975609756, 3.9302325581395348, 4.171428571428572, 2.5348837209302326, 4.354166666666667, 4.024390243902439, 3.94392523364486, 3.6470588235294117, 4.625, 3.7857142857142856, 4.2388059701492535, 4.22, 4.023809523809524, 4.095238095238095, 4.352941176470588, 3.7857142857142856, 4.151898734177215, 4.047058823529412, 4.6231884057971016, 3.9655172413793105, 3.5714285714285716, 3.9545454545454546, 4.035714285714286, 4.761904761904762, 3.8461538461538463, 4.485849056603773, 4.045454545454546, 3.619047619047619, 3.7058823529411766, 4.25, 4.180722891566265, 3.76, 3.823529411764706, 3.925925925925926, 3.6857142857142855, 4.69060773480663, 4.3559322033898304, 4.177777777777778, 3.6666666666666665, 4.119496855345912, 4.245614035087719, 4.130434782608695, 4.5754716981132075, 3.6666666666666665, 3.918918918918919, 4.537234042553192, 4.113207547169812, 3.810126582278481, 4.090909090909091, 4.0, 4.458333333333333, 4.358974358974359, 4.574162679425838, 4.397489539748954, 4.861111111111111, 3.7857142857142856, 4.068965517241379, 4.511363636363637, 4.804878048780488, 3.632911392405063, 3.6, 4.128205128205129, 4.7105263157894735, 4.176136363636363, 4.217391304347826, 3.9166666666666665, 4.1891891891891895, 4.101910828025478, 4.076363636363636, 5.150943396226415, 2.5348837209302326, 4.723333333333334, 4.32, 4.3355263157894735, 3.6557377049180326, 4.068965517241379, 4.6521739130434785, 3.8333333333333335, 3.8205128205128207, 4.382022471910112, 4.3, 3.740740740740741, 4.136363636363637, 3.8524590163934427, 4.042253521126761, 4.489583333333333, 4.5344827586206895, 4.181818181818182, 3.392857142857143, 4.038461538461538, 4.125, 3.9523809523809526], \"sizemode\": \"area\", \"sizeref\": 0.0155, \"symbol\": \"circle\"}, \"mode\": \"markers\", \"name\": \"author=Zola\", \"showlegend\": true, \"type\": \"scatter\", \"x\": [48, 49, 88, 43, 25, 247, 29, 31, 30, 200, 62, 20, 34, 58, 24, 127, 105, 23, 166, 112, 114, 244, 96, 162, 201, 62, 113, 61, 29, 33, 169, 28, 28, 28, 22, 91, 88, 34, 176, 90, 35, 69, 43, 36, 27, 51, 27, 29, 23, 96, 23, 22, 82, 65, 106, 25, 36, 41, 52, 210, 178, 53, 108, 31, 183, 31, 72, 59, 28, 163, 22, 46, 172, 129, 87, 88, 24, 33, 25, 280, 61, 24, 53, 25, 60, 73, 55, 74, 176, 31, 43, 299, 107, 88, 302, 40, 229, 113, 180, 32, 235, 49, 15, 65, 56, 35, 25, 135, 41, 43, 35, 43, 48, 41, 107, 34, 40, 56, 67, 50, 42, 42, 289, 28, 237, 85, 69, 29, 28, 22, 28, 21, 117, 212, 22, 42, 34, 68, 166, 25, 68, 27, 35, 181, 59, 90, 33, 159, 114, 69, 106, 27, 37, 188, 53, 79, 22, 47, 24, 78, 209, 239, 36, 28, 29, 88, 41, 79, 35, 78, 152, 176, 46, 24, 37, 157, 275, 53, 43, 300, 50, 152, 61, 29, 23, 54, 39, 89, 60, 27, 22, 61, 71, 288, 58, 44, 28, 130, 24, 63], \"xaxis\": \"x\", \"y\": [3, 3, 3, 4, 4, 9, 4, 2, 2, 9, 2, 1, 1, 5, 2, 6, 5, 2, 6, 4, 4, 7, 6, 6, 8, 3, 5, 7, 2, 2, 6, 4, 2, 3, 2, 4, 4, 2, 7, 5, 1, 4, 2, 1, 1, 3, 3, 1, 3, 4, 3, 2, 4, 3, 5, 1, 2, 1, 3, 9, 7, 3, 5, 2, 7, 3, 4, 6, 1, 8, 1, 3, 7, 6, 3, 3, 2, 2, 1, 14, 6, 2, 3, 1, 2, 2, 1, 3, 9, 3, 3, 14, 6, 7, 11, 1, 10, 3, 7, 3, 8, 1, 1, 5, 2, 3, 3, 5, 1, 4, 2, 3, 3, 3, 4, 4, 2, 3, 3, 4, 2, 4, 9, 3, 14, 5, 4, 2, 2, 3, 4, 4, 8, 9, 3, 5, 5, 2, 7, 3, 3, 1, 3, 4, 4, 4, 3, 5, 3, 3, 3, 5, 3, 8, 2, 4, 1, 3, 1, 3, 7, 10, 2, 2, 2, 4, 2, 6, 4, 3, 6, 9, 3, 2, 3, 6, 9, 3, 3, 12, 2, 6, 3, 2, 3, 1, 4, 5, 2, 4, 3, 6, 3, 9, 2, 2, 2, 7, 3, 3], \"yaxis\": \"y\"}, {\"customdata\": [[15.287999999999998], [11.625], [16.25], [14.448], [9.555], [6.896], [21.951], [6.380999999999999], [12.96], [23.076], [25.254], [25.0], [18.6], [19.712], [8.469999999999999], [10.971], [4.254], [8.924999999999999], [10.738], [7.142], [16.664], [12.195], [19.557000000000002], [10.634999999999998], [19.04], [11.108], [19.23], [23.903], [22.725], [11.764], [8.328], [9.999], [4.166], [9.3], [11.109], [9.09], [8.0], [8.694], [15.0], [8.427999999999999], [27.02], [8.16], [15.384], [9.647], [8.924999999999999], [11.428], [12.896], [21.951], [17.22], [5.714], [9.228], [17.142000000000003], [3.9989999999999997], [11.538], [8.33], [7.892999999999999], [10.524], [16.268], [6.666], [25.713], [10.415000000000001], [6.519], [15.87], [13.332], [25.523999999999997], [15.74], [24.517999999999997], [9.228], [16.845], [14.28], [11.109], [19.8], [9.375], [5.404], [18.6], [12.498000000000001], [14.0], [3.333], [11.76], [12.498000000000001], [16.25], [6.45], [4.166], [12.12], [16.666], [21.426000000000002], [22.218], [10.952], [8.16], [14.28], [4.545], [18.747], [6.666], [6.461], [10.78], [9.522], [13.950000000000001], [13.155], [17.307000000000002], [10.865], [16.664], [28.125], [10.646999999999998], [24.24], [21.04], [12.5], [12.321], [7.14], [13.69], [11.428], [21.875], [16.0], [3.448], [11.315999999999999], [19.998], [9.522], [14.464], [8.245], [42.306], [25.343999999999998], [12.190000000000001], [7.46], [17.24], [10.526], [6.12], [19.787], [10.934000000000001], [11.428], [18.176], [9.522], [4.166], [7.939], [16.896], [11.0], [7.46], [12.24], [2.738], [41.660000000000004], [13.155], [17.51], [16.664], [3.636], [9.756], [10.647], [22.44], [11.1], [11.428], [17.24], [19.998], [9.675], [19.11], [22.216], [15.267999999999999], [14.92], [20.0], [11.538], [9.408], [26.082], [13.155], [9.09], [10.41], [10.526], [9.375], [14.464], [6.516], [14.0], [16.268], [25.0], [14.544], [16.212], [27.602], [14.812], [19.998], [15.0], [21.426000000000002], [16.125], [7.692], [25.0], [9.086], [17.142000000000003], [13.332], [19.47], [7.5], [6.45], [10.3], [4.347], [5.553], [12.488], [21.426000000000002], [7.544], [10.934000000000001], [4.254], [21.048000000000002], [4.166], [14.628], [24.24], [7.055999999999999], [9.09], [15.561], [11.36]], \"hoverlabel\": {\"namelength\": 0}, \"hovertemplate\": \"author=Maupassant<br>wordCount=%{x}<br>numberOfSentences=%{y}<br>meanWordLength=%{marker.size}<br>wordsWithPunctuationPercentage=%{customdata[0]}\", \"legendgroup\": \"author=Maupassant\", \"marker\": {\"color\": \"#EF553B\", \"size\": [4.176470588235294, 3.6511627906976742, 4.1, 3.9156626506024095, 4.0661764705882355, 4.137931034482759, 3.902439024390244, 4.1063829787234045, 3.918918918918919, 3.1025641025641026, 3.5824175824175826, 3.90625, 4.093023255813954, 3.3098591549295775, 4.627118644067797, 3.4634146341463414, 3.9574468085106385, 3.9642857142857144, 4.008264462809917, 3.8214285714285716, 3.6041666666666665, 3.731707317073171, 3.847826086956522, 4.48936170212766, 3.119047619047619, 4.361111111111111, 5.153846153846154, 3.8043478260869565, 4.2727272727272725, 3.5588235294117645, 3.9166666666666665, 3.533333333333333, 3.9583333333333335, 4.534883720930233, 4.074074074074074, 3.272727272727273, 4.56, 4.260869565217392, 3.45, 3.855421686746988, 3.891891891891892, 3.979591836734694, 4.076923076923077, 4.157894736842105, 3.9642857142857144, 3.342857142857143, 4.193548387096774, 3.902439024390244, 3.660919540229885, 4.771428571428571, 4.2, 4.714285714285714, 4.573333333333333, 3.3846153846153846, 4.2, 3.6842105263157894, 4.526315789473684, 3.4186046511627906, 3.8, 3.942857142857143, 4.395833333333333, 3.6739130434782608, 4.015873015873016, 4.266666666666667, 3.6808510638297873, 3.7401574803149606, 3.641509433962264, 4.2, 4.191011235955056, 4.166666666666667, 3.2222222222222223, 4.316831683168317, 3.96875, 3.918918918918919, 3.7674418604651163, 3.7083333333333335, 4.0, 4.2, 3.4901960784313726, 3.75, 4.1, 3.774193548387097, 4.0, 3.9696969696969697, 4.576923076923077, 4.571428571428571, 4.037037037037037, 4.041095890410959, 3.9591836734693877, 2.8035714285714284, 4.636363636363637, 4.125, 3.3, 4.199004975124378, 3.9019607843137254, 5.0, 4.558139534883721, 3.6578947368421053, 4.019230769230769, 3.9565217391304346, 3.6041666666666665, 3.40625, 4.081967213114754, 4.909090909090909, 4.381578947368421, 3.78125, 3.712328767123288, 3.7142857142857144, 4.027397260273973, 3.914285714285714, 3.375, 3.84, 3.7586206896551726, 4.188679245283019, 3.2333333333333334, 5.0, 3.8009049773755654, 4.359223300970874, 3.730769230769231, 4.084507042253521, 4.7317073170731705, 4.029850746268656, 3.6206896551724137, 5.052631578947368, 4.061224489795919, 4.421940928270042, 3.953125, 3.6857142857142855, 3.977272727272727, 4.523809523809524, 4.0, 3.94392523364486, 3.380281690140845, 4.11, 4.029850746268656, 4.73469387755102, 3.7260273972602738, 3.625, 3.6578947368421053, 3.9381443298969074, 4.5, 4.127272727272727, 4.390243902439025, 4.451776649746193, 3.7142857142857144, 4.474074074074074, 3.342857142857143, 3.6206896551724137, 3.2333333333333334, 4.548387096774194, 3.3823529411764706, 4.111111111111111, 4.041666666666667, 3.9402985074626864, 3.975, 4.1923076923076925, 3.764705882352941, 3.927536231884058, 4.894736842105263, 3.272727272727273, 3.7083333333333335, 5.052631578947368, 3.84375, 3.8009049773755654, 4.184782608695652, 4.0, 3.4186046511627906, 3.90625, 3.6545454545454548, 4.027027027027027, 3.582089552238806, 3.925925925925926, 3.2333333333333334, 3.45, 3.25, 4.741935483870968, 3.269230769230769, 4.3, 4.116883116883117, 4.685714285714286, 4.266666666666667, 4.142857142857143, 3.9, 3.774193548387097, 3.577319587628866, 5.3478260869565215, 4.351851851851852, 3.6160714285714284, 3.25, 4.830188679245283, 3.953125, 3.9574468085106385, 4.43859649122807, 3.9166666666666665, 4.2560975609756095, 4.909090909090909, 3.8705882352941177, 5.0, 3.778688524590164, 3.4545454545454546], \"sizemode\": \"area\", \"sizeref\": 0.0155, \"symbol\": \"circle\"}, \"mode\": \"markers\", \"name\": \"author=Maupassant\", \"showlegend\": true, \"type\": \"scatter\", \"x\": [85, 43, 80, 83, 136, 29, 41, 47, 185, 39, 91, 32, 43, 71, 59, 82, 47, 56, 121, 28, 48, 41, 46, 47, 42, 36, 26, 46, 22, 34, 72, 30, 24, 43, 27, 33, 25, 23, 40, 83, 37, 49, 26, 114, 56, 35, 62, 41, 174, 35, 65, 35, 75, 26, 60, 38, 38, 86, 30, 35, 48, 46, 63, 90, 47, 127, 53, 65, 89, 84, 27, 101, 32, 37, 43, 24, 50, 30, 51, 24, 80, 31, 48, 33, 78, 28, 27, 73, 49, 56, 22, 48, 30, 201, 102, 21, 43, 38, 52, 46, 48, 32, 122, 33, 76, 32, 73, 56, 73, 35, 32, 25, 29, 53, 30, 21, 221, 206, 26, 71, 82, 67, 29, 19, 49, 237, 64, 35, 88, 21, 48, 214, 71, 100, 67, 49, 73, 24, 38, 97, 24, 55, 41, 197, 49, 135, 35, 29, 30, 31, 68, 36, 72, 67, 40, 52, 85, 69, 38, 33, 96, 19, 32, 221, 92, 50, 86, 32, 55, 37, 134, 27, 30, 40, 28, 31, 26, 20, 154, 35, 30, 77, 40, 31, 97, 23, 54, 112, 28, 53, 64, 47, 57, 24, 82, 33, 85, 22, 122, 44], \"xaxis\": \"x\", \"y\": [4, 3, 7, 6, 4, 1, 3, 2, 9, 6, 13, 3, 3, 2, 2, 3, 1, 2, 4, 1, 2, 3, 2, 1, 3, 2, 1, 3, 2, 2, 2, 2, 1, 2, 1, 1, 1, 1, 3, 4, 4, 1, 2, 5, 2, 3, 2, 3, 12, 1, 2, 3, 3, 1, 2, 2, 2, 7, 1, 3, 1, 1, 2, 5, 9, 10, 4, 2, 5, 4, 1, 10, 1, 1, 3, 2, 4, 1, 2, 2, 7, 1, 1, 1, 2, 1, 2, 2, 3, 5, 1, 5, 2, 3, 5, 1, 2, 1, 5, 1, 2, 7, 5, 1, 7, 1, 5, 2, 2, 1, 3, 2, 1, 2, 5, 1, 14, 5, 4, 9, 3, 1, 3, 1, 2, 27, 2, 2, 8, 1, 1, 6, 1, 5, 1, 3, 1, 5, 1, 8, 1, 1, 1, 4, 5, 6, 3, 3, 5, 1, 3, 2, 3, 3, 3, 2, 2, 5, 2, 1, 4, 1, 1, 14, 3, 4, 7, 3, 1, 1, 27, 1, 5, 3, 2, 1, 1, 2, 5, 3, 1, 5, 2, 1, 4, 1, 1, 5, 2, 2, 2, 1, 5, 1, 3, 1, 2, 1, 9, 2], \"yaxis\": \"y\"}, {\"customdata\": [[17.271], [20.587], [17.2], [16.0], [12.5], [12.278], [11.108], [14.704999999999998], [15.384], [14.111999999999998], [15.625], [4.76], [12.167], [26.31], [12.788], [15.384], [10.602], [13.635], [19.32], [15.384], [5.262], [12.36], [9.36], [21.735000000000003], [9.7], [29.025000000000002], [7.951999999999999], [10.0], [10.098], [11.764], [9.09], [12.0], [19.23], [23.52], [8.06], [19.04], [11.538], [10.256], [11.11], [10.344], [11.109], [12.6], [4.166], [12.82], [11.428], [11.620000000000001], [10.634999999999998], [28.0], [8.772], [28.0], [8.398], [13.684999999999999], [14.872], [17.82], [6.896], [13.332], [15.211], [12.792], [9.530999999999999], [14.283000000000001], [7.406], [8.106], [6.838], [20.0], [6.378], [9.648], [17.095], [6.25], [8.533000000000001], [22.725], [9.24], [26.18], [8.778], [14.654], [11.764], [10.524], [23.331000000000003], [11.899999999999999], [25.921], [10.692], [17.388], [22.44], [24.99], [7.4399999999999995], [20.265], [4.444], [12.936], [22.218], [11.315999999999999], [10.716], [9.306000000000001], [13.0], [24.996000000000002], [17.408], [8.694], [10.98], [20.830000000000002], [14.812], [10.472], [16.0], [20.0], [19.044], [17.016], [17.855], [12.222999999999999], [9.52], [15.088], [15.0], [16.662], [15.384], [11.979], [7.076], [9.999], [15.0], [9.795], [9.7], [7.092], [9.936], [10.256], [16.664], [14.861], [8.554], [9.675], [17.948], [22.725], [14.852], [12.934000000000001], [4.164], [18.029], [11.109], [10.524], [6.896], [12.663], [42.104], [15.384], [12.540000000000001], [8.1], [14.504000000000001], [21.875], [5.262], [7.744], [24.997], [9.522], [15.625], [15.204], [8.823], [31.25], [10.0], [10.0], [8.638], [24.0], [13.545], [11.908000000000001], [11.537], [10.569], [24.0], [14.274000000000001], [14.284], [16.662], [12.82], [19.044], [7.513999999999999], [37.03], [15.384], [10.0], [10.256], [11.719999999999999], [13.635], [14.322], [10.709999999999999], [7.472], [21.048], [12.068], [9.472], [5.454000000000001], [18.011], [17.073], [8.328], [20.447999999999997], [11.109], [12.498000000000001], [27.27], [15.374999999999998], [18.18], [10.918], [16.664], [21.875], [10.537], [14.285], [10.136], [24.24], [13.915], [12.5], [26.314999999999998], [15.245999999999999], [19.23], [7.935], [9.522], [13.122], [14.269]], \"hoverlabel\": {\"namelength\": 0}, \"hovertemplate\": \"author=Balzac<br>wordCount=%{x}<br>numberOfSentences=%{y}<br>meanWordLength=%{marker.size}<br>wordsWithPunctuationPercentage=%{customdata[0]}\", \"legendgroup\": \"author=Balzac\", \"marker\": {\"color\": \"#00cc96\", \"size\": [4.009090909090909, 3.6470588235294117, 3.6881720430107525, 4.46, 4.1, 3.780701754385965, 4.055555555555555, 4.088235294117647, 3.3846153846153846, 3.8, 3.75, 4.714285714285714, 4.8994708994708995, 4.298245614035087, 4.438718662952646, 3.6153846153846154, 4.346368715083799, 4.136363636363637, 4.142857142857143, 4.269230769230769, 4.078947368421052, 4.041237113402062, 4.5, 4.086956521739131, 3.563106796116505, 3.870967741935484, 4.431818181818182, 4.65, 4.308988764044944, 4.882352941176471, 4.045454545454546, 3.76, 3.8076923076923075, 3.7254901960784315, 3.8225806451612905, 3.5, 4.153846153846154, 3.9743589743589745, 4.0606060606060606, 3.8879310344827585, 4.481481481481482, 4.802521008403361, 4.791666666666667, 4.128205128205129, 4.085714285714285, 3.9003322259136213, 4.1063829787234045, 3.4, 4.003061224489796, 3.4, 4.265486725663717, 3.3452380952380953, 4.074921956295525, 3.8118811881188117, 4.620689655172414, 3.933333333333333, 4.869565217391305, 3.748768472906404, 4.512367491166078, 4.190476190476191, 4.407407407407407, 4.1891891891891895, 4.678947368421053, 4.04, 4.542553191489362, 4.3994190268700075, 3.8421052631578947, 4.21875, 4.414634146341464, 3.8636363636363638, 4.500421229991575, 3.9523809523809526, 4.417438271604938, 3.6551724137931036, 4.882352941176471, 4.131578947368421, 4.266666666666667, 4.583333333333333, 3.1481481481481484, 4.134920634920635, 4.0, 4.326530612244898, 3.1166666666666667, 4.516129032258065, 4.648648648648648, 3.8666666666666667, 4.588235294117647, 4.2592592592592595, 3.849056603773585, 4.107344632768362, 4.109126984126984, 4.255, 4.166666666666667, 3.682051282051282, 3.8260869565217392, 3.4285714285714284, 3.9166666666666665, 3.5925925925925926, 4.4, 4.46, 3.375, 4.26984126984127, 3.574468085106383, 4.642857142857143, 4.258992805755396, 3.880952380952381, 3.8679245283018866, 4.7, 5.027777777777778, 4.0, 4.556363636363637, 4.515892420537897, 4.233333333333333, 5.275, 4.071895424836601, 4.635922330097087, 3.8757396449704142, 4.539741219963031, 3.6666666666666665, 4.541666666666667, 4.081081081081081, 4.240437158469946, 3.5806451612903225, 3.6666666666666665, 3.8636363636363638, 3.98256735340729, 3.861607142857143, 4.416666666666667, 3.6721311475409837, 3.925925925925926, 3.6052631578947367, 3.9310344827586206, 4.373814041745731, 4.578947368421052, 4.0256410256410255, 3.81644470179502, 4.577069096431283, 4.082901554404145, 4.0, 4.684210526315789, 4.429577464788732, 4.321428571428571, 4.142857142857143, 4.25, 3.782608695652174, 4.352941176470588, 4.34375, 4.3, 3.85, 4.1234567901234565, 3.48, 4.787096774193548, 4.463302752293578, 4.298465829846583, 3.8206521739130435, 4.0, 3.9444444444444446, 4.642857142857143, 4.111111111111111, 4.384615384615385, 4.26984126984127, 4.473988439306359, 4.37037037037037, 4.051282051282051, 3.85, 4.230769230769231, 4.492668621700879, 3.909090909090909, 3.9260869565217393, 4.232142857142857, 4.158878504672897, 4.394736842105263, 4.051724137931035, 4.516654330125832, 4.7272727272727275, 3.703488372093023, 3.5121951219512195, 4.097222222222222, 3.772727272727273, 3.9523809523809526, 3.8333333333333335, 4.303030303030303, 3.9055441478439423, 4.318181818181818, 4.439175257731959, 4.104166666666667, 4.0, 4.4113110539845755, 4.9714285714285715, 3.920289855072464, 3.8181818181818183, 3.962025316455696, 5.5625, 5.2105263157894735, 4.813559322033898, 4.3076923076923075, 4.063492063492063, 4.0476190476190474, 4.773722627737226, 3.5037593984962405], \"sizemode\": \"area\", \"sizeref\": 0.0155, \"symbol\": \"circle\"}, \"mode\": \"markers\", \"name\": \"author=Balzac\", \"showlegend\": true, \"type\": \"scatter\", \"x\": [110, 34, 93, 50, 40, 114, 36, 34, 26, 85, 32, 42, 189, 57, 718, 26, 179, 22, 119, 26, 38, 97, 256, 23, 103, 31, 88, 20, 178, 34, 22, 25, 26, 51, 62, 42, 26, 39, 99, 116, 27, 238, 24, 39, 35, 301, 47, 25, 980, 25, 226, 168, 961, 101, 29, 30, 46, 203, 283, 21, 27, 37, 190, 25, 94, 1377, 76, 32, 82, 22, 1187, 42, 1296, 116, 34, 38, 30, 84, 27, 252, 23, 49, 120, 403, 74, 45, 85, 27, 53, 177, 504, 200, 24, 195, 23, 91, 24, 27, 210, 50, 40, 63, 47, 28, 139, 42, 106, 20, 36, 26, 275, 409, 30, 40, 153, 206, 169, 541, 39, 24, 74, 549, 31, 39, 22, 631, 224, 72, 61, 27, 38, 29, 527, 19, 39, 1727, 1317, 193, 32, 38, 142, 28, 21, 32, 92, 34, 32, 40, 40, 81, 25, 155, 218, 717, 368, 25, 126, 28, 36, 39, 63, 173, 27, 39, 40, 39, 341, 22, 230, 56, 107, 38, 58, 1351, 55, 172, 41, 72, 44, 63, 24, 33, 487, 22, 485, 48, 32, 389, 35, 138, 66, 79, 16, 19, 59, 26, 63, 21, 137, 133], \"xaxis\": \"x\", \"y\": [12, 2, 6, 3, 3, 8, 1, 1, 2, 5, 3, 1, 5, 2, 35, 2, 10, 1, 9, 1, 1, 6, 8, 2, 7, 4, 2, 1, 8, 2, 1, 1, 2, 6, 4, 4, 1, 1, 6, 5, 1, 7, 1, 2, 1, 7, 3, 5, 32, 5, 7, 15, 58, 6, 1, 2, 2, 9, 13, 2, 1, 2, 4, 1, 2, 37, 7, 1, 4, 1, 45, 5, 34, 8, 2, 2, 3, 4, 3, 9, 1, 3, 9, 13, 1, 2, 4, 2, 3, 5, 15, 6, 2, 17, 1, 6, 3, 2, 6, 3, 5, 2, 6, 2, 5, 1, 7, 1, 2, 1, 11, 13, 1, 1, 5, 6, 5, 18, 1, 1, 6, 14, 1, 3, 1, 33, 12, 1, 5, 2, 2, 1, 18, 2, 2, 84, 30, 13, 3, 1, 4, 1, 1, 3, 2, 1, 2, 1, 2, 3, 2, 8, 7, 21, 13, 2, 10, 1, 2, 2, 2, 4, 1, 1, 2, 1, 13, 1, 11, 1, 3, 2, 4, 42, 2, 16, 2, 4, 3, 3, 2, 4, 27, 2, 15, 3, 3, 17, 1, 8, 6, 6, 1, 2, 3, 2, 3, 1, 4, 10], \"yaxis\": \"y\"}],\n",
       "                        {\"legend\": {\"itemsizing\": \"constant\", \"tracegroupgap\": 0}, \"margin\": {\"t\": 60}, \"template\": {\"data\": {\"bar\": [{\"error_x\": {\"color\": \"#2a3f5f\"}, \"error_y\": {\"color\": \"#2a3f5f\"}, \"marker\": {\"line\": {\"color\": \"#E5ECF6\", \"width\": 0.5}}, \"type\": \"bar\"}], \"barpolar\": [{\"marker\": {\"line\": {\"color\": \"#E5ECF6\", \"width\": 0.5}}, \"type\": \"barpolar\"}], \"carpet\": [{\"aaxis\": {\"endlinecolor\": \"#2a3f5f\", \"gridcolor\": \"white\", \"linecolor\": \"white\", \"minorgridcolor\": \"white\", \"startlinecolor\": \"#2a3f5f\"}, \"baxis\": {\"endlinecolor\": \"#2a3f5f\", \"gridcolor\": \"white\", \"linecolor\": \"white\", \"minorgridcolor\": \"white\", \"startlinecolor\": \"#2a3f5f\"}, \"type\": \"carpet\"}], \"choropleth\": [{\"colorbar\": {\"outlinewidth\": 0, \"ticks\": \"\"}, \"type\": \"choropleth\"}], \"contour\": [{\"colorbar\": {\"outlinewidth\": 0, \"ticks\": \"\"}, \"colorscale\": [[0.0, \"#0d0887\"], [0.1111111111111111, \"#46039f\"], [0.2222222222222222, \"#7201a8\"], [0.3333333333333333, \"#9c179e\"], [0.4444444444444444, \"#bd3786\"], [0.5555555555555556, \"#d8576b\"], [0.6666666666666666, \"#ed7953\"], [0.7777777777777778, \"#fb9f3a\"], [0.8888888888888888, \"#fdca26\"], [1.0, \"#f0f921\"]], \"type\": \"contour\"}], \"contourcarpet\": [{\"colorbar\": {\"outlinewidth\": 0, \"ticks\": \"\"}, \"type\": \"contourcarpet\"}], \"heatmap\": [{\"colorbar\": {\"outlinewidth\": 0, \"ticks\": \"\"}, \"colorscale\": [[0.0, \"#0d0887\"], [0.1111111111111111, \"#46039f\"], [0.2222222222222222, \"#7201a8\"], [0.3333333333333333, \"#9c179e\"], [0.4444444444444444, \"#bd3786\"], [0.5555555555555556, \"#d8576b\"], [0.6666666666666666, \"#ed7953\"], [0.7777777777777778, \"#fb9f3a\"], [0.8888888888888888, \"#fdca26\"], [1.0, \"#f0f921\"]], \"type\": \"heatmap\"}], \"heatmapgl\": [{\"colorbar\": {\"outlinewidth\": 0, \"ticks\": \"\"}, \"colorscale\": [[0.0, \"#0d0887\"], [0.1111111111111111, \"#46039f\"], [0.2222222222222222, \"#7201a8\"], [0.3333333333333333, \"#9c179e\"], [0.4444444444444444, \"#bd3786\"], [0.5555555555555556, \"#d8576b\"], [0.6666666666666666, \"#ed7953\"], [0.7777777777777778, \"#fb9f3a\"], [0.8888888888888888, \"#fdca26\"], [1.0, \"#f0f921\"]], \"type\": \"heatmapgl\"}], \"histogram\": [{\"marker\": {\"colorbar\": {\"outlinewidth\": 0, \"ticks\": \"\"}}, \"type\": \"histogram\"}], \"histogram2d\": [{\"colorbar\": {\"outlinewidth\": 0, \"ticks\": \"\"}, \"colorscale\": [[0.0, \"#0d0887\"], [0.1111111111111111, \"#46039f\"], [0.2222222222222222, \"#7201a8\"], [0.3333333333333333, \"#9c179e\"], [0.4444444444444444, \"#bd3786\"], [0.5555555555555556, \"#d8576b\"], [0.6666666666666666, \"#ed7953\"], [0.7777777777777778, \"#fb9f3a\"], [0.8888888888888888, \"#fdca26\"], [1.0, \"#f0f921\"]], \"type\": \"histogram2d\"}], \"histogram2dcontour\": [{\"colorbar\": {\"outlinewidth\": 0, \"ticks\": \"\"}, \"colorscale\": [[0.0, \"#0d0887\"], [0.1111111111111111, \"#46039f\"], [0.2222222222222222, \"#7201a8\"], [0.3333333333333333, \"#9c179e\"], [0.4444444444444444, \"#bd3786\"], [0.5555555555555556, \"#d8576b\"], [0.6666666666666666, \"#ed7953\"], [0.7777777777777778, \"#fb9f3a\"], [0.8888888888888888, \"#fdca26\"], [1.0, \"#f0f921\"]], \"type\": \"histogram2dcontour\"}], \"mesh3d\": [{\"colorbar\": {\"outlinewidth\": 0, \"ticks\": \"\"}, \"type\": \"mesh3d\"}], \"parcoords\": [{\"line\": {\"colorbar\": {\"outlinewidth\": 0, \"ticks\": \"\"}}, \"type\": \"parcoords\"}], \"pie\": [{\"automargin\": true, \"type\": \"pie\"}], \"scatter\": [{\"marker\": {\"colorbar\": {\"outlinewidth\": 0, \"ticks\": \"\"}}, \"type\": \"scatter\"}], \"scatter3d\": [{\"line\": {\"colorbar\": {\"outlinewidth\": 0, \"ticks\": \"\"}}, \"marker\": {\"colorbar\": {\"outlinewidth\": 0, \"ticks\": \"\"}}, \"type\": \"scatter3d\"}], \"scattercarpet\": [{\"marker\": {\"colorbar\": {\"outlinewidth\": 0, \"ticks\": \"\"}}, \"type\": \"scattercarpet\"}], \"scattergeo\": [{\"marker\": {\"colorbar\": {\"outlinewidth\": 0, \"ticks\": \"\"}}, \"type\": \"scattergeo\"}], \"scattergl\": [{\"marker\": {\"colorbar\": {\"outlinewidth\": 0, \"ticks\": \"\"}}, \"type\": \"scattergl\"}], \"scattermapbox\": [{\"marker\": {\"colorbar\": {\"outlinewidth\": 0, \"ticks\": \"\"}}, \"type\": \"scattermapbox\"}], \"scatterpolar\": [{\"marker\": {\"colorbar\": {\"outlinewidth\": 0, \"ticks\": \"\"}}, \"type\": \"scatterpolar\"}], \"scatterpolargl\": [{\"marker\": {\"colorbar\": {\"outlinewidth\": 0, \"ticks\": \"\"}}, \"type\": \"scatterpolargl\"}], \"scatterternary\": [{\"marker\": {\"colorbar\": {\"outlinewidth\": 0, \"ticks\": \"\"}}, \"type\": \"scatterternary\"}], \"surface\": [{\"colorbar\": {\"outlinewidth\": 0, \"ticks\": \"\"}, \"colorscale\": [[0.0, \"#0d0887\"], [0.1111111111111111, \"#46039f\"], [0.2222222222222222, \"#7201a8\"], [0.3333333333333333, \"#9c179e\"], [0.4444444444444444, \"#bd3786\"], [0.5555555555555556, \"#d8576b\"], [0.6666666666666666, \"#ed7953\"], [0.7777777777777778, \"#fb9f3a\"], [0.8888888888888888, \"#fdca26\"], [1.0, \"#f0f921\"]], \"type\": \"surface\"}], \"table\": [{\"cells\": {\"fill\": {\"color\": \"#EBF0F8\"}, \"line\": {\"color\": \"white\"}}, \"header\": {\"fill\": {\"color\": \"#C8D4E3\"}, \"line\": {\"color\": \"white\"}}, \"type\": \"table\"}]}, \"layout\": {\"annotationdefaults\": {\"arrowcolor\": \"#2a3f5f\", \"arrowhead\": 0, \"arrowwidth\": 1}, \"coloraxis\": {\"colorbar\": {\"outlinewidth\": 0, \"ticks\": \"\"}}, \"colorscale\": {\"diverging\": [[0, \"#8e0152\"], [0.1, \"#c51b7d\"], [0.2, \"#de77ae\"], [0.3, \"#f1b6da\"], [0.4, \"#fde0ef\"], [0.5, \"#f7f7f7\"], [0.6, \"#e6f5d0\"], [0.7, \"#b8e186\"], [0.8, \"#7fbc41\"], [0.9, \"#4d9221\"], [1, \"#276419\"]], \"sequential\": [[0.0, \"#0d0887\"], [0.1111111111111111, \"#46039f\"], [0.2222222222222222, \"#7201a8\"], [0.3333333333333333, \"#9c179e\"], [0.4444444444444444, \"#bd3786\"], [0.5555555555555556, \"#d8576b\"], [0.6666666666666666, \"#ed7953\"], [0.7777777777777778, \"#fb9f3a\"], [0.8888888888888888, \"#fdca26\"], [1.0, \"#f0f921\"]], \"sequentialminus\": [[0.0, \"#0d0887\"], [0.1111111111111111, \"#46039f\"], [0.2222222222222222, \"#7201a8\"], [0.3333333333333333, \"#9c179e\"], [0.4444444444444444, \"#bd3786\"], [0.5555555555555556, \"#d8576b\"], [0.6666666666666666, \"#ed7953\"], [0.7777777777777778, \"#fb9f3a\"], [0.8888888888888888, \"#fdca26\"], [1.0, \"#f0f921\"]]}, \"colorway\": [\"#636efa\", \"#EF553B\", \"#00cc96\", \"#ab63fa\", \"#FFA15A\", \"#19d3f3\", \"#FF6692\", \"#B6E880\", \"#FF97FF\", \"#FECB52\"], \"font\": {\"color\": \"#2a3f5f\"}, \"geo\": {\"bgcolor\": \"white\", \"lakecolor\": \"white\", \"landcolor\": \"#E5ECF6\", \"showlakes\": true, \"showland\": true, \"subunitcolor\": \"white\"}, \"hoverlabel\": {\"align\": \"left\"}, \"hovermode\": \"closest\", \"mapbox\": {\"style\": \"light\"}, \"paper_bgcolor\": \"white\", \"plot_bgcolor\": \"#E5ECF6\", \"polar\": {\"angularaxis\": {\"gridcolor\": \"white\", \"linecolor\": \"white\", \"ticks\": \"\"}, \"bgcolor\": \"#E5ECF6\", \"radialaxis\": {\"gridcolor\": \"white\", \"linecolor\": \"white\", \"ticks\": \"\"}}, \"scene\": {\"xaxis\": {\"backgroundcolor\": \"#E5ECF6\", \"gridcolor\": \"white\", \"gridwidth\": 2, \"linecolor\": \"white\", \"showbackground\": true, \"ticks\": \"\", \"zerolinecolor\": \"white\"}, \"yaxis\": {\"backgroundcolor\": \"#E5ECF6\", \"gridcolor\": \"white\", \"gridwidth\": 2, \"linecolor\": \"white\", \"showbackground\": true, \"ticks\": \"\", \"zerolinecolor\": \"white\"}, \"zaxis\": {\"backgroundcolor\": \"#E5ECF6\", \"gridcolor\": \"white\", \"gridwidth\": 2, \"linecolor\": \"white\", \"showbackground\": true, \"ticks\": \"\", \"zerolinecolor\": \"white\"}}, \"shapedefaults\": {\"line\": {\"color\": \"#2a3f5f\"}}, \"ternary\": {\"aaxis\": {\"gridcolor\": \"white\", \"linecolor\": \"white\", \"ticks\": \"\"}, \"baxis\": {\"gridcolor\": \"white\", \"linecolor\": \"white\", \"ticks\": \"\"}, \"bgcolor\": \"#E5ECF6\", \"caxis\": {\"gridcolor\": \"white\", \"linecolor\": \"white\", \"ticks\": \"\"}}, \"title\": {\"x\": 0.05}, \"xaxis\": {\"automargin\": true, \"gridcolor\": \"white\", \"linecolor\": \"white\", \"ticks\": \"\", \"title\": {\"standoff\": 15}, \"zerolinecolor\": \"white\", \"zerolinewidth\": 2}, \"yaxis\": {\"automargin\": true, \"gridcolor\": \"white\", \"linecolor\": \"white\", \"ticks\": \"\", \"title\": {\"standoff\": 15}, \"zerolinecolor\": \"white\", \"zerolinewidth\": 2}}}, \"xaxis\": {\"anchor\": \"y\", \"domain\": [0.0, 1.0], \"title\": {\"text\": \"wordCount\"}}, \"yaxis\": {\"anchor\": \"x\", \"domain\": [0.0, 1.0], \"title\": {\"text\": \"numberOfSentences\"}}},\n",
       "                        {\"responsive\": true}\n",
       "                    ).then(function(){\n",
       "                            \n",
       "var gd = document.getElementById('20a56b1f-b6b7-4b2f-91e0-7aad20c387fe');\n",
       "var x = new MutationObserver(function (mutations, observer) {{\n",
       "        var display = window.getComputedStyle(gd).display;\n",
       "        if (!display || display === 'none') {{\n",
       "            console.log([gd, 'removed!']);\n",
       "            Plotly.purge(gd);\n",
       "            observer.disconnect();\n",
       "        }}\n",
       "}});\n",
       "\n",
       "// Listen for the removal of the full notebook cells\n",
       "var notebookContainer = gd.closest('#notebook-container');\n",
       "if (notebookContainer) {{\n",
       "    x.observe(notebookContainer, {childList: true});\n",
       "}}\n",
       "\n",
       "// Listen for the clearing of the current output cell\n",
       "var outputEl = gd.closest('.output');\n",
       "if (outputEl) {{\n",
       "    x.observe(outputEl, {childList: true});\n",
       "}}\n",
       "\n",
       "                        })\n",
       "                };\n",
       "                });\n",
       "            </script>\n",
       "        </div>"
      ]
     },
     "metadata": {},
     "output_type": "display_data"
    }
   ],
   "source": [
    "import plotly.express as px\n",
    "\n",
    "fig = px.scatter(my_df, x=\"wordCount\", y=\"numberOfSentences\", color=\"author\",\n",
    "                 size='meanWordLength', hover_data=['wordsWithPunctuationPercentage'])\n",
    "fig.show()"
   ]
  },
  {
   "cell_type": "markdown",
   "metadata": {},
   "source": [
    "On peut isoler les écrivains dans le plot.\n",
    "\n",
    "Balzac se différencie des autres, on voit quasisment que lui sur le graphe de base --> erreur dans les données ou est ce qu'il écrivait juste des pavés tout le temps ?\n",
    "\n",
    "On enlevant Balzac on peut voir une nette différence entre zola et maupassant : les points appartenants à Zola sont plus étirés la ou ceux de Maupaussant forment un bon bloc avec des eparpillements.\n",
    "\n",
    "**Ce graphe pourrait montrer une différence dans style d'écriture : Zola écrirait-il en général des phrases avec plus de mots ?**"
   ]
  },
  {
   "cell_type": "markdown",
   "metadata": {},
   "source": [
    "### Words with punctation vs number of sentences in a Paragraph"
   ]
  },
  {
   "cell_type": "markdown",
   "metadata": {},
   "source": [
    "#### Quelle est la relation entre le taux de ponctuation, et le nombre de mots chez les auteurs ?\n",
    "\n",
    "Plus on écritait une phrase longue, et plus on devrait utiliser de la ponctuation comme des virgules, point virgules, non ?\n",
    "\n",
    "D'un autre côté, ça serait intéressant de voir si des auteurs utilisent fortement la ponctuation alors qu'ils utilisent peu de mots."
   ]
  },
  {
   "cell_type": "code",
   "execution_count": 103,
   "metadata": {},
   "outputs": [
    {
     "data": {
      "application/vnd.plotly.v1+json": {
       "config": {
        "plotlyServerURL": "https://plot.ly"
       },
       "data": [
        {
         "hoverlabel": {
          "namelength": 0
         },
         "hovertemplate": "author=Zola<br>wordCount=%{x}<br>wordsWithPunctuationPercentage=%{y}",
         "legendgroup": "author=Zola",
         "marker": {
          "color": "#636efa",
          "symbol": "circle"
         },
         "mode": "markers",
         "name": "author=Zola",
         "showlegend": true,
         "type": "scatter",
         "x": [
          48,
          49,
          88,
          43,
          25,
          247,
          29,
          31,
          30,
          200,
          62,
          20,
          34,
          58,
          24,
          127,
          105,
          23,
          166,
          112,
          114,
          244,
          96,
          162,
          201,
          62,
          113,
          61,
          29,
          33,
          169,
          28,
          28,
          28,
          22,
          91,
          88,
          34,
          176,
          90,
          35,
          69,
          43,
          36,
          27,
          51,
          27,
          29,
          23,
          96,
          23,
          22,
          82,
          65,
          106,
          25,
          36,
          41,
          52,
          210,
          178,
          53,
          108,
          31,
          183,
          31,
          72,
          59,
          28,
          163,
          22,
          46,
          172,
          129,
          87,
          88,
          24,
          33,
          25,
          280,
          61,
          24,
          53,
          25,
          60,
          73,
          55,
          74,
          176,
          31,
          43,
          299,
          107,
          88,
          302,
          40,
          229,
          113,
          180,
          32,
          235,
          49,
          15,
          65,
          56,
          35,
          25,
          135,
          41,
          43,
          35,
          43,
          48,
          41,
          107,
          34,
          40,
          56,
          67,
          50,
          42,
          42,
          289,
          28,
          237,
          85,
          69,
          29,
          28,
          22,
          28,
          21,
          117,
          212,
          22,
          42,
          34,
          68,
          166,
          25,
          68,
          27,
          35,
          181,
          59,
          90,
          33,
          159,
          114,
          69,
          106,
          27,
          37,
          188,
          53,
          79,
          22,
          47,
          24,
          78,
          209,
          239,
          36,
          28,
          29,
          88,
          41,
          79,
          35,
          78,
          152,
          176,
          46,
          24,
          37,
          157,
          275,
          53,
          43,
          300,
          50,
          152,
          61,
          29,
          23,
          54,
          39,
          89,
          60,
          27,
          22,
          61,
          71,
          288,
          58,
          44,
          28,
          130,
          24,
          63
         ],
         "xaxis": "x",
         "y": [
          16.664,
          8.16,
          13.631999999999998,
          9.3,
          28,
          8.08,
          24.136,
          22.575,
          9.999,
          8,
          4.836,
          10,
          2.941,
          29.308,
          24.996000000000002,
          11.805,
          12.376,
          13.041,
          10.836,
          11.596,
          11.401,
          13.088,
          10.41,
          8.021,
          13.916,
          11.284,
          11.492,
          19.668,
          17.24,
          15.149999999999999,
          13.001999999999999,
          24.997,
          21.426000000000002,
          21.426000000000002,
          22.725,
          8.784,
          10.223999999999998,
          11.764,
          13.063999999999998,
          14.443,
          17.142000000000003,
          11.592,
          11.625,
          5.554,
          7.406,
          13.719999999999999,
          18.515,
          3.448,
          21.735000000000003,
          13.533,
          21.735000000000003,
          22.725,
          9.752,
          12.304,
          11.315999999999999,
          8,
          16.662,
          9.756,
          13.461,
          11.424,
          8.976,
          9.43,
          9.25,
          22.575,
          8.736,
          25.8,
          12.491999999999999,
          15.245999999999999,
          10.713000000000001,
          8.582,
          9.09,
          13.038,
          13.943999999999999,
          12.4,
          4.596,
          6.815999999999999,
          24.996000000000002,
          15.149999999999999,
          12,
          13.565999999999999,
          19.668,
          24.996000000000002,
          16.974,
          12,
          16.66,
          10.952,
          9.09,
          8.106,
          11.927999999999999,
          22.575,
          16.275000000000002,
          12.024000000000001,
          8.406,
          13.631999999999998,
          10.592,
          10,
          12.208,
          8.84,
          8.88,
          9.375,
          10.625,
          4.08,
          13.332,
          15.38,
          7.14,
          14.285,
          28,
          9.62,
          12.195,
          9.3,
          11.428,
          18.6,
          16.664,
          12.195,
          11.208,
          17.646,
          7.5,
          19.634999999999998,
          10.443999999999999,
          14,
          11.899999999999999,
          16.66,
          9.687999999999999,
          24.997,
          11.788,
          15.287999999999998,
          13.041,
          20.688,
          10.713000000000001,
          31.814999999999998,
          24.997,
          19.044,
          19.642,
          10.362,
          13.635,
          26.18,
          29.409999999999997,
          14.7,
          10.234,
          24,
          16.169999999999998,
          7.406,
          28.57,
          13.8,
          18.634,
          13.332,
          15.149999999999999,
          9.42,
          12.278,
          14.49,
          7.544,
          40.733,
          13.51,
          8.496,
          13.202,
          7.59,
          4.545,
          8.508,
          12.498000000000001,
          12.82,
          13.384,
          12.54,
          11.108,
          17.855,
          20.688,
          12.495999999999999,
          19.512,
          12.649999999999999,
          22.856,
          11.538,
          11.826,
          11.927999999999999,
          15.211,
          20.830000000000002,
          8.106,
          11.448,
          7.26,
          16.974,
          18.6,
          13.653,
          14,
          11.169,
          13.112,
          20.688,
          34.776,
          5.553,
          17.948,
          10.107,
          4.997999999999999,
          29.624,
          31.814999999999998,
          18.029,
          12.671999999999999,
          8.328,
          13.792,
          13.631999999999998,
          21.426000000000002,
          9.228,
          16.664,
          6.348
         ],
         "yaxis": "y"
        },
        {
         "hoverlabel": {
          "namelength": 0
         },
         "hovertemplate": "author=Maupassant<br>wordCount=%{x}<br>wordsWithPunctuationPercentage=%{y}",
         "legendgroup": "author=Maupassant",
         "marker": {
          "color": "#EF553B",
          "symbol": "circle"
         },
         "mode": "markers",
         "name": "author=Maupassant",
         "showlegend": true,
         "type": "scatter",
         "x": [
          85,
          43,
          80,
          83,
          136,
          29,
          41,
          47,
          185,
          39,
          91,
          32,
          43,
          71,
          59,
          82,
          47,
          56,
          121,
          28,
          48,
          41,
          46,
          47,
          42,
          36,
          26,
          46,
          22,
          34,
          72,
          30,
          24,
          43,
          27,
          33,
          25,
          23,
          40,
          83,
          37,
          49,
          26,
          114,
          56,
          35,
          62,
          41,
          174,
          35,
          65,
          35,
          75,
          26,
          60,
          38,
          38,
          86,
          30,
          35,
          48,
          46,
          63,
          90,
          47,
          127,
          53,
          65,
          89,
          84,
          27,
          101,
          32,
          37,
          43,
          24,
          50,
          30,
          51,
          24,
          80,
          31,
          48,
          33,
          78,
          28,
          27,
          73,
          49,
          56,
          22,
          48,
          30,
          201,
          102,
          21,
          43,
          38,
          52,
          46,
          48,
          32,
          122,
          33,
          76,
          32,
          73,
          56,
          73,
          35,
          32,
          25,
          29,
          53,
          30,
          21,
          221,
          206,
          26,
          71,
          82,
          67,
          29,
          19,
          49,
          237,
          64,
          35,
          88,
          21,
          48,
          214,
          71,
          100,
          67,
          49,
          73,
          24,
          38,
          97,
          24,
          55,
          41,
          197,
          49,
          135,
          35,
          29,
          30,
          31,
          68,
          36,
          72,
          67,
          40,
          52,
          85,
          69,
          38,
          33,
          96,
          19,
          32,
          221,
          92,
          50,
          86,
          32,
          55,
          37,
          134,
          27,
          30,
          40,
          28,
          31,
          26,
          20,
          154,
          35,
          30,
          77,
          40,
          31,
          97,
          23,
          54,
          112,
          28,
          53,
          64,
          47,
          57,
          24,
          82,
          33,
          85,
          22,
          122,
          44
         ],
         "xaxis": "x",
         "y": [
          15.287999999999998,
          11.625,
          16.25,
          14.448,
          9.555,
          6.896,
          21.951,
          6.380999999999999,
          12.96,
          23.076,
          25.254,
          25,
          18.6,
          19.712,
          8.469999999999999,
          10.971,
          4.254,
          8.924999999999999,
          10.738,
          7.142,
          16.664,
          12.195,
          19.557000000000002,
          10.634999999999998,
          19.04,
          11.108,
          19.23,
          23.903,
          22.725,
          11.764,
          8.328,
          9.999,
          4.166,
          9.3,
          11.109,
          9.09,
          8,
          8.694,
          15,
          8.427999999999999,
          27.02,
          8.16,
          15.384,
          9.647,
          8.924999999999999,
          11.428,
          12.896,
          21.951,
          17.22,
          5.714,
          9.228,
          17.142000000000003,
          3.9989999999999997,
          11.538,
          8.33,
          7.892999999999999,
          10.524,
          16.268,
          6.666,
          25.713,
          10.415000000000001,
          6.519,
          15.87,
          13.332,
          25.523999999999997,
          15.74,
          24.517999999999997,
          9.228,
          16.845,
          14.28,
          11.109,
          19.8,
          9.375,
          5.404,
          18.6,
          12.498000000000001,
          14,
          3.333,
          11.76,
          12.498000000000001,
          16.25,
          6.45,
          4.166,
          12.12,
          16.666,
          21.426000000000002,
          22.218,
          10.952,
          8.16,
          14.28,
          4.545,
          18.747,
          6.666,
          6.461,
          10.78,
          9.522,
          13.950000000000001,
          13.155,
          17.307000000000002,
          10.865,
          16.664,
          28.125,
          10.646999999999998,
          24.24,
          21.04,
          12.5,
          12.321,
          7.14,
          13.69,
          11.428,
          21.875,
          16,
          3.448,
          11.315999999999999,
          19.998,
          9.522,
          14.464,
          8.245,
          42.306,
          25.343999999999998,
          12.190000000000001,
          7.46,
          17.24,
          10.526,
          6.12,
          19.787,
          10.934000000000001,
          11.428,
          18.176,
          9.522,
          4.166,
          7.939,
          16.896,
          11,
          7.46,
          12.24,
          2.738,
          41.660000000000004,
          13.155,
          17.51,
          16.664,
          3.636,
          9.756,
          10.647,
          22.44,
          11.1,
          11.428,
          17.24,
          19.998,
          9.675,
          19.11,
          22.216,
          15.267999999999999,
          14.92,
          20,
          11.538,
          9.408,
          26.082,
          13.155,
          9.09,
          10.41,
          10.526,
          9.375,
          14.464,
          6.516,
          14,
          16.268,
          25,
          14.544,
          16.212,
          27.602,
          14.812,
          19.998,
          15,
          21.426000000000002,
          16.125,
          7.692,
          25,
          9.086,
          17.142000000000003,
          13.332,
          19.47,
          7.5,
          6.45,
          10.3,
          4.347,
          5.553,
          12.488,
          21.426000000000002,
          7.544,
          10.934000000000001,
          4.254,
          21.048000000000002,
          4.166,
          14.628,
          24.24,
          7.055999999999999,
          9.09,
          15.561,
          11.36
         ],
         "yaxis": "y"
        },
        {
         "hoverlabel": {
          "namelength": 0
         },
         "hovertemplate": "author=Balzac<br>wordCount=%{x}<br>wordsWithPunctuationPercentage=%{y}",
         "legendgroup": "author=Balzac",
         "marker": {
          "color": "#00cc96",
          "symbol": "circle"
         },
         "mode": "markers",
         "name": "author=Balzac",
         "showlegend": true,
         "type": "scatter",
         "x": [
          110,
          34,
          93,
          50,
          40,
          114,
          36,
          34,
          26,
          85,
          32,
          42,
          189,
          57,
          718,
          26,
          179,
          22,
          119,
          26,
          38,
          97,
          256,
          23,
          103,
          31,
          88,
          20,
          178,
          34,
          22,
          25,
          26,
          51,
          62,
          42,
          26,
          39,
          99,
          116,
          27,
          238,
          24,
          39,
          35,
          301,
          47,
          25,
          980,
          25,
          226,
          168,
          961,
          101,
          29,
          30,
          46,
          203,
          283,
          21,
          27,
          37,
          190,
          25,
          94,
          1377,
          76,
          32,
          82,
          22,
          1187,
          42,
          1296,
          116,
          34,
          38,
          30,
          84,
          27,
          252,
          23,
          49,
          120,
          403,
          74,
          45,
          85,
          27,
          53,
          177,
          504,
          200,
          24,
          195,
          23,
          91,
          24,
          27,
          210,
          50,
          40,
          63,
          47,
          28,
          139,
          42,
          106,
          20,
          36,
          26,
          275,
          409,
          30,
          40,
          153,
          206,
          169,
          541,
          39,
          24,
          74,
          549,
          31,
          39,
          22,
          631,
          224,
          72,
          61,
          27,
          38,
          29,
          527,
          19,
          39,
          1727,
          1317,
          193,
          32,
          38,
          142,
          28,
          21,
          32,
          92,
          34,
          32,
          40,
          40,
          81,
          25,
          155,
          218,
          717,
          368,
          25,
          126,
          28,
          36,
          39,
          63,
          173,
          27,
          39,
          40,
          39,
          341,
          22,
          230,
          56,
          107,
          38,
          58,
          1351,
          55,
          172,
          41,
          72,
          44,
          63,
          24,
          33,
          487,
          22,
          485,
          48,
          32,
          389,
          35,
          138,
          66,
          79,
          16,
          19,
          59,
          26,
          63,
          21,
          137,
          133
         ],
         "xaxis": "x",
         "y": [
          17.271,
          20.587,
          17.2,
          16,
          12.5,
          12.278,
          11.108,
          14.704999999999998,
          15.384,
          14.111999999999998,
          15.625,
          4.76,
          12.167,
          26.31,
          12.788,
          15.384,
          10.602,
          13.635,
          19.32,
          15.384,
          5.262,
          12.36,
          9.36,
          21.735000000000003,
          9.7,
          29.025000000000002,
          7.951999999999999,
          10,
          10.098,
          11.764,
          9.09,
          12,
          19.23,
          23.52,
          8.06,
          19.04,
          11.538,
          10.256,
          11.11,
          10.344,
          11.109,
          12.6,
          4.166,
          12.82,
          11.428,
          11.620000000000001,
          10.634999999999998,
          28,
          8.772,
          28,
          8.398,
          13.684999999999999,
          14.872,
          17.82,
          6.896,
          13.332,
          15.211,
          12.792,
          9.530999999999999,
          14.283000000000001,
          7.406,
          8.106,
          6.838,
          20,
          6.378,
          9.648,
          17.095,
          6.25,
          8.533000000000001,
          22.725,
          9.24,
          26.18,
          8.778,
          14.654,
          11.764,
          10.524,
          23.331000000000003,
          11.899999999999999,
          25.921,
          10.692,
          17.388,
          22.44,
          24.99,
          7.4399999999999995,
          20.265,
          4.444,
          12.936,
          22.218,
          11.315999999999999,
          10.716,
          9.306000000000001,
          13,
          24.996000000000002,
          17.408,
          8.694,
          10.98,
          20.830000000000002,
          14.812,
          10.472,
          16,
          20,
          19.044,
          17.016,
          17.855,
          12.222999999999999,
          9.52,
          15.088,
          15,
          16.662,
          15.384,
          11.979,
          7.076,
          9.999,
          15,
          9.795,
          9.7,
          7.092,
          9.936,
          10.256,
          16.664,
          14.861,
          8.554,
          9.675,
          17.948,
          22.725,
          14.852,
          12.934000000000001,
          4.164,
          18.029,
          11.109,
          10.524,
          6.896,
          12.663,
          42.104,
          15.384,
          12.540000000000001,
          8.1,
          14.504000000000001,
          21.875,
          5.262,
          7.744,
          24.997,
          9.522,
          15.625,
          15.204,
          8.823,
          31.25,
          10,
          10,
          8.638,
          24,
          13.545,
          11.908000000000001,
          11.537,
          10.569,
          24,
          14.274000000000001,
          14.284,
          16.662,
          12.82,
          19.044,
          7.513999999999999,
          37.03,
          15.384,
          10,
          10.256,
          11.719999999999999,
          13.635,
          14.322,
          10.709999999999999,
          7.472,
          21.048,
          12.068,
          9.472,
          5.454000000000001,
          18.011,
          17.073,
          8.328,
          20.447999999999997,
          11.109,
          12.498000000000001,
          27.27,
          15.374999999999998,
          18.18,
          10.918,
          16.664,
          21.875,
          10.537,
          14.285,
          10.136,
          24.24,
          13.915,
          12.5,
          26.314999999999998,
          15.245999999999999,
          19.23,
          7.935,
          9.522,
          13.122,
          14.269
         ],
         "yaxis": "y"
        }
       ],
       "layout": {
        "legend": {
         "tracegroupgap": 0
        },
        "margin": {
         "t": 60
        },
        "template": {
         "data": {
          "bar": [
           {
            "error_x": {
             "color": "#2a3f5f"
            },
            "error_y": {
             "color": "#2a3f5f"
            },
            "marker": {
             "line": {
              "color": "#E5ECF6",
              "width": 0.5
             }
            },
            "type": "bar"
           }
          ],
          "barpolar": [
           {
            "marker": {
             "line": {
              "color": "#E5ECF6",
              "width": 0.5
             }
            },
            "type": "barpolar"
           }
          ],
          "carpet": [
           {
            "aaxis": {
             "endlinecolor": "#2a3f5f",
             "gridcolor": "white",
             "linecolor": "white",
             "minorgridcolor": "white",
             "startlinecolor": "#2a3f5f"
            },
            "baxis": {
             "endlinecolor": "#2a3f5f",
             "gridcolor": "white",
             "linecolor": "white",
             "minorgridcolor": "white",
             "startlinecolor": "#2a3f5f"
            },
            "type": "carpet"
           }
          ],
          "choropleth": [
           {
            "colorbar": {
             "outlinewidth": 0,
             "ticks": ""
            },
            "type": "choropleth"
           }
          ],
          "contour": [
           {
            "colorbar": {
             "outlinewidth": 0,
             "ticks": ""
            },
            "colorscale": [
             [
              0,
              "#0d0887"
             ],
             [
              0.1111111111111111,
              "#46039f"
             ],
             [
              0.2222222222222222,
              "#7201a8"
             ],
             [
              0.3333333333333333,
              "#9c179e"
             ],
             [
              0.4444444444444444,
              "#bd3786"
             ],
             [
              0.5555555555555556,
              "#d8576b"
             ],
             [
              0.6666666666666666,
              "#ed7953"
             ],
             [
              0.7777777777777778,
              "#fb9f3a"
             ],
             [
              0.8888888888888888,
              "#fdca26"
             ],
             [
              1,
              "#f0f921"
             ]
            ],
            "type": "contour"
           }
          ],
          "contourcarpet": [
           {
            "colorbar": {
             "outlinewidth": 0,
             "ticks": ""
            },
            "type": "contourcarpet"
           }
          ],
          "heatmap": [
           {
            "colorbar": {
             "outlinewidth": 0,
             "ticks": ""
            },
            "colorscale": [
             [
              0,
              "#0d0887"
             ],
             [
              0.1111111111111111,
              "#46039f"
             ],
             [
              0.2222222222222222,
              "#7201a8"
             ],
             [
              0.3333333333333333,
              "#9c179e"
             ],
             [
              0.4444444444444444,
              "#bd3786"
             ],
             [
              0.5555555555555556,
              "#d8576b"
             ],
             [
              0.6666666666666666,
              "#ed7953"
             ],
             [
              0.7777777777777778,
              "#fb9f3a"
             ],
             [
              0.8888888888888888,
              "#fdca26"
             ],
             [
              1,
              "#f0f921"
             ]
            ],
            "type": "heatmap"
           }
          ],
          "heatmapgl": [
           {
            "colorbar": {
             "outlinewidth": 0,
             "ticks": ""
            },
            "colorscale": [
             [
              0,
              "#0d0887"
             ],
             [
              0.1111111111111111,
              "#46039f"
             ],
             [
              0.2222222222222222,
              "#7201a8"
             ],
             [
              0.3333333333333333,
              "#9c179e"
             ],
             [
              0.4444444444444444,
              "#bd3786"
             ],
             [
              0.5555555555555556,
              "#d8576b"
             ],
             [
              0.6666666666666666,
              "#ed7953"
             ],
             [
              0.7777777777777778,
              "#fb9f3a"
             ],
             [
              0.8888888888888888,
              "#fdca26"
             ],
             [
              1,
              "#f0f921"
             ]
            ],
            "type": "heatmapgl"
           }
          ],
          "histogram": [
           {
            "marker": {
             "colorbar": {
              "outlinewidth": 0,
              "ticks": ""
             }
            },
            "type": "histogram"
           }
          ],
          "histogram2d": [
           {
            "colorbar": {
             "outlinewidth": 0,
             "ticks": ""
            },
            "colorscale": [
             [
              0,
              "#0d0887"
             ],
             [
              0.1111111111111111,
              "#46039f"
             ],
             [
              0.2222222222222222,
              "#7201a8"
             ],
             [
              0.3333333333333333,
              "#9c179e"
             ],
             [
              0.4444444444444444,
              "#bd3786"
             ],
             [
              0.5555555555555556,
              "#d8576b"
             ],
             [
              0.6666666666666666,
              "#ed7953"
             ],
             [
              0.7777777777777778,
              "#fb9f3a"
             ],
             [
              0.8888888888888888,
              "#fdca26"
             ],
             [
              1,
              "#f0f921"
             ]
            ],
            "type": "histogram2d"
           }
          ],
          "histogram2dcontour": [
           {
            "colorbar": {
             "outlinewidth": 0,
             "ticks": ""
            },
            "colorscale": [
             [
              0,
              "#0d0887"
             ],
             [
              0.1111111111111111,
              "#46039f"
             ],
             [
              0.2222222222222222,
              "#7201a8"
             ],
             [
              0.3333333333333333,
              "#9c179e"
             ],
             [
              0.4444444444444444,
              "#bd3786"
             ],
             [
              0.5555555555555556,
              "#d8576b"
             ],
             [
              0.6666666666666666,
              "#ed7953"
             ],
             [
              0.7777777777777778,
              "#fb9f3a"
             ],
             [
              0.8888888888888888,
              "#fdca26"
             ],
             [
              1,
              "#f0f921"
             ]
            ],
            "type": "histogram2dcontour"
           }
          ],
          "mesh3d": [
           {
            "colorbar": {
             "outlinewidth": 0,
             "ticks": ""
            },
            "type": "mesh3d"
           }
          ],
          "parcoords": [
           {
            "line": {
             "colorbar": {
              "outlinewidth": 0,
              "ticks": ""
             }
            },
            "type": "parcoords"
           }
          ],
          "pie": [
           {
            "automargin": true,
            "type": "pie"
           }
          ],
          "scatter": [
           {
            "marker": {
             "colorbar": {
              "outlinewidth": 0,
              "ticks": ""
             }
            },
            "type": "scatter"
           }
          ],
          "scatter3d": [
           {
            "line": {
             "colorbar": {
              "outlinewidth": 0,
              "ticks": ""
             }
            },
            "marker": {
             "colorbar": {
              "outlinewidth": 0,
              "ticks": ""
             }
            },
            "type": "scatter3d"
           }
          ],
          "scattercarpet": [
           {
            "marker": {
             "colorbar": {
              "outlinewidth": 0,
              "ticks": ""
             }
            },
            "type": "scattercarpet"
           }
          ],
          "scattergeo": [
           {
            "marker": {
             "colorbar": {
              "outlinewidth": 0,
              "ticks": ""
             }
            },
            "type": "scattergeo"
           }
          ],
          "scattergl": [
           {
            "marker": {
             "colorbar": {
              "outlinewidth": 0,
              "ticks": ""
             }
            },
            "type": "scattergl"
           }
          ],
          "scattermapbox": [
           {
            "marker": {
             "colorbar": {
              "outlinewidth": 0,
              "ticks": ""
             }
            },
            "type": "scattermapbox"
           }
          ],
          "scatterpolar": [
           {
            "marker": {
             "colorbar": {
              "outlinewidth": 0,
              "ticks": ""
             }
            },
            "type": "scatterpolar"
           }
          ],
          "scatterpolargl": [
           {
            "marker": {
             "colorbar": {
              "outlinewidth": 0,
              "ticks": ""
             }
            },
            "type": "scatterpolargl"
           }
          ],
          "scatterternary": [
           {
            "marker": {
             "colorbar": {
              "outlinewidth": 0,
              "ticks": ""
             }
            },
            "type": "scatterternary"
           }
          ],
          "surface": [
           {
            "colorbar": {
             "outlinewidth": 0,
             "ticks": ""
            },
            "colorscale": [
             [
              0,
              "#0d0887"
             ],
             [
              0.1111111111111111,
              "#46039f"
             ],
             [
              0.2222222222222222,
              "#7201a8"
             ],
             [
              0.3333333333333333,
              "#9c179e"
             ],
             [
              0.4444444444444444,
              "#bd3786"
             ],
             [
              0.5555555555555556,
              "#d8576b"
             ],
             [
              0.6666666666666666,
              "#ed7953"
             ],
             [
              0.7777777777777778,
              "#fb9f3a"
             ],
             [
              0.8888888888888888,
              "#fdca26"
             ],
             [
              1,
              "#f0f921"
             ]
            ],
            "type": "surface"
           }
          ],
          "table": [
           {
            "cells": {
             "fill": {
              "color": "#EBF0F8"
             },
             "line": {
              "color": "white"
             }
            },
            "header": {
             "fill": {
              "color": "#C8D4E3"
             },
             "line": {
              "color": "white"
             }
            },
            "type": "table"
           }
          ]
         },
         "layout": {
          "annotationdefaults": {
           "arrowcolor": "#2a3f5f",
           "arrowhead": 0,
           "arrowwidth": 1
          },
          "coloraxis": {
           "colorbar": {
            "outlinewidth": 0,
            "ticks": ""
           }
          },
          "colorscale": {
           "diverging": [
            [
             0,
             "#8e0152"
            ],
            [
             0.1,
             "#c51b7d"
            ],
            [
             0.2,
             "#de77ae"
            ],
            [
             0.3,
             "#f1b6da"
            ],
            [
             0.4,
             "#fde0ef"
            ],
            [
             0.5,
             "#f7f7f7"
            ],
            [
             0.6,
             "#e6f5d0"
            ],
            [
             0.7,
             "#b8e186"
            ],
            [
             0.8,
             "#7fbc41"
            ],
            [
             0.9,
             "#4d9221"
            ],
            [
             1,
             "#276419"
            ]
           ],
           "sequential": [
            [
             0,
             "#0d0887"
            ],
            [
             0.1111111111111111,
             "#46039f"
            ],
            [
             0.2222222222222222,
             "#7201a8"
            ],
            [
             0.3333333333333333,
             "#9c179e"
            ],
            [
             0.4444444444444444,
             "#bd3786"
            ],
            [
             0.5555555555555556,
             "#d8576b"
            ],
            [
             0.6666666666666666,
             "#ed7953"
            ],
            [
             0.7777777777777778,
             "#fb9f3a"
            ],
            [
             0.8888888888888888,
             "#fdca26"
            ],
            [
             1,
             "#f0f921"
            ]
           ],
           "sequentialminus": [
            [
             0,
             "#0d0887"
            ],
            [
             0.1111111111111111,
             "#46039f"
            ],
            [
             0.2222222222222222,
             "#7201a8"
            ],
            [
             0.3333333333333333,
             "#9c179e"
            ],
            [
             0.4444444444444444,
             "#bd3786"
            ],
            [
             0.5555555555555556,
             "#d8576b"
            ],
            [
             0.6666666666666666,
             "#ed7953"
            ],
            [
             0.7777777777777778,
             "#fb9f3a"
            ],
            [
             0.8888888888888888,
             "#fdca26"
            ],
            [
             1,
             "#f0f921"
            ]
           ]
          },
          "colorway": [
           "#636efa",
           "#EF553B",
           "#00cc96",
           "#ab63fa",
           "#FFA15A",
           "#19d3f3",
           "#FF6692",
           "#B6E880",
           "#FF97FF",
           "#FECB52"
          ],
          "font": {
           "color": "#2a3f5f"
          },
          "geo": {
           "bgcolor": "white",
           "lakecolor": "white",
           "landcolor": "#E5ECF6",
           "showlakes": true,
           "showland": true,
           "subunitcolor": "white"
          },
          "hoverlabel": {
           "align": "left"
          },
          "hovermode": "closest",
          "mapbox": {
           "style": "light"
          },
          "paper_bgcolor": "white",
          "plot_bgcolor": "#E5ECF6",
          "polar": {
           "angularaxis": {
            "gridcolor": "white",
            "linecolor": "white",
            "ticks": ""
           },
           "bgcolor": "#E5ECF6",
           "radialaxis": {
            "gridcolor": "white",
            "linecolor": "white",
            "ticks": ""
           }
          },
          "scene": {
           "xaxis": {
            "backgroundcolor": "#E5ECF6",
            "gridcolor": "white",
            "gridwidth": 2,
            "linecolor": "white",
            "showbackground": true,
            "ticks": "",
            "zerolinecolor": "white"
           },
           "yaxis": {
            "backgroundcolor": "#E5ECF6",
            "gridcolor": "white",
            "gridwidth": 2,
            "linecolor": "white",
            "showbackground": true,
            "ticks": "",
            "zerolinecolor": "white"
           },
           "zaxis": {
            "backgroundcolor": "#E5ECF6",
            "gridcolor": "white",
            "gridwidth": 2,
            "linecolor": "white",
            "showbackground": true,
            "ticks": "",
            "zerolinecolor": "white"
           }
          },
          "shapedefaults": {
           "line": {
            "color": "#2a3f5f"
           }
          },
          "ternary": {
           "aaxis": {
            "gridcolor": "white",
            "linecolor": "white",
            "ticks": ""
           },
           "baxis": {
            "gridcolor": "white",
            "linecolor": "white",
            "ticks": ""
           },
           "bgcolor": "#E5ECF6",
           "caxis": {
            "gridcolor": "white",
            "linecolor": "white",
            "ticks": ""
           }
          },
          "title": {
           "x": 0.05
          },
          "xaxis": {
           "automargin": true,
           "gridcolor": "white",
           "linecolor": "white",
           "ticks": "",
           "title": {
            "standoff": 15
           },
           "zerolinecolor": "white",
           "zerolinewidth": 2
          },
          "yaxis": {
           "automargin": true,
           "gridcolor": "white",
           "linecolor": "white",
           "ticks": "",
           "title": {
            "standoff": 15
           },
           "zerolinecolor": "white",
           "zerolinewidth": 2
          }
         }
        },
        "xaxis": {
         "anchor": "y",
         "domain": [
          0,
          1
         ],
         "title": {
          "text": "wordCount"
         }
        },
        "yaxis": {
         "anchor": "x",
         "domain": [
          0,
          1
         ],
         "title": {
          "text": "wordsWithPunctuationPercentage"
         }
        }
       }
      },
      "text/html": [
       "<div>\n",
       "        \n",
       "        \n",
       "            <div id=\"ce125c71-8f84-4dbe-8d27-8c4f51f7c3a9\" class=\"plotly-graph-div\" style=\"height:525px; width:100%;\"></div>\n",
       "            <script type=\"text/javascript\">\n",
       "                require([\"plotly\"], function(Plotly) {\n",
       "                    window.PLOTLYENV=window.PLOTLYENV || {};\n",
       "                    \n",
       "                if (document.getElementById(\"ce125c71-8f84-4dbe-8d27-8c4f51f7c3a9\")) {\n",
       "                    Plotly.newPlot(\n",
       "                        'ce125c71-8f84-4dbe-8d27-8c4f51f7c3a9',\n",
       "                        [{\"hoverlabel\": {\"namelength\": 0}, \"hovertemplate\": \"author=Zola<br>wordCount=%{x}<br>wordsWithPunctuationPercentage=%{y}\", \"legendgroup\": \"author=Zola\", \"marker\": {\"color\": \"#636efa\", \"symbol\": \"circle\"}, \"mode\": \"markers\", \"name\": \"author=Zola\", \"showlegend\": true, \"type\": \"scatter\", \"x\": [48, 49, 88, 43, 25, 247, 29, 31, 30, 200, 62, 20, 34, 58, 24, 127, 105, 23, 166, 112, 114, 244, 96, 162, 201, 62, 113, 61, 29, 33, 169, 28, 28, 28, 22, 91, 88, 34, 176, 90, 35, 69, 43, 36, 27, 51, 27, 29, 23, 96, 23, 22, 82, 65, 106, 25, 36, 41, 52, 210, 178, 53, 108, 31, 183, 31, 72, 59, 28, 163, 22, 46, 172, 129, 87, 88, 24, 33, 25, 280, 61, 24, 53, 25, 60, 73, 55, 74, 176, 31, 43, 299, 107, 88, 302, 40, 229, 113, 180, 32, 235, 49, 15, 65, 56, 35, 25, 135, 41, 43, 35, 43, 48, 41, 107, 34, 40, 56, 67, 50, 42, 42, 289, 28, 237, 85, 69, 29, 28, 22, 28, 21, 117, 212, 22, 42, 34, 68, 166, 25, 68, 27, 35, 181, 59, 90, 33, 159, 114, 69, 106, 27, 37, 188, 53, 79, 22, 47, 24, 78, 209, 239, 36, 28, 29, 88, 41, 79, 35, 78, 152, 176, 46, 24, 37, 157, 275, 53, 43, 300, 50, 152, 61, 29, 23, 54, 39, 89, 60, 27, 22, 61, 71, 288, 58, 44, 28, 130, 24, 63], \"xaxis\": \"x\", \"y\": [16.664, 8.16, 13.631999999999998, 9.3, 28.0, 8.08, 24.136, 22.575, 9.999, 8.0, 4.836, 10.0, 2.941, 29.308, 24.996000000000002, 11.805, 12.376, 13.041, 10.836, 11.596, 11.401, 13.088, 10.41, 8.021, 13.916, 11.284, 11.492, 19.668, 17.24, 15.149999999999999, 13.001999999999999, 24.997, 21.426000000000002, 21.426000000000002, 22.725, 8.784, 10.223999999999998, 11.764, 13.063999999999998, 14.443, 17.142000000000003, 11.592, 11.625, 5.554, 7.406, 13.719999999999999, 18.515, 3.448, 21.735000000000003, 13.533, 21.735000000000003, 22.725, 9.752, 12.304, 11.315999999999999, 8.0, 16.662, 9.756, 13.461, 11.424, 8.976, 9.43, 9.25, 22.575, 8.736, 25.8, 12.491999999999999, 15.245999999999999, 10.713000000000001, 8.582, 9.09, 13.038, 13.943999999999999, 12.4, 4.596, 6.815999999999999, 24.996000000000002, 15.149999999999999, 12.0, 13.565999999999999, 19.668, 24.996000000000002, 16.974, 12.0, 16.66, 10.952, 9.09, 8.106, 11.927999999999999, 22.575, 16.275000000000002, 12.024000000000001, 8.406, 13.631999999999998, 10.592, 10.0, 12.208, 8.84, 8.88, 9.375, 10.625, 4.08, 13.332, 15.38, 7.14, 14.285, 28.0, 9.62, 12.195, 9.3, 11.428, 18.6, 16.664, 12.195, 11.208, 17.646, 7.5, 19.634999999999998, 10.443999999999999, 14.0, 11.899999999999999, 16.66, 9.687999999999999, 24.997, 11.788, 15.287999999999998, 13.041, 20.688, 10.713000000000001, 31.814999999999998, 24.997, 19.044, 19.642, 10.362, 13.635, 26.18, 29.409999999999997, 14.7, 10.234, 24.0, 16.169999999999998, 7.406, 28.57, 13.8, 18.634, 13.332, 15.149999999999999, 9.42, 12.278, 14.49, 7.544, 40.733, 13.51, 8.496, 13.202, 7.59, 4.545, 8.508, 12.498000000000001, 12.82, 13.384, 12.54, 11.108, 17.855, 20.688, 12.495999999999999, 19.512, 12.649999999999999, 22.856, 11.538, 11.826, 11.927999999999999, 15.211, 20.830000000000002, 8.106, 11.448, 7.26, 16.974, 18.6, 13.653, 14.0, 11.169, 13.112, 20.688, 34.776, 5.553, 17.948, 10.107, 4.997999999999999, 29.624, 31.814999999999998, 18.029, 12.671999999999999, 8.328, 13.792, 13.631999999999998, 21.426000000000002, 9.228, 16.664, 6.348], \"yaxis\": \"y\"}, {\"hoverlabel\": {\"namelength\": 0}, \"hovertemplate\": \"author=Maupassant<br>wordCount=%{x}<br>wordsWithPunctuationPercentage=%{y}\", \"legendgroup\": \"author=Maupassant\", \"marker\": {\"color\": \"#EF553B\", \"symbol\": \"circle\"}, \"mode\": \"markers\", \"name\": \"author=Maupassant\", \"showlegend\": true, \"type\": \"scatter\", \"x\": [85, 43, 80, 83, 136, 29, 41, 47, 185, 39, 91, 32, 43, 71, 59, 82, 47, 56, 121, 28, 48, 41, 46, 47, 42, 36, 26, 46, 22, 34, 72, 30, 24, 43, 27, 33, 25, 23, 40, 83, 37, 49, 26, 114, 56, 35, 62, 41, 174, 35, 65, 35, 75, 26, 60, 38, 38, 86, 30, 35, 48, 46, 63, 90, 47, 127, 53, 65, 89, 84, 27, 101, 32, 37, 43, 24, 50, 30, 51, 24, 80, 31, 48, 33, 78, 28, 27, 73, 49, 56, 22, 48, 30, 201, 102, 21, 43, 38, 52, 46, 48, 32, 122, 33, 76, 32, 73, 56, 73, 35, 32, 25, 29, 53, 30, 21, 221, 206, 26, 71, 82, 67, 29, 19, 49, 237, 64, 35, 88, 21, 48, 214, 71, 100, 67, 49, 73, 24, 38, 97, 24, 55, 41, 197, 49, 135, 35, 29, 30, 31, 68, 36, 72, 67, 40, 52, 85, 69, 38, 33, 96, 19, 32, 221, 92, 50, 86, 32, 55, 37, 134, 27, 30, 40, 28, 31, 26, 20, 154, 35, 30, 77, 40, 31, 97, 23, 54, 112, 28, 53, 64, 47, 57, 24, 82, 33, 85, 22, 122, 44], \"xaxis\": \"x\", \"y\": [15.287999999999998, 11.625, 16.25, 14.448, 9.555, 6.896, 21.951, 6.380999999999999, 12.96, 23.076, 25.254, 25.0, 18.6, 19.712, 8.469999999999999, 10.971, 4.254, 8.924999999999999, 10.738, 7.142, 16.664, 12.195, 19.557000000000002, 10.634999999999998, 19.04, 11.108, 19.23, 23.903, 22.725, 11.764, 8.328, 9.999, 4.166, 9.3, 11.109, 9.09, 8.0, 8.694, 15.0, 8.427999999999999, 27.02, 8.16, 15.384, 9.647, 8.924999999999999, 11.428, 12.896, 21.951, 17.22, 5.714, 9.228, 17.142000000000003, 3.9989999999999997, 11.538, 8.33, 7.892999999999999, 10.524, 16.268, 6.666, 25.713, 10.415000000000001, 6.519, 15.87, 13.332, 25.523999999999997, 15.74, 24.517999999999997, 9.228, 16.845, 14.28, 11.109, 19.8, 9.375, 5.404, 18.6, 12.498000000000001, 14.0, 3.333, 11.76, 12.498000000000001, 16.25, 6.45, 4.166, 12.12, 16.666, 21.426000000000002, 22.218, 10.952, 8.16, 14.28, 4.545, 18.747, 6.666, 6.461, 10.78, 9.522, 13.950000000000001, 13.155, 17.307000000000002, 10.865, 16.664, 28.125, 10.646999999999998, 24.24, 21.04, 12.5, 12.321, 7.14, 13.69, 11.428, 21.875, 16.0, 3.448, 11.315999999999999, 19.998, 9.522, 14.464, 8.245, 42.306, 25.343999999999998, 12.190000000000001, 7.46, 17.24, 10.526, 6.12, 19.787, 10.934000000000001, 11.428, 18.176, 9.522, 4.166, 7.939, 16.896, 11.0, 7.46, 12.24, 2.738, 41.660000000000004, 13.155, 17.51, 16.664, 3.636, 9.756, 10.647, 22.44, 11.1, 11.428, 17.24, 19.998, 9.675, 19.11, 22.216, 15.267999999999999, 14.92, 20.0, 11.538, 9.408, 26.082, 13.155, 9.09, 10.41, 10.526, 9.375, 14.464, 6.516, 14.0, 16.268, 25.0, 14.544, 16.212, 27.602, 14.812, 19.998, 15.0, 21.426000000000002, 16.125, 7.692, 25.0, 9.086, 17.142000000000003, 13.332, 19.47, 7.5, 6.45, 10.3, 4.347, 5.553, 12.488, 21.426000000000002, 7.544, 10.934000000000001, 4.254, 21.048000000000002, 4.166, 14.628, 24.24, 7.055999999999999, 9.09, 15.561, 11.36], \"yaxis\": \"y\"}, {\"hoverlabel\": {\"namelength\": 0}, \"hovertemplate\": \"author=Balzac<br>wordCount=%{x}<br>wordsWithPunctuationPercentage=%{y}\", \"legendgroup\": \"author=Balzac\", \"marker\": {\"color\": \"#00cc96\", \"symbol\": \"circle\"}, \"mode\": \"markers\", \"name\": \"author=Balzac\", \"showlegend\": true, \"type\": \"scatter\", \"x\": [110, 34, 93, 50, 40, 114, 36, 34, 26, 85, 32, 42, 189, 57, 718, 26, 179, 22, 119, 26, 38, 97, 256, 23, 103, 31, 88, 20, 178, 34, 22, 25, 26, 51, 62, 42, 26, 39, 99, 116, 27, 238, 24, 39, 35, 301, 47, 25, 980, 25, 226, 168, 961, 101, 29, 30, 46, 203, 283, 21, 27, 37, 190, 25, 94, 1377, 76, 32, 82, 22, 1187, 42, 1296, 116, 34, 38, 30, 84, 27, 252, 23, 49, 120, 403, 74, 45, 85, 27, 53, 177, 504, 200, 24, 195, 23, 91, 24, 27, 210, 50, 40, 63, 47, 28, 139, 42, 106, 20, 36, 26, 275, 409, 30, 40, 153, 206, 169, 541, 39, 24, 74, 549, 31, 39, 22, 631, 224, 72, 61, 27, 38, 29, 527, 19, 39, 1727, 1317, 193, 32, 38, 142, 28, 21, 32, 92, 34, 32, 40, 40, 81, 25, 155, 218, 717, 368, 25, 126, 28, 36, 39, 63, 173, 27, 39, 40, 39, 341, 22, 230, 56, 107, 38, 58, 1351, 55, 172, 41, 72, 44, 63, 24, 33, 487, 22, 485, 48, 32, 389, 35, 138, 66, 79, 16, 19, 59, 26, 63, 21, 137, 133], \"xaxis\": \"x\", \"y\": [17.271, 20.587, 17.2, 16.0, 12.5, 12.278, 11.108, 14.704999999999998, 15.384, 14.111999999999998, 15.625, 4.76, 12.167, 26.31, 12.788, 15.384, 10.602, 13.635, 19.32, 15.384, 5.262, 12.36, 9.36, 21.735000000000003, 9.7, 29.025000000000002, 7.951999999999999, 10.0, 10.098, 11.764, 9.09, 12.0, 19.23, 23.52, 8.06, 19.04, 11.538, 10.256, 11.11, 10.344, 11.109, 12.6, 4.166, 12.82, 11.428, 11.620000000000001, 10.634999999999998, 28.0, 8.772, 28.0, 8.398, 13.684999999999999, 14.872, 17.82, 6.896, 13.332, 15.211, 12.792, 9.530999999999999, 14.283000000000001, 7.406, 8.106, 6.838, 20.0, 6.378, 9.648, 17.095, 6.25, 8.533000000000001, 22.725, 9.24, 26.18, 8.778, 14.654, 11.764, 10.524, 23.331000000000003, 11.899999999999999, 25.921, 10.692, 17.388, 22.44, 24.99, 7.4399999999999995, 20.265, 4.444, 12.936, 22.218, 11.315999999999999, 10.716, 9.306000000000001, 13.0, 24.996000000000002, 17.408, 8.694, 10.98, 20.830000000000002, 14.812, 10.472, 16.0, 20.0, 19.044, 17.016, 17.855, 12.222999999999999, 9.52, 15.088, 15.0, 16.662, 15.384, 11.979, 7.076, 9.999, 15.0, 9.795, 9.7, 7.092, 9.936, 10.256, 16.664, 14.861, 8.554, 9.675, 17.948, 22.725, 14.852, 12.934000000000001, 4.164, 18.029, 11.109, 10.524, 6.896, 12.663, 42.104, 15.384, 12.540000000000001, 8.1, 14.504000000000001, 21.875, 5.262, 7.744, 24.997, 9.522, 15.625, 15.204, 8.823, 31.25, 10.0, 10.0, 8.638, 24.0, 13.545, 11.908000000000001, 11.537, 10.569, 24.0, 14.274000000000001, 14.284, 16.662, 12.82, 19.044, 7.513999999999999, 37.03, 15.384, 10.0, 10.256, 11.719999999999999, 13.635, 14.322, 10.709999999999999, 7.472, 21.048, 12.068, 9.472, 5.454000000000001, 18.011, 17.073, 8.328, 20.447999999999997, 11.109, 12.498000000000001, 27.27, 15.374999999999998, 18.18, 10.918, 16.664, 21.875, 10.537, 14.285, 10.136, 24.24, 13.915, 12.5, 26.314999999999998, 15.245999999999999, 19.23, 7.935, 9.522, 13.122, 14.269], \"yaxis\": \"y\"}],\n",
       "                        {\"legend\": {\"tracegroupgap\": 0}, \"margin\": {\"t\": 60}, \"template\": {\"data\": {\"bar\": [{\"error_x\": {\"color\": \"#2a3f5f\"}, \"error_y\": {\"color\": \"#2a3f5f\"}, \"marker\": {\"line\": {\"color\": \"#E5ECF6\", \"width\": 0.5}}, \"type\": \"bar\"}], \"barpolar\": [{\"marker\": {\"line\": {\"color\": \"#E5ECF6\", \"width\": 0.5}}, \"type\": \"barpolar\"}], \"carpet\": [{\"aaxis\": {\"endlinecolor\": \"#2a3f5f\", \"gridcolor\": \"white\", \"linecolor\": \"white\", \"minorgridcolor\": \"white\", \"startlinecolor\": \"#2a3f5f\"}, \"baxis\": {\"endlinecolor\": \"#2a3f5f\", \"gridcolor\": \"white\", \"linecolor\": \"white\", \"minorgridcolor\": \"white\", \"startlinecolor\": \"#2a3f5f\"}, \"type\": \"carpet\"}], \"choropleth\": [{\"colorbar\": {\"outlinewidth\": 0, \"ticks\": \"\"}, \"type\": \"choropleth\"}], \"contour\": [{\"colorbar\": {\"outlinewidth\": 0, \"ticks\": \"\"}, \"colorscale\": [[0.0, \"#0d0887\"], [0.1111111111111111, \"#46039f\"], [0.2222222222222222, \"#7201a8\"], [0.3333333333333333, \"#9c179e\"], [0.4444444444444444, \"#bd3786\"], [0.5555555555555556, \"#d8576b\"], [0.6666666666666666, \"#ed7953\"], [0.7777777777777778, \"#fb9f3a\"], [0.8888888888888888, \"#fdca26\"], [1.0, \"#f0f921\"]], \"type\": \"contour\"}], \"contourcarpet\": [{\"colorbar\": {\"outlinewidth\": 0, \"ticks\": \"\"}, \"type\": \"contourcarpet\"}], \"heatmap\": [{\"colorbar\": {\"outlinewidth\": 0, \"ticks\": \"\"}, \"colorscale\": [[0.0, \"#0d0887\"], [0.1111111111111111, \"#46039f\"], [0.2222222222222222, \"#7201a8\"], [0.3333333333333333, \"#9c179e\"], [0.4444444444444444, \"#bd3786\"], [0.5555555555555556, \"#d8576b\"], [0.6666666666666666, \"#ed7953\"], [0.7777777777777778, \"#fb9f3a\"], [0.8888888888888888, \"#fdca26\"], [1.0, \"#f0f921\"]], \"type\": \"heatmap\"}], \"heatmapgl\": [{\"colorbar\": {\"outlinewidth\": 0, \"ticks\": \"\"}, \"colorscale\": [[0.0, \"#0d0887\"], [0.1111111111111111, \"#46039f\"], [0.2222222222222222, \"#7201a8\"], [0.3333333333333333, \"#9c179e\"], [0.4444444444444444, \"#bd3786\"], [0.5555555555555556, \"#d8576b\"], [0.6666666666666666, \"#ed7953\"], [0.7777777777777778, \"#fb9f3a\"], [0.8888888888888888, \"#fdca26\"], [1.0, \"#f0f921\"]], \"type\": \"heatmapgl\"}], \"histogram\": [{\"marker\": {\"colorbar\": {\"outlinewidth\": 0, \"ticks\": \"\"}}, \"type\": \"histogram\"}], \"histogram2d\": [{\"colorbar\": {\"outlinewidth\": 0, \"ticks\": \"\"}, \"colorscale\": [[0.0, \"#0d0887\"], [0.1111111111111111, \"#46039f\"], [0.2222222222222222, \"#7201a8\"], [0.3333333333333333, \"#9c179e\"], [0.4444444444444444, \"#bd3786\"], [0.5555555555555556, \"#d8576b\"], [0.6666666666666666, \"#ed7953\"], [0.7777777777777778, \"#fb9f3a\"], [0.8888888888888888, \"#fdca26\"], [1.0, \"#f0f921\"]], \"type\": \"histogram2d\"}], \"histogram2dcontour\": [{\"colorbar\": {\"outlinewidth\": 0, \"ticks\": \"\"}, \"colorscale\": [[0.0, \"#0d0887\"], [0.1111111111111111, \"#46039f\"], [0.2222222222222222, \"#7201a8\"], [0.3333333333333333, \"#9c179e\"], [0.4444444444444444, \"#bd3786\"], [0.5555555555555556, \"#d8576b\"], [0.6666666666666666, \"#ed7953\"], [0.7777777777777778, \"#fb9f3a\"], [0.8888888888888888, \"#fdca26\"], [1.0, \"#f0f921\"]], \"type\": \"histogram2dcontour\"}], \"mesh3d\": [{\"colorbar\": {\"outlinewidth\": 0, \"ticks\": \"\"}, \"type\": \"mesh3d\"}], \"parcoords\": [{\"line\": {\"colorbar\": {\"outlinewidth\": 0, \"ticks\": \"\"}}, \"type\": \"parcoords\"}], \"pie\": [{\"automargin\": true, \"type\": \"pie\"}], \"scatter\": [{\"marker\": {\"colorbar\": {\"outlinewidth\": 0, \"ticks\": \"\"}}, \"type\": \"scatter\"}], \"scatter3d\": [{\"line\": {\"colorbar\": {\"outlinewidth\": 0, \"ticks\": \"\"}}, \"marker\": {\"colorbar\": {\"outlinewidth\": 0, \"ticks\": \"\"}}, \"type\": \"scatter3d\"}], \"scattercarpet\": [{\"marker\": {\"colorbar\": {\"outlinewidth\": 0, \"ticks\": \"\"}}, \"type\": \"scattercarpet\"}], \"scattergeo\": [{\"marker\": {\"colorbar\": {\"outlinewidth\": 0, \"ticks\": \"\"}}, \"type\": \"scattergeo\"}], \"scattergl\": [{\"marker\": {\"colorbar\": {\"outlinewidth\": 0, \"ticks\": \"\"}}, \"type\": \"scattergl\"}], \"scattermapbox\": [{\"marker\": {\"colorbar\": {\"outlinewidth\": 0, \"ticks\": \"\"}}, \"type\": \"scattermapbox\"}], \"scatterpolar\": [{\"marker\": {\"colorbar\": {\"outlinewidth\": 0, \"ticks\": \"\"}}, \"type\": \"scatterpolar\"}], \"scatterpolargl\": [{\"marker\": {\"colorbar\": {\"outlinewidth\": 0, \"ticks\": \"\"}}, \"type\": \"scatterpolargl\"}], \"scatterternary\": [{\"marker\": {\"colorbar\": {\"outlinewidth\": 0, \"ticks\": \"\"}}, \"type\": \"scatterternary\"}], \"surface\": [{\"colorbar\": {\"outlinewidth\": 0, \"ticks\": \"\"}, \"colorscale\": [[0.0, \"#0d0887\"], [0.1111111111111111, \"#46039f\"], [0.2222222222222222, \"#7201a8\"], [0.3333333333333333, \"#9c179e\"], [0.4444444444444444, \"#bd3786\"], [0.5555555555555556, \"#d8576b\"], [0.6666666666666666, \"#ed7953\"], [0.7777777777777778, \"#fb9f3a\"], [0.8888888888888888, \"#fdca26\"], [1.0, \"#f0f921\"]], \"type\": \"surface\"}], \"table\": [{\"cells\": {\"fill\": {\"color\": \"#EBF0F8\"}, \"line\": {\"color\": \"white\"}}, \"header\": {\"fill\": {\"color\": \"#C8D4E3\"}, \"line\": {\"color\": \"white\"}}, \"type\": \"table\"}]}, \"layout\": {\"annotationdefaults\": {\"arrowcolor\": \"#2a3f5f\", \"arrowhead\": 0, \"arrowwidth\": 1}, \"coloraxis\": {\"colorbar\": {\"outlinewidth\": 0, \"ticks\": \"\"}}, \"colorscale\": {\"diverging\": [[0, \"#8e0152\"], [0.1, \"#c51b7d\"], [0.2, \"#de77ae\"], [0.3, \"#f1b6da\"], [0.4, \"#fde0ef\"], [0.5, \"#f7f7f7\"], [0.6, \"#e6f5d0\"], [0.7, \"#b8e186\"], [0.8, \"#7fbc41\"], [0.9, \"#4d9221\"], [1, \"#276419\"]], \"sequential\": [[0.0, \"#0d0887\"], [0.1111111111111111, \"#46039f\"], [0.2222222222222222, \"#7201a8\"], [0.3333333333333333, \"#9c179e\"], [0.4444444444444444, \"#bd3786\"], [0.5555555555555556, \"#d8576b\"], [0.6666666666666666, \"#ed7953\"], [0.7777777777777778, \"#fb9f3a\"], [0.8888888888888888, \"#fdca26\"], [1.0, \"#f0f921\"]], \"sequentialminus\": [[0.0, \"#0d0887\"], [0.1111111111111111, \"#46039f\"], [0.2222222222222222, \"#7201a8\"], [0.3333333333333333, \"#9c179e\"], [0.4444444444444444, \"#bd3786\"], [0.5555555555555556, \"#d8576b\"], [0.6666666666666666, \"#ed7953\"], [0.7777777777777778, \"#fb9f3a\"], [0.8888888888888888, \"#fdca26\"], [1.0, \"#f0f921\"]]}, \"colorway\": [\"#636efa\", \"#EF553B\", \"#00cc96\", \"#ab63fa\", \"#FFA15A\", \"#19d3f3\", \"#FF6692\", \"#B6E880\", \"#FF97FF\", \"#FECB52\"], \"font\": {\"color\": \"#2a3f5f\"}, \"geo\": {\"bgcolor\": \"white\", \"lakecolor\": \"white\", \"landcolor\": \"#E5ECF6\", \"showlakes\": true, \"showland\": true, \"subunitcolor\": \"white\"}, \"hoverlabel\": {\"align\": \"left\"}, \"hovermode\": \"closest\", \"mapbox\": {\"style\": \"light\"}, \"paper_bgcolor\": \"white\", \"plot_bgcolor\": \"#E5ECF6\", \"polar\": {\"angularaxis\": {\"gridcolor\": \"white\", \"linecolor\": \"white\", \"ticks\": \"\"}, \"bgcolor\": \"#E5ECF6\", \"radialaxis\": {\"gridcolor\": \"white\", \"linecolor\": \"white\", \"ticks\": \"\"}}, \"scene\": {\"xaxis\": {\"backgroundcolor\": \"#E5ECF6\", \"gridcolor\": \"white\", \"gridwidth\": 2, \"linecolor\": \"white\", \"showbackground\": true, \"ticks\": \"\", \"zerolinecolor\": \"white\"}, \"yaxis\": {\"backgroundcolor\": \"#E5ECF6\", \"gridcolor\": \"white\", \"gridwidth\": 2, \"linecolor\": \"white\", \"showbackground\": true, \"ticks\": \"\", \"zerolinecolor\": \"white\"}, \"zaxis\": {\"backgroundcolor\": \"#E5ECF6\", \"gridcolor\": \"white\", \"gridwidth\": 2, \"linecolor\": \"white\", \"showbackground\": true, \"ticks\": \"\", \"zerolinecolor\": \"white\"}}, \"shapedefaults\": {\"line\": {\"color\": \"#2a3f5f\"}}, \"ternary\": {\"aaxis\": {\"gridcolor\": \"white\", \"linecolor\": \"white\", \"ticks\": \"\"}, \"baxis\": {\"gridcolor\": \"white\", \"linecolor\": \"white\", \"ticks\": \"\"}, \"bgcolor\": \"#E5ECF6\", \"caxis\": {\"gridcolor\": \"white\", \"linecolor\": \"white\", \"ticks\": \"\"}}, \"title\": {\"x\": 0.05}, \"xaxis\": {\"automargin\": true, \"gridcolor\": \"white\", \"linecolor\": \"white\", \"ticks\": \"\", \"title\": {\"standoff\": 15}, \"zerolinecolor\": \"white\", \"zerolinewidth\": 2}, \"yaxis\": {\"automargin\": true, \"gridcolor\": \"white\", \"linecolor\": \"white\", \"ticks\": \"\", \"title\": {\"standoff\": 15}, \"zerolinecolor\": \"white\", \"zerolinewidth\": 2}}}, \"xaxis\": {\"anchor\": \"y\", \"domain\": [0.0, 1.0], \"title\": {\"text\": \"wordCount\"}}, \"yaxis\": {\"anchor\": \"x\", \"domain\": [0.0, 1.0], \"title\": {\"text\": \"wordsWithPunctuationPercentage\"}}},\n",
       "                        {\"responsive\": true}\n",
       "                    ).then(function(){\n",
       "                            \n",
       "var gd = document.getElementById('ce125c71-8f84-4dbe-8d27-8c4f51f7c3a9');\n",
       "var x = new MutationObserver(function (mutations, observer) {{\n",
       "        var display = window.getComputedStyle(gd).display;\n",
       "        if (!display || display === 'none') {{\n",
       "            console.log([gd, 'removed!']);\n",
       "            Plotly.purge(gd);\n",
       "            observer.disconnect();\n",
       "        }}\n",
       "}});\n",
       "\n",
       "// Listen for the removal of the full notebook cells\n",
       "var notebookContainer = gd.closest('#notebook-container');\n",
       "if (notebookContainer) {{\n",
       "    x.observe(notebookContainer, {childList: true});\n",
       "}}\n",
       "\n",
       "// Listen for the clearing of the current output cell\n",
       "var outputEl = gd.closest('.output');\n",
       "if (outputEl) {{\n",
       "    x.observe(outputEl, {childList: true});\n",
       "}}\n",
       "\n",
       "                        })\n",
       "                };\n",
       "                });\n",
       "            </script>\n",
       "        </div>"
      ]
     },
     "metadata": {},
     "output_type": "display_data"
    }
   ],
   "source": [
    "fig = px.scatter(my_df, x=\"wordCount\", y=\"wordsWithPunctuationPercentage\", color=\"author\",)\n",
    "fig.show()"
   ]
  },
  {
   "cell_type": "markdown",
   "metadata": {},
   "source": [
    "On voit que même quand Balzac utilise peu de mots dans ses paragraphes, il existe une bonne diversité concernant la ponctuation."
   ]
  },
  {
   "cell_type": "code",
   "execution_count": 104,
   "metadata": {},
   "outputs": [
    {
     "data": {
      "application/vnd.plotly.v1+json": {
       "config": {
        "plotlyServerURL": "https://plot.ly"
       },
       "data": [
        {
         "hoverlabel": {
          "namelength": 0
         },
         "hovertemplate": "author=Zola<br>wordsWithPunctuationPercentage=%{x}<br>wordCount=%{y}",
         "legendgroup": "author=Zola",
         "marker": {
          "color": "#636efa",
          "symbol": "circle"
         },
         "mode": "markers",
         "name": "author=Zola",
         "showlegend": true,
         "type": "scatter",
         "x": [
          16.664,
          8.16,
          13.631999999999998,
          9.3,
          28,
          8.08,
          24.136,
          22.575,
          9.999,
          8,
          4.836,
          10,
          2.941,
          29.308,
          24.996000000000002,
          11.805,
          12.376,
          13.041,
          10.836,
          11.596,
          11.401,
          13.088,
          10.41,
          8.021,
          13.916,
          11.284,
          11.492,
          19.668,
          17.24,
          15.149999999999999,
          13.001999999999999,
          24.997,
          21.426000000000002,
          21.426000000000002,
          22.725,
          8.784,
          10.223999999999998,
          11.764,
          13.063999999999998,
          14.443,
          17.142000000000003,
          11.592,
          11.625,
          5.554,
          7.406,
          13.719999999999999,
          18.515,
          3.448,
          21.735000000000003,
          13.533,
          21.735000000000003,
          22.725,
          9.752,
          12.304,
          11.315999999999999,
          8,
          16.662,
          9.756,
          13.461,
          11.424,
          8.976,
          9.43,
          9.25,
          22.575,
          8.736,
          25.8,
          12.491999999999999,
          15.245999999999999,
          10.713000000000001,
          8.582,
          9.09,
          13.038,
          13.943999999999999,
          12.4,
          4.596,
          6.815999999999999,
          24.996000000000002,
          15.149999999999999,
          12,
          13.565999999999999,
          19.668,
          24.996000000000002,
          16.974,
          12,
          16.66,
          10.952,
          9.09,
          8.106,
          11.927999999999999,
          22.575,
          16.275000000000002,
          12.024000000000001,
          8.406,
          13.631999999999998,
          10.592,
          10,
          12.208,
          8.84,
          8.88,
          9.375,
          10.625,
          4.08,
          13.332,
          15.38,
          7.14,
          14.285,
          28,
          9.62,
          12.195,
          9.3,
          11.428,
          18.6,
          16.664,
          12.195,
          11.208,
          17.646,
          7.5,
          19.634999999999998,
          10.443999999999999,
          14,
          11.899999999999999,
          16.66,
          9.687999999999999,
          24.997,
          11.788,
          15.287999999999998,
          13.041,
          20.688,
          10.713000000000001,
          31.814999999999998,
          24.997,
          19.044,
          19.642,
          10.362,
          13.635,
          26.18,
          29.409999999999997,
          14.7,
          10.234,
          24,
          16.169999999999998,
          7.406,
          28.57,
          13.8,
          18.634,
          13.332,
          15.149999999999999,
          9.42,
          12.278,
          14.49,
          7.544,
          40.733,
          13.51,
          8.496,
          13.202,
          7.59,
          4.545,
          8.508,
          12.498000000000001,
          12.82,
          13.384,
          12.54,
          11.108,
          17.855,
          20.688,
          12.495999999999999,
          19.512,
          12.649999999999999,
          22.856,
          11.538,
          11.826,
          11.927999999999999,
          15.211,
          20.830000000000002,
          8.106,
          11.448,
          7.26,
          16.974,
          18.6,
          13.653,
          14,
          11.169,
          13.112,
          20.688,
          34.776,
          5.553,
          17.948,
          10.107,
          4.997999999999999,
          29.624,
          31.814999999999998,
          18.029,
          12.671999999999999,
          8.328,
          13.792,
          13.631999999999998,
          21.426000000000002,
          9.228,
          16.664,
          6.348
         ],
         "xaxis": "x",
         "y": [
          48,
          49,
          88,
          43,
          25,
          247,
          29,
          31,
          30,
          200,
          62,
          20,
          34,
          58,
          24,
          127,
          105,
          23,
          166,
          112,
          114,
          244,
          96,
          162,
          201,
          62,
          113,
          61,
          29,
          33,
          169,
          28,
          28,
          28,
          22,
          91,
          88,
          34,
          176,
          90,
          35,
          69,
          43,
          36,
          27,
          51,
          27,
          29,
          23,
          96,
          23,
          22,
          82,
          65,
          106,
          25,
          36,
          41,
          52,
          210,
          178,
          53,
          108,
          31,
          183,
          31,
          72,
          59,
          28,
          163,
          22,
          46,
          172,
          129,
          87,
          88,
          24,
          33,
          25,
          280,
          61,
          24,
          53,
          25,
          60,
          73,
          55,
          74,
          176,
          31,
          43,
          299,
          107,
          88,
          302,
          40,
          229,
          113,
          180,
          32,
          235,
          49,
          15,
          65,
          56,
          35,
          25,
          135,
          41,
          43,
          35,
          43,
          48,
          41,
          107,
          34,
          40,
          56,
          67,
          50,
          42,
          42,
          289,
          28,
          237,
          85,
          69,
          29,
          28,
          22,
          28,
          21,
          117,
          212,
          22,
          42,
          34,
          68,
          166,
          25,
          68,
          27,
          35,
          181,
          59,
          90,
          33,
          159,
          114,
          69,
          106,
          27,
          37,
          188,
          53,
          79,
          22,
          47,
          24,
          78,
          209,
          239,
          36,
          28,
          29,
          88,
          41,
          79,
          35,
          78,
          152,
          176,
          46,
          24,
          37,
          157,
          275,
          53,
          43,
          300,
          50,
          152,
          61,
          29,
          23,
          54,
          39,
          89,
          60,
          27,
          22,
          61,
          71,
          288,
          58,
          44,
          28,
          130,
          24,
          63
         ],
         "yaxis": "y"
        },
        {
         "hoverlabel": {
          "namelength": 0
         },
         "hovertemplate": "author=Maupassant<br>wordsWithPunctuationPercentage=%{x}<br>wordCount=%{y}",
         "legendgroup": "author=Maupassant",
         "marker": {
          "color": "#EF553B",
          "symbol": "circle"
         },
         "mode": "markers",
         "name": "author=Maupassant",
         "showlegend": true,
         "type": "scatter",
         "x": [
          15.287999999999998,
          11.625,
          16.25,
          14.448,
          9.555,
          6.896,
          21.951,
          6.380999999999999,
          12.96,
          23.076,
          25.254,
          25,
          18.6,
          19.712,
          8.469999999999999,
          10.971,
          4.254,
          8.924999999999999,
          10.738,
          7.142,
          16.664,
          12.195,
          19.557000000000002,
          10.634999999999998,
          19.04,
          11.108,
          19.23,
          23.903,
          22.725,
          11.764,
          8.328,
          9.999,
          4.166,
          9.3,
          11.109,
          9.09,
          8,
          8.694,
          15,
          8.427999999999999,
          27.02,
          8.16,
          15.384,
          9.647,
          8.924999999999999,
          11.428,
          12.896,
          21.951,
          17.22,
          5.714,
          9.228,
          17.142000000000003,
          3.9989999999999997,
          11.538,
          8.33,
          7.892999999999999,
          10.524,
          16.268,
          6.666,
          25.713,
          10.415000000000001,
          6.519,
          15.87,
          13.332,
          25.523999999999997,
          15.74,
          24.517999999999997,
          9.228,
          16.845,
          14.28,
          11.109,
          19.8,
          9.375,
          5.404,
          18.6,
          12.498000000000001,
          14,
          3.333,
          11.76,
          12.498000000000001,
          16.25,
          6.45,
          4.166,
          12.12,
          16.666,
          21.426000000000002,
          22.218,
          10.952,
          8.16,
          14.28,
          4.545,
          18.747,
          6.666,
          6.461,
          10.78,
          9.522,
          13.950000000000001,
          13.155,
          17.307000000000002,
          10.865,
          16.664,
          28.125,
          10.646999999999998,
          24.24,
          21.04,
          12.5,
          12.321,
          7.14,
          13.69,
          11.428,
          21.875,
          16,
          3.448,
          11.315999999999999,
          19.998,
          9.522,
          14.464,
          8.245,
          42.306,
          25.343999999999998,
          12.190000000000001,
          7.46,
          17.24,
          10.526,
          6.12,
          19.787,
          10.934000000000001,
          11.428,
          18.176,
          9.522,
          4.166,
          7.939,
          16.896,
          11,
          7.46,
          12.24,
          2.738,
          41.660000000000004,
          13.155,
          17.51,
          16.664,
          3.636,
          9.756,
          10.647,
          22.44,
          11.1,
          11.428,
          17.24,
          19.998,
          9.675,
          19.11,
          22.216,
          15.267999999999999,
          14.92,
          20,
          11.538,
          9.408,
          26.082,
          13.155,
          9.09,
          10.41,
          10.526,
          9.375,
          14.464,
          6.516,
          14,
          16.268,
          25,
          14.544,
          16.212,
          27.602,
          14.812,
          19.998,
          15,
          21.426000000000002,
          16.125,
          7.692,
          25,
          9.086,
          17.142000000000003,
          13.332,
          19.47,
          7.5,
          6.45,
          10.3,
          4.347,
          5.553,
          12.488,
          21.426000000000002,
          7.544,
          10.934000000000001,
          4.254,
          21.048000000000002,
          4.166,
          14.628,
          24.24,
          7.055999999999999,
          9.09,
          15.561,
          11.36
         ],
         "xaxis": "x",
         "y": [
          85,
          43,
          80,
          83,
          136,
          29,
          41,
          47,
          185,
          39,
          91,
          32,
          43,
          71,
          59,
          82,
          47,
          56,
          121,
          28,
          48,
          41,
          46,
          47,
          42,
          36,
          26,
          46,
          22,
          34,
          72,
          30,
          24,
          43,
          27,
          33,
          25,
          23,
          40,
          83,
          37,
          49,
          26,
          114,
          56,
          35,
          62,
          41,
          174,
          35,
          65,
          35,
          75,
          26,
          60,
          38,
          38,
          86,
          30,
          35,
          48,
          46,
          63,
          90,
          47,
          127,
          53,
          65,
          89,
          84,
          27,
          101,
          32,
          37,
          43,
          24,
          50,
          30,
          51,
          24,
          80,
          31,
          48,
          33,
          78,
          28,
          27,
          73,
          49,
          56,
          22,
          48,
          30,
          201,
          102,
          21,
          43,
          38,
          52,
          46,
          48,
          32,
          122,
          33,
          76,
          32,
          73,
          56,
          73,
          35,
          32,
          25,
          29,
          53,
          30,
          21,
          221,
          206,
          26,
          71,
          82,
          67,
          29,
          19,
          49,
          237,
          64,
          35,
          88,
          21,
          48,
          214,
          71,
          100,
          67,
          49,
          73,
          24,
          38,
          97,
          24,
          55,
          41,
          197,
          49,
          135,
          35,
          29,
          30,
          31,
          68,
          36,
          72,
          67,
          40,
          52,
          85,
          69,
          38,
          33,
          96,
          19,
          32,
          221,
          92,
          50,
          86,
          32,
          55,
          37,
          134,
          27,
          30,
          40,
          28,
          31,
          26,
          20,
          154,
          35,
          30,
          77,
          40,
          31,
          97,
          23,
          54,
          112,
          28,
          53,
          64,
          47,
          57,
          24,
          82,
          33,
          85,
          22,
          122,
          44
         ],
         "yaxis": "y"
        },
        {
         "hoverlabel": {
          "namelength": 0
         },
         "hovertemplate": "author=Balzac<br>wordsWithPunctuationPercentage=%{x}<br>wordCount=%{y}",
         "legendgroup": "author=Balzac",
         "marker": {
          "color": "#00cc96",
          "symbol": "circle"
         },
         "mode": "markers",
         "name": "author=Balzac",
         "showlegend": true,
         "type": "scatter",
         "x": [
          17.271,
          20.587,
          17.2,
          16,
          12.5,
          12.278,
          11.108,
          14.704999999999998,
          15.384,
          14.111999999999998,
          15.625,
          4.76,
          12.167,
          26.31,
          12.788,
          15.384,
          10.602,
          13.635,
          19.32,
          15.384,
          5.262,
          12.36,
          9.36,
          21.735000000000003,
          9.7,
          29.025000000000002,
          7.951999999999999,
          10,
          10.098,
          11.764,
          9.09,
          12,
          19.23,
          23.52,
          8.06,
          19.04,
          11.538,
          10.256,
          11.11,
          10.344,
          11.109,
          12.6,
          4.166,
          12.82,
          11.428,
          11.620000000000001,
          10.634999999999998,
          28,
          8.772,
          28,
          8.398,
          13.684999999999999,
          14.872,
          17.82,
          6.896,
          13.332,
          15.211,
          12.792,
          9.530999999999999,
          14.283000000000001,
          7.406,
          8.106,
          6.838,
          20,
          6.378,
          9.648,
          17.095,
          6.25,
          8.533000000000001,
          22.725,
          9.24,
          26.18,
          8.778,
          14.654,
          11.764,
          10.524,
          23.331000000000003,
          11.899999999999999,
          25.921,
          10.692,
          17.388,
          22.44,
          24.99,
          7.4399999999999995,
          20.265,
          4.444,
          12.936,
          22.218,
          11.315999999999999,
          10.716,
          9.306000000000001,
          13,
          24.996000000000002,
          17.408,
          8.694,
          10.98,
          20.830000000000002,
          14.812,
          10.472,
          16,
          20,
          19.044,
          17.016,
          17.855,
          12.222999999999999,
          9.52,
          15.088,
          15,
          16.662,
          15.384,
          11.979,
          7.076,
          9.999,
          15,
          9.795,
          9.7,
          7.092,
          9.936,
          10.256,
          16.664,
          14.861,
          8.554,
          9.675,
          17.948,
          22.725,
          14.852,
          12.934000000000001,
          4.164,
          18.029,
          11.109,
          10.524,
          6.896,
          12.663,
          42.104,
          15.384,
          12.540000000000001,
          8.1,
          14.504000000000001,
          21.875,
          5.262,
          7.744,
          24.997,
          9.522,
          15.625,
          15.204,
          8.823,
          31.25,
          10,
          10,
          8.638,
          24,
          13.545,
          11.908000000000001,
          11.537,
          10.569,
          24,
          14.274000000000001,
          14.284,
          16.662,
          12.82,
          19.044,
          7.513999999999999,
          37.03,
          15.384,
          10,
          10.256,
          11.719999999999999,
          13.635,
          14.322,
          10.709999999999999,
          7.472,
          21.048,
          12.068,
          9.472,
          5.454000000000001,
          18.011,
          17.073,
          8.328,
          20.447999999999997,
          11.109,
          12.498000000000001,
          27.27,
          15.374999999999998,
          18.18,
          10.918,
          16.664,
          21.875,
          10.537,
          14.285,
          10.136,
          24.24,
          13.915,
          12.5,
          26.314999999999998,
          15.245999999999999,
          19.23,
          7.935,
          9.522,
          13.122,
          14.269
         ],
         "xaxis": "x",
         "y": [
          110,
          34,
          93,
          50,
          40,
          114,
          36,
          34,
          26,
          85,
          32,
          42,
          189,
          57,
          718,
          26,
          179,
          22,
          119,
          26,
          38,
          97,
          256,
          23,
          103,
          31,
          88,
          20,
          178,
          34,
          22,
          25,
          26,
          51,
          62,
          42,
          26,
          39,
          99,
          116,
          27,
          238,
          24,
          39,
          35,
          301,
          47,
          25,
          980,
          25,
          226,
          168,
          961,
          101,
          29,
          30,
          46,
          203,
          283,
          21,
          27,
          37,
          190,
          25,
          94,
          1377,
          76,
          32,
          82,
          22,
          1187,
          42,
          1296,
          116,
          34,
          38,
          30,
          84,
          27,
          252,
          23,
          49,
          120,
          403,
          74,
          45,
          85,
          27,
          53,
          177,
          504,
          200,
          24,
          195,
          23,
          91,
          24,
          27,
          210,
          50,
          40,
          63,
          47,
          28,
          139,
          42,
          106,
          20,
          36,
          26,
          275,
          409,
          30,
          40,
          153,
          206,
          169,
          541,
          39,
          24,
          74,
          549,
          31,
          39,
          22,
          631,
          224,
          72,
          61,
          27,
          38,
          29,
          527,
          19,
          39,
          1727,
          1317,
          193,
          32,
          38,
          142,
          28,
          21,
          32,
          92,
          34,
          32,
          40,
          40,
          81,
          25,
          155,
          218,
          717,
          368,
          25,
          126,
          28,
          36,
          39,
          63,
          173,
          27,
          39,
          40,
          39,
          341,
          22,
          230,
          56,
          107,
          38,
          58,
          1351,
          55,
          172,
          41,
          72,
          44,
          63,
          24,
          33,
          487,
          22,
          485,
          48,
          32,
          389,
          35,
          138,
          66,
          79,
          16,
          19,
          59,
          26,
          63,
          21,
          137,
          133
         ],
         "yaxis": "y"
        }
       ],
       "layout": {
        "legend": {
         "tracegroupgap": 0
        },
        "margin": {
         "t": 60
        },
        "template": {
         "data": {
          "bar": [
           {
            "error_x": {
             "color": "#2a3f5f"
            },
            "error_y": {
             "color": "#2a3f5f"
            },
            "marker": {
             "line": {
              "color": "#E5ECF6",
              "width": 0.5
             }
            },
            "type": "bar"
           }
          ],
          "barpolar": [
           {
            "marker": {
             "line": {
              "color": "#E5ECF6",
              "width": 0.5
             }
            },
            "type": "barpolar"
           }
          ],
          "carpet": [
           {
            "aaxis": {
             "endlinecolor": "#2a3f5f",
             "gridcolor": "white",
             "linecolor": "white",
             "minorgridcolor": "white",
             "startlinecolor": "#2a3f5f"
            },
            "baxis": {
             "endlinecolor": "#2a3f5f",
             "gridcolor": "white",
             "linecolor": "white",
             "minorgridcolor": "white",
             "startlinecolor": "#2a3f5f"
            },
            "type": "carpet"
           }
          ],
          "choropleth": [
           {
            "colorbar": {
             "outlinewidth": 0,
             "ticks": ""
            },
            "type": "choropleth"
           }
          ],
          "contour": [
           {
            "colorbar": {
             "outlinewidth": 0,
             "ticks": ""
            },
            "colorscale": [
             [
              0,
              "#0d0887"
             ],
             [
              0.1111111111111111,
              "#46039f"
             ],
             [
              0.2222222222222222,
              "#7201a8"
             ],
             [
              0.3333333333333333,
              "#9c179e"
             ],
             [
              0.4444444444444444,
              "#bd3786"
             ],
             [
              0.5555555555555556,
              "#d8576b"
             ],
             [
              0.6666666666666666,
              "#ed7953"
             ],
             [
              0.7777777777777778,
              "#fb9f3a"
             ],
             [
              0.8888888888888888,
              "#fdca26"
             ],
             [
              1,
              "#f0f921"
             ]
            ],
            "type": "contour"
           }
          ],
          "contourcarpet": [
           {
            "colorbar": {
             "outlinewidth": 0,
             "ticks": ""
            },
            "type": "contourcarpet"
           }
          ],
          "heatmap": [
           {
            "colorbar": {
             "outlinewidth": 0,
             "ticks": ""
            },
            "colorscale": [
             [
              0,
              "#0d0887"
             ],
             [
              0.1111111111111111,
              "#46039f"
             ],
             [
              0.2222222222222222,
              "#7201a8"
             ],
             [
              0.3333333333333333,
              "#9c179e"
             ],
             [
              0.4444444444444444,
              "#bd3786"
             ],
             [
              0.5555555555555556,
              "#d8576b"
             ],
             [
              0.6666666666666666,
              "#ed7953"
             ],
             [
              0.7777777777777778,
              "#fb9f3a"
             ],
             [
              0.8888888888888888,
              "#fdca26"
             ],
             [
              1,
              "#f0f921"
             ]
            ],
            "type": "heatmap"
           }
          ],
          "heatmapgl": [
           {
            "colorbar": {
             "outlinewidth": 0,
             "ticks": ""
            },
            "colorscale": [
             [
              0,
              "#0d0887"
             ],
             [
              0.1111111111111111,
              "#46039f"
             ],
             [
              0.2222222222222222,
              "#7201a8"
             ],
             [
              0.3333333333333333,
              "#9c179e"
             ],
             [
              0.4444444444444444,
              "#bd3786"
             ],
             [
              0.5555555555555556,
              "#d8576b"
             ],
             [
              0.6666666666666666,
              "#ed7953"
             ],
             [
              0.7777777777777778,
              "#fb9f3a"
             ],
             [
              0.8888888888888888,
              "#fdca26"
             ],
             [
              1,
              "#f0f921"
             ]
            ],
            "type": "heatmapgl"
           }
          ],
          "histogram": [
           {
            "marker": {
             "colorbar": {
              "outlinewidth": 0,
              "ticks": ""
             }
            },
            "type": "histogram"
           }
          ],
          "histogram2d": [
           {
            "colorbar": {
             "outlinewidth": 0,
             "ticks": ""
            },
            "colorscale": [
             [
              0,
              "#0d0887"
             ],
             [
              0.1111111111111111,
              "#46039f"
             ],
             [
              0.2222222222222222,
              "#7201a8"
             ],
             [
              0.3333333333333333,
              "#9c179e"
             ],
             [
              0.4444444444444444,
              "#bd3786"
             ],
             [
              0.5555555555555556,
              "#d8576b"
             ],
             [
              0.6666666666666666,
              "#ed7953"
             ],
             [
              0.7777777777777778,
              "#fb9f3a"
             ],
             [
              0.8888888888888888,
              "#fdca26"
             ],
             [
              1,
              "#f0f921"
             ]
            ],
            "type": "histogram2d"
           }
          ],
          "histogram2dcontour": [
           {
            "colorbar": {
             "outlinewidth": 0,
             "ticks": ""
            },
            "colorscale": [
             [
              0,
              "#0d0887"
             ],
             [
              0.1111111111111111,
              "#46039f"
             ],
             [
              0.2222222222222222,
              "#7201a8"
             ],
             [
              0.3333333333333333,
              "#9c179e"
             ],
             [
              0.4444444444444444,
              "#bd3786"
             ],
             [
              0.5555555555555556,
              "#d8576b"
             ],
             [
              0.6666666666666666,
              "#ed7953"
             ],
             [
              0.7777777777777778,
              "#fb9f3a"
             ],
             [
              0.8888888888888888,
              "#fdca26"
             ],
             [
              1,
              "#f0f921"
             ]
            ],
            "type": "histogram2dcontour"
           }
          ],
          "mesh3d": [
           {
            "colorbar": {
             "outlinewidth": 0,
             "ticks": ""
            },
            "type": "mesh3d"
           }
          ],
          "parcoords": [
           {
            "line": {
             "colorbar": {
              "outlinewidth": 0,
              "ticks": ""
             }
            },
            "type": "parcoords"
           }
          ],
          "pie": [
           {
            "automargin": true,
            "type": "pie"
           }
          ],
          "scatter": [
           {
            "marker": {
             "colorbar": {
              "outlinewidth": 0,
              "ticks": ""
             }
            },
            "type": "scatter"
           }
          ],
          "scatter3d": [
           {
            "line": {
             "colorbar": {
              "outlinewidth": 0,
              "ticks": ""
             }
            },
            "marker": {
             "colorbar": {
              "outlinewidth": 0,
              "ticks": ""
             }
            },
            "type": "scatter3d"
           }
          ],
          "scattercarpet": [
           {
            "marker": {
             "colorbar": {
              "outlinewidth": 0,
              "ticks": ""
             }
            },
            "type": "scattercarpet"
           }
          ],
          "scattergeo": [
           {
            "marker": {
             "colorbar": {
              "outlinewidth": 0,
              "ticks": ""
             }
            },
            "type": "scattergeo"
           }
          ],
          "scattergl": [
           {
            "marker": {
             "colorbar": {
              "outlinewidth": 0,
              "ticks": ""
             }
            },
            "type": "scattergl"
           }
          ],
          "scattermapbox": [
           {
            "marker": {
             "colorbar": {
              "outlinewidth": 0,
              "ticks": ""
             }
            },
            "type": "scattermapbox"
           }
          ],
          "scatterpolar": [
           {
            "marker": {
             "colorbar": {
              "outlinewidth": 0,
              "ticks": ""
             }
            },
            "type": "scatterpolar"
           }
          ],
          "scatterpolargl": [
           {
            "marker": {
             "colorbar": {
              "outlinewidth": 0,
              "ticks": ""
             }
            },
            "type": "scatterpolargl"
           }
          ],
          "scatterternary": [
           {
            "marker": {
             "colorbar": {
              "outlinewidth": 0,
              "ticks": ""
             }
            },
            "type": "scatterternary"
           }
          ],
          "surface": [
           {
            "colorbar": {
             "outlinewidth": 0,
             "ticks": ""
            },
            "colorscale": [
             [
              0,
              "#0d0887"
             ],
             [
              0.1111111111111111,
              "#46039f"
             ],
             [
              0.2222222222222222,
              "#7201a8"
             ],
             [
              0.3333333333333333,
              "#9c179e"
             ],
             [
              0.4444444444444444,
              "#bd3786"
             ],
             [
              0.5555555555555556,
              "#d8576b"
             ],
             [
              0.6666666666666666,
              "#ed7953"
             ],
             [
              0.7777777777777778,
              "#fb9f3a"
             ],
             [
              0.8888888888888888,
              "#fdca26"
             ],
             [
              1,
              "#f0f921"
             ]
            ],
            "type": "surface"
           }
          ],
          "table": [
           {
            "cells": {
             "fill": {
              "color": "#EBF0F8"
             },
             "line": {
              "color": "white"
             }
            },
            "header": {
             "fill": {
              "color": "#C8D4E3"
             },
             "line": {
              "color": "white"
             }
            },
            "type": "table"
           }
          ]
         },
         "layout": {
          "annotationdefaults": {
           "arrowcolor": "#2a3f5f",
           "arrowhead": 0,
           "arrowwidth": 1
          },
          "coloraxis": {
           "colorbar": {
            "outlinewidth": 0,
            "ticks": ""
           }
          },
          "colorscale": {
           "diverging": [
            [
             0,
             "#8e0152"
            ],
            [
             0.1,
             "#c51b7d"
            ],
            [
             0.2,
             "#de77ae"
            ],
            [
             0.3,
             "#f1b6da"
            ],
            [
             0.4,
             "#fde0ef"
            ],
            [
             0.5,
             "#f7f7f7"
            ],
            [
             0.6,
             "#e6f5d0"
            ],
            [
             0.7,
             "#b8e186"
            ],
            [
             0.8,
             "#7fbc41"
            ],
            [
             0.9,
             "#4d9221"
            ],
            [
             1,
             "#276419"
            ]
           ],
           "sequential": [
            [
             0,
             "#0d0887"
            ],
            [
             0.1111111111111111,
             "#46039f"
            ],
            [
             0.2222222222222222,
             "#7201a8"
            ],
            [
             0.3333333333333333,
             "#9c179e"
            ],
            [
             0.4444444444444444,
             "#bd3786"
            ],
            [
             0.5555555555555556,
             "#d8576b"
            ],
            [
             0.6666666666666666,
             "#ed7953"
            ],
            [
             0.7777777777777778,
             "#fb9f3a"
            ],
            [
             0.8888888888888888,
             "#fdca26"
            ],
            [
             1,
             "#f0f921"
            ]
           ],
           "sequentialminus": [
            [
             0,
             "#0d0887"
            ],
            [
             0.1111111111111111,
             "#46039f"
            ],
            [
             0.2222222222222222,
             "#7201a8"
            ],
            [
             0.3333333333333333,
             "#9c179e"
            ],
            [
             0.4444444444444444,
             "#bd3786"
            ],
            [
             0.5555555555555556,
             "#d8576b"
            ],
            [
             0.6666666666666666,
             "#ed7953"
            ],
            [
             0.7777777777777778,
             "#fb9f3a"
            ],
            [
             0.8888888888888888,
             "#fdca26"
            ],
            [
             1,
             "#f0f921"
            ]
           ]
          },
          "colorway": [
           "#636efa",
           "#EF553B",
           "#00cc96",
           "#ab63fa",
           "#FFA15A",
           "#19d3f3",
           "#FF6692",
           "#B6E880",
           "#FF97FF",
           "#FECB52"
          ],
          "font": {
           "color": "#2a3f5f"
          },
          "geo": {
           "bgcolor": "white",
           "lakecolor": "white",
           "landcolor": "#E5ECF6",
           "showlakes": true,
           "showland": true,
           "subunitcolor": "white"
          },
          "hoverlabel": {
           "align": "left"
          },
          "hovermode": "closest",
          "mapbox": {
           "style": "light"
          },
          "paper_bgcolor": "white",
          "plot_bgcolor": "#E5ECF6",
          "polar": {
           "angularaxis": {
            "gridcolor": "white",
            "linecolor": "white",
            "ticks": ""
           },
           "bgcolor": "#E5ECF6",
           "radialaxis": {
            "gridcolor": "white",
            "linecolor": "white",
            "ticks": ""
           }
          },
          "scene": {
           "xaxis": {
            "backgroundcolor": "#E5ECF6",
            "gridcolor": "white",
            "gridwidth": 2,
            "linecolor": "white",
            "showbackground": true,
            "ticks": "",
            "zerolinecolor": "white"
           },
           "yaxis": {
            "backgroundcolor": "#E5ECF6",
            "gridcolor": "white",
            "gridwidth": 2,
            "linecolor": "white",
            "showbackground": true,
            "ticks": "",
            "zerolinecolor": "white"
           },
           "zaxis": {
            "backgroundcolor": "#E5ECF6",
            "gridcolor": "white",
            "gridwidth": 2,
            "linecolor": "white",
            "showbackground": true,
            "ticks": "",
            "zerolinecolor": "white"
           }
          },
          "shapedefaults": {
           "line": {
            "color": "#2a3f5f"
           }
          },
          "ternary": {
           "aaxis": {
            "gridcolor": "white",
            "linecolor": "white",
            "ticks": ""
           },
           "baxis": {
            "gridcolor": "white",
            "linecolor": "white",
            "ticks": ""
           },
           "bgcolor": "#E5ECF6",
           "caxis": {
            "gridcolor": "white",
            "linecolor": "white",
            "ticks": ""
           }
          },
          "title": {
           "x": 0.05
          },
          "xaxis": {
           "automargin": true,
           "gridcolor": "white",
           "linecolor": "white",
           "ticks": "",
           "title": {
            "standoff": 15
           },
           "zerolinecolor": "white",
           "zerolinewidth": 2
          },
          "yaxis": {
           "automargin": true,
           "gridcolor": "white",
           "linecolor": "white",
           "ticks": "",
           "title": {
            "standoff": 15
           },
           "zerolinecolor": "white",
           "zerolinewidth": 2
          }
         }
        },
        "xaxis": {
         "anchor": "y",
         "domain": [
          0,
          1
         ],
         "title": {
          "text": "wordsWithPunctuationPercentage"
         }
        },
        "yaxis": {
         "anchor": "x",
         "domain": [
          0,
          1
         ],
         "title": {
          "text": "wordCount"
         }
        }
       }
      },
      "text/html": [
       "<div>\n",
       "        \n",
       "        \n",
       "            <div id=\"38814859-2e4a-49d1-97d6-be13913a33c8\" class=\"plotly-graph-div\" style=\"height:525px; width:100%;\"></div>\n",
       "            <script type=\"text/javascript\">\n",
       "                require([\"plotly\"], function(Plotly) {\n",
       "                    window.PLOTLYENV=window.PLOTLYENV || {};\n",
       "                    \n",
       "                if (document.getElementById(\"38814859-2e4a-49d1-97d6-be13913a33c8\")) {\n",
       "                    Plotly.newPlot(\n",
       "                        '38814859-2e4a-49d1-97d6-be13913a33c8',\n",
       "                        [{\"hoverlabel\": {\"namelength\": 0}, \"hovertemplate\": \"author=Zola<br>wordsWithPunctuationPercentage=%{x}<br>wordCount=%{y}\", \"legendgroup\": \"author=Zola\", \"marker\": {\"color\": \"#636efa\", \"symbol\": \"circle\"}, \"mode\": \"markers\", \"name\": \"author=Zola\", \"showlegend\": true, \"type\": \"scatter\", \"x\": [16.664, 8.16, 13.631999999999998, 9.3, 28.0, 8.08, 24.136, 22.575, 9.999, 8.0, 4.836, 10.0, 2.941, 29.308, 24.996000000000002, 11.805, 12.376, 13.041, 10.836, 11.596, 11.401, 13.088, 10.41, 8.021, 13.916, 11.284, 11.492, 19.668, 17.24, 15.149999999999999, 13.001999999999999, 24.997, 21.426000000000002, 21.426000000000002, 22.725, 8.784, 10.223999999999998, 11.764, 13.063999999999998, 14.443, 17.142000000000003, 11.592, 11.625, 5.554, 7.406, 13.719999999999999, 18.515, 3.448, 21.735000000000003, 13.533, 21.735000000000003, 22.725, 9.752, 12.304, 11.315999999999999, 8.0, 16.662, 9.756, 13.461, 11.424, 8.976, 9.43, 9.25, 22.575, 8.736, 25.8, 12.491999999999999, 15.245999999999999, 10.713000000000001, 8.582, 9.09, 13.038, 13.943999999999999, 12.4, 4.596, 6.815999999999999, 24.996000000000002, 15.149999999999999, 12.0, 13.565999999999999, 19.668, 24.996000000000002, 16.974, 12.0, 16.66, 10.952, 9.09, 8.106, 11.927999999999999, 22.575, 16.275000000000002, 12.024000000000001, 8.406, 13.631999999999998, 10.592, 10.0, 12.208, 8.84, 8.88, 9.375, 10.625, 4.08, 13.332, 15.38, 7.14, 14.285, 28.0, 9.62, 12.195, 9.3, 11.428, 18.6, 16.664, 12.195, 11.208, 17.646, 7.5, 19.634999999999998, 10.443999999999999, 14.0, 11.899999999999999, 16.66, 9.687999999999999, 24.997, 11.788, 15.287999999999998, 13.041, 20.688, 10.713000000000001, 31.814999999999998, 24.997, 19.044, 19.642, 10.362, 13.635, 26.18, 29.409999999999997, 14.7, 10.234, 24.0, 16.169999999999998, 7.406, 28.57, 13.8, 18.634, 13.332, 15.149999999999999, 9.42, 12.278, 14.49, 7.544, 40.733, 13.51, 8.496, 13.202, 7.59, 4.545, 8.508, 12.498000000000001, 12.82, 13.384, 12.54, 11.108, 17.855, 20.688, 12.495999999999999, 19.512, 12.649999999999999, 22.856, 11.538, 11.826, 11.927999999999999, 15.211, 20.830000000000002, 8.106, 11.448, 7.26, 16.974, 18.6, 13.653, 14.0, 11.169, 13.112, 20.688, 34.776, 5.553, 17.948, 10.107, 4.997999999999999, 29.624, 31.814999999999998, 18.029, 12.671999999999999, 8.328, 13.792, 13.631999999999998, 21.426000000000002, 9.228, 16.664, 6.348], \"xaxis\": \"x\", \"y\": [48, 49, 88, 43, 25, 247, 29, 31, 30, 200, 62, 20, 34, 58, 24, 127, 105, 23, 166, 112, 114, 244, 96, 162, 201, 62, 113, 61, 29, 33, 169, 28, 28, 28, 22, 91, 88, 34, 176, 90, 35, 69, 43, 36, 27, 51, 27, 29, 23, 96, 23, 22, 82, 65, 106, 25, 36, 41, 52, 210, 178, 53, 108, 31, 183, 31, 72, 59, 28, 163, 22, 46, 172, 129, 87, 88, 24, 33, 25, 280, 61, 24, 53, 25, 60, 73, 55, 74, 176, 31, 43, 299, 107, 88, 302, 40, 229, 113, 180, 32, 235, 49, 15, 65, 56, 35, 25, 135, 41, 43, 35, 43, 48, 41, 107, 34, 40, 56, 67, 50, 42, 42, 289, 28, 237, 85, 69, 29, 28, 22, 28, 21, 117, 212, 22, 42, 34, 68, 166, 25, 68, 27, 35, 181, 59, 90, 33, 159, 114, 69, 106, 27, 37, 188, 53, 79, 22, 47, 24, 78, 209, 239, 36, 28, 29, 88, 41, 79, 35, 78, 152, 176, 46, 24, 37, 157, 275, 53, 43, 300, 50, 152, 61, 29, 23, 54, 39, 89, 60, 27, 22, 61, 71, 288, 58, 44, 28, 130, 24, 63], \"yaxis\": \"y\"}, {\"hoverlabel\": {\"namelength\": 0}, \"hovertemplate\": \"author=Maupassant<br>wordsWithPunctuationPercentage=%{x}<br>wordCount=%{y}\", \"legendgroup\": \"author=Maupassant\", \"marker\": {\"color\": \"#EF553B\", \"symbol\": \"circle\"}, \"mode\": \"markers\", \"name\": \"author=Maupassant\", \"showlegend\": true, \"type\": \"scatter\", \"x\": [15.287999999999998, 11.625, 16.25, 14.448, 9.555, 6.896, 21.951, 6.380999999999999, 12.96, 23.076, 25.254, 25.0, 18.6, 19.712, 8.469999999999999, 10.971, 4.254, 8.924999999999999, 10.738, 7.142, 16.664, 12.195, 19.557000000000002, 10.634999999999998, 19.04, 11.108, 19.23, 23.903, 22.725, 11.764, 8.328, 9.999, 4.166, 9.3, 11.109, 9.09, 8.0, 8.694, 15.0, 8.427999999999999, 27.02, 8.16, 15.384, 9.647, 8.924999999999999, 11.428, 12.896, 21.951, 17.22, 5.714, 9.228, 17.142000000000003, 3.9989999999999997, 11.538, 8.33, 7.892999999999999, 10.524, 16.268, 6.666, 25.713, 10.415000000000001, 6.519, 15.87, 13.332, 25.523999999999997, 15.74, 24.517999999999997, 9.228, 16.845, 14.28, 11.109, 19.8, 9.375, 5.404, 18.6, 12.498000000000001, 14.0, 3.333, 11.76, 12.498000000000001, 16.25, 6.45, 4.166, 12.12, 16.666, 21.426000000000002, 22.218, 10.952, 8.16, 14.28, 4.545, 18.747, 6.666, 6.461, 10.78, 9.522, 13.950000000000001, 13.155, 17.307000000000002, 10.865, 16.664, 28.125, 10.646999999999998, 24.24, 21.04, 12.5, 12.321, 7.14, 13.69, 11.428, 21.875, 16.0, 3.448, 11.315999999999999, 19.998, 9.522, 14.464, 8.245, 42.306, 25.343999999999998, 12.190000000000001, 7.46, 17.24, 10.526, 6.12, 19.787, 10.934000000000001, 11.428, 18.176, 9.522, 4.166, 7.939, 16.896, 11.0, 7.46, 12.24, 2.738, 41.660000000000004, 13.155, 17.51, 16.664, 3.636, 9.756, 10.647, 22.44, 11.1, 11.428, 17.24, 19.998, 9.675, 19.11, 22.216, 15.267999999999999, 14.92, 20.0, 11.538, 9.408, 26.082, 13.155, 9.09, 10.41, 10.526, 9.375, 14.464, 6.516, 14.0, 16.268, 25.0, 14.544, 16.212, 27.602, 14.812, 19.998, 15.0, 21.426000000000002, 16.125, 7.692, 25.0, 9.086, 17.142000000000003, 13.332, 19.47, 7.5, 6.45, 10.3, 4.347, 5.553, 12.488, 21.426000000000002, 7.544, 10.934000000000001, 4.254, 21.048000000000002, 4.166, 14.628, 24.24, 7.055999999999999, 9.09, 15.561, 11.36], \"xaxis\": \"x\", \"y\": [85, 43, 80, 83, 136, 29, 41, 47, 185, 39, 91, 32, 43, 71, 59, 82, 47, 56, 121, 28, 48, 41, 46, 47, 42, 36, 26, 46, 22, 34, 72, 30, 24, 43, 27, 33, 25, 23, 40, 83, 37, 49, 26, 114, 56, 35, 62, 41, 174, 35, 65, 35, 75, 26, 60, 38, 38, 86, 30, 35, 48, 46, 63, 90, 47, 127, 53, 65, 89, 84, 27, 101, 32, 37, 43, 24, 50, 30, 51, 24, 80, 31, 48, 33, 78, 28, 27, 73, 49, 56, 22, 48, 30, 201, 102, 21, 43, 38, 52, 46, 48, 32, 122, 33, 76, 32, 73, 56, 73, 35, 32, 25, 29, 53, 30, 21, 221, 206, 26, 71, 82, 67, 29, 19, 49, 237, 64, 35, 88, 21, 48, 214, 71, 100, 67, 49, 73, 24, 38, 97, 24, 55, 41, 197, 49, 135, 35, 29, 30, 31, 68, 36, 72, 67, 40, 52, 85, 69, 38, 33, 96, 19, 32, 221, 92, 50, 86, 32, 55, 37, 134, 27, 30, 40, 28, 31, 26, 20, 154, 35, 30, 77, 40, 31, 97, 23, 54, 112, 28, 53, 64, 47, 57, 24, 82, 33, 85, 22, 122, 44], \"yaxis\": \"y\"}, {\"hoverlabel\": {\"namelength\": 0}, \"hovertemplate\": \"author=Balzac<br>wordsWithPunctuationPercentage=%{x}<br>wordCount=%{y}\", \"legendgroup\": \"author=Balzac\", \"marker\": {\"color\": \"#00cc96\", \"symbol\": \"circle\"}, \"mode\": \"markers\", \"name\": \"author=Balzac\", \"showlegend\": true, \"type\": \"scatter\", \"x\": [17.271, 20.587, 17.2, 16.0, 12.5, 12.278, 11.108, 14.704999999999998, 15.384, 14.111999999999998, 15.625, 4.76, 12.167, 26.31, 12.788, 15.384, 10.602, 13.635, 19.32, 15.384, 5.262, 12.36, 9.36, 21.735000000000003, 9.7, 29.025000000000002, 7.951999999999999, 10.0, 10.098, 11.764, 9.09, 12.0, 19.23, 23.52, 8.06, 19.04, 11.538, 10.256, 11.11, 10.344, 11.109, 12.6, 4.166, 12.82, 11.428, 11.620000000000001, 10.634999999999998, 28.0, 8.772, 28.0, 8.398, 13.684999999999999, 14.872, 17.82, 6.896, 13.332, 15.211, 12.792, 9.530999999999999, 14.283000000000001, 7.406, 8.106, 6.838, 20.0, 6.378, 9.648, 17.095, 6.25, 8.533000000000001, 22.725, 9.24, 26.18, 8.778, 14.654, 11.764, 10.524, 23.331000000000003, 11.899999999999999, 25.921, 10.692, 17.388, 22.44, 24.99, 7.4399999999999995, 20.265, 4.444, 12.936, 22.218, 11.315999999999999, 10.716, 9.306000000000001, 13.0, 24.996000000000002, 17.408, 8.694, 10.98, 20.830000000000002, 14.812, 10.472, 16.0, 20.0, 19.044, 17.016, 17.855, 12.222999999999999, 9.52, 15.088, 15.0, 16.662, 15.384, 11.979, 7.076, 9.999, 15.0, 9.795, 9.7, 7.092, 9.936, 10.256, 16.664, 14.861, 8.554, 9.675, 17.948, 22.725, 14.852, 12.934000000000001, 4.164, 18.029, 11.109, 10.524, 6.896, 12.663, 42.104, 15.384, 12.540000000000001, 8.1, 14.504000000000001, 21.875, 5.262, 7.744, 24.997, 9.522, 15.625, 15.204, 8.823, 31.25, 10.0, 10.0, 8.638, 24.0, 13.545, 11.908000000000001, 11.537, 10.569, 24.0, 14.274000000000001, 14.284, 16.662, 12.82, 19.044, 7.513999999999999, 37.03, 15.384, 10.0, 10.256, 11.719999999999999, 13.635, 14.322, 10.709999999999999, 7.472, 21.048, 12.068, 9.472, 5.454000000000001, 18.011, 17.073, 8.328, 20.447999999999997, 11.109, 12.498000000000001, 27.27, 15.374999999999998, 18.18, 10.918, 16.664, 21.875, 10.537, 14.285, 10.136, 24.24, 13.915, 12.5, 26.314999999999998, 15.245999999999999, 19.23, 7.935, 9.522, 13.122, 14.269], \"xaxis\": \"x\", \"y\": [110, 34, 93, 50, 40, 114, 36, 34, 26, 85, 32, 42, 189, 57, 718, 26, 179, 22, 119, 26, 38, 97, 256, 23, 103, 31, 88, 20, 178, 34, 22, 25, 26, 51, 62, 42, 26, 39, 99, 116, 27, 238, 24, 39, 35, 301, 47, 25, 980, 25, 226, 168, 961, 101, 29, 30, 46, 203, 283, 21, 27, 37, 190, 25, 94, 1377, 76, 32, 82, 22, 1187, 42, 1296, 116, 34, 38, 30, 84, 27, 252, 23, 49, 120, 403, 74, 45, 85, 27, 53, 177, 504, 200, 24, 195, 23, 91, 24, 27, 210, 50, 40, 63, 47, 28, 139, 42, 106, 20, 36, 26, 275, 409, 30, 40, 153, 206, 169, 541, 39, 24, 74, 549, 31, 39, 22, 631, 224, 72, 61, 27, 38, 29, 527, 19, 39, 1727, 1317, 193, 32, 38, 142, 28, 21, 32, 92, 34, 32, 40, 40, 81, 25, 155, 218, 717, 368, 25, 126, 28, 36, 39, 63, 173, 27, 39, 40, 39, 341, 22, 230, 56, 107, 38, 58, 1351, 55, 172, 41, 72, 44, 63, 24, 33, 487, 22, 485, 48, 32, 389, 35, 138, 66, 79, 16, 19, 59, 26, 63, 21, 137, 133], \"yaxis\": \"y\"}],\n",
       "                        {\"legend\": {\"tracegroupgap\": 0}, \"margin\": {\"t\": 60}, \"template\": {\"data\": {\"bar\": [{\"error_x\": {\"color\": \"#2a3f5f\"}, \"error_y\": {\"color\": \"#2a3f5f\"}, \"marker\": {\"line\": {\"color\": \"#E5ECF6\", \"width\": 0.5}}, \"type\": \"bar\"}], \"barpolar\": [{\"marker\": {\"line\": {\"color\": \"#E5ECF6\", \"width\": 0.5}}, \"type\": \"barpolar\"}], \"carpet\": [{\"aaxis\": {\"endlinecolor\": \"#2a3f5f\", \"gridcolor\": \"white\", \"linecolor\": \"white\", \"minorgridcolor\": \"white\", \"startlinecolor\": \"#2a3f5f\"}, \"baxis\": {\"endlinecolor\": \"#2a3f5f\", \"gridcolor\": \"white\", \"linecolor\": \"white\", \"minorgridcolor\": \"white\", \"startlinecolor\": \"#2a3f5f\"}, \"type\": \"carpet\"}], \"choropleth\": [{\"colorbar\": {\"outlinewidth\": 0, \"ticks\": \"\"}, \"type\": \"choropleth\"}], \"contour\": [{\"colorbar\": {\"outlinewidth\": 0, \"ticks\": \"\"}, \"colorscale\": [[0.0, \"#0d0887\"], [0.1111111111111111, \"#46039f\"], [0.2222222222222222, \"#7201a8\"], [0.3333333333333333, \"#9c179e\"], [0.4444444444444444, \"#bd3786\"], [0.5555555555555556, \"#d8576b\"], [0.6666666666666666, \"#ed7953\"], [0.7777777777777778, \"#fb9f3a\"], [0.8888888888888888, \"#fdca26\"], [1.0, \"#f0f921\"]], \"type\": \"contour\"}], \"contourcarpet\": [{\"colorbar\": {\"outlinewidth\": 0, \"ticks\": \"\"}, \"type\": \"contourcarpet\"}], \"heatmap\": [{\"colorbar\": {\"outlinewidth\": 0, \"ticks\": \"\"}, \"colorscale\": [[0.0, \"#0d0887\"], [0.1111111111111111, \"#46039f\"], [0.2222222222222222, \"#7201a8\"], [0.3333333333333333, \"#9c179e\"], [0.4444444444444444, \"#bd3786\"], [0.5555555555555556, \"#d8576b\"], [0.6666666666666666, \"#ed7953\"], [0.7777777777777778, \"#fb9f3a\"], [0.8888888888888888, \"#fdca26\"], [1.0, \"#f0f921\"]], \"type\": \"heatmap\"}], \"heatmapgl\": [{\"colorbar\": {\"outlinewidth\": 0, \"ticks\": \"\"}, \"colorscale\": [[0.0, \"#0d0887\"], [0.1111111111111111, \"#46039f\"], [0.2222222222222222, \"#7201a8\"], [0.3333333333333333, \"#9c179e\"], [0.4444444444444444, \"#bd3786\"], [0.5555555555555556, \"#d8576b\"], [0.6666666666666666, \"#ed7953\"], [0.7777777777777778, \"#fb9f3a\"], [0.8888888888888888, \"#fdca26\"], [1.0, \"#f0f921\"]], \"type\": \"heatmapgl\"}], \"histogram\": [{\"marker\": {\"colorbar\": {\"outlinewidth\": 0, \"ticks\": \"\"}}, \"type\": \"histogram\"}], \"histogram2d\": [{\"colorbar\": {\"outlinewidth\": 0, \"ticks\": \"\"}, \"colorscale\": [[0.0, \"#0d0887\"], [0.1111111111111111, \"#46039f\"], [0.2222222222222222, \"#7201a8\"], [0.3333333333333333, \"#9c179e\"], [0.4444444444444444, \"#bd3786\"], [0.5555555555555556, \"#d8576b\"], [0.6666666666666666, \"#ed7953\"], [0.7777777777777778, \"#fb9f3a\"], [0.8888888888888888, \"#fdca26\"], [1.0, \"#f0f921\"]], \"type\": \"histogram2d\"}], \"histogram2dcontour\": [{\"colorbar\": {\"outlinewidth\": 0, \"ticks\": \"\"}, \"colorscale\": [[0.0, \"#0d0887\"], [0.1111111111111111, \"#46039f\"], [0.2222222222222222, \"#7201a8\"], [0.3333333333333333, \"#9c179e\"], [0.4444444444444444, \"#bd3786\"], [0.5555555555555556, \"#d8576b\"], [0.6666666666666666, \"#ed7953\"], [0.7777777777777778, \"#fb9f3a\"], [0.8888888888888888, \"#fdca26\"], [1.0, \"#f0f921\"]], \"type\": \"histogram2dcontour\"}], \"mesh3d\": [{\"colorbar\": {\"outlinewidth\": 0, \"ticks\": \"\"}, \"type\": \"mesh3d\"}], \"parcoords\": [{\"line\": {\"colorbar\": {\"outlinewidth\": 0, \"ticks\": \"\"}}, \"type\": \"parcoords\"}], \"pie\": [{\"automargin\": true, \"type\": \"pie\"}], \"scatter\": [{\"marker\": {\"colorbar\": {\"outlinewidth\": 0, \"ticks\": \"\"}}, \"type\": \"scatter\"}], \"scatter3d\": [{\"line\": {\"colorbar\": {\"outlinewidth\": 0, \"ticks\": \"\"}}, \"marker\": {\"colorbar\": {\"outlinewidth\": 0, \"ticks\": \"\"}}, \"type\": \"scatter3d\"}], \"scattercarpet\": [{\"marker\": {\"colorbar\": {\"outlinewidth\": 0, \"ticks\": \"\"}}, \"type\": \"scattercarpet\"}], \"scattergeo\": [{\"marker\": {\"colorbar\": {\"outlinewidth\": 0, \"ticks\": \"\"}}, \"type\": \"scattergeo\"}], \"scattergl\": [{\"marker\": {\"colorbar\": {\"outlinewidth\": 0, \"ticks\": \"\"}}, \"type\": \"scattergl\"}], \"scattermapbox\": [{\"marker\": {\"colorbar\": {\"outlinewidth\": 0, \"ticks\": \"\"}}, \"type\": \"scattermapbox\"}], \"scatterpolar\": [{\"marker\": {\"colorbar\": {\"outlinewidth\": 0, \"ticks\": \"\"}}, \"type\": \"scatterpolar\"}], \"scatterpolargl\": [{\"marker\": {\"colorbar\": {\"outlinewidth\": 0, \"ticks\": \"\"}}, \"type\": \"scatterpolargl\"}], \"scatterternary\": [{\"marker\": {\"colorbar\": {\"outlinewidth\": 0, \"ticks\": \"\"}}, \"type\": \"scatterternary\"}], \"surface\": [{\"colorbar\": {\"outlinewidth\": 0, \"ticks\": \"\"}, \"colorscale\": [[0.0, \"#0d0887\"], [0.1111111111111111, \"#46039f\"], [0.2222222222222222, \"#7201a8\"], [0.3333333333333333, \"#9c179e\"], [0.4444444444444444, \"#bd3786\"], [0.5555555555555556, \"#d8576b\"], [0.6666666666666666, \"#ed7953\"], [0.7777777777777778, \"#fb9f3a\"], [0.8888888888888888, \"#fdca26\"], [1.0, \"#f0f921\"]], \"type\": \"surface\"}], \"table\": [{\"cells\": {\"fill\": {\"color\": \"#EBF0F8\"}, \"line\": {\"color\": \"white\"}}, \"header\": {\"fill\": {\"color\": \"#C8D4E3\"}, \"line\": {\"color\": \"white\"}}, \"type\": \"table\"}]}, \"layout\": {\"annotationdefaults\": {\"arrowcolor\": \"#2a3f5f\", \"arrowhead\": 0, \"arrowwidth\": 1}, \"coloraxis\": {\"colorbar\": {\"outlinewidth\": 0, \"ticks\": \"\"}}, \"colorscale\": {\"diverging\": [[0, \"#8e0152\"], [0.1, \"#c51b7d\"], [0.2, \"#de77ae\"], [0.3, \"#f1b6da\"], [0.4, \"#fde0ef\"], [0.5, \"#f7f7f7\"], [0.6, \"#e6f5d0\"], [0.7, \"#b8e186\"], [0.8, \"#7fbc41\"], [0.9, \"#4d9221\"], [1, \"#276419\"]], \"sequential\": [[0.0, \"#0d0887\"], [0.1111111111111111, \"#46039f\"], [0.2222222222222222, \"#7201a8\"], [0.3333333333333333, \"#9c179e\"], [0.4444444444444444, \"#bd3786\"], [0.5555555555555556, \"#d8576b\"], [0.6666666666666666, \"#ed7953\"], [0.7777777777777778, \"#fb9f3a\"], [0.8888888888888888, \"#fdca26\"], [1.0, \"#f0f921\"]], \"sequentialminus\": [[0.0, \"#0d0887\"], [0.1111111111111111, \"#46039f\"], [0.2222222222222222, \"#7201a8\"], [0.3333333333333333, \"#9c179e\"], [0.4444444444444444, \"#bd3786\"], [0.5555555555555556, \"#d8576b\"], [0.6666666666666666, \"#ed7953\"], [0.7777777777777778, \"#fb9f3a\"], [0.8888888888888888, \"#fdca26\"], [1.0, \"#f0f921\"]]}, \"colorway\": [\"#636efa\", \"#EF553B\", \"#00cc96\", \"#ab63fa\", \"#FFA15A\", \"#19d3f3\", \"#FF6692\", \"#B6E880\", \"#FF97FF\", \"#FECB52\"], \"font\": {\"color\": \"#2a3f5f\"}, \"geo\": {\"bgcolor\": \"white\", \"lakecolor\": \"white\", \"landcolor\": \"#E5ECF6\", \"showlakes\": true, \"showland\": true, \"subunitcolor\": \"white\"}, \"hoverlabel\": {\"align\": \"left\"}, \"hovermode\": \"closest\", \"mapbox\": {\"style\": \"light\"}, \"paper_bgcolor\": \"white\", \"plot_bgcolor\": \"#E5ECF6\", \"polar\": {\"angularaxis\": {\"gridcolor\": \"white\", \"linecolor\": \"white\", \"ticks\": \"\"}, \"bgcolor\": \"#E5ECF6\", \"radialaxis\": {\"gridcolor\": \"white\", \"linecolor\": \"white\", \"ticks\": \"\"}}, \"scene\": {\"xaxis\": {\"backgroundcolor\": \"#E5ECF6\", \"gridcolor\": \"white\", \"gridwidth\": 2, \"linecolor\": \"white\", \"showbackground\": true, \"ticks\": \"\", \"zerolinecolor\": \"white\"}, \"yaxis\": {\"backgroundcolor\": \"#E5ECF6\", \"gridcolor\": \"white\", \"gridwidth\": 2, \"linecolor\": \"white\", \"showbackground\": true, \"ticks\": \"\", \"zerolinecolor\": \"white\"}, \"zaxis\": {\"backgroundcolor\": \"#E5ECF6\", \"gridcolor\": \"white\", \"gridwidth\": 2, \"linecolor\": \"white\", \"showbackground\": true, \"ticks\": \"\", \"zerolinecolor\": \"white\"}}, \"shapedefaults\": {\"line\": {\"color\": \"#2a3f5f\"}}, \"ternary\": {\"aaxis\": {\"gridcolor\": \"white\", \"linecolor\": \"white\", \"ticks\": \"\"}, \"baxis\": {\"gridcolor\": \"white\", \"linecolor\": \"white\", \"ticks\": \"\"}, \"bgcolor\": \"#E5ECF6\", \"caxis\": {\"gridcolor\": \"white\", \"linecolor\": \"white\", \"ticks\": \"\"}}, \"title\": {\"x\": 0.05}, \"xaxis\": {\"automargin\": true, \"gridcolor\": \"white\", \"linecolor\": \"white\", \"ticks\": \"\", \"title\": {\"standoff\": 15}, \"zerolinecolor\": \"white\", \"zerolinewidth\": 2}, \"yaxis\": {\"automargin\": true, \"gridcolor\": \"white\", \"linecolor\": \"white\", \"ticks\": \"\", \"title\": {\"standoff\": 15}, \"zerolinecolor\": \"white\", \"zerolinewidth\": 2}}}, \"xaxis\": {\"anchor\": \"y\", \"domain\": [0.0, 1.0], \"title\": {\"text\": \"wordsWithPunctuationPercentage\"}}, \"yaxis\": {\"anchor\": \"x\", \"domain\": [0.0, 1.0], \"title\": {\"text\": \"wordCount\"}}},\n",
       "                        {\"responsive\": true}\n",
       "                    ).then(function(){\n",
       "                            \n",
       "var gd = document.getElementById('38814859-2e4a-49d1-97d6-be13913a33c8');\n",
       "var x = new MutationObserver(function (mutations, observer) {{\n",
       "        var display = window.getComputedStyle(gd).display;\n",
       "        if (!display || display === 'none') {{\n",
       "            console.log([gd, 'removed!']);\n",
       "            Plotly.purge(gd);\n",
       "            observer.disconnect();\n",
       "        }}\n",
       "}});\n",
       "\n",
       "// Listen for the removal of the full notebook cells\n",
       "var notebookContainer = gd.closest('#notebook-container');\n",
       "if (notebookContainer) {{\n",
       "    x.observe(notebookContainer, {childList: true});\n",
       "}}\n",
       "\n",
       "// Listen for the clearing of the current output cell\n",
       "var outputEl = gd.closest('.output');\n",
       "if (outputEl) {{\n",
       "    x.observe(outputEl, {childList: true});\n",
       "}}\n",
       "\n",
       "                        })\n",
       "                };\n",
       "                });\n",
       "            </script>\n",
       "        </div>"
      ]
     },
     "metadata": {},
     "output_type": "display_data"
    }
   ],
   "source": [
    "fig = px.scatter(my_df, x=\"wordsWithPunctuationPercentage\", y=\"wordCount\", color=\"author\",)\n",
    "fig.show()"
   ]
  },
  {
   "cell_type": "code",
   "execution_count": 105,
   "metadata": {},
   "outputs": [
    {
     "data": {
      "application/vnd.plotly.v1+json": {
       "config": {
        "plotlyServerURL": "https://plot.ly"
       },
       "data": [
        {
         "hoverlabel": {
          "namelength": 0
         },
         "hovertemplate": "author=Zola<br>wordsWithPunctuationPercentage=%{x}<br>numberOfSentences=%{y}",
         "legendgroup": "author=Zola",
         "marker": {
          "color": "#636efa",
          "symbol": "circle"
         },
         "mode": "markers",
         "name": "author=Zola",
         "showlegend": true,
         "type": "scatter",
         "x": [
          16.664,
          8.16,
          13.631999999999998,
          9.3,
          28,
          8.08,
          24.136,
          22.575,
          9.999,
          8,
          4.836,
          10,
          2.941,
          29.308,
          24.996000000000002,
          11.805,
          12.376,
          13.041,
          10.836,
          11.596,
          11.401,
          13.088,
          10.41,
          8.021,
          13.916,
          11.284,
          11.492,
          19.668,
          17.24,
          15.149999999999999,
          13.001999999999999,
          24.997,
          21.426000000000002,
          21.426000000000002,
          22.725,
          8.784,
          10.223999999999998,
          11.764,
          13.063999999999998,
          14.443,
          17.142000000000003,
          11.592,
          11.625,
          5.554,
          7.406,
          13.719999999999999,
          18.515,
          3.448,
          21.735000000000003,
          13.533,
          21.735000000000003,
          22.725,
          9.752,
          12.304,
          11.315999999999999,
          8,
          16.662,
          9.756,
          13.461,
          11.424,
          8.976,
          9.43,
          9.25,
          22.575,
          8.736,
          25.8,
          12.491999999999999,
          15.245999999999999,
          10.713000000000001,
          8.582,
          9.09,
          13.038,
          13.943999999999999,
          12.4,
          4.596,
          6.815999999999999,
          24.996000000000002,
          15.149999999999999,
          12,
          13.565999999999999,
          19.668,
          24.996000000000002,
          16.974,
          12,
          16.66,
          10.952,
          9.09,
          8.106,
          11.927999999999999,
          22.575,
          16.275000000000002,
          12.024000000000001,
          8.406,
          13.631999999999998,
          10.592,
          10,
          12.208,
          8.84,
          8.88,
          9.375,
          10.625,
          4.08,
          13.332,
          15.38,
          7.14,
          14.285,
          28,
          9.62,
          12.195,
          9.3,
          11.428,
          18.6,
          16.664,
          12.195,
          11.208,
          17.646,
          7.5,
          19.634999999999998,
          10.443999999999999,
          14,
          11.899999999999999,
          16.66,
          9.687999999999999,
          24.997,
          11.788,
          15.287999999999998,
          13.041,
          20.688,
          10.713000000000001,
          31.814999999999998,
          24.997,
          19.044,
          19.642,
          10.362,
          13.635,
          26.18,
          29.409999999999997,
          14.7,
          10.234,
          24,
          16.169999999999998,
          7.406,
          28.57,
          13.8,
          18.634,
          13.332,
          15.149999999999999,
          9.42,
          12.278,
          14.49,
          7.544,
          40.733,
          13.51,
          8.496,
          13.202,
          7.59,
          4.545,
          8.508,
          12.498000000000001,
          12.82,
          13.384,
          12.54,
          11.108,
          17.855,
          20.688,
          12.495999999999999,
          19.512,
          12.649999999999999,
          22.856,
          11.538,
          11.826,
          11.927999999999999,
          15.211,
          20.830000000000002,
          8.106,
          11.448,
          7.26,
          16.974,
          18.6,
          13.653,
          14,
          11.169,
          13.112,
          20.688,
          34.776,
          5.553,
          17.948,
          10.107,
          4.997999999999999,
          29.624,
          31.814999999999998,
          18.029,
          12.671999999999999,
          8.328,
          13.792,
          13.631999999999998,
          21.426000000000002,
          9.228,
          16.664,
          6.348
         ],
         "xaxis": "x",
         "y": [
          3,
          3,
          3,
          4,
          4,
          9,
          4,
          2,
          2,
          9,
          2,
          1,
          1,
          5,
          2,
          6,
          5,
          2,
          6,
          4,
          4,
          7,
          6,
          6,
          8,
          3,
          5,
          7,
          2,
          2,
          6,
          4,
          2,
          3,
          2,
          4,
          4,
          2,
          7,
          5,
          1,
          4,
          2,
          1,
          1,
          3,
          3,
          1,
          3,
          4,
          3,
          2,
          4,
          3,
          5,
          1,
          2,
          1,
          3,
          9,
          7,
          3,
          5,
          2,
          7,
          3,
          4,
          6,
          1,
          8,
          1,
          3,
          7,
          6,
          3,
          3,
          2,
          2,
          1,
          14,
          6,
          2,
          3,
          1,
          2,
          2,
          1,
          3,
          9,
          3,
          3,
          14,
          6,
          7,
          11,
          1,
          10,
          3,
          7,
          3,
          8,
          1,
          1,
          5,
          2,
          3,
          3,
          5,
          1,
          4,
          2,
          3,
          3,
          3,
          4,
          4,
          2,
          3,
          3,
          4,
          2,
          4,
          9,
          3,
          14,
          5,
          4,
          2,
          2,
          3,
          4,
          4,
          8,
          9,
          3,
          5,
          5,
          2,
          7,
          3,
          3,
          1,
          3,
          4,
          4,
          4,
          3,
          5,
          3,
          3,
          3,
          5,
          3,
          8,
          2,
          4,
          1,
          3,
          1,
          3,
          7,
          10,
          2,
          2,
          2,
          4,
          2,
          6,
          4,
          3,
          6,
          9,
          3,
          2,
          3,
          6,
          9,
          3,
          3,
          12,
          2,
          6,
          3,
          2,
          3,
          1,
          4,
          5,
          2,
          4,
          3,
          6,
          3,
          9,
          2,
          2,
          2,
          7,
          3,
          3
         ],
         "yaxis": "y"
        },
        {
         "hoverlabel": {
          "namelength": 0
         },
         "hovertemplate": "author=Maupassant<br>wordsWithPunctuationPercentage=%{x}<br>numberOfSentences=%{y}",
         "legendgroup": "author=Maupassant",
         "marker": {
          "color": "#EF553B",
          "symbol": "circle"
         },
         "mode": "markers",
         "name": "author=Maupassant",
         "showlegend": true,
         "type": "scatter",
         "x": [
          15.287999999999998,
          11.625,
          16.25,
          14.448,
          9.555,
          6.896,
          21.951,
          6.380999999999999,
          12.96,
          23.076,
          25.254,
          25,
          18.6,
          19.712,
          8.469999999999999,
          10.971,
          4.254,
          8.924999999999999,
          10.738,
          7.142,
          16.664,
          12.195,
          19.557000000000002,
          10.634999999999998,
          19.04,
          11.108,
          19.23,
          23.903,
          22.725,
          11.764,
          8.328,
          9.999,
          4.166,
          9.3,
          11.109,
          9.09,
          8,
          8.694,
          15,
          8.427999999999999,
          27.02,
          8.16,
          15.384,
          9.647,
          8.924999999999999,
          11.428,
          12.896,
          21.951,
          17.22,
          5.714,
          9.228,
          17.142000000000003,
          3.9989999999999997,
          11.538,
          8.33,
          7.892999999999999,
          10.524,
          16.268,
          6.666,
          25.713,
          10.415000000000001,
          6.519,
          15.87,
          13.332,
          25.523999999999997,
          15.74,
          24.517999999999997,
          9.228,
          16.845,
          14.28,
          11.109,
          19.8,
          9.375,
          5.404,
          18.6,
          12.498000000000001,
          14,
          3.333,
          11.76,
          12.498000000000001,
          16.25,
          6.45,
          4.166,
          12.12,
          16.666,
          21.426000000000002,
          22.218,
          10.952,
          8.16,
          14.28,
          4.545,
          18.747,
          6.666,
          6.461,
          10.78,
          9.522,
          13.950000000000001,
          13.155,
          17.307000000000002,
          10.865,
          16.664,
          28.125,
          10.646999999999998,
          24.24,
          21.04,
          12.5,
          12.321,
          7.14,
          13.69,
          11.428,
          21.875,
          16,
          3.448,
          11.315999999999999,
          19.998,
          9.522,
          14.464,
          8.245,
          42.306,
          25.343999999999998,
          12.190000000000001,
          7.46,
          17.24,
          10.526,
          6.12,
          19.787,
          10.934000000000001,
          11.428,
          18.176,
          9.522,
          4.166,
          7.939,
          16.896,
          11,
          7.46,
          12.24,
          2.738,
          41.660000000000004,
          13.155,
          17.51,
          16.664,
          3.636,
          9.756,
          10.647,
          22.44,
          11.1,
          11.428,
          17.24,
          19.998,
          9.675,
          19.11,
          22.216,
          15.267999999999999,
          14.92,
          20,
          11.538,
          9.408,
          26.082,
          13.155,
          9.09,
          10.41,
          10.526,
          9.375,
          14.464,
          6.516,
          14,
          16.268,
          25,
          14.544,
          16.212,
          27.602,
          14.812,
          19.998,
          15,
          21.426000000000002,
          16.125,
          7.692,
          25,
          9.086,
          17.142000000000003,
          13.332,
          19.47,
          7.5,
          6.45,
          10.3,
          4.347,
          5.553,
          12.488,
          21.426000000000002,
          7.544,
          10.934000000000001,
          4.254,
          21.048000000000002,
          4.166,
          14.628,
          24.24,
          7.055999999999999,
          9.09,
          15.561,
          11.36
         ],
         "xaxis": "x",
         "y": [
          4,
          3,
          7,
          6,
          4,
          1,
          3,
          2,
          9,
          6,
          13,
          3,
          3,
          2,
          2,
          3,
          1,
          2,
          4,
          1,
          2,
          3,
          2,
          1,
          3,
          2,
          1,
          3,
          2,
          2,
          2,
          2,
          1,
          2,
          1,
          1,
          1,
          1,
          3,
          4,
          4,
          1,
          2,
          5,
          2,
          3,
          2,
          3,
          12,
          1,
          2,
          3,
          3,
          1,
          2,
          2,
          2,
          7,
          1,
          3,
          1,
          1,
          2,
          5,
          9,
          10,
          4,
          2,
          5,
          4,
          1,
          10,
          1,
          1,
          3,
          2,
          4,
          1,
          2,
          2,
          7,
          1,
          1,
          1,
          2,
          1,
          2,
          2,
          3,
          5,
          1,
          5,
          2,
          3,
          5,
          1,
          2,
          1,
          5,
          1,
          2,
          7,
          5,
          1,
          7,
          1,
          5,
          2,
          2,
          1,
          3,
          2,
          1,
          2,
          5,
          1,
          14,
          5,
          4,
          9,
          3,
          1,
          3,
          1,
          2,
          27,
          2,
          2,
          8,
          1,
          1,
          6,
          1,
          5,
          1,
          3,
          1,
          5,
          1,
          8,
          1,
          1,
          1,
          4,
          5,
          6,
          3,
          3,
          5,
          1,
          3,
          2,
          3,
          3,
          3,
          2,
          2,
          5,
          2,
          1,
          4,
          1,
          1,
          14,
          3,
          4,
          7,
          3,
          1,
          1,
          27,
          1,
          5,
          3,
          2,
          1,
          1,
          2,
          5,
          3,
          1,
          5,
          2,
          1,
          4,
          1,
          1,
          5,
          2,
          2,
          2,
          1,
          5,
          1,
          3,
          1,
          2,
          1,
          9,
          2
         ],
         "yaxis": "y"
        },
        {
         "hoverlabel": {
          "namelength": 0
         },
         "hovertemplate": "author=Balzac<br>wordsWithPunctuationPercentage=%{x}<br>numberOfSentences=%{y}",
         "legendgroup": "author=Balzac",
         "marker": {
          "color": "#00cc96",
          "symbol": "circle"
         },
         "mode": "markers",
         "name": "author=Balzac",
         "showlegend": true,
         "type": "scatter",
         "x": [
          17.271,
          20.587,
          17.2,
          16,
          12.5,
          12.278,
          11.108,
          14.704999999999998,
          15.384,
          14.111999999999998,
          15.625,
          4.76,
          12.167,
          26.31,
          12.788,
          15.384,
          10.602,
          13.635,
          19.32,
          15.384,
          5.262,
          12.36,
          9.36,
          21.735000000000003,
          9.7,
          29.025000000000002,
          7.951999999999999,
          10,
          10.098,
          11.764,
          9.09,
          12,
          19.23,
          23.52,
          8.06,
          19.04,
          11.538,
          10.256,
          11.11,
          10.344,
          11.109,
          12.6,
          4.166,
          12.82,
          11.428,
          11.620000000000001,
          10.634999999999998,
          28,
          8.772,
          28,
          8.398,
          13.684999999999999,
          14.872,
          17.82,
          6.896,
          13.332,
          15.211,
          12.792,
          9.530999999999999,
          14.283000000000001,
          7.406,
          8.106,
          6.838,
          20,
          6.378,
          9.648,
          17.095,
          6.25,
          8.533000000000001,
          22.725,
          9.24,
          26.18,
          8.778,
          14.654,
          11.764,
          10.524,
          23.331000000000003,
          11.899999999999999,
          25.921,
          10.692,
          17.388,
          22.44,
          24.99,
          7.4399999999999995,
          20.265,
          4.444,
          12.936,
          22.218,
          11.315999999999999,
          10.716,
          9.306000000000001,
          13,
          24.996000000000002,
          17.408,
          8.694,
          10.98,
          20.830000000000002,
          14.812,
          10.472,
          16,
          20,
          19.044,
          17.016,
          17.855,
          12.222999999999999,
          9.52,
          15.088,
          15,
          16.662,
          15.384,
          11.979,
          7.076,
          9.999,
          15,
          9.795,
          9.7,
          7.092,
          9.936,
          10.256,
          16.664,
          14.861,
          8.554,
          9.675,
          17.948,
          22.725,
          14.852,
          12.934000000000001,
          4.164,
          18.029,
          11.109,
          10.524,
          6.896,
          12.663,
          42.104,
          15.384,
          12.540000000000001,
          8.1,
          14.504000000000001,
          21.875,
          5.262,
          7.744,
          24.997,
          9.522,
          15.625,
          15.204,
          8.823,
          31.25,
          10,
          10,
          8.638,
          24,
          13.545,
          11.908000000000001,
          11.537,
          10.569,
          24,
          14.274000000000001,
          14.284,
          16.662,
          12.82,
          19.044,
          7.513999999999999,
          37.03,
          15.384,
          10,
          10.256,
          11.719999999999999,
          13.635,
          14.322,
          10.709999999999999,
          7.472,
          21.048,
          12.068,
          9.472,
          5.454000000000001,
          18.011,
          17.073,
          8.328,
          20.447999999999997,
          11.109,
          12.498000000000001,
          27.27,
          15.374999999999998,
          18.18,
          10.918,
          16.664,
          21.875,
          10.537,
          14.285,
          10.136,
          24.24,
          13.915,
          12.5,
          26.314999999999998,
          15.245999999999999,
          19.23,
          7.935,
          9.522,
          13.122,
          14.269
         ],
         "xaxis": "x",
         "y": [
          12,
          2,
          6,
          3,
          3,
          8,
          1,
          1,
          2,
          5,
          3,
          1,
          5,
          2,
          35,
          2,
          10,
          1,
          9,
          1,
          1,
          6,
          8,
          2,
          7,
          4,
          2,
          1,
          8,
          2,
          1,
          1,
          2,
          6,
          4,
          4,
          1,
          1,
          6,
          5,
          1,
          7,
          1,
          2,
          1,
          7,
          3,
          5,
          32,
          5,
          7,
          15,
          58,
          6,
          1,
          2,
          2,
          9,
          13,
          2,
          1,
          2,
          4,
          1,
          2,
          37,
          7,
          1,
          4,
          1,
          45,
          5,
          34,
          8,
          2,
          2,
          3,
          4,
          3,
          9,
          1,
          3,
          9,
          13,
          1,
          2,
          4,
          2,
          3,
          5,
          15,
          6,
          2,
          17,
          1,
          6,
          3,
          2,
          6,
          3,
          5,
          2,
          6,
          2,
          5,
          1,
          7,
          1,
          2,
          1,
          11,
          13,
          1,
          1,
          5,
          6,
          5,
          18,
          1,
          1,
          6,
          14,
          1,
          3,
          1,
          33,
          12,
          1,
          5,
          2,
          2,
          1,
          18,
          2,
          2,
          84,
          30,
          13,
          3,
          1,
          4,
          1,
          1,
          3,
          2,
          1,
          2,
          1,
          2,
          3,
          2,
          8,
          7,
          21,
          13,
          2,
          10,
          1,
          2,
          2,
          2,
          4,
          1,
          1,
          2,
          1,
          13,
          1,
          11,
          1,
          3,
          2,
          4,
          42,
          2,
          16,
          2,
          4,
          3,
          3,
          2,
          4,
          27,
          2,
          15,
          3,
          3,
          17,
          1,
          8,
          6,
          6,
          1,
          2,
          3,
          2,
          3,
          1,
          4,
          10
         ],
         "yaxis": "y"
        }
       ],
       "layout": {
        "legend": {
         "tracegroupgap": 0
        },
        "margin": {
         "t": 60
        },
        "template": {
         "data": {
          "bar": [
           {
            "error_x": {
             "color": "#2a3f5f"
            },
            "error_y": {
             "color": "#2a3f5f"
            },
            "marker": {
             "line": {
              "color": "#E5ECF6",
              "width": 0.5
             }
            },
            "type": "bar"
           }
          ],
          "barpolar": [
           {
            "marker": {
             "line": {
              "color": "#E5ECF6",
              "width": 0.5
             }
            },
            "type": "barpolar"
           }
          ],
          "carpet": [
           {
            "aaxis": {
             "endlinecolor": "#2a3f5f",
             "gridcolor": "white",
             "linecolor": "white",
             "minorgridcolor": "white",
             "startlinecolor": "#2a3f5f"
            },
            "baxis": {
             "endlinecolor": "#2a3f5f",
             "gridcolor": "white",
             "linecolor": "white",
             "minorgridcolor": "white",
             "startlinecolor": "#2a3f5f"
            },
            "type": "carpet"
           }
          ],
          "choropleth": [
           {
            "colorbar": {
             "outlinewidth": 0,
             "ticks": ""
            },
            "type": "choropleth"
           }
          ],
          "contour": [
           {
            "colorbar": {
             "outlinewidth": 0,
             "ticks": ""
            },
            "colorscale": [
             [
              0,
              "#0d0887"
             ],
             [
              0.1111111111111111,
              "#46039f"
             ],
             [
              0.2222222222222222,
              "#7201a8"
             ],
             [
              0.3333333333333333,
              "#9c179e"
             ],
             [
              0.4444444444444444,
              "#bd3786"
             ],
             [
              0.5555555555555556,
              "#d8576b"
             ],
             [
              0.6666666666666666,
              "#ed7953"
             ],
             [
              0.7777777777777778,
              "#fb9f3a"
             ],
             [
              0.8888888888888888,
              "#fdca26"
             ],
             [
              1,
              "#f0f921"
             ]
            ],
            "type": "contour"
           }
          ],
          "contourcarpet": [
           {
            "colorbar": {
             "outlinewidth": 0,
             "ticks": ""
            },
            "type": "contourcarpet"
           }
          ],
          "heatmap": [
           {
            "colorbar": {
             "outlinewidth": 0,
             "ticks": ""
            },
            "colorscale": [
             [
              0,
              "#0d0887"
             ],
             [
              0.1111111111111111,
              "#46039f"
             ],
             [
              0.2222222222222222,
              "#7201a8"
             ],
             [
              0.3333333333333333,
              "#9c179e"
             ],
             [
              0.4444444444444444,
              "#bd3786"
             ],
             [
              0.5555555555555556,
              "#d8576b"
             ],
             [
              0.6666666666666666,
              "#ed7953"
             ],
             [
              0.7777777777777778,
              "#fb9f3a"
             ],
             [
              0.8888888888888888,
              "#fdca26"
             ],
             [
              1,
              "#f0f921"
             ]
            ],
            "type": "heatmap"
           }
          ],
          "heatmapgl": [
           {
            "colorbar": {
             "outlinewidth": 0,
             "ticks": ""
            },
            "colorscale": [
             [
              0,
              "#0d0887"
             ],
             [
              0.1111111111111111,
              "#46039f"
             ],
             [
              0.2222222222222222,
              "#7201a8"
             ],
             [
              0.3333333333333333,
              "#9c179e"
             ],
             [
              0.4444444444444444,
              "#bd3786"
             ],
             [
              0.5555555555555556,
              "#d8576b"
             ],
             [
              0.6666666666666666,
              "#ed7953"
             ],
             [
              0.7777777777777778,
              "#fb9f3a"
             ],
             [
              0.8888888888888888,
              "#fdca26"
             ],
             [
              1,
              "#f0f921"
             ]
            ],
            "type": "heatmapgl"
           }
          ],
          "histogram": [
           {
            "marker": {
             "colorbar": {
              "outlinewidth": 0,
              "ticks": ""
             }
            },
            "type": "histogram"
           }
          ],
          "histogram2d": [
           {
            "colorbar": {
             "outlinewidth": 0,
             "ticks": ""
            },
            "colorscale": [
             [
              0,
              "#0d0887"
             ],
             [
              0.1111111111111111,
              "#46039f"
             ],
             [
              0.2222222222222222,
              "#7201a8"
             ],
             [
              0.3333333333333333,
              "#9c179e"
             ],
             [
              0.4444444444444444,
              "#bd3786"
             ],
             [
              0.5555555555555556,
              "#d8576b"
             ],
             [
              0.6666666666666666,
              "#ed7953"
             ],
             [
              0.7777777777777778,
              "#fb9f3a"
             ],
             [
              0.8888888888888888,
              "#fdca26"
             ],
             [
              1,
              "#f0f921"
             ]
            ],
            "type": "histogram2d"
           }
          ],
          "histogram2dcontour": [
           {
            "colorbar": {
             "outlinewidth": 0,
             "ticks": ""
            },
            "colorscale": [
             [
              0,
              "#0d0887"
             ],
             [
              0.1111111111111111,
              "#46039f"
             ],
             [
              0.2222222222222222,
              "#7201a8"
             ],
             [
              0.3333333333333333,
              "#9c179e"
             ],
             [
              0.4444444444444444,
              "#bd3786"
             ],
             [
              0.5555555555555556,
              "#d8576b"
             ],
             [
              0.6666666666666666,
              "#ed7953"
             ],
             [
              0.7777777777777778,
              "#fb9f3a"
             ],
             [
              0.8888888888888888,
              "#fdca26"
             ],
             [
              1,
              "#f0f921"
             ]
            ],
            "type": "histogram2dcontour"
           }
          ],
          "mesh3d": [
           {
            "colorbar": {
             "outlinewidth": 0,
             "ticks": ""
            },
            "type": "mesh3d"
           }
          ],
          "parcoords": [
           {
            "line": {
             "colorbar": {
              "outlinewidth": 0,
              "ticks": ""
             }
            },
            "type": "parcoords"
           }
          ],
          "pie": [
           {
            "automargin": true,
            "type": "pie"
           }
          ],
          "scatter": [
           {
            "marker": {
             "colorbar": {
              "outlinewidth": 0,
              "ticks": ""
             }
            },
            "type": "scatter"
           }
          ],
          "scatter3d": [
           {
            "line": {
             "colorbar": {
              "outlinewidth": 0,
              "ticks": ""
             }
            },
            "marker": {
             "colorbar": {
              "outlinewidth": 0,
              "ticks": ""
             }
            },
            "type": "scatter3d"
           }
          ],
          "scattercarpet": [
           {
            "marker": {
             "colorbar": {
              "outlinewidth": 0,
              "ticks": ""
             }
            },
            "type": "scattercarpet"
           }
          ],
          "scattergeo": [
           {
            "marker": {
             "colorbar": {
              "outlinewidth": 0,
              "ticks": ""
             }
            },
            "type": "scattergeo"
           }
          ],
          "scattergl": [
           {
            "marker": {
             "colorbar": {
              "outlinewidth": 0,
              "ticks": ""
             }
            },
            "type": "scattergl"
           }
          ],
          "scattermapbox": [
           {
            "marker": {
             "colorbar": {
              "outlinewidth": 0,
              "ticks": ""
             }
            },
            "type": "scattermapbox"
           }
          ],
          "scatterpolar": [
           {
            "marker": {
             "colorbar": {
              "outlinewidth": 0,
              "ticks": ""
             }
            },
            "type": "scatterpolar"
           }
          ],
          "scatterpolargl": [
           {
            "marker": {
             "colorbar": {
              "outlinewidth": 0,
              "ticks": ""
             }
            },
            "type": "scatterpolargl"
           }
          ],
          "scatterternary": [
           {
            "marker": {
             "colorbar": {
              "outlinewidth": 0,
              "ticks": ""
             }
            },
            "type": "scatterternary"
           }
          ],
          "surface": [
           {
            "colorbar": {
             "outlinewidth": 0,
             "ticks": ""
            },
            "colorscale": [
             [
              0,
              "#0d0887"
             ],
             [
              0.1111111111111111,
              "#46039f"
             ],
             [
              0.2222222222222222,
              "#7201a8"
             ],
             [
              0.3333333333333333,
              "#9c179e"
             ],
             [
              0.4444444444444444,
              "#bd3786"
             ],
             [
              0.5555555555555556,
              "#d8576b"
             ],
             [
              0.6666666666666666,
              "#ed7953"
             ],
             [
              0.7777777777777778,
              "#fb9f3a"
             ],
             [
              0.8888888888888888,
              "#fdca26"
             ],
             [
              1,
              "#f0f921"
             ]
            ],
            "type": "surface"
           }
          ],
          "table": [
           {
            "cells": {
             "fill": {
              "color": "#EBF0F8"
             },
             "line": {
              "color": "white"
             }
            },
            "header": {
             "fill": {
              "color": "#C8D4E3"
             },
             "line": {
              "color": "white"
             }
            },
            "type": "table"
           }
          ]
         },
         "layout": {
          "annotationdefaults": {
           "arrowcolor": "#2a3f5f",
           "arrowhead": 0,
           "arrowwidth": 1
          },
          "coloraxis": {
           "colorbar": {
            "outlinewidth": 0,
            "ticks": ""
           }
          },
          "colorscale": {
           "diverging": [
            [
             0,
             "#8e0152"
            ],
            [
             0.1,
             "#c51b7d"
            ],
            [
             0.2,
             "#de77ae"
            ],
            [
             0.3,
             "#f1b6da"
            ],
            [
             0.4,
             "#fde0ef"
            ],
            [
             0.5,
             "#f7f7f7"
            ],
            [
             0.6,
             "#e6f5d0"
            ],
            [
             0.7,
             "#b8e186"
            ],
            [
             0.8,
             "#7fbc41"
            ],
            [
             0.9,
             "#4d9221"
            ],
            [
             1,
             "#276419"
            ]
           ],
           "sequential": [
            [
             0,
             "#0d0887"
            ],
            [
             0.1111111111111111,
             "#46039f"
            ],
            [
             0.2222222222222222,
             "#7201a8"
            ],
            [
             0.3333333333333333,
             "#9c179e"
            ],
            [
             0.4444444444444444,
             "#bd3786"
            ],
            [
             0.5555555555555556,
             "#d8576b"
            ],
            [
             0.6666666666666666,
             "#ed7953"
            ],
            [
             0.7777777777777778,
             "#fb9f3a"
            ],
            [
             0.8888888888888888,
             "#fdca26"
            ],
            [
             1,
             "#f0f921"
            ]
           ],
           "sequentialminus": [
            [
             0,
             "#0d0887"
            ],
            [
             0.1111111111111111,
             "#46039f"
            ],
            [
             0.2222222222222222,
             "#7201a8"
            ],
            [
             0.3333333333333333,
             "#9c179e"
            ],
            [
             0.4444444444444444,
             "#bd3786"
            ],
            [
             0.5555555555555556,
             "#d8576b"
            ],
            [
             0.6666666666666666,
             "#ed7953"
            ],
            [
             0.7777777777777778,
             "#fb9f3a"
            ],
            [
             0.8888888888888888,
             "#fdca26"
            ],
            [
             1,
             "#f0f921"
            ]
           ]
          },
          "colorway": [
           "#636efa",
           "#EF553B",
           "#00cc96",
           "#ab63fa",
           "#FFA15A",
           "#19d3f3",
           "#FF6692",
           "#B6E880",
           "#FF97FF",
           "#FECB52"
          ],
          "font": {
           "color": "#2a3f5f"
          },
          "geo": {
           "bgcolor": "white",
           "lakecolor": "white",
           "landcolor": "#E5ECF6",
           "showlakes": true,
           "showland": true,
           "subunitcolor": "white"
          },
          "hoverlabel": {
           "align": "left"
          },
          "hovermode": "closest",
          "mapbox": {
           "style": "light"
          },
          "paper_bgcolor": "white",
          "plot_bgcolor": "#E5ECF6",
          "polar": {
           "angularaxis": {
            "gridcolor": "white",
            "linecolor": "white",
            "ticks": ""
           },
           "bgcolor": "#E5ECF6",
           "radialaxis": {
            "gridcolor": "white",
            "linecolor": "white",
            "ticks": ""
           }
          },
          "scene": {
           "xaxis": {
            "backgroundcolor": "#E5ECF6",
            "gridcolor": "white",
            "gridwidth": 2,
            "linecolor": "white",
            "showbackground": true,
            "ticks": "",
            "zerolinecolor": "white"
           },
           "yaxis": {
            "backgroundcolor": "#E5ECF6",
            "gridcolor": "white",
            "gridwidth": 2,
            "linecolor": "white",
            "showbackground": true,
            "ticks": "",
            "zerolinecolor": "white"
           },
           "zaxis": {
            "backgroundcolor": "#E5ECF6",
            "gridcolor": "white",
            "gridwidth": 2,
            "linecolor": "white",
            "showbackground": true,
            "ticks": "",
            "zerolinecolor": "white"
           }
          },
          "shapedefaults": {
           "line": {
            "color": "#2a3f5f"
           }
          },
          "ternary": {
           "aaxis": {
            "gridcolor": "white",
            "linecolor": "white",
            "ticks": ""
           },
           "baxis": {
            "gridcolor": "white",
            "linecolor": "white",
            "ticks": ""
           },
           "bgcolor": "#E5ECF6",
           "caxis": {
            "gridcolor": "white",
            "linecolor": "white",
            "ticks": ""
           }
          },
          "title": {
           "x": 0.05
          },
          "xaxis": {
           "automargin": true,
           "gridcolor": "white",
           "linecolor": "white",
           "ticks": "",
           "title": {
            "standoff": 15
           },
           "zerolinecolor": "white",
           "zerolinewidth": 2
          },
          "yaxis": {
           "automargin": true,
           "gridcolor": "white",
           "linecolor": "white",
           "ticks": "",
           "title": {
            "standoff": 15
           },
           "zerolinecolor": "white",
           "zerolinewidth": 2
          }
         }
        },
        "xaxis": {
         "anchor": "y",
         "domain": [
          0,
          1
         ],
         "title": {
          "text": "wordsWithPunctuationPercentage"
         }
        },
        "yaxis": {
         "anchor": "x",
         "domain": [
          0,
          1
         ],
         "title": {
          "text": "numberOfSentences"
         }
        }
       }
      },
      "text/html": [
       "<div>\n",
       "        \n",
       "        \n",
       "            <div id=\"7d1f4340-ba8a-43ea-a9a9-d8871eb5c993\" class=\"plotly-graph-div\" style=\"height:525px; width:100%;\"></div>\n",
       "            <script type=\"text/javascript\">\n",
       "                require([\"plotly\"], function(Plotly) {\n",
       "                    window.PLOTLYENV=window.PLOTLYENV || {};\n",
       "                    \n",
       "                if (document.getElementById(\"7d1f4340-ba8a-43ea-a9a9-d8871eb5c993\")) {\n",
       "                    Plotly.newPlot(\n",
       "                        '7d1f4340-ba8a-43ea-a9a9-d8871eb5c993',\n",
       "                        [{\"hoverlabel\": {\"namelength\": 0}, \"hovertemplate\": \"author=Zola<br>wordsWithPunctuationPercentage=%{x}<br>numberOfSentences=%{y}\", \"legendgroup\": \"author=Zola\", \"marker\": {\"color\": \"#636efa\", \"symbol\": \"circle\"}, \"mode\": \"markers\", \"name\": \"author=Zola\", \"showlegend\": true, \"type\": \"scatter\", \"x\": [16.664, 8.16, 13.631999999999998, 9.3, 28.0, 8.08, 24.136, 22.575, 9.999, 8.0, 4.836, 10.0, 2.941, 29.308, 24.996000000000002, 11.805, 12.376, 13.041, 10.836, 11.596, 11.401, 13.088, 10.41, 8.021, 13.916, 11.284, 11.492, 19.668, 17.24, 15.149999999999999, 13.001999999999999, 24.997, 21.426000000000002, 21.426000000000002, 22.725, 8.784, 10.223999999999998, 11.764, 13.063999999999998, 14.443, 17.142000000000003, 11.592, 11.625, 5.554, 7.406, 13.719999999999999, 18.515, 3.448, 21.735000000000003, 13.533, 21.735000000000003, 22.725, 9.752, 12.304, 11.315999999999999, 8.0, 16.662, 9.756, 13.461, 11.424, 8.976, 9.43, 9.25, 22.575, 8.736, 25.8, 12.491999999999999, 15.245999999999999, 10.713000000000001, 8.582, 9.09, 13.038, 13.943999999999999, 12.4, 4.596, 6.815999999999999, 24.996000000000002, 15.149999999999999, 12.0, 13.565999999999999, 19.668, 24.996000000000002, 16.974, 12.0, 16.66, 10.952, 9.09, 8.106, 11.927999999999999, 22.575, 16.275000000000002, 12.024000000000001, 8.406, 13.631999999999998, 10.592, 10.0, 12.208, 8.84, 8.88, 9.375, 10.625, 4.08, 13.332, 15.38, 7.14, 14.285, 28.0, 9.62, 12.195, 9.3, 11.428, 18.6, 16.664, 12.195, 11.208, 17.646, 7.5, 19.634999999999998, 10.443999999999999, 14.0, 11.899999999999999, 16.66, 9.687999999999999, 24.997, 11.788, 15.287999999999998, 13.041, 20.688, 10.713000000000001, 31.814999999999998, 24.997, 19.044, 19.642, 10.362, 13.635, 26.18, 29.409999999999997, 14.7, 10.234, 24.0, 16.169999999999998, 7.406, 28.57, 13.8, 18.634, 13.332, 15.149999999999999, 9.42, 12.278, 14.49, 7.544, 40.733, 13.51, 8.496, 13.202, 7.59, 4.545, 8.508, 12.498000000000001, 12.82, 13.384, 12.54, 11.108, 17.855, 20.688, 12.495999999999999, 19.512, 12.649999999999999, 22.856, 11.538, 11.826, 11.927999999999999, 15.211, 20.830000000000002, 8.106, 11.448, 7.26, 16.974, 18.6, 13.653, 14.0, 11.169, 13.112, 20.688, 34.776, 5.553, 17.948, 10.107, 4.997999999999999, 29.624, 31.814999999999998, 18.029, 12.671999999999999, 8.328, 13.792, 13.631999999999998, 21.426000000000002, 9.228, 16.664, 6.348], \"xaxis\": \"x\", \"y\": [3, 3, 3, 4, 4, 9, 4, 2, 2, 9, 2, 1, 1, 5, 2, 6, 5, 2, 6, 4, 4, 7, 6, 6, 8, 3, 5, 7, 2, 2, 6, 4, 2, 3, 2, 4, 4, 2, 7, 5, 1, 4, 2, 1, 1, 3, 3, 1, 3, 4, 3, 2, 4, 3, 5, 1, 2, 1, 3, 9, 7, 3, 5, 2, 7, 3, 4, 6, 1, 8, 1, 3, 7, 6, 3, 3, 2, 2, 1, 14, 6, 2, 3, 1, 2, 2, 1, 3, 9, 3, 3, 14, 6, 7, 11, 1, 10, 3, 7, 3, 8, 1, 1, 5, 2, 3, 3, 5, 1, 4, 2, 3, 3, 3, 4, 4, 2, 3, 3, 4, 2, 4, 9, 3, 14, 5, 4, 2, 2, 3, 4, 4, 8, 9, 3, 5, 5, 2, 7, 3, 3, 1, 3, 4, 4, 4, 3, 5, 3, 3, 3, 5, 3, 8, 2, 4, 1, 3, 1, 3, 7, 10, 2, 2, 2, 4, 2, 6, 4, 3, 6, 9, 3, 2, 3, 6, 9, 3, 3, 12, 2, 6, 3, 2, 3, 1, 4, 5, 2, 4, 3, 6, 3, 9, 2, 2, 2, 7, 3, 3], \"yaxis\": \"y\"}, {\"hoverlabel\": {\"namelength\": 0}, \"hovertemplate\": \"author=Maupassant<br>wordsWithPunctuationPercentage=%{x}<br>numberOfSentences=%{y}\", \"legendgroup\": \"author=Maupassant\", \"marker\": {\"color\": \"#EF553B\", \"symbol\": \"circle\"}, \"mode\": \"markers\", \"name\": \"author=Maupassant\", \"showlegend\": true, \"type\": \"scatter\", \"x\": [15.287999999999998, 11.625, 16.25, 14.448, 9.555, 6.896, 21.951, 6.380999999999999, 12.96, 23.076, 25.254, 25.0, 18.6, 19.712, 8.469999999999999, 10.971, 4.254, 8.924999999999999, 10.738, 7.142, 16.664, 12.195, 19.557000000000002, 10.634999999999998, 19.04, 11.108, 19.23, 23.903, 22.725, 11.764, 8.328, 9.999, 4.166, 9.3, 11.109, 9.09, 8.0, 8.694, 15.0, 8.427999999999999, 27.02, 8.16, 15.384, 9.647, 8.924999999999999, 11.428, 12.896, 21.951, 17.22, 5.714, 9.228, 17.142000000000003, 3.9989999999999997, 11.538, 8.33, 7.892999999999999, 10.524, 16.268, 6.666, 25.713, 10.415000000000001, 6.519, 15.87, 13.332, 25.523999999999997, 15.74, 24.517999999999997, 9.228, 16.845, 14.28, 11.109, 19.8, 9.375, 5.404, 18.6, 12.498000000000001, 14.0, 3.333, 11.76, 12.498000000000001, 16.25, 6.45, 4.166, 12.12, 16.666, 21.426000000000002, 22.218, 10.952, 8.16, 14.28, 4.545, 18.747, 6.666, 6.461, 10.78, 9.522, 13.950000000000001, 13.155, 17.307000000000002, 10.865, 16.664, 28.125, 10.646999999999998, 24.24, 21.04, 12.5, 12.321, 7.14, 13.69, 11.428, 21.875, 16.0, 3.448, 11.315999999999999, 19.998, 9.522, 14.464, 8.245, 42.306, 25.343999999999998, 12.190000000000001, 7.46, 17.24, 10.526, 6.12, 19.787, 10.934000000000001, 11.428, 18.176, 9.522, 4.166, 7.939, 16.896, 11.0, 7.46, 12.24, 2.738, 41.660000000000004, 13.155, 17.51, 16.664, 3.636, 9.756, 10.647, 22.44, 11.1, 11.428, 17.24, 19.998, 9.675, 19.11, 22.216, 15.267999999999999, 14.92, 20.0, 11.538, 9.408, 26.082, 13.155, 9.09, 10.41, 10.526, 9.375, 14.464, 6.516, 14.0, 16.268, 25.0, 14.544, 16.212, 27.602, 14.812, 19.998, 15.0, 21.426000000000002, 16.125, 7.692, 25.0, 9.086, 17.142000000000003, 13.332, 19.47, 7.5, 6.45, 10.3, 4.347, 5.553, 12.488, 21.426000000000002, 7.544, 10.934000000000001, 4.254, 21.048000000000002, 4.166, 14.628, 24.24, 7.055999999999999, 9.09, 15.561, 11.36], \"xaxis\": \"x\", \"y\": [4, 3, 7, 6, 4, 1, 3, 2, 9, 6, 13, 3, 3, 2, 2, 3, 1, 2, 4, 1, 2, 3, 2, 1, 3, 2, 1, 3, 2, 2, 2, 2, 1, 2, 1, 1, 1, 1, 3, 4, 4, 1, 2, 5, 2, 3, 2, 3, 12, 1, 2, 3, 3, 1, 2, 2, 2, 7, 1, 3, 1, 1, 2, 5, 9, 10, 4, 2, 5, 4, 1, 10, 1, 1, 3, 2, 4, 1, 2, 2, 7, 1, 1, 1, 2, 1, 2, 2, 3, 5, 1, 5, 2, 3, 5, 1, 2, 1, 5, 1, 2, 7, 5, 1, 7, 1, 5, 2, 2, 1, 3, 2, 1, 2, 5, 1, 14, 5, 4, 9, 3, 1, 3, 1, 2, 27, 2, 2, 8, 1, 1, 6, 1, 5, 1, 3, 1, 5, 1, 8, 1, 1, 1, 4, 5, 6, 3, 3, 5, 1, 3, 2, 3, 3, 3, 2, 2, 5, 2, 1, 4, 1, 1, 14, 3, 4, 7, 3, 1, 1, 27, 1, 5, 3, 2, 1, 1, 2, 5, 3, 1, 5, 2, 1, 4, 1, 1, 5, 2, 2, 2, 1, 5, 1, 3, 1, 2, 1, 9, 2], \"yaxis\": \"y\"}, {\"hoverlabel\": {\"namelength\": 0}, \"hovertemplate\": \"author=Balzac<br>wordsWithPunctuationPercentage=%{x}<br>numberOfSentences=%{y}\", \"legendgroup\": \"author=Balzac\", \"marker\": {\"color\": \"#00cc96\", \"symbol\": \"circle\"}, \"mode\": \"markers\", \"name\": \"author=Balzac\", \"showlegend\": true, \"type\": \"scatter\", \"x\": [17.271, 20.587, 17.2, 16.0, 12.5, 12.278, 11.108, 14.704999999999998, 15.384, 14.111999999999998, 15.625, 4.76, 12.167, 26.31, 12.788, 15.384, 10.602, 13.635, 19.32, 15.384, 5.262, 12.36, 9.36, 21.735000000000003, 9.7, 29.025000000000002, 7.951999999999999, 10.0, 10.098, 11.764, 9.09, 12.0, 19.23, 23.52, 8.06, 19.04, 11.538, 10.256, 11.11, 10.344, 11.109, 12.6, 4.166, 12.82, 11.428, 11.620000000000001, 10.634999999999998, 28.0, 8.772, 28.0, 8.398, 13.684999999999999, 14.872, 17.82, 6.896, 13.332, 15.211, 12.792, 9.530999999999999, 14.283000000000001, 7.406, 8.106, 6.838, 20.0, 6.378, 9.648, 17.095, 6.25, 8.533000000000001, 22.725, 9.24, 26.18, 8.778, 14.654, 11.764, 10.524, 23.331000000000003, 11.899999999999999, 25.921, 10.692, 17.388, 22.44, 24.99, 7.4399999999999995, 20.265, 4.444, 12.936, 22.218, 11.315999999999999, 10.716, 9.306000000000001, 13.0, 24.996000000000002, 17.408, 8.694, 10.98, 20.830000000000002, 14.812, 10.472, 16.0, 20.0, 19.044, 17.016, 17.855, 12.222999999999999, 9.52, 15.088, 15.0, 16.662, 15.384, 11.979, 7.076, 9.999, 15.0, 9.795, 9.7, 7.092, 9.936, 10.256, 16.664, 14.861, 8.554, 9.675, 17.948, 22.725, 14.852, 12.934000000000001, 4.164, 18.029, 11.109, 10.524, 6.896, 12.663, 42.104, 15.384, 12.540000000000001, 8.1, 14.504000000000001, 21.875, 5.262, 7.744, 24.997, 9.522, 15.625, 15.204, 8.823, 31.25, 10.0, 10.0, 8.638, 24.0, 13.545, 11.908000000000001, 11.537, 10.569, 24.0, 14.274000000000001, 14.284, 16.662, 12.82, 19.044, 7.513999999999999, 37.03, 15.384, 10.0, 10.256, 11.719999999999999, 13.635, 14.322, 10.709999999999999, 7.472, 21.048, 12.068, 9.472, 5.454000000000001, 18.011, 17.073, 8.328, 20.447999999999997, 11.109, 12.498000000000001, 27.27, 15.374999999999998, 18.18, 10.918, 16.664, 21.875, 10.537, 14.285, 10.136, 24.24, 13.915, 12.5, 26.314999999999998, 15.245999999999999, 19.23, 7.935, 9.522, 13.122, 14.269], \"xaxis\": \"x\", \"y\": [12, 2, 6, 3, 3, 8, 1, 1, 2, 5, 3, 1, 5, 2, 35, 2, 10, 1, 9, 1, 1, 6, 8, 2, 7, 4, 2, 1, 8, 2, 1, 1, 2, 6, 4, 4, 1, 1, 6, 5, 1, 7, 1, 2, 1, 7, 3, 5, 32, 5, 7, 15, 58, 6, 1, 2, 2, 9, 13, 2, 1, 2, 4, 1, 2, 37, 7, 1, 4, 1, 45, 5, 34, 8, 2, 2, 3, 4, 3, 9, 1, 3, 9, 13, 1, 2, 4, 2, 3, 5, 15, 6, 2, 17, 1, 6, 3, 2, 6, 3, 5, 2, 6, 2, 5, 1, 7, 1, 2, 1, 11, 13, 1, 1, 5, 6, 5, 18, 1, 1, 6, 14, 1, 3, 1, 33, 12, 1, 5, 2, 2, 1, 18, 2, 2, 84, 30, 13, 3, 1, 4, 1, 1, 3, 2, 1, 2, 1, 2, 3, 2, 8, 7, 21, 13, 2, 10, 1, 2, 2, 2, 4, 1, 1, 2, 1, 13, 1, 11, 1, 3, 2, 4, 42, 2, 16, 2, 4, 3, 3, 2, 4, 27, 2, 15, 3, 3, 17, 1, 8, 6, 6, 1, 2, 3, 2, 3, 1, 4, 10], \"yaxis\": \"y\"}],\n",
       "                        {\"legend\": {\"tracegroupgap\": 0}, \"margin\": {\"t\": 60}, \"template\": {\"data\": {\"bar\": [{\"error_x\": {\"color\": \"#2a3f5f\"}, \"error_y\": {\"color\": \"#2a3f5f\"}, \"marker\": {\"line\": {\"color\": \"#E5ECF6\", \"width\": 0.5}}, \"type\": \"bar\"}], \"barpolar\": [{\"marker\": {\"line\": {\"color\": \"#E5ECF6\", \"width\": 0.5}}, \"type\": \"barpolar\"}], \"carpet\": [{\"aaxis\": {\"endlinecolor\": \"#2a3f5f\", \"gridcolor\": \"white\", \"linecolor\": \"white\", \"minorgridcolor\": \"white\", \"startlinecolor\": \"#2a3f5f\"}, \"baxis\": {\"endlinecolor\": \"#2a3f5f\", \"gridcolor\": \"white\", \"linecolor\": \"white\", \"minorgridcolor\": \"white\", \"startlinecolor\": \"#2a3f5f\"}, \"type\": \"carpet\"}], \"choropleth\": [{\"colorbar\": {\"outlinewidth\": 0, \"ticks\": \"\"}, \"type\": \"choropleth\"}], \"contour\": [{\"colorbar\": {\"outlinewidth\": 0, \"ticks\": \"\"}, \"colorscale\": [[0.0, \"#0d0887\"], [0.1111111111111111, \"#46039f\"], [0.2222222222222222, \"#7201a8\"], [0.3333333333333333, \"#9c179e\"], [0.4444444444444444, \"#bd3786\"], [0.5555555555555556, \"#d8576b\"], [0.6666666666666666, \"#ed7953\"], [0.7777777777777778, \"#fb9f3a\"], [0.8888888888888888, \"#fdca26\"], [1.0, \"#f0f921\"]], \"type\": \"contour\"}], \"contourcarpet\": [{\"colorbar\": {\"outlinewidth\": 0, \"ticks\": \"\"}, \"type\": \"contourcarpet\"}], \"heatmap\": [{\"colorbar\": {\"outlinewidth\": 0, \"ticks\": \"\"}, \"colorscale\": [[0.0, \"#0d0887\"], [0.1111111111111111, \"#46039f\"], [0.2222222222222222, \"#7201a8\"], [0.3333333333333333, \"#9c179e\"], [0.4444444444444444, \"#bd3786\"], [0.5555555555555556, \"#d8576b\"], [0.6666666666666666, \"#ed7953\"], [0.7777777777777778, \"#fb9f3a\"], [0.8888888888888888, \"#fdca26\"], [1.0, \"#f0f921\"]], \"type\": \"heatmap\"}], \"heatmapgl\": [{\"colorbar\": {\"outlinewidth\": 0, \"ticks\": \"\"}, \"colorscale\": [[0.0, \"#0d0887\"], [0.1111111111111111, \"#46039f\"], [0.2222222222222222, \"#7201a8\"], [0.3333333333333333, \"#9c179e\"], [0.4444444444444444, \"#bd3786\"], [0.5555555555555556, \"#d8576b\"], [0.6666666666666666, \"#ed7953\"], [0.7777777777777778, \"#fb9f3a\"], [0.8888888888888888, \"#fdca26\"], [1.0, \"#f0f921\"]], \"type\": \"heatmapgl\"}], \"histogram\": [{\"marker\": {\"colorbar\": {\"outlinewidth\": 0, \"ticks\": \"\"}}, \"type\": \"histogram\"}], \"histogram2d\": [{\"colorbar\": {\"outlinewidth\": 0, \"ticks\": \"\"}, \"colorscale\": [[0.0, \"#0d0887\"], [0.1111111111111111, \"#46039f\"], [0.2222222222222222, \"#7201a8\"], [0.3333333333333333, \"#9c179e\"], [0.4444444444444444, \"#bd3786\"], [0.5555555555555556, \"#d8576b\"], [0.6666666666666666, \"#ed7953\"], [0.7777777777777778, \"#fb9f3a\"], [0.8888888888888888, \"#fdca26\"], [1.0, \"#f0f921\"]], \"type\": \"histogram2d\"}], \"histogram2dcontour\": [{\"colorbar\": {\"outlinewidth\": 0, \"ticks\": \"\"}, \"colorscale\": [[0.0, \"#0d0887\"], [0.1111111111111111, \"#46039f\"], [0.2222222222222222, \"#7201a8\"], [0.3333333333333333, \"#9c179e\"], [0.4444444444444444, \"#bd3786\"], [0.5555555555555556, \"#d8576b\"], [0.6666666666666666, \"#ed7953\"], [0.7777777777777778, \"#fb9f3a\"], [0.8888888888888888, \"#fdca26\"], [1.0, \"#f0f921\"]], \"type\": \"histogram2dcontour\"}], \"mesh3d\": [{\"colorbar\": {\"outlinewidth\": 0, \"ticks\": \"\"}, \"type\": \"mesh3d\"}], \"parcoords\": [{\"line\": {\"colorbar\": {\"outlinewidth\": 0, \"ticks\": \"\"}}, \"type\": \"parcoords\"}], \"pie\": [{\"automargin\": true, \"type\": \"pie\"}], \"scatter\": [{\"marker\": {\"colorbar\": {\"outlinewidth\": 0, \"ticks\": \"\"}}, \"type\": \"scatter\"}], \"scatter3d\": [{\"line\": {\"colorbar\": {\"outlinewidth\": 0, \"ticks\": \"\"}}, \"marker\": {\"colorbar\": {\"outlinewidth\": 0, \"ticks\": \"\"}}, \"type\": \"scatter3d\"}], \"scattercarpet\": [{\"marker\": {\"colorbar\": {\"outlinewidth\": 0, \"ticks\": \"\"}}, \"type\": \"scattercarpet\"}], \"scattergeo\": [{\"marker\": {\"colorbar\": {\"outlinewidth\": 0, \"ticks\": \"\"}}, \"type\": \"scattergeo\"}], \"scattergl\": [{\"marker\": {\"colorbar\": {\"outlinewidth\": 0, \"ticks\": \"\"}}, \"type\": \"scattergl\"}], \"scattermapbox\": [{\"marker\": {\"colorbar\": {\"outlinewidth\": 0, \"ticks\": \"\"}}, \"type\": \"scattermapbox\"}], \"scatterpolar\": [{\"marker\": {\"colorbar\": {\"outlinewidth\": 0, \"ticks\": \"\"}}, \"type\": \"scatterpolar\"}], \"scatterpolargl\": [{\"marker\": {\"colorbar\": {\"outlinewidth\": 0, \"ticks\": \"\"}}, \"type\": \"scatterpolargl\"}], \"scatterternary\": [{\"marker\": {\"colorbar\": {\"outlinewidth\": 0, \"ticks\": \"\"}}, \"type\": \"scatterternary\"}], \"surface\": [{\"colorbar\": {\"outlinewidth\": 0, \"ticks\": \"\"}, \"colorscale\": [[0.0, \"#0d0887\"], [0.1111111111111111, \"#46039f\"], [0.2222222222222222, \"#7201a8\"], [0.3333333333333333, \"#9c179e\"], [0.4444444444444444, \"#bd3786\"], [0.5555555555555556, \"#d8576b\"], [0.6666666666666666, \"#ed7953\"], [0.7777777777777778, \"#fb9f3a\"], [0.8888888888888888, \"#fdca26\"], [1.0, \"#f0f921\"]], \"type\": \"surface\"}], \"table\": [{\"cells\": {\"fill\": {\"color\": \"#EBF0F8\"}, \"line\": {\"color\": \"white\"}}, \"header\": {\"fill\": {\"color\": \"#C8D4E3\"}, \"line\": {\"color\": \"white\"}}, \"type\": \"table\"}]}, \"layout\": {\"annotationdefaults\": {\"arrowcolor\": \"#2a3f5f\", \"arrowhead\": 0, \"arrowwidth\": 1}, \"coloraxis\": {\"colorbar\": {\"outlinewidth\": 0, \"ticks\": \"\"}}, \"colorscale\": {\"diverging\": [[0, \"#8e0152\"], [0.1, \"#c51b7d\"], [0.2, \"#de77ae\"], [0.3, \"#f1b6da\"], [0.4, \"#fde0ef\"], [0.5, \"#f7f7f7\"], [0.6, \"#e6f5d0\"], [0.7, \"#b8e186\"], [0.8, \"#7fbc41\"], [0.9, \"#4d9221\"], [1, \"#276419\"]], \"sequential\": [[0.0, \"#0d0887\"], [0.1111111111111111, \"#46039f\"], [0.2222222222222222, \"#7201a8\"], [0.3333333333333333, \"#9c179e\"], [0.4444444444444444, \"#bd3786\"], [0.5555555555555556, \"#d8576b\"], [0.6666666666666666, \"#ed7953\"], [0.7777777777777778, \"#fb9f3a\"], [0.8888888888888888, \"#fdca26\"], [1.0, \"#f0f921\"]], \"sequentialminus\": [[0.0, \"#0d0887\"], [0.1111111111111111, \"#46039f\"], [0.2222222222222222, \"#7201a8\"], [0.3333333333333333, \"#9c179e\"], [0.4444444444444444, \"#bd3786\"], [0.5555555555555556, \"#d8576b\"], [0.6666666666666666, \"#ed7953\"], [0.7777777777777778, \"#fb9f3a\"], [0.8888888888888888, \"#fdca26\"], [1.0, \"#f0f921\"]]}, \"colorway\": [\"#636efa\", \"#EF553B\", \"#00cc96\", \"#ab63fa\", \"#FFA15A\", \"#19d3f3\", \"#FF6692\", \"#B6E880\", \"#FF97FF\", \"#FECB52\"], \"font\": {\"color\": \"#2a3f5f\"}, \"geo\": {\"bgcolor\": \"white\", \"lakecolor\": \"white\", \"landcolor\": \"#E5ECF6\", \"showlakes\": true, \"showland\": true, \"subunitcolor\": \"white\"}, \"hoverlabel\": {\"align\": \"left\"}, \"hovermode\": \"closest\", \"mapbox\": {\"style\": \"light\"}, \"paper_bgcolor\": \"white\", \"plot_bgcolor\": \"#E5ECF6\", \"polar\": {\"angularaxis\": {\"gridcolor\": \"white\", \"linecolor\": \"white\", \"ticks\": \"\"}, \"bgcolor\": \"#E5ECF6\", \"radialaxis\": {\"gridcolor\": \"white\", \"linecolor\": \"white\", \"ticks\": \"\"}}, \"scene\": {\"xaxis\": {\"backgroundcolor\": \"#E5ECF6\", \"gridcolor\": \"white\", \"gridwidth\": 2, \"linecolor\": \"white\", \"showbackground\": true, \"ticks\": \"\", \"zerolinecolor\": \"white\"}, \"yaxis\": {\"backgroundcolor\": \"#E5ECF6\", \"gridcolor\": \"white\", \"gridwidth\": 2, \"linecolor\": \"white\", \"showbackground\": true, \"ticks\": \"\", \"zerolinecolor\": \"white\"}, \"zaxis\": {\"backgroundcolor\": \"#E5ECF6\", \"gridcolor\": \"white\", \"gridwidth\": 2, \"linecolor\": \"white\", \"showbackground\": true, \"ticks\": \"\", \"zerolinecolor\": \"white\"}}, \"shapedefaults\": {\"line\": {\"color\": \"#2a3f5f\"}}, \"ternary\": {\"aaxis\": {\"gridcolor\": \"white\", \"linecolor\": \"white\", \"ticks\": \"\"}, \"baxis\": {\"gridcolor\": \"white\", \"linecolor\": \"white\", \"ticks\": \"\"}, \"bgcolor\": \"#E5ECF6\", \"caxis\": {\"gridcolor\": \"white\", \"linecolor\": \"white\", \"ticks\": \"\"}}, \"title\": {\"x\": 0.05}, \"xaxis\": {\"automargin\": true, \"gridcolor\": \"white\", \"linecolor\": \"white\", \"ticks\": \"\", \"title\": {\"standoff\": 15}, \"zerolinecolor\": \"white\", \"zerolinewidth\": 2}, \"yaxis\": {\"automargin\": true, \"gridcolor\": \"white\", \"linecolor\": \"white\", \"ticks\": \"\", \"title\": {\"standoff\": 15}, \"zerolinecolor\": \"white\", \"zerolinewidth\": 2}}}, \"xaxis\": {\"anchor\": \"y\", \"domain\": [0.0, 1.0], \"title\": {\"text\": \"wordsWithPunctuationPercentage\"}}, \"yaxis\": {\"anchor\": \"x\", \"domain\": [0.0, 1.0], \"title\": {\"text\": \"numberOfSentences\"}}},\n",
       "                        {\"responsive\": true}\n",
       "                    ).then(function(){\n",
       "                            \n",
       "var gd = document.getElementById('7d1f4340-ba8a-43ea-a9a9-d8871eb5c993');\n",
       "var x = new MutationObserver(function (mutations, observer) {{\n",
       "        var display = window.getComputedStyle(gd).display;\n",
       "        if (!display || display === 'none') {{\n",
       "            console.log([gd, 'removed!']);\n",
       "            Plotly.purge(gd);\n",
       "            observer.disconnect();\n",
       "        }}\n",
       "}});\n",
       "\n",
       "// Listen for the removal of the full notebook cells\n",
       "var notebookContainer = gd.closest('#notebook-container');\n",
       "if (notebookContainer) {{\n",
       "    x.observe(notebookContainer, {childList: true});\n",
       "}}\n",
       "\n",
       "// Listen for the clearing of the current output cell\n",
       "var outputEl = gd.closest('.output');\n",
       "if (outputEl) {{\n",
       "    x.observe(outputEl, {childList: true});\n",
       "}}\n",
       "\n",
       "                        })\n",
       "                };\n",
       "                });\n",
       "            </script>\n",
       "        </div>"
      ]
     },
     "metadata": {},
     "output_type": "display_data"
    }
   ],
   "source": [
    "fig = px.scatter(my_df, x=\"wordsWithPunctuationPercentage\", y=\"numberOfSentences\", color=\"author\",)\n",
    "fig.show()"
   ]
  },
  {
   "cell_type": "code",
   "execution_count": 106,
   "metadata": {},
   "outputs": [
    {
     "data": {
      "text/plain": [
       "<matplotlib.axes._subplots.AxesSubplot at 0x1e43714ae80>"
      ]
     },
     "execution_count": 106,
     "metadata": {},
     "output_type": "execute_result"
    },
    {
     "data": {
      "image/png": "[encoded data removed]",
      "text/plain": [
       "<Figure size 1152x432 with 1 Axes>"
      ]
     },
     "metadata": {
      "needs_background": "light"
     },
     "output_type": "display_data"
    }
   ],
   "source": [
    "plt.figure(figsize=(16, 6))\n",
    "\n",
    "sns.violinplot(x='author', y='wordsWithPunctuationPercentage', data=my_df, order=[\"Zola\", \"Maupassant\", \"Balzac\"])"
   ]
  },
  {
   "cell_type": "code",
   "execution_count": 107,
   "metadata": {},
   "outputs": [
    {
     "data": {
      "application/vnd.plotly.v1+json": {
       "config": {
        "plotlyServerURL": "https://plot.ly"
       },
       "data": [
        {
         "box": {
          "visible": true
         },
         "meanline": {
          "visible": true
         },
         "name": "Zola",
         "type": "violin",
         "x": [
          "Zola",
          "Zola",
          "Zola",
          "Zola",
          "Zola",
          "Zola",
          "Zola",
          "Zola",
          "Zola",
          "Zola",
          "Zola",
          "Zola",
          "Zola",
          "Zola",
          "Zola",
          "Zola",
          "Zola",
          "Zola",
          "Zola",
          "Zola",
          "Zola",
          "Zola",
          "Zola",
          "Zola",
          "Zola",
          "Zola",
          "Zola",
          "Zola",
          "Zola",
          "Zola",
          "Zola",
          "Zola",
          "Zola",
          "Zola",
          "Zola",
          "Zola",
          "Zola",
          "Zola",
          "Zola",
          "Zola",
          "Zola",
          "Zola",
          "Zola",
          "Zola",
          "Zola",
          "Zola",
          "Zola",
          "Zola",
          "Zola",
          "Zola",
          "Zola",
          "Zola",
          "Zola",
          "Zola",
          "Zola",
          "Zola",
          "Zola",
          "Zola",
          "Zola",
          "Zola",
          "Zola",
          "Zola",
          "Zola",
          "Zola",
          "Zola",
          "Zola",
          "Zola",
          "Zola",
          "Zola",
          "Zola",
          "Zola",
          "Zola",
          "Zola",
          "Zola",
          "Zola",
          "Zola",
          "Zola",
          "Zola",
          "Zola",
          "Zola",
          "Zola",
          "Zola",
          "Zola",
          "Zola",
          "Zola",
          "Zola",
          "Zola",
          "Zola",
          "Zola",
          "Zola",
          "Zola",
          "Zola",
          "Zola",
          "Zola",
          "Zola",
          "Zola",
          "Zola",
          "Zola",
          "Zola",
          "Zola",
          "Zola",
          "Zola",
          "Zola",
          "Zola",
          "Zola",
          "Zola",
          "Zola",
          "Zola",
          "Zola",
          "Zola",
          "Zola",
          "Zola",
          "Zola",
          "Zola",
          "Zola",
          "Zola",
          "Zola",
          "Zola",
          "Zola",
          "Zola",
          "Zola",
          "Zola",
          "Zola",
          "Zola",
          "Zola",
          "Zola",
          "Zola",
          "Zola",
          "Zola",
          "Zola",
          "Zola",
          "Zola",
          "Zola",
          "Zola",
          "Zola",
          "Zola",
          "Zola",
          "Zola",
          "Zola",
          "Zola",
          "Zola",
          "Zola",
          "Zola",
          "Zola",
          "Zola",
          "Zola",
          "Zola",
          "Zola",
          "Zola",
          "Zola",
          "Zola",
          "Zola",
          "Zola",
          "Zola",
          "Zola",
          "Zola",
          "Zola",
          "Zola",
          "Zola",
          "Zola",
          "Zola",
          "Zola",
          "Zola",
          "Zola",
          "Zola",
          "Zola",
          "Zola",
          "Zola",
          "Zola",
          "Zola",
          "Zola",
          "Zola",
          "Zola",
          "Zola",
          "Zola",
          "Zola",
          "Zola",
          "Zola",
          "Zola",
          "Zola",
          "Zola",
          "Zola",
          "Zola",
          "Zola",
          "Zola",
          "Zola",
          "Zola",
          "Zola",
          "Zola",
          "Zola",
          "Zola",
          "Zola",
          "Zola",
          "Zola",
          "Zola",
          "Zola",
          "Zola",
          "Zola",
          "Zola",
          "Zola"
         ],
         "y": [
          16.664,
          8.16,
          13.631999999999998,
          9.3,
          28,
          8.08,
          24.136,
          22.575,
          9.999,
          8,
          4.836,
          10,
          2.941,
          29.308,
          24.996000000000002,
          11.805,
          12.376,
          13.041,
          10.836,
          11.596,
          11.401,
          13.088,
          10.41,
          8.021,
          13.916,
          11.284,
          11.492,
          19.668,
          17.24,
          15.149999999999999,
          13.001999999999999,
          24.997,
          21.426000000000002,
          21.426000000000002,
          22.725,
          8.784,
          10.223999999999998,
          11.764,
          13.063999999999998,
          14.443,
          17.142000000000003,
          11.592,
          11.625,
          5.554,
          7.406,
          13.719999999999999,
          18.515,
          3.448,
          21.735000000000003,
          13.533,
          21.735000000000003,
          22.725,
          9.752,
          12.304,
          11.315999999999999,
          8,
          16.662,
          9.756,
          13.461,
          11.424,
          8.976,
          9.43,
          9.25,
          22.575,
          8.736,
          25.8,
          12.491999999999999,
          15.245999999999999,
          10.713000000000001,
          8.582,
          9.09,
          13.038,
          13.943999999999999,
          12.4,
          4.596,
          6.815999999999999,
          24.996000000000002,
          15.149999999999999,
          12,
          13.565999999999999,
          19.668,
          24.996000000000002,
          16.974,
          12,
          16.66,
          10.952,
          9.09,
          8.106,
          11.927999999999999,
          22.575,
          16.275000000000002,
          12.024000000000001,
          8.406,
          13.631999999999998,
          10.592,
          10,
          12.208,
          8.84,
          8.88,
          9.375,
          10.625,
          4.08,
          13.332,
          15.38,
          7.14,
          14.285,
          28,
          9.62,
          12.195,
          9.3,
          11.428,
          18.6,
          16.664,
          12.195,
          11.208,
          17.646,
          7.5,
          19.634999999999998,
          10.443999999999999,
          14,
          11.899999999999999,
          16.66,
          9.687999999999999,
          24.997,
          11.788,
          15.287999999999998,
          13.041,
          20.688,
          10.713000000000001,
          31.814999999999998,
          24.997,
          19.044,
          19.642,
          10.362,
          13.635,
          26.18,
          29.409999999999997,
          14.7,
          10.234,
          24,
          16.169999999999998,
          7.406,
          28.57,
          13.8,
          18.634,
          13.332,
          15.149999999999999,
          9.42,
          12.278,
          14.49,
          7.544,
          40.733,
          13.51,
          8.496,
          13.202,
          7.59,
          4.545,
          8.508,
          12.498000000000001,
          12.82,
          13.384,
          12.54,
          11.108,
          17.855,
          20.688,
          12.495999999999999,
          19.512,
          12.649999999999999,
          22.856,
          11.538,
          11.826,
          11.927999999999999,
          15.211,
          20.830000000000002,
          8.106,
          11.448,
          7.26,
          16.974,
          18.6,
          13.653,
          14,
          11.169,
          13.112,
          20.688,
          34.776,
          5.553,
          17.948,
          10.107,
          4.997999999999999,
          29.624,
          31.814999999999998,
          18.029,
          12.671999999999999,
          8.328,
          13.792,
          13.631999999999998,
          21.426000000000002,
          9.228,
          16.664,
          6.348
         ]
        },
        {
         "box": {
          "visible": true
         },
         "meanline": {
          "visible": true
         },
         "name": "Maupassant",
         "type": "violin",
         "x": [
          "Maupassant",
          "Maupassant",
          "Maupassant",
          "Maupassant",
          "Maupassant",
          "Maupassant",
          "Maupassant",
          "Maupassant",
          "Maupassant",
          "Maupassant",
          "Maupassant",
          "Maupassant",
          "Maupassant",
          "Maupassant",
          "Maupassant",
          "Maupassant",
          "Maupassant",
          "Maupassant",
          "Maupassant",
          "Maupassant",
          "Maupassant",
          "Maupassant",
          "Maupassant",
          "Maupassant",
          "Maupassant",
          "Maupassant",
          "Maupassant",
          "Maupassant",
          "Maupassant",
          "Maupassant",
          "Maupassant",
          "Maupassant",
          "Maupassant",
          "Maupassant",
          "Maupassant",
          "Maupassant",
          "Maupassant",
          "Maupassant",
          "Maupassant",
          "Maupassant",
          "Maupassant",
          "Maupassant",
          "Maupassant",
          "Maupassant",
          "Maupassant",
          "Maupassant",
          "Maupassant",
          "Maupassant",
          "Maupassant",
          "Maupassant",
          "Maupassant",
          "Maupassant",
          "Maupassant",
          "Maupassant",
          "Maupassant",
          "Maupassant",
          "Maupassant",
          "Maupassant",
          "Maupassant",
          "Maupassant",
          "Maupassant",
          "Maupassant",
          "Maupassant",
          "Maupassant",
          "Maupassant",
          "Maupassant",
          "Maupassant",
          "Maupassant",
          "Maupassant",
          "Maupassant",
          "Maupassant",
          "Maupassant",
          "Maupassant",
          "Maupassant",
          "Maupassant",
          "Maupassant",
          "Maupassant",
          "Maupassant",
          "Maupassant",
          "Maupassant",
          "Maupassant",
          "Maupassant",
          "Maupassant",
          "Maupassant",
          "Maupassant",
          "Maupassant",
          "Maupassant",
          "Maupassant",
          "Maupassant",
          "Maupassant",
          "Maupassant",
          "Maupassant",
          "Maupassant",
          "Maupassant",
          "Maupassant",
          "Maupassant",
          "Maupassant",
          "Maupassant",
          "Maupassant",
          "Maupassant",
          "Maupassant",
          "Maupassant",
          "Maupassant",
          "Maupassant",
          "Maupassant",
          "Maupassant",
          "Maupassant",
          "Maupassant",
          "Maupassant",
          "Maupassant",
          "Maupassant",
          "Maupassant",
          "Maupassant",
          "Maupassant",
          "Maupassant",
          "Maupassant",
          "Maupassant",
          "Maupassant",
          "Maupassant",
          "Maupassant",
          "Maupassant",
          "Maupassant",
          "Maupassant",
          "Maupassant",
          "Maupassant",
          "Maupassant",
          "Maupassant",
          "Maupassant",
          "Maupassant",
          "Maupassant",
          "Maupassant",
          "Maupassant",
          "Maupassant",
          "Maupassant",
          "Maupassant",
          "Maupassant",
          "Maupassant",
          "Maupassant",
          "Maupassant",
          "Maupassant",
          "Maupassant",
          "Maupassant",
          "Maupassant",
          "Maupassant",
          "Maupassant",
          "Maupassant",
          "Maupassant",
          "Maupassant",
          "Maupassant",
          "Maupassant",
          "Maupassant",
          "Maupassant",
          "Maupassant",
          "Maupassant",
          "Maupassant",
          "Maupassant",
          "Maupassant",
          "Maupassant",
          "Maupassant",
          "Maupassant",
          "Maupassant",
          "Maupassant",
          "Maupassant",
          "Maupassant",
          "Maupassant",
          "Maupassant",
          "Maupassant",
          "Maupassant",
          "Maupassant",
          "Maupassant",
          "Maupassant",
          "Maupassant",
          "Maupassant",
          "Maupassant",
          "Maupassant",
          "Maupassant",
          "Maupassant",
          "Maupassant",
          "Maupassant",
          "Maupassant",
          "Maupassant",
          "Maupassant",
          "Maupassant",
          "Maupassant",
          "Maupassant",
          "Maupassant",
          "Maupassant",
          "Maupassant",
          "Maupassant",
          "Maupassant",
          "Maupassant",
          "Maupassant",
          "Maupassant",
          "Maupassant",
          "Maupassant",
          "Maupassant",
          "Maupassant",
          "Maupassant",
          "Maupassant",
          "Maupassant"
         ],
         "y": [
          15.287999999999998,
          11.625,
          16.25,
          14.448,
          9.555,
          6.896,
          21.951,
          6.380999999999999,
          12.96,
          23.076,
          25.254,
          25,
          18.6,
          19.712,
          8.469999999999999,
          10.971,
          4.254,
          8.924999999999999,
          10.738,
          7.142,
          16.664,
          12.195,
          19.557000000000002,
          10.634999999999998,
          19.04,
          11.108,
          19.23,
          23.903,
          22.725,
          11.764,
          8.328,
          9.999,
          4.166,
          9.3,
          11.109,
          9.09,
          8,
          8.694,
          15,
          8.427999999999999,
          27.02,
          8.16,
          15.384,
          9.647,
          8.924999999999999,
          11.428,
          12.896,
          21.951,
          17.22,
          5.714,
          9.228,
          17.142000000000003,
          3.9989999999999997,
          11.538,
          8.33,
          7.892999999999999,
          10.524,
          16.268,
          6.666,
          25.713,
          10.415000000000001,
          6.519,
          15.87,
          13.332,
          25.523999999999997,
          15.74,
          24.517999999999997,
          9.228,
          16.845,
          14.28,
          11.109,
          19.8,
          9.375,
          5.404,
          18.6,
          12.498000000000001,
          14,
          3.333,
          11.76,
          12.498000000000001,
          16.25,
          6.45,
          4.166,
          12.12,
          16.666,
          21.426000000000002,
          22.218,
          10.952,
          8.16,
          14.28,
          4.545,
          18.747,
          6.666,
          6.461,
          10.78,
          9.522,
          13.950000000000001,
          13.155,
          17.307000000000002,
          10.865,
          16.664,
          28.125,
          10.646999999999998,
          24.24,
          21.04,
          12.5,
          12.321,
          7.14,
          13.69,
          11.428,
          21.875,
          16,
          3.448,
          11.315999999999999,
          19.998,
          9.522,
          14.464,
          8.245,
          42.306,
          25.343999999999998,
          12.190000000000001,
          7.46,
          17.24,
          10.526,
          6.12,
          19.787,
          10.934000000000001,
          11.428,
          18.176,
          9.522,
          4.166,
          7.939,
          16.896,
          11,
          7.46,
          12.24,
          2.738,
          41.660000000000004,
          13.155,
          17.51,
          16.664,
          3.636,
          9.756,
          10.647,
          22.44,
          11.1,
          11.428,
          17.24,
          19.998,
          9.675,
          19.11,
          22.216,
          15.267999999999999,
          14.92,
          20,
          11.538,
          9.408,
          26.082,
          13.155,
          9.09,
          10.41,
          10.526,
          9.375,
          14.464,
          6.516,
          14,
          16.268,
          25,
          14.544,
          16.212,
          27.602,
          14.812,
          19.998,
          15,
          21.426000000000002,
          16.125,
          7.692,
          25,
          9.086,
          17.142000000000003,
          13.332,
          19.47,
          7.5,
          6.45,
          10.3,
          4.347,
          5.553,
          12.488,
          21.426000000000002,
          7.544,
          10.934000000000001,
          4.254,
          21.048000000000002,
          4.166,
          14.628,
          24.24,
          7.055999999999999,
          9.09,
          15.561,
          11.36
         ]
        },
        {
         "box": {
          "visible": true
         },
         "meanline": {
          "visible": true
         },
         "name": "Balzac",
         "type": "violin",
         "x": [
          "Balzac",
          "Balzac",
          "Balzac",
          "Balzac",
          "Balzac",
          "Balzac",
          "Balzac",
          "Balzac",
          "Balzac",
          "Balzac",
          "Balzac",
          "Balzac",
          "Balzac",
          "Balzac",
          "Balzac",
          "Balzac",
          "Balzac",
          "Balzac",
          "Balzac",
          "Balzac",
          "Balzac",
          "Balzac",
          "Balzac",
          "Balzac",
          "Balzac",
          "Balzac",
          "Balzac",
          "Balzac",
          "Balzac",
          "Balzac",
          "Balzac",
          "Balzac",
          "Balzac",
          "Balzac",
          "Balzac",
          "Balzac",
          "Balzac",
          "Balzac",
          "Balzac",
          "Balzac",
          "Balzac",
          "Balzac",
          "Balzac",
          "Balzac",
          "Balzac",
          "Balzac",
          "Balzac",
          "Balzac",
          "Balzac",
          "Balzac",
          "Balzac",
          "Balzac",
          "Balzac",
          "Balzac",
          "Balzac",
          "Balzac",
          "Balzac",
          "Balzac",
          "Balzac",
          "Balzac",
          "Balzac",
          "Balzac",
          "Balzac",
          "Balzac",
          "Balzac",
          "Balzac",
          "Balzac",
          "Balzac",
          "Balzac",
          "Balzac",
          "Balzac",
          "Balzac",
          "Balzac",
          "Balzac",
          "Balzac",
          "Balzac",
          "Balzac",
          "Balzac",
          "Balzac",
          "Balzac",
          "Balzac",
          "Balzac",
          "Balzac",
          "Balzac",
          "Balzac",
          "Balzac",
          "Balzac",
          "Balzac",
          "Balzac",
          "Balzac",
          "Balzac",
          "Balzac",
          "Balzac",
          "Balzac",
          "Balzac",
          "Balzac",
          "Balzac",
          "Balzac",
          "Balzac",
          "Balzac",
          "Balzac",
          "Balzac",
          "Balzac",
          "Balzac",
          "Balzac",
          "Balzac",
          "Balzac",
          "Balzac",
          "Balzac",
          "Balzac",
          "Balzac",
          "Balzac",
          "Balzac",
          "Balzac",
          "Balzac",
          "Balzac",
          "Balzac",
          "Balzac",
          "Balzac",
          "Balzac",
          "Balzac",
          "Balzac",
          "Balzac",
          "Balzac",
          "Balzac",
          "Balzac",
          "Balzac",
          "Balzac",
          "Balzac",
          "Balzac",
          "Balzac",
          "Balzac",
          "Balzac",
          "Balzac",
          "Balzac",
          "Balzac",
          "Balzac",
          "Balzac",
          "Balzac",
          "Balzac",
          "Balzac",
          "Balzac",
          "Balzac",
          "Balzac",
          "Balzac",
          "Balzac",
          "Balzac",
          "Balzac",
          "Balzac",
          "Balzac",
          "Balzac",
          "Balzac",
          "Balzac",
          "Balzac",
          "Balzac",
          "Balzac",
          "Balzac",
          "Balzac",
          "Balzac",
          "Balzac",
          "Balzac",
          "Balzac",
          "Balzac",
          "Balzac",
          "Balzac",
          "Balzac",
          "Balzac",
          "Balzac",
          "Balzac",
          "Balzac",
          "Balzac",
          "Balzac",
          "Balzac",
          "Balzac",
          "Balzac",
          "Balzac",
          "Balzac",
          "Balzac",
          "Balzac",
          "Balzac",
          "Balzac",
          "Balzac",
          "Balzac",
          "Balzac",
          "Balzac",
          "Balzac",
          "Balzac",
          "Balzac",
          "Balzac",
          "Balzac",
          "Balzac",
          "Balzac",
          "Balzac",
          "Balzac",
          "Balzac",
          "Balzac",
          "Balzac",
          "Balzac",
          "Balzac",
          "Balzac"
         ],
         "y": [
          17.271,
          20.587,
          17.2,
          16,
          12.5,
          12.278,
          11.108,
          14.704999999999998,
          15.384,
          14.111999999999998,
          15.625,
          4.76,
          12.167,
          26.31,
          12.788,
          15.384,
          10.602,
          13.635,
          19.32,
          15.384,
          5.262,
          12.36,
          9.36,
          21.735000000000003,
          9.7,
          29.025000000000002,
          7.951999999999999,
          10,
          10.098,
          11.764,
          9.09,
          12,
          19.23,
          23.52,
          8.06,
          19.04,
          11.538,
          10.256,
          11.11,
          10.344,
          11.109,
          12.6,
          4.166,
          12.82,
          11.428,
          11.620000000000001,
          10.634999999999998,
          28,
          8.772,
          28,
          8.398,
          13.684999999999999,
          14.872,
          17.82,
          6.896,
          13.332,
          15.211,
          12.792,
          9.530999999999999,
          14.283000000000001,
          7.406,
          8.106,
          6.838,
          20,
          6.378,
          9.648,
          17.095,
          6.25,
          8.533000000000001,
          22.725,
          9.24,
          26.18,
          8.778,
          14.654,
          11.764,
          10.524,
          23.331000000000003,
          11.899999999999999,
          25.921,
          10.692,
          17.388,
          22.44,
          24.99,
          7.4399999999999995,
          20.265,
          4.444,
          12.936,
          22.218,
          11.315999999999999,
          10.716,
          9.306000000000001,
          13,
          24.996000000000002,
          17.408,
          8.694,
          10.98,
          20.830000000000002,
          14.812,
          10.472,
          16,
          20,
          19.044,
          17.016,
          17.855,
          12.222999999999999,
          9.52,
          15.088,
          15,
          16.662,
          15.384,
          11.979,
          7.076,
          9.999,
          15,
          9.795,
          9.7,
          7.092,
          9.936,
          10.256,
          16.664,
          14.861,
          8.554,
          9.675,
          17.948,
          22.725,
          14.852,
          12.934000000000001,
          4.164,
          18.029,
          11.109,
          10.524,
          6.896,
          12.663,
          42.104,
          15.384,
          12.540000000000001,
          8.1,
          14.504000000000001,
          21.875,
          5.262,
          7.744,
          24.997,
          9.522,
          15.625,
          15.204,
          8.823,
          31.25,
          10,
          10,
          8.638,
          24,
          13.545,
          11.908000000000001,
          11.537,
          10.569,
          24,
          14.274000000000001,
          14.284,
          16.662,
          12.82,
          19.044,
          7.513999999999999,
          37.03,
          15.384,
          10,
          10.256,
          11.719999999999999,
          13.635,
          14.322,
          10.709999999999999,
          7.472,
          21.048,
          12.068,
          9.472,
          5.454000000000001,
          18.011,
          17.073,
          8.328,
          20.447999999999997,
          11.109,
          12.498000000000001,
          27.27,
          15.374999999999998,
          18.18,
          10.918,
          16.664,
          21.875,
          10.537,
          14.285,
          10.136,
          24.24,
          13.915,
          12.5,
          26.314999999999998,
          15.245999999999999,
          19.23,
          7.935,
          9.522,
          13.122,
          14.269
         ]
        }
       ],
       "layout": {
        "template": {
         "data": {
          "bar": [
           {
            "error_x": {
             "color": "#2a3f5f"
            },
            "error_y": {
             "color": "#2a3f5f"
            },
            "marker": {
             "line": {
              "color": "#E5ECF6",
              "width": 0.5
             }
            },
            "type": "bar"
           }
          ],
          "barpolar": [
           {
            "marker": {
             "line": {
              "color": "#E5ECF6",
              "width": 0.5
             }
            },
            "type": "barpolar"
           }
          ],
          "carpet": [
           {
            "aaxis": {
             "endlinecolor": "#2a3f5f",
             "gridcolor": "white",
             "linecolor": "white",
             "minorgridcolor": "white",
             "startlinecolor": "#2a3f5f"
            },
            "baxis": {
             "endlinecolor": "#2a3f5f",
             "gridcolor": "white",
             "linecolor": "white",
             "minorgridcolor": "white",
             "startlinecolor": "#2a3f5f"
            },
            "type": "carpet"
           }
          ],
          "choropleth": [
           {
            "colorbar": {
             "outlinewidth": 0,
             "ticks": ""
            },
            "type": "choropleth"
           }
          ],
          "contour": [
           {
            "colorbar": {
             "outlinewidth": 0,
             "ticks": ""
            },
            "colorscale": [
             [
              0,
              "#0d0887"
             ],
             [
              0.1111111111111111,
              "#46039f"
             ],
             [
              0.2222222222222222,
              "#7201a8"
             ],
             [
              0.3333333333333333,
              "#9c179e"
             ],
             [
              0.4444444444444444,
              "#bd3786"
             ],
             [
              0.5555555555555556,
              "#d8576b"
             ],
             [
              0.6666666666666666,
              "#ed7953"
             ],
             [
              0.7777777777777778,
              "#fb9f3a"
             ],
             [
              0.8888888888888888,
              "#fdca26"
             ],
             [
              1,
              "#f0f921"
             ]
            ],
            "type": "contour"
           }
          ],
          "contourcarpet": [
           {
            "colorbar": {
             "outlinewidth": 0,
             "ticks": ""
            },
            "type": "contourcarpet"
           }
          ],
          "heatmap": [
           {
            "colorbar": {
             "outlinewidth": 0,
             "ticks": ""
            },
            "colorscale": [
             [
              0,
              "#0d0887"
             ],
             [
              0.1111111111111111,
              "#46039f"
             ],
             [
              0.2222222222222222,
              "#7201a8"
             ],
             [
              0.3333333333333333,
              "#9c179e"
             ],
             [
              0.4444444444444444,
              "#bd3786"
             ],
             [
              0.5555555555555556,
              "#d8576b"
             ],
             [
              0.6666666666666666,
              "#ed7953"
             ],
             [
              0.7777777777777778,
              "#fb9f3a"
             ],
             [
              0.8888888888888888,
              "#fdca26"
             ],
             [
              1,
              "#f0f921"
             ]
            ],
            "type": "heatmap"
           }
          ],
          "heatmapgl": [
           {
            "colorbar": {
             "outlinewidth": 0,
             "ticks": ""
            },
            "colorscale": [
             [
              0,
              "#0d0887"
             ],
             [
              0.1111111111111111,
              "#46039f"
             ],
             [
              0.2222222222222222,
              "#7201a8"
             ],
             [
              0.3333333333333333,
              "#9c179e"
             ],
             [
              0.4444444444444444,
              "#bd3786"
             ],
             [
              0.5555555555555556,
              "#d8576b"
             ],
             [
              0.6666666666666666,
              "#ed7953"
             ],
             [
              0.7777777777777778,
              "#fb9f3a"
             ],
             [
              0.8888888888888888,
              "#fdca26"
             ],
             [
              1,
              "#f0f921"
             ]
            ],
            "type": "heatmapgl"
           }
          ],
          "histogram": [
           {
            "marker": {
             "colorbar": {
              "outlinewidth": 0,
              "ticks": ""
             }
            },
            "type": "histogram"
           }
          ],
          "histogram2d": [
           {
            "colorbar": {
             "outlinewidth": 0,
             "ticks": ""
            },
            "colorscale": [
             [
              0,
              "#0d0887"
             ],
             [
              0.1111111111111111,
              "#46039f"
             ],
             [
              0.2222222222222222,
              "#7201a8"
             ],
             [
              0.3333333333333333,
              "#9c179e"
             ],
             [
              0.4444444444444444,
              "#bd3786"
             ],
             [
              0.5555555555555556,
              "#d8576b"
             ],
             [
              0.6666666666666666,
              "#ed7953"
             ],
             [
              0.7777777777777778,
              "#fb9f3a"
             ],
             [
              0.8888888888888888,
              "#fdca26"
             ],
             [
              1,
              "#f0f921"
             ]
            ],
            "type": "histogram2d"
           }
          ],
          "histogram2dcontour": [
           {
            "colorbar": {
             "outlinewidth": 0,
             "ticks": ""
            },
            "colorscale": [
             [
              0,
              "#0d0887"
             ],
             [
              0.1111111111111111,
              "#46039f"
             ],
             [
              0.2222222222222222,
              "#7201a8"
             ],
             [
              0.3333333333333333,
              "#9c179e"
             ],
             [
              0.4444444444444444,
              "#bd3786"
             ],
             [
              0.5555555555555556,
              "#d8576b"
             ],
             [
              0.6666666666666666,
              "#ed7953"
             ],
             [
              0.7777777777777778,
              "#fb9f3a"
             ],
             [
              0.8888888888888888,
              "#fdca26"
             ],
             [
              1,
              "#f0f921"
             ]
            ],
            "type": "histogram2dcontour"
           }
          ],
          "mesh3d": [
           {
            "colorbar": {
             "outlinewidth": 0,
             "ticks": ""
            },
            "type": "mesh3d"
           }
          ],
          "parcoords": [
           {
            "line": {
             "colorbar": {
              "outlinewidth": 0,
              "ticks": ""
             }
            },
            "type": "parcoords"
           }
          ],
          "pie": [
           {
            "automargin": true,
            "type": "pie"
           }
          ],
          "scatter": [
           {
            "marker": {
             "colorbar": {
              "outlinewidth": 0,
              "ticks": ""
             }
            },
            "type": "scatter"
           }
          ],
          "scatter3d": [
           {
            "line": {
             "colorbar": {
              "outlinewidth": 0,
              "ticks": ""
             }
            },
            "marker": {
             "colorbar": {
              "outlinewidth": 0,
              "ticks": ""
             }
            },
            "type": "scatter3d"
           }
          ],
          "scattercarpet": [
           {
            "marker": {
             "colorbar": {
              "outlinewidth": 0,
              "ticks": ""
             }
            },
            "type": "scattercarpet"
           }
          ],
          "scattergeo": [
           {
            "marker": {
             "colorbar": {
              "outlinewidth": 0,
              "ticks": ""
             }
            },
            "type": "scattergeo"
           }
          ],
          "scattergl": [
           {
            "marker": {
             "colorbar": {
              "outlinewidth": 0,
              "ticks": ""
             }
            },
            "type": "scattergl"
           }
          ],
          "scattermapbox": [
           {
            "marker": {
             "colorbar": {
              "outlinewidth": 0,
              "ticks": ""
             }
            },
            "type": "scattermapbox"
           }
          ],
          "scatterpolar": [
           {
            "marker": {
             "colorbar": {
              "outlinewidth": 0,
              "ticks": ""
             }
            },
            "type": "scatterpolar"
           }
          ],
          "scatterpolargl": [
           {
            "marker": {
             "colorbar": {
              "outlinewidth": 0,
              "ticks": ""
             }
            },
            "type": "scatterpolargl"
           }
          ],
          "scatterternary": [
           {
            "marker": {
             "colorbar": {
              "outlinewidth": 0,
              "ticks": ""
             }
            },
            "type": "scatterternary"
           }
          ],
          "surface": [
           {
            "colorbar": {
             "outlinewidth": 0,
             "ticks": ""
            },
            "colorscale": [
             [
              0,
              "#0d0887"
             ],
             [
              0.1111111111111111,
              "#46039f"
             ],
             [
              0.2222222222222222,
              "#7201a8"
             ],
             [
              0.3333333333333333,
              "#9c179e"
             ],
             [
              0.4444444444444444,
              "#bd3786"
             ],
             [
              0.5555555555555556,
              "#d8576b"
             ],
             [
              0.6666666666666666,
              "#ed7953"
             ],
             [
              0.7777777777777778,
              "#fb9f3a"
             ],
             [
              0.8888888888888888,
              "#fdca26"
             ],
             [
              1,
              "#f0f921"
             ]
            ],
            "type": "surface"
           }
          ],
          "table": [
           {
            "cells": {
             "fill": {
              "color": "#EBF0F8"
             },
             "line": {
              "color": "white"
             }
            },
            "header": {
             "fill": {
              "color": "#C8D4E3"
             },
             "line": {
              "color": "white"
             }
            },
            "type": "table"
           }
          ]
         },
         "layout": {
          "annotationdefaults": {
           "arrowcolor": "#2a3f5f",
           "arrowhead": 0,
           "arrowwidth": 1
          },
          "coloraxis": {
           "colorbar": {
            "outlinewidth": 0,
            "ticks": ""
           }
          },
          "colorscale": {
           "diverging": [
            [
             0,
             "#8e0152"
            ],
            [
             0.1,
             "#c51b7d"
            ],
            [
             0.2,
             "#de77ae"
            ],
            [
             0.3,
             "#f1b6da"
            ],
            [
             0.4,
             "#fde0ef"
            ],
            [
             0.5,
             "#f7f7f7"
            ],
            [
             0.6,
             "#e6f5d0"
            ],
            [
             0.7,
             "#b8e186"
            ],
            [
             0.8,
             "#7fbc41"
            ],
            [
             0.9,
             "#4d9221"
            ],
            [
             1,
             "#276419"
            ]
           ],
           "sequential": [
            [
             0,
             "#0d0887"
            ],
            [
             0.1111111111111111,
             "#46039f"
            ],
            [
             0.2222222222222222,
             "#7201a8"
            ],
            [
             0.3333333333333333,
             "#9c179e"
            ],
            [
             0.4444444444444444,
             "#bd3786"
            ],
            [
             0.5555555555555556,
             "#d8576b"
            ],
            [
             0.6666666666666666,
             "#ed7953"
            ],
            [
             0.7777777777777778,
             "#fb9f3a"
            ],
            [
             0.8888888888888888,
             "#fdca26"
            ],
            [
             1,
             "#f0f921"
            ]
           ],
           "sequentialminus": [
            [
             0,
             "#0d0887"
            ],
            [
             0.1111111111111111,
             "#46039f"
            ],
            [
             0.2222222222222222,
             "#7201a8"
            ],
            [
             0.3333333333333333,
             "#9c179e"
            ],
            [
             0.4444444444444444,
             "#bd3786"
            ],
            [
             0.5555555555555556,
             "#d8576b"
            ],
            [
             0.6666666666666666,
             "#ed7953"
            ],
            [
             0.7777777777777778,
             "#fb9f3a"
            ],
            [
             0.8888888888888888,
             "#fdca26"
            ],
            [
             1,
             "#f0f921"
            ]
           ]
          },
          "colorway": [
           "#636efa",
           "#EF553B",
           "#00cc96",
           "#ab63fa",
           "#FFA15A",
           "#19d3f3",
           "#FF6692",
           "#B6E880",
           "#FF97FF",
           "#FECB52"
          ],
          "font": {
           "color": "#2a3f5f"
          },
          "geo": {
           "bgcolor": "white",
           "lakecolor": "white",
           "landcolor": "#E5ECF6",
           "showlakes": true,
           "showland": true,
           "subunitcolor": "white"
          },
          "hoverlabel": {
           "align": "left"
          },
          "hovermode": "closest",
          "mapbox": {
           "style": "light"
          },
          "paper_bgcolor": "white",
          "plot_bgcolor": "#E5ECF6",
          "polar": {
           "angularaxis": {
            "gridcolor": "white",
            "linecolor": "white",
            "ticks": ""
           },
           "bgcolor": "#E5ECF6",
           "radialaxis": {
            "gridcolor": "white",
            "linecolor": "white",
            "ticks": ""
           }
          },
          "scene": {
           "xaxis": {
            "backgroundcolor": "#E5ECF6",
            "gridcolor": "white",
            "gridwidth": 2,
            "linecolor": "white",
            "showbackground": true,
            "ticks": "",
            "zerolinecolor": "white"
           },
           "yaxis": {
            "backgroundcolor": "#E5ECF6",
            "gridcolor": "white",
            "gridwidth": 2,
            "linecolor": "white",
            "showbackground": true,
            "ticks": "",
            "zerolinecolor": "white"
           },
           "zaxis": {
            "backgroundcolor": "#E5ECF6",
            "gridcolor": "white",
            "gridwidth": 2,
            "linecolor": "white",
            "showbackground": true,
            "ticks": "",
            "zerolinecolor": "white"
           }
          },
          "shapedefaults": {
           "line": {
            "color": "#2a3f5f"
           }
          },
          "ternary": {
           "aaxis": {
            "gridcolor": "white",
            "linecolor": "white",
            "ticks": ""
           },
           "baxis": {
            "gridcolor": "white",
            "linecolor": "white",
            "ticks": ""
           },
           "bgcolor": "#E5ECF6",
           "caxis": {
            "gridcolor": "white",
            "linecolor": "white",
            "ticks": ""
           }
          },
          "title": {
           "x": 0.05
          },
          "xaxis": {
           "automargin": true,
           "gridcolor": "white",
           "linecolor": "white",
           "ticks": "",
           "title": {
            "standoff": 15
           },
           "zerolinecolor": "white",
           "zerolinewidth": 2
          },
          "yaxis": {
           "automargin": true,
           "gridcolor": "white",
           "linecolor": "white",
           "ticks": "",
           "title": {
            "standoff": 15
           },
           "zerolinecolor": "white",
           "zerolinewidth": 2
          }
         }
        }
       }
      },
      "text/html": [
       "<div>\n",
       "        \n",
       "        \n",
       "            <div id=\"855315c0-7dfb-4d0d-98ac-36cf167ca3f5\" class=\"plotly-graph-div\" style=\"height:525px; width:100%;\"></div>\n",
       "            <script type=\"text/javascript\">\n",
       "                require([\"plotly\"], function(Plotly) {\n",
       "                    window.PLOTLYENV=window.PLOTLYENV || {};\n",
       "                    \n",
       "                if (document.getElementById(\"855315c0-7dfb-4d0d-98ac-36cf167ca3f5\")) {\n",
       "                    Plotly.newPlot(\n",
       "                        '855315c0-7dfb-4d0d-98ac-36cf167ca3f5',\n",
       "                        [{\"box\": {\"visible\": true}, \"meanline\": {\"visible\": true}, \"name\": \"Zola\", \"type\": \"violin\", \"x\": [\"Zola\", \"Zola\", \"Zola\", \"Zola\", \"Zola\", \"Zola\", \"Zola\", \"Zola\", \"Zola\", \"Zola\", \"Zola\", \"Zola\", \"Zola\", \"Zola\", \"Zola\", \"Zola\", \"Zola\", \"Zola\", \"Zola\", \"Zola\", \"Zola\", \"Zola\", \"Zola\", \"Zola\", \"Zola\", \"Zola\", \"Zola\", \"Zola\", \"Zola\", \"Zola\", \"Zola\", \"Zola\", \"Zola\", \"Zola\", \"Zola\", \"Zola\", \"Zola\", \"Zola\", \"Zola\", \"Zola\", \"Zola\", \"Zola\", \"Zola\", \"Zola\", \"Zola\", \"Zola\", \"Zola\", \"Zola\", \"Zola\", \"Zola\", \"Zola\", \"Zola\", \"Zola\", \"Zola\", \"Zola\", \"Zola\", \"Zola\", \"Zola\", \"Zola\", \"Zola\", \"Zola\", \"Zola\", \"Zola\", \"Zola\", \"Zola\", \"Zola\", \"Zola\", \"Zola\", \"Zola\", \"Zola\", \"Zola\", \"Zola\", \"Zola\", \"Zola\", \"Zola\", \"Zola\", \"Zola\", \"Zola\", \"Zola\", \"Zola\", \"Zola\", \"Zola\", \"Zola\", \"Zola\", \"Zola\", \"Zola\", \"Zola\", \"Zola\", \"Zola\", \"Zola\", \"Zola\", \"Zola\", \"Zola\", \"Zola\", \"Zola\", \"Zola\", \"Zola\", \"Zola\", \"Zola\", \"Zola\", \"Zola\", \"Zola\", \"Zola\", \"Zola\", \"Zola\", \"Zola\", \"Zola\", \"Zola\", \"Zola\", \"Zola\", \"Zola\", \"Zola\", \"Zola\", \"Zola\", \"Zola\", \"Zola\", \"Zola\", \"Zola\", \"Zola\", \"Zola\", \"Zola\", \"Zola\", \"Zola\", \"Zola\", \"Zola\", \"Zola\", \"Zola\", \"Zola\", \"Zola\", \"Zola\", \"Zola\", \"Zola\", \"Zola\", \"Zola\", \"Zola\", \"Zola\", \"Zola\", \"Zola\", \"Zola\", \"Zola\", \"Zola\", \"Zola\", \"Zola\", \"Zola\", \"Zola\", \"Zola\", \"Zola\", \"Zola\", \"Zola\", \"Zola\", \"Zola\", \"Zola\", \"Zola\", \"Zola\", \"Zola\", \"Zola\", \"Zola\", \"Zola\", \"Zola\", \"Zola\", \"Zola\", \"Zola\", \"Zola\", \"Zola\", \"Zola\", \"Zola\", \"Zola\", \"Zola\", \"Zola\", \"Zola\", \"Zola\", \"Zola\", \"Zola\", \"Zola\", \"Zola\", \"Zola\", \"Zola\", \"Zola\", \"Zola\", \"Zola\", \"Zola\", \"Zola\", \"Zola\", \"Zola\", \"Zola\", \"Zola\", \"Zola\", \"Zola\", \"Zola\", \"Zola\", \"Zola\", \"Zola\", \"Zola\", \"Zola\", \"Zola\", \"Zola\", \"Zola\", \"Zola\", \"Zola\", \"Zola\"], \"y\": [16.664, 8.16, 13.631999999999998, 9.3, 28.0, 8.08, 24.136, 22.575, 9.999, 8.0, 4.836, 10.0, 2.941, 29.308, 24.996000000000002, 11.805, 12.376, 13.041, 10.836, 11.596, 11.401, 13.088, 10.41, 8.021, 13.916, 11.284, 11.492, 19.668, 17.24, 15.149999999999999, 13.001999999999999, 24.997, 21.426000000000002, 21.426000000000002, 22.725, 8.784, 10.223999999999998, 11.764, 13.063999999999998, 14.443, 17.142000000000003, 11.592, 11.625, 5.554, 7.406, 13.719999999999999, 18.515, 3.448, 21.735000000000003, 13.533, 21.735000000000003, 22.725, 9.752, 12.304, 11.315999999999999, 8.0, 16.662, 9.756, 13.461, 11.424, 8.976, 9.43, 9.25, 22.575, 8.736, 25.8, 12.491999999999999, 15.245999999999999, 10.713000000000001, 8.582, 9.09, 13.038, 13.943999999999999, 12.4, 4.596, 6.815999999999999, 24.996000000000002, 15.149999999999999, 12.0, 13.565999999999999, 19.668, 24.996000000000002, 16.974, 12.0, 16.66, 10.952, 9.09, 8.106, 11.927999999999999, 22.575, 16.275000000000002, 12.024000000000001, 8.406, 13.631999999999998, 10.592, 10.0, 12.208, 8.84, 8.88, 9.375, 10.625, 4.08, 13.332, 15.38, 7.14, 14.285, 28.0, 9.62, 12.195, 9.3, 11.428, 18.6, 16.664, 12.195, 11.208, 17.646, 7.5, 19.634999999999998, 10.443999999999999, 14.0, 11.899999999999999, 16.66, 9.687999999999999, 24.997, 11.788, 15.287999999999998, 13.041, 20.688, 10.713000000000001, 31.814999999999998, 24.997, 19.044, 19.642, 10.362, 13.635, 26.18, 29.409999999999997, 14.7, 10.234, 24.0, 16.169999999999998, 7.406, 28.57, 13.8, 18.634, 13.332, 15.149999999999999, 9.42, 12.278, 14.49, 7.544, 40.733, 13.51, 8.496, 13.202, 7.59, 4.545, 8.508, 12.498000000000001, 12.82, 13.384, 12.54, 11.108, 17.855, 20.688, 12.495999999999999, 19.512, 12.649999999999999, 22.856, 11.538, 11.826, 11.927999999999999, 15.211, 20.830000000000002, 8.106, 11.448, 7.26, 16.974, 18.6, 13.653, 14.0, 11.169, 13.112, 20.688, 34.776, 5.553, 17.948, 10.107, 4.997999999999999, 29.624, 31.814999999999998, 18.029, 12.671999999999999, 8.328, 13.792, 13.631999999999998, 21.426000000000002, 9.228, 16.664, 6.348]}, {\"box\": {\"visible\": true}, \"meanline\": {\"visible\": true}, \"name\": \"Maupassant\", \"type\": \"violin\", \"x\": [\"Maupassant\", \"Maupassant\", \"Maupassant\", \"Maupassant\", \"Maupassant\", \"Maupassant\", \"Maupassant\", \"Maupassant\", \"Maupassant\", \"Maupassant\", \"Maupassant\", \"Maupassant\", \"Maupassant\", \"Maupassant\", \"Maupassant\", \"Maupassant\", \"Maupassant\", \"Maupassant\", \"Maupassant\", \"Maupassant\", \"Maupassant\", \"Maupassant\", \"Maupassant\", \"Maupassant\", \"Maupassant\", \"Maupassant\", \"Maupassant\", \"Maupassant\", \"Maupassant\", \"Maupassant\", \"Maupassant\", \"Maupassant\", \"Maupassant\", \"Maupassant\", \"Maupassant\", \"Maupassant\", \"Maupassant\", \"Maupassant\", \"Maupassant\", \"Maupassant\", \"Maupassant\", \"Maupassant\", \"Maupassant\", \"Maupassant\", \"Maupassant\", \"Maupassant\", \"Maupassant\", \"Maupassant\", \"Maupassant\", \"Maupassant\", \"Maupassant\", \"Maupassant\", \"Maupassant\", \"Maupassant\", \"Maupassant\", \"Maupassant\", \"Maupassant\", \"Maupassant\", \"Maupassant\", \"Maupassant\", \"Maupassant\", \"Maupassant\", \"Maupassant\", \"Maupassant\", \"Maupassant\", \"Maupassant\", \"Maupassant\", \"Maupassant\", \"Maupassant\", \"Maupassant\", \"Maupassant\", \"Maupassant\", \"Maupassant\", \"Maupassant\", \"Maupassant\", \"Maupassant\", \"Maupassant\", \"Maupassant\", \"Maupassant\", \"Maupassant\", \"Maupassant\", \"Maupassant\", \"Maupassant\", \"Maupassant\", \"Maupassant\", \"Maupassant\", \"Maupassant\", \"Maupassant\", \"Maupassant\", \"Maupassant\", \"Maupassant\", \"Maupassant\", \"Maupassant\", \"Maupassant\", \"Maupassant\", \"Maupassant\", \"Maupassant\", \"Maupassant\", \"Maupassant\", \"Maupassant\", \"Maupassant\", \"Maupassant\", \"Maupassant\", \"Maupassant\", \"Maupassant\", \"Maupassant\", \"Maupassant\", \"Maupassant\", \"Maupassant\", \"Maupassant\", \"Maupassant\", \"Maupassant\", \"Maupassant\", \"Maupassant\", \"Maupassant\", \"Maupassant\", \"Maupassant\", \"Maupassant\", \"Maupassant\", \"Maupassant\", \"Maupassant\", \"Maupassant\", \"Maupassant\", \"Maupassant\", \"Maupassant\", \"Maupassant\", \"Maupassant\", \"Maupassant\", \"Maupassant\", \"Maupassant\", \"Maupassant\", \"Maupassant\", \"Maupassant\", \"Maupassant\", \"Maupassant\", \"Maupassant\", \"Maupassant\", \"Maupassant\", \"Maupassant\", \"Maupassant\", \"Maupassant\", \"Maupassant\", \"Maupassant\", \"Maupassant\", \"Maupassant\", \"Maupassant\", \"Maupassant\", \"Maupassant\", \"Maupassant\", \"Maupassant\", \"Maupassant\", \"Maupassant\", \"Maupassant\", \"Maupassant\", \"Maupassant\", \"Maupassant\", \"Maupassant\", \"Maupassant\", \"Maupassant\", \"Maupassant\", \"Maupassant\", \"Maupassant\", \"Maupassant\", \"Maupassant\", \"Maupassant\", \"Maupassant\", \"Maupassant\", \"Maupassant\", \"Maupassant\", \"Maupassant\", \"Maupassant\", \"Maupassant\", \"Maupassant\", \"Maupassant\", \"Maupassant\", \"Maupassant\", \"Maupassant\", \"Maupassant\", \"Maupassant\", \"Maupassant\", \"Maupassant\", \"Maupassant\", \"Maupassant\", \"Maupassant\", \"Maupassant\", \"Maupassant\", \"Maupassant\", \"Maupassant\", \"Maupassant\", \"Maupassant\", \"Maupassant\", \"Maupassant\", \"Maupassant\", \"Maupassant\", \"Maupassant\", \"Maupassant\", \"Maupassant\", \"Maupassant\", \"Maupassant\", \"Maupassant\"], \"y\": [15.287999999999998, 11.625, 16.25, 14.448, 9.555, 6.896, 21.951, 6.380999999999999, 12.96, 23.076, 25.254, 25.0, 18.6, 19.712, 8.469999999999999, 10.971, 4.254, 8.924999999999999, 10.738, 7.142, 16.664, 12.195, 19.557000000000002, 10.634999999999998, 19.04, 11.108, 19.23, 23.903, 22.725, 11.764, 8.328, 9.999, 4.166, 9.3, 11.109, 9.09, 8.0, 8.694, 15.0, 8.427999999999999, 27.02, 8.16, 15.384, 9.647, 8.924999999999999, 11.428, 12.896, 21.951, 17.22, 5.714, 9.228, 17.142000000000003, 3.9989999999999997, 11.538, 8.33, 7.892999999999999, 10.524, 16.268, 6.666, 25.713, 10.415000000000001, 6.519, 15.87, 13.332, 25.523999999999997, 15.74, 24.517999999999997, 9.228, 16.845, 14.28, 11.109, 19.8, 9.375, 5.404, 18.6, 12.498000000000001, 14.0, 3.333, 11.76, 12.498000000000001, 16.25, 6.45, 4.166, 12.12, 16.666, 21.426000000000002, 22.218, 10.952, 8.16, 14.28, 4.545, 18.747, 6.666, 6.461, 10.78, 9.522, 13.950000000000001, 13.155, 17.307000000000002, 10.865, 16.664, 28.125, 10.646999999999998, 24.24, 21.04, 12.5, 12.321, 7.14, 13.69, 11.428, 21.875, 16.0, 3.448, 11.315999999999999, 19.998, 9.522, 14.464, 8.245, 42.306, 25.343999999999998, 12.190000000000001, 7.46, 17.24, 10.526, 6.12, 19.787, 10.934000000000001, 11.428, 18.176, 9.522, 4.166, 7.939, 16.896, 11.0, 7.46, 12.24, 2.738, 41.660000000000004, 13.155, 17.51, 16.664, 3.636, 9.756, 10.647, 22.44, 11.1, 11.428, 17.24, 19.998, 9.675, 19.11, 22.216, 15.267999999999999, 14.92, 20.0, 11.538, 9.408, 26.082, 13.155, 9.09, 10.41, 10.526, 9.375, 14.464, 6.516, 14.0, 16.268, 25.0, 14.544, 16.212, 27.602, 14.812, 19.998, 15.0, 21.426000000000002, 16.125, 7.692, 25.0, 9.086, 17.142000000000003, 13.332, 19.47, 7.5, 6.45, 10.3, 4.347, 5.553, 12.488, 21.426000000000002, 7.544, 10.934000000000001, 4.254, 21.048000000000002, 4.166, 14.628, 24.24, 7.055999999999999, 9.09, 15.561, 11.36]}, {\"box\": {\"visible\": true}, \"meanline\": {\"visible\": true}, \"name\": \"Balzac\", \"type\": \"violin\", \"x\": [\"Balzac\", \"Balzac\", \"Balzac\", \"Balzac\", \"Balzac\", \"Balzac\", \"Balzac\", \"Balzac\", \"Balzac\", \"Balzac\", \"Balzac\", \"Balzac\", \"Balzac\", \"Balzac\", \"Balzac\", \"Balzac\", \"Balzac\", \"Balzac\", \"Balzac\", \"Balzac\", \"Balzac\", \"Balzac\", \"Balzac\", \"Balzac\", \"Balzac\", \"Balzac\", \"Balzac\", \"Balzac\", \"Balzac\", \"Balzac\", \"Balzac\", \"Balzac\", \"Balzac\", \"Balzac\", \"Balzac\", \"Balzac\", \"Balzac\", \"Balzac\", \"Balzac\", \"Balzac\", \"Balzac\", \"Balzac\", \"Balzac\", \"Balzac\", \"Balzac\", \"Balzac\", \"Balzac\", \"Balzac\", \"Balzac\", \"Balzac\", \"Balzac\", \"Balzac\", \"Balzac\", \"Balzac\", \"Balzac\", \"Balzac\", \"Balzac\", \"Balzac\", \"Balzac\", \"Balzac\", \"Balzac\", \"Balzac\", \"Balzac\", \"Balzac\", \"Balzac\", \"Balzac\", \"Balzac\", \"Balzac\", \"Balzac\", \"Balzac\", \"Balzac\", \"Balzac\", \"Balzac\", \"Balzac\", \"Balzac\", \"Balzac\", \"Balzac\", \"Balzac\", \"Balzac\", \"Balzac\", \"Balzac\", \"Balzac\", \"Balzac\", \"Balzac\", \"Balzac\", \"Balzac\", \"Balzac\", \"Balzac\", \"Balzac\", \"Balzac\", \"Balzac\", \"Balzac\", \"Balzac\", \"Balzac\", \"Balzac\", \"Balzac\", \"Balzac\", \"Balzac\", \"Balzac\", \"Balzac\", \"Balzac\", \"Balzac\", \"Balzac\", \"Balzac\", \"Balzac\", \"Balzac\", \"Balzac\", \"Balzac\", \"Balzac\", \"Balzac\", \"Balzac\", \"Balzac\", \"Balzac\", \"Balzac\", \"Balzac\", \"Balzac\", \"Balzac\", \"Balzac\", \"Balzac\", \"Balzac\", \"Balzac\", \"Balzac\", \"Balzac\", \"Balzac\", \"Balzac\", \"Balzac\", \"Balzac\", \"Balzac\", \"Balzac\", \"Balzac\", \"Balzac\", \"Balzac\", \"Balzac\", \"Balzac\", \"Balzac\", \"Balzac\", \"Balzac\", \"Balzac\", \"Balzac\", \"Balzac\", \"Balzac\", \"Balzac\", \"Balzac\", \"Balzac\", \"Balzac\", \"Balzac\", \"Balzac\", \"Balzac\", \"Balzac\", \"Balzac\", \"Balzac\", \"Balzac\", \"Balzac\", \"Balzac\", \"Balzac\", \"Balzac\", \"Balzac\", \"Balzac\", \"Balzac\", \"Balzac\", \"Balzac\", \"Balzac\", \"Balzac\", \"Balzac\", \"Balzac\", \"Balzac\", \"Balzac\", \"Balzac\", \"Balzac\", \"Balzac\", \"Balzac\", \"Balzac\", \"Balzac\", \"Balzac\", \"Balzac\", \"Balzac\", \"Balzac\", \"Balzac\", \"Balzac\", \"Balzac\", \"Balzac\", \"Balzac\", \"Balzac\", \"Balzac\", \"Balzac\", \"Balzac\", \"Balzac\", \"Balzac\", \"Balzac\", \"Balzac\", \"Balzac\", \"Balzac\", \"Balzac\", \"Balzac\", \"Balzac\", \"Balzac\", \"Balzac\", \"Balzac\", \"Balzac\", \"Balzac\"], \"y\": [17.271, 20.587, 17.2, 16.0, 12.5, 12.278, 11.108, 14.704999999999998, 15.384, 14.111999999999998, 15.625, 4.76, 12.167, 26.31, 12.788, 15.384, 10.602, 13.635, 19.32, 15.384, 5.262, 12.36, 9.36, 21.735000000000003, 9.7, 29.025000000000002, 7.951999999999999, 10.0, 10.098, 11.764, 9.09, 12.0, 19.23, 23.52, 8.06, 19.04, 11.538, 10.256, 11.11, 10.344, 11.109, 12.6, 4.166, 12.82, 11.428, 11.620000000000001, 10.634999999999998, 28.0, 8.772, 28.0, 8.398, 13.684999999999999, 14.872, 17.82, 6.896, 13.332, 15.211, 12.792, 9.530999999999999, 14.283000000000001, 7.406, 8.106, 6.838, 20.0, 6.378, 9.648, 17.095, 6.25, 8.533000000000001, 22.725, 9.24, 26.18, 8.778, 14.654, 11.764, 10.524, 23.331000000000003, 11.899999999999999, 25.921, 10.692, 17.388, 22.44, 24.99, 7.4399999999999995, 20.265, 4.444, 12.936, 22.218, 11.315999999999999, 10.716, 9.306000000000001, 13.0, 24.996000000000002, 17.408, 8.694, 10.98, 20.830000000000002, 14.812, 10.472, 16.0, 20.0, 19.044, 17.016, 17.855, 12.222999999999999, 9.52, 15.088, 15.0, 16.662, 15.384, 11.979, 7.076, 9.999, 15.0, 9.795, 9.7, 7.092, 9.936, 10.256, 16.664, 14.861, 8.554, 9.675, 17.948, 22.725, 14.852, 12.934000000000001, 4.164, 18.029, 11.109, 10.524, 6.896, 12.663, 42.104, 15.384, 12.540000000000001, 8.1, 14.504000000000001, 21.875, 5.262, 7.744, 24.997, 9.522, 15.625, 15.204, 8.823, 31.25, 10.0, 10.0, 8.638, 24.0, 13.545, 11.908000000000001, 11.537, 10.569, 24.0, 14.274000000000001, 14.284, 16.662, 12.82, 19.044, 7.513999999999999, 37.03, 15.384, 10.0, 10.256, 11.719999999999999, 13.635, 14.322, 10.709999999999999, 7.472, 21.048, 12.068, 9.472, 5.454000000000001, 18.011, 17.073, 8.328, 20.447999999999997, 11.109, 12.498000000000001, 27.27, 15.374999999999998, 18.18, 10.918, 16.664, 21.875, 10.537, 14.285, 10.136, 24.24, 13.915, 12.5, 26.314999999999998, 15.245999999999999, 19.23, 7.935, 9.522, 13.122, 14.269]}],\n",
       "                        {\"template\": {\"data\": {\"bar\": [{\"error_x\": {\"color\": \"#2a3f5f\"}, \"error_y\": {\"color\": \"#2a3f5f\"}, \"marker\": {\"line\": {\"color\": \"#E5ECF6\", \"width\": 0.5}}, \"type\": \"bar\"}], \"barpolar\": [{\"marker\": {\"line\": {\"color\": \"#E5ECF6\", \"width\": 0.5}}, \"type\": \"barpolar\"}], \"carpet\": [{\"aaxis\": {\"endlinecolor\": \"#2a3f5f\", \"gridcolor\": \"white\", \"linecolor\": \"white\", \"minorgridcolor\": \"white\", \"startlinecolor\": \"#2a3f5f\"}, \"baxis\": {\"endlinecolor\": \"#2a3f5f\", \"gridcolor\": \"white\", \"linecolor\": \"white\", \"minorgridcolor\": \"white\", \"startlinecolor\": \"#2a3f5f\"}, \"type\": \"carpet\"}], \"choropleth\": [{\"colorbar\": {\"outlinewidth\": 0, \"ticks\": \"\"}, \"type\": \"choropleth\"}], \"contour\": [{\"colorbar\": {\"outlinewidth\": 0, \"ticks\": \"\"}, \"colorscale\": [[0.0, \"#0d0887\"], [0.1111111111111111, \"#46039f\"], [0.2222222222222222, \"#7201a8\"], [0.3333333333333333, \"#9c179e\"], [0.4444444444444444, \"#bd3786\"], [0.5555555555555556, \"#d8576b\"], [0.6666666666666666, \"#ed7953\"], [0.7777777777777778, \"#fb9f3a\"], [0.8888888888888888, \"#fdca26\"], [1.0, \"#f0f921\"]], \"type\": \"contour\"}], \"contourcarpet\": [{\"colorbar\": {\"outlinewidth\": 0, \"ticks\": \"\"}, \"type\": \"contourcarpet\"}], \"heatmap\": [{\"colorbar\": {\"outlinewidth\": 0, \"ticks\": \"\"}, \"colorscale\": [[0.0, \"#0d0887\"], [0.1111111111111111, \"#46039f\"], [0.2222222222222222, \"#7201a8\"], [0.3333333333333333, \"#9c179e\"], [0.4444444444444444, \"#bd3786\"], [0.5555555555555556, \"#d8576b\"], [0.6666666666666666, \"#ed7953\"], [0.7777777777777778, \"#fb9f3a\"], [0.8888888888888888, \"#fdca26\"], [1.0, \"#f0f921\"]], \"type\": \"heatmap\"}], \"heatmapgl\": [{\"colorbar\": {\"outlinewidth\": 0, \"ticks\": \"\"}, \"colorscale\": [[0.0, \"#0d0887\"], [0.1111111111111111, \"#46039f\"], [0.2222222222222222, \"#7201a8\"], [0.3333333333333333, \"#9c179e\"], [0.4444444444444444, \"#bd3786\"], [0.5555555555555556, \"#d8576b\"], [0.6666666666666666, \"#ed7953\"], [0.7777777777777778, \"#fb9f3a\"], [0.8888888888888888, \"#fdca26\"], [1.0, \"#f0f921\"]], \"type\": \"heatmapgl\"}], \"histogram\": [{\"marker\": {\"colorbar\": {\"outlinewidth\": 0, \"ticks\": \"\"}}, \"type\": \"histogram\"}], \"histogram2d\": [{\"colorbar\": {\"outlinewidth\": 0, \"ticks\": \"\"}, \"colorscale\": [[0.0, \"#0d0887\"], [0.1111111111111111, \"#46039f\"], [0.2222222222222222, \"#7201a8\"], [0.3333333333333333, \"#9c179e\"], [0.4444444444444444, \"#bd3786\"], [0.5555555555555556, \"#d8576b\"], [0.6666666666666666, \"#ed7953\"], [0.7777777777777778, \"#fb9f3a\"], [0.8888888888888888, \"#fdca26\"], [1.0, \"#f0f921\"]], \"type\": \"histogram2d\"}], \"histogram2dcontour\": [{\"colorbar\": {\"outlinewidth\": 0, \"ticks\": \"\"}, \"colorscale\": [[0.0, \"#0d0887\"], [0.1111111111111111, \"#46039f\"], [0.2222222222222222, \"#7201a8\"], [0.3333333333333333, \"#9c179e\"], [0.4444444444444444, \"#bd3786\"], [0.5555555555555556, \"#d8576b\"], [0.6666666666666666, \"#ed7953\"], [0.7777777777777778, \"#fb9f3a\"], [0.8888888888888888, \"#fdca26\"], [1.0, \"#f0f921\"]], \"type\": \"histogram2dcontour\"}], \"mesh3d\": [{\"colorbar\": {\"outlinewidth\": 0, \"ticks\": \"\"}, \"type\": \"mesh3d\"}], \"parcoords\": [{\"line\": {\"colorbar\": {\"outlinewidth\": 0, \"ticks\": \"\"}}, \"type\": \"parcoords\"}], \"pie\": [{\"automargin\": true, \"type\": \"pie\"}], \"scatter\": [{\"marker\": {\"colorbar\": {\"outlinewidth\": 0, \"ticks\": \"\"}}, \"type\": \"scatter\"}], \"scatter3d\": [{\"line\": {\"colorbar\": {\"outlinewidth\": 0, \"ticks\": \"\"}}, \"marker\": {\"colorbar\": {\"outlinewidth\": 0, \"ticks\": \"\"}}, \"type\": \"scatter3d\"}], \"scattercarpet\": [{\"marker\": {\"colorbar\": {\"outlinewidth\": 0, \"ticks\": \"\"}}, \"type\": \"scattercarpet\"}], \"scattergeo\": [{\"marker\": {\"colorbar\": {\"outlinewidth\": 0, \"ticks\": \"\"}}, \"type\": \"scattergeo\"}], \"scattergl\": [{\"marker\": {\"colorbar\": {\"outlinewidth\": 0, \"ticks\": \"\"}}, \"type\": \"scattergl\"}], \"scattermapbox\": [{\"marker\": {\"colorbar\": {\"outlinewidth\": 0, \"ticks\": \"\"}}, \"type\": \"scattermapbox\"}], \"scatterpolar\": [{\"marker\": {\"colorbar\": {\"outlinewidth\": 0, \"ticks\": \"\"}}, \"type\": \"scatterpolar\"}], \"scatterpolargl\": [{\"marker\": {\"colorbar\": {\"outlinewidth\": 0, \"ticks\": \"\"}}, \"type\": \"scatterpolargl\"}], \"scatterternary\": [{\"marker\": {\"colorbar\": {\"outlinewidth\": 0, \"ticks\": \"\"}}, \"type\": \"scatterternary\"}], \"surface\": [{\"colorbar\": {\"outlinewidth\": 0, \"ticks\": \"\"}, \"colorscale\": [[0.0, \"#0d0887\"], [0.1111111111111111, \"#46039f\"], [0.2222222222222222, \"#7201a8\"], [0.3333333333333333, \"#9c179e\"], [0.4444444444444444, \"#bd3786\"], [0.5555555555555556, \"#d8576b\"], [0.6666666666666666, \"#ed7953\"], [0.7777777777777778, \"#fb9f3a\"], [0.8888888888888888, \"#fdca26\"], [1.0, \"#f0f921\"]], \"type\": \"surface\"}], \"table\": [{\"cells\": {\"fill\": {\"color\": \"#EBF0F8\"}, \"line\": {\"color\": \"white\"}}, \"header\": {\"fill\": {\"color\": \"#C8D4E3\"}, \"line\": {\"color\": \"white\"}}, \"type\": \"table\"}]}, \"layout\": {\"annotationdefaults\": {\"arrowcolor\": \"#2a3f5f\", \"arrowhead\": 0, \"arrowwidth\": 1}, \"coloraxis\": {\"colorbar\": {\"outlinewidth\": 0, \"ticks\": \"\"}}, \"colorscale\": {\"diverging\": [[0, \"#8e0152\"], [0.1, \"#c51b7d\"], [0.2, \"#de77ae\"], [0.3, \"#f1b6da\"], [0.4, \"#fde0ef\"], [0.5, \"#f7f7f7\"], [0.6, \"#e6f5d0\"], [0.7, \"#b8e186\"], [0.8, \"#7fbc41\"], [0.9, \"#4d9221\"], [1, \"#276419\"]], \"sequential\": [[0.0, \"#0d0887\"], [0.1111111111111111, \"#46039f\"], [0.2222222222222222, \"#7201a8\"], [0.3333333333333333, \"#9c179e\"], [0.4444444444444444, \"#bd3786\"], [0.5555555555555556, \"#d8576b\"], [0.6666666666666666, \"#ed7953\"], [0.7777777777777778, \"#fb9f3a\"], [0.8888888888888888, \"#fdca26\"], [1.0, \"#f0f921\"]], \"sequentialminus\": [[0.0, \"#0d0887\"], [0.1111111111111111, \"#46039f\"], [0.2222222222222222, \"#7201a8\"], [0.3333333333333333, \"#9c179e\"], [0.4444444444444444, \"#bd3786\"], [0.5555555555555556, \"#d8576b\"], [0.6666666666666666, \"#ed7953\"], [0.7777777777777778, \"#fb9f3a\"], [0.8888888888888888, \"#fdca26\"], [1.0, \"#f0f921\"]]}, \"colorway\": [\"#636efa\", \"#EF553B\", \"#00cc96\", \"#ab63fa\", \"#FFA15A\", \"#19d3f3\", \"#FF6692\", \"#B6E880\", \"#FF97FF\", \"#FECB52\"], \"font\": {\"color\": \"#2a3f5f\"}, \"geo\": {\"bgcolor\": \"white\", \"lakecolor\": \"white\", \"landcolor\": \"#E5ECF6\", \"showlakes\": true, \"showland\": true, \"subunitcolor\": \"white\"}, \"hoverlabel\": {\"align\": \"left\"}, \"hovermode\": \"closest\", \"mapbox\": {\"style\": \"light\"}, \"paper_bgcolor\": \"white\", \"plot_bgcolor\": \"#E5ECF6\", \"polar\": {\"angularaxis\": {\"gridcolor\": \"white\", \"linecolor\": \"white\", \"ticks\": \"\"}, \"bgcolor\": \"#E5ECF6\", \"radialaxis\": {\"gridcolor\": \"white\", \"linecolor\": \"white\", \"ticks\": \"\"}}, \"scene\": {\"xaxis\": {\"backgroundcolor\": \"#E5ECF6\", \"gridcolor\": \"white\", \"gridwidth\": 2, \"linecolor\": \"white\", \"showbackground\": true, \"ticks\": \"\", \"zerolinecolor\": \"white\"}, \"yaxis\": {\"backgroundcolor\": \"#E5ECF6\", \"gridcolor\": \"white\", \"gridwidth\": 2, \"linecolor\": \"white\", \"showbackground\": true, \"ticks\": \"\", \"zerolinecolor\": \"white\"}, \"zaxis\": {\"backgroundcolor\": \"#E5ECF6\", \"gridcolor\": \"white\", \"gridwidth\": 2, \"linecolor\": \"white\", \"showbackground\": true, \"ticks\": \"\", \"zerolinecolor\": \"white\"}}, \"shapedefaults\": {\"line\": {\"color\": \"#2a3f5f\"}}, \"ternary\": {\"aaxis\": {\"gridcolor\": \"white\", \"linecolor\": \"white\", \"ticks\": \"\"}, \"baxis\": {\"gridcolor\": \"white\", \"linecolor\": \"white\", \"ticks\": \"\"}, \"bgcolor\": \"#E5ECF6\", \"caxis\": {\"gridcolor\": \"white\", \"linecolor\": \"white\", \"ticks\": \"\"}}, \"title\": {\"x\": 0.05}, \"xaxis\": {\"automargin\": true, \"gridcolor\": \"white\", \"linecolor\": \"white\", \"ticks\": \"\", \"title\": {\"standoff\": 15}, \"zerolinecolor\": \"white\", \"zerolinewidth\": 2}, \"yaxis\": {\"automargin\": true, \"gridcolor\": \"white\", \"linecolor\": \"white\", \"ticks\": \"\", \"title\": {\"standoff\": 15}, \"zerolinecolor\": \"white\", \"zerolinewidth\": 2}}}},\n",
       "                        {\"responsive\": true}\n",
       "                    ).then(function(){\n",
       "                            \n",
       "var gd = document.getElementById('855315c0-7dfb-4d0d-98ac-36cf167ca3f5');\n",
       "var x = new MutationObserver(function (mutations, observer) {{\n",
       "        var display = window.getComputedStyle(gd).display;\n",
       "        if (!display || display === 'none') {{\n",
       "            console.log([gd, 'removed!']);\n",
       "            Plotly.purge(gd);\n",
       "            observer.disconnect();\n",
       "        }}\n",
       "}});\n",
       "\n",
       "// Listen for the removal of the full notebook cells\n",
       "var notebookContainer = gd.closest('#notebook-container');\n",
       "if (notebookContainer) {{\n",
       "    x.observe(notebookContainer, {childList: true});\n",
       "}}\n",
       "\n",
       "// Listen for the clearing of the current output cell\n",
       "var outputEl = gd.closest('.output');\n",
       "if (outputEl) {{\n",
       "    x.observe(outputEl, {childList: true});\n",
       "}}\n",
       "\n",
       "                        })\n",
       "                };\n",
       "                });\n",
       "            </script>\n",
       "        </div>"
      ]
     },
     "metadata": {},
     "output_type": "display_data"
    }
   ],
   "source": [
    "fig = go.Figure()\n",
    "\n",
    "authors = ['Zola', 'Maupassant', 'Balzac']\n",
    "\n",
    "for author in authors:\n",
    "    fig.add_trace(go.Violin(x=my_df['author'][my_df['author'] == author],\n",
    "                            y=my_df['wordsWithPunctuationPercentage'][my_df['author'] == author],\n",
    "                            name=author,\n",
    "                            box_visible=True,\n",
    "                            meanline_visible=True))\n",
    "\n",
    "fig.show()"
   ]
  },
  {
   "cell_type": "markdown",
   "metadata": {},
   "source": [
    "Deja beaucoup plus équilibré que pour le word count !"
   ]
  }
 ],
 "metadata": {
  "kernelspec": {
   "display_name": "Python 3",
   "language": "python",
   "name": "python3"
  },
  "language_info": {
   "codemirror_mode": {
    "name": "ipython",
    "version": 3
   },
   "file_extension": ".py",
   "mimetype": "text/x-python",
   "name": "python",
   "nbconvert_exporter": "python",
   "pygments_lexer": "ipython3",
   "version": "3.6.9"
  }
 },
 "nbformat": 4,
 "nbformat_minor": 2
}
